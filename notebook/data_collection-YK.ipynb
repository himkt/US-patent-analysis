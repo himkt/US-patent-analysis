{
 "cells": [
  {
   "cell_type": "code",
   "execution_count": 1,
   "metadata": {
    "collapsed": true
   },
   "outputs": [],
   "source": [
    "import pandas as pd"
   ]
  },
  {
   "cell_type": "code",
   "execution_count": null,
   "metadata": {
    "collapsed": true
   },
   "outputs": [],
   "source": []
  },
  {
   "cell_type": "code",
   "execution_count": null,
   "metadata": {
    "collapsed": true
   },
   "outputs": [],
   "source": []
  },
  {
   "cell_type": "markdown",
   "metadata": {},
   "source": [
    "### Filter citation only for app_id 15..."
   ]
  },
  {
   "cell_type": "markdown",
   "metadata": {},
   "source": [
    "Below cell need memory more than 15GB."
   ]
  },
  {
   "cell_type": "code",
   "execution_count": 2,
   "metadata": {
    "collapsed": true
   },
   "outputs": [],
   "source": [
    "citations = pd.read_csv(\"../data/citations.csv\")"
   ]
  },
  {
   "cell_type": "code",
   "execution_count": 3,
   "metadata": {},
   "outputs": [
    {
     "data": {
      "text/html": [
       "<div>\n",
       "<style scoped>\n",
       "    .dataframe tbody tr th:only-of-type {\n",
       "        vertical-align: middle;\n",
       "    }\n",
       "\n",
       "    .dataframe tbody tr th {\n",
       "        vertical-align: top;\n",
       "    }\n",
       "\n",
       "    .dataframe thead th {\n",
       "        text-align: right;\n",
       "    }\n",
       "</style>\n",
       "<table border=\"1\" class=\"dataframe\">\n",
       "  <thead>\n",
       "    <tr style=\"text-align: right;\">\n",
       "      <th></th>\n",
       "      <th>app_id</th>\n",
       "      <th>citation_pat_pgpub_id</th>\n",
       "      <th>parsed</th>\n",
       "      <th>ifw_number</th>\n",
       "      <th>action_type</th>\n",
       "      <th>action_subtype</th>\n",
       "      <th>form892</th>\n",
       "      <th>form1449</th>\n",
       "      <th>citation_in_oa</th>\n",
       "    </tr>\n",
       "  </thead>\n",
       "  <tbody>\n",
       "    <tr>\n",
       "      <th>0</th>\n",
       "      <td>12000001</td>\n",
       "      <td>20060218340</td>\n",
       "      <td>20060218340</td>\n",
       "      <td>NaN</td>\n",
       "      <td>NaN</td>\n",
       "      <td>NaN</td>\n",
       "      <td>0</td>\n",
       "      <td>1</td>\n",
       "      <td>0</td>\n",
       "    </tr>\n",
       "    <tr>\n",
       "      <th>1</th>\n",
       "      <td>12000001</td>\n",
       "      <td>2343564</td>\n",
       "      <td>2343564</td>\n",
       "      <td>NaN</td>\n",
       "      <td>NaN</td>\n",
       "      <td>NaN</td>\n",
       "      <td>1</td>\n",
       "      <td>0</td>\n",
       "      <td>0</td>\n",
       "    </tr>\n",
       "    <tr>\n",
       "      <th>2</th>\n",
       "      <td>12000001</td>\n",
       "      <td>6622200</td>\n",
       "      <td>6622200</td>\n",
       "      <td>NaN</td>\n",
       "      <td>NaN</td>\n",
       "      <td>NaN</td>\n",
       "      <td>1</td>\n",
       "      <td>0</td>\n",
       "      <td>0</td>\n",
       "    </tr>\n",
       "    <tr>\n",
       "      <th>3</th>\n",
       "      <td>12000001</td>\n",
       "      <td>6182004</td>\n",
       "      <td>6182004</td>\n",
       "      <td>NaN</td>\n",
       "      <td>NaN</td>\n",
       "      <td>NaN</td>\n",
       "      <td>0</td>\n",
       "      <td>1</td>\n",
       "      <td>0</td>\n",
       "    </tr>\n",
       "    <tr>\n",
       "      <th>4</th>\n",
       "      <td>12000001</td>\n",
       "      <td>2323432</td>\n",
       "      <td>2323432</td>\n",
       "      <td>NaN</td>\n",
       "      <td>NaN</td>\n",
       "      <td>NaN</td>\n",
       "      <td>1</td>\n",
       "      <td>0</td>\n",
       "      <td>0</td>\n",
       "    </tr>\n",
       "  </tbody>\n",
       "</table>\n",
       "</div>"
      ],
      "text/plain": [
       "     app_id citation_pat_pgpub_id       parsed ifw_number  action_type  \\\n",
       "0  12000001           20060218340  20060218340        NaN          NaN   \n",
       "1  12000001               2343564      2343564        NaN          NaN   \n",
       "2  12000001               6622200      6622200        NaN          NaN   \n",
       "3  12000001               6182004      6182004        NaN          NaN   \n",
       "4  12000001               2323432      2323432        NaN          NaN   \n",
       "\n",
       "  action_subtype  form892  form1449  citation_in_oa  \n",
       "0            NaN        0         1               0  \n",
       "1            NaN        1         0               0  \n",
       "2            NaN        1         0               0  \n",
       "3            NaN        0         1               0  \n",
       "4            NaN        1         0               0  "
      ]
     },
     "execution_count": 3,
     "metadata": {},
     "output_type": "execute_result"
    }
   ],
   "source": [
    "citations.head()"
   ]
  },
  {
   "cell_type": "code",
   "execution_count": 4,
   "metadata": {},
   "outputs": [
    {
     "data": {
      "text/plain": [
       "58862278"
      ]
     },
     "execution_count": 4,
     "metadata": {},
     "output_type": "execute_result"
    }
   ],
   "source": [
    "len(citations)"
   ]
  },
  {
   "cell_type": "code",
   "execution_count": 5,
   "metadata": {
    "collapsed": true
   },
   "outputs": [],
   "source": [
    "citations = citations[(citations.app_id >= 15000000) & (citations.app_id < 16000000)]"
   ]
  },
  {
   "cell_type": "code",
   "execution_count": 6,
   "metadata": {
    "collapsed": true
   },
   "outputs": [],
   "source": [
    "citations.to_pickle(\"../data/citations_15.dat\")"
   ]
  },
  {
   "cell_type": "code",
   "execution_count": 7,
   "metadata": {
    "collapsed": true
   },
   "outputs": [],
   "source": [
    "del citations"
   ]
  },
  {
   "cell_type": "markdown",
   "metadata": {},
   "source": [
    "https://patentlibrarian.com/reference-library/u-s-application-series-codes/\n",
    "\n",
    "Collect citation including 2017, which is, app_id begins with 15.\n",
    "\n",
    "- 14 2013, August - 2016, Jan?\n",
    "- 15 2016, Jan - Present?\n",
    "\n"
   ]
  },
  {
   "cell_type": "code",
   "execution_count": 11,
   "metadata": {
    "collapsed": true
   },
   "outputs": [],
   "source": [
    "# citations_15 = citations[(citations.app_id >= 15000000) & (citations.app_id < 16000000)]"
   ]
  },
  {
   "cell_type": "code",
   "execution_count": 12,
   "metadata": {},
   "outputs": [
    {
     "data": {
      "text/html": [
       "<div>\n",
       "<style scoped>\n",
       "    .dataframe tbody tr th:only-of-type {\n",
       "        vertical-align: middle;\n",
       "    }\n",
       "\n",
       "    .dataframe tbody tr th {\n",
       "        vertical-align: top;\n",
       "    }\n",
       "\n",
       "    .dataframe thead th {\n",
       "        text-align: right;\n",
       "    }\n",
       "</style>\n",
       "<table border=\"1\" class=\"dataframe\">\n",
       "  <thead>\n",
       "    <tr style=\"text-align: right;\">\n",
       "      <th></th>\n",
       "      <th>app_id</th>\n",
       "      <th>citation_pat_pgpub_id</th>\n",
       "      <th>parsed</th>\n",
       "      <th>ifw_number</th>\n",
       "      <th>action_type</th>\n",
       "      <th>action_subtype</th>\n",
       "      <th>form892</th>\n",
       "      <th>form1449</th>\n",
       "      <th>citation_in_oa</th>\n",
       "    </tr>\n",
       "  </thead>\n",
       "  <tbody>\n",
       "    <tr>\n",
       "      <th>57732192</th>\n",
       "      <td>15000008</td>\n",
       "      <td>8291627</td>\n",
       "      <td>8291627</td>\n",
       "      <td>NaN</td>\n",
       "      <td>NaN</td>\n",
       "      <td>NaN</td>\n",
       "      <td>1</td>\n",
       "      <td>0</td>\n",
       "      <td>0</td>\n",
       "    </tr>\n",
       "    <tr>\n",
       "      <th>57732193</th>\n",
       "      <td>15000008</td>\n",
       "      <td>2093620</td>\n",
       "      <td>2093620</td>\n",
       "      <td>NaN</td>\n",
       "      <td>NaN</td>\n",
       "      <td>NaN</td>\n",
       "      <td>1</td>\n",
       "      <td>0</td>\n",
       "      <td>0</td>\n",
       "    </tr>\n",
       "    <tr>\n",
       "      <th>57732194</th>\n",
       "      <td>15000008</td>\n",
       "      <td>9221406</td>\n",
       "      <td>9221406</td>\n",
       "      <td>NaN</td>\n",
       "      <td>NaN</td>\n",
       "      <td>NaN</td>\n",
       "      <td>1</td>\n",
       "      <td>0</td>\n",
       "      <td>0</td>\n",
       "    </tr>\n",
       "    <tr>\n",
       "      <th>57732195</th>\n",
       "      <td>15000008</td>\n",
       "      <td>8544198</td>\n",
       "      <td>8544198</td>\n",
       "      <td>NaN</td>\n",
       "      <td>NaN</td>\n",
       "      <td>NaN</td>\n",
       "      <td>1</td>\n",
       "      <td>0</td>\n",
       "      <td>0</td>\n",
       "    </tr>\n",
       "    <tr>\n",
       "      <th>57732196</th>\n",
       "      <td>15000008</td>\n",
       "      <td>7225569</td>\n",
       "      <td>7225569</td>\n",
       "      <td>NaN</td>\n",
       "      <td>NaN</td>\n",
       "      <td>NaN</td>\n",
       "      <td>1</td>\n",
       "      <td>0</td>\n",
       "      <td>0</td>\n",
       "    </tr>\n",
       "  </tbody>\n",
       "</table>\n",
       "</div>"
      ],
      "text/plain": [
       "            app_id citation_pat_pgpub_id   parsed ifw_number  action_type  \\\n",
       "57732192  15000008               8291627  8291627        NaN          NaN   \n",
       "57732193  15000008               2093620  2093620        NaN          NaN   \n",
       "57732194  15000008               9221406  9221406        NaN          NaN   \n",
       "57732195  15000008               8544198  8544198        NaN          NaN   \n",
       "57732196  15000008               7225569  7225569        NaN          NaN   \n",
       "\n",
       "         action_subtype  form892  form1449  citation_in_oa  \n",
       "57732192            NaN        1         0               0  \n",
       "57732193            NaN        1         0               0  \n",
       "57732194            NaN        1         0               0  \n",
       "57732195            NaN        1         0               0  \n",
       "57732196            NaN        1         0               0  "
      ]
     },
     "execution_count": 12,
     "metadata": {},
     "output_type": "execute_result"
    }
   ],
   "source": [
    "# citations_15.head()"
   ]
  },
  {
   "cell_type": "code",
   "execution_count": 13,
   "metadata": {},
   "outputs": [
    {
     "data": {
      "text/plain": [
       "1130086"
      ]
     },
     "execution_count": 13,
     "metadata": {},
     "output_type": "execute_result"
    }
   ],
   "source": [
    "# len(citations_15)"
   ]
  },
  {
   "cell_type": "code",
   "execution_count": 15,
   "metadata": {
    "collapsed": true
   },
   "outputs": [],
   "source": [
    "# citations_15.to_pickle(\"../data/citations_15.dat\")"
   ]
  },
  {
   "cell_type": "code",
   "execution_count": null,
   "metadata": {
    "collapsed": true
   },
   "outputs": [],
   "source": []
  },
  {
   "cell_type": "markdown",
   "metadata": {},
   "source": [
    "### Filer office_actions of app_id starts with 15... only"
   ]
  },
  {
   "cell_type": "code",
   "execution_count": null,
   "metadata": {
    "collapsed": true
   },
   "outputs": [],
   "source": []
  },
  {
   "cell_type": "code",
   "execution_count": 8,
   "metadata": {
    "scrolled": true
   },
   "outputs": [
    {
     "name": "stderr",
     "output_type": "stream",
     "text": [
      "/Users/yohei-kikuta/.pyenv/versions/3.5.2/lib/python3.5/site-packages/IPython/core/interactiveshell.py:2717: DtypeWarning: Columns (1,4,5) have mixed types. Specify dtype option on import or set low_memory=False.\n",
      "  interactivity=interactivity, compiler=compiler, result=result)\n"
     ]
    }
   ],
   "source": [
    "office_actions = pd.read_csv(\"../data/office_actions.csv\")"
   ]
  },
  {
   "cell_type": "code",
   "execution_count": 9,
   "metadata": {},
   "outputs": [
    {
     "data": {
      "text/plain": [
       "4384532"
      ]
     },
     "execution_count": 9,
     "metadata": {},
     "output_type": "execute_result"
    }
   ],
   "source": [
    "len(office_actions)"
   ]
  },
  {
   "cell_type": "code",
   "execution_count": 10,
   "metadata": {},
   "outputs": [
    {
     "data": {
      "text/html": [
       "<div>\n",
       "<style scoped>\n",
       "    .dataframe tbody tr th:only-of-type {\n",
       "        vertical-align: middle;\n",
       "    }\n",
       "\n",
       "    .dataframe tbody tr th {\n",
       "        vertical-align: top;\n",
       "    }\n",
       "\n",
       "    .dataframe thead th {\n",
       "        text-align: right;\n",
       "    }\n",
       "</style>\n",
       "<table border=\"1\" class=\"dataframe\">\n",
       "  <thead>\n",
       "    <tr style=\"text-align: right;\">\n",
       "      <th></th>\n",
       "      <th>app_id</th>\n",
       "      <th>ifw_number</th>\n",
       "      <th>document_cd</th>\n",
       "      <th>mail_dt</th>\n",
       "      <th>art_unit</th>\n",
       "      <th>uspc_class</th>\n",
       "      <th>uspc_subclass</th>\n",
       "      <th>header_missing</th>\n",
       "      <th>fp_missing</th>\n",
       "      <th>rejection_fp_mismatch</th>\n",
       "      <th>...</th>\n",
       "      <th>rejection_103</th>\n",
       "      <th>rejection_112</th>\n",
       "      <th>rejection_dp</th>\n",
       "      <th>objection</th>\n",
       "      <th>allowed_claims</th>\n",
       "      <th>cite102_gt1</th>\n",
       "      <th>cite103_gt3</th>\n",
       "      <th>cite103_eq1</th>\n",
       "      <th>cite103_max</th>\n",
       "      <th>signature_type</th>\n",
       "    </tr>\n",
       "  </thead>\n",
       "  <tbody>\n",
       "    <tr>\n",
       "      <th>0</th>\n",
       "      <td>14150981</td>\n",
       "      <td>100867762</td>\n",
       "      <td>CTFR</td>\n",
       "      <td>2015-10-15</td>\n",
       "      <td>2632</td>\n",
       "      <td>375</td>\n",
       "      <td>219000</td>\n",
       "      <td>0</td>\n",
       "      <td>0</td>\n",
       "      <td>0</td>\n",
       "      <td>...</td>\n",
       "      <td>1</td>\n",
       "      <td>0</td>\n",
       "      <td>0</td>\n",
       "      <td>0</td>\n",
       "      <td>0</td>\n",
       "      <td>0</td>\n",
       "      <td>0</td>\n",
       "      <td>1</td>\n",
       "      <td>2</td>\n",
       "      <td>1</td>\n",
       "    </tr>\n",
       "    <tr>\n",
       "      <th>1</th>\n",
       "      <td>14198961</td>\n",
       "      <td>100867788</td>\n",
       "      <td>CTFR</td>\n",
       "      <td>2015-10-15</td>\n",
       "      <td>2699</td>\n",
       "      <td>345</td>\n",
       "      <td>173000</td>\n",
       "      <td>0</td>\n",
       "      <td>0</td>\n",
       "      <td>0</td>\n",
       "      <td>...</td>\n",
       "      <td>1</td>\n",
       "      <td>0</td>\n",
       "      <td>0</td>\n",
       "      <td>0</td>\n",
       "      <td>0</td>\n",
       "      <td>0</td>\n",
       "      <td>0</td>\n",
       "      <td>0</td>\n",
       "      <td>2</td>\n",
       "      <td>1</td>\n",
       "    </tr>\n",
       "    <tr>\n",
       "      <th>2</th>\n",
       "      <td>13796589</td>\n",
       "      <td>100867794</td>\n",
       "      <td>CTNF</td>\n",
       "      <td>2015-10-15</td>\n",
       "      <td>3776</td>\n",
       "      <td>606</td>\n",
       "      <td>159000</td>\n",
       "      <td>0</td>\n",
       "      <td>0</td>\n",
       "      <td>0</td>\n",
       "      <td>...</td>\n",
       "      <td>1</td>\n",
       "      <td>0</td>\n",
       "      <td>0</td>\n",
       "      <td>0</td>\n",
       "      <td>0</td>\n",
       "      <td>0</td>\n",
       "      <td>0</td>\n",
       "      <td>0</td>\n",
       "      <td>3</td>\n",
       "      <td>3</td>\n",
       "    </tr>\n",
       "    <tr>\n",
       "      <th>3</th>\n",
       "      <td>14673475</td>\n",
       "      <td>100867844</td>\n",
       "      <td>CTNF</td>\n",
       "      <td>2015-10-15</td>\n",
       "      <td>2627</td>\n",
       "      <td>345</td>\n",
       "      <td>175000</td>\n",
       "      <td>0</td>\n",
       "      <td>0</td>\n",
       "      <td>0</td>\n",
       "      <td>...</td>\n",
       "      <td>1</td>\n",
       "      <td>1</td>\n",
       "      <td>1</td>\n",
       "      <td>0</td>\n",
       "      <td>0</td>\n",
       "      <td>0</td>\n",
       "      <td>1</td>\n",
       "      <td>0</td>\n",
       "      <td>4</td>\n",
       "      <td>1</td>\n",
       "    </tr>\n",
       "    <tr>\n",
       "      <th>4</th>\n",
       "      <td>14669113</td>\n",
       "      <td>100867850</td>\n",
       "      <td>CTNF</td>\n",
       "      <td>2015-10-15</td>\n",
       "      <td>2666</td>\n",
       "      <td>382</td>\n",
       "      <td>118000</td>\n",
       "      <td>0</td>\n",
       "      <td>0</td>\n",
       "      <td>0</td>\n",
       "      <td>...</td>\n",
       "      <td>0</td>\n",
       "      <td>1</td>\n",
       "      <td>1</td>\n",
       "      <td>0</td>\n",
       "      <td>0</td>\n",
       "      <td>0</td>\n",
       "      <td>0</td>\n",
       "      <td>0</td>\n",
       "      <td>0</td>\n",
       "      <td>1</td>\n",
       "    </tr>\n",
       "  </tbody>\n",
       "</table>\n",
       "<p>5 rows × 23 columns</p>\n",
       "</div>"
      ],
      "text/plain": [
       "     app_id ifw_number document_cd     mail_dt art_unit uspc_class  \\\n",
       "0  14150981  100867762        CTFR  2015-10-15     2632        375   \n",
       "1  14198961  100867788        CTFR  2015-10-15     2699        345   \n",
       "2  13796589  100867794        CTNF  2015-10-15     3776        606   \n",
       "3  14673475  100867844        CTNF  2015-10-15     2627        345   \n",
       "4  14669113  100867850        CTNF  2015-10-15     2666        382   \n",
       "\n",
       "  uspc_subclass  header_missing  fp_missing  rejection_fp_mismatch  \\\n",
       "0        219000               0           0                      0   \n",
       "1        173000               0           0                      0   \n",
       "2        159000               0           0                      0   \n",
       "3        175000               0           0                      0   \n",
       "4        118000               0           0                      0   \n",
       "\n",
       "        ...        rejection_103  rejection_112  rejection_dp  objection  \\\n",
       "0       ...                    1              0             0          0   \n",
       "1       ...                    1              0             0          0   \n",
       "2       ...                    1              0             0          0   \n",
       "3       ...                    1              1             1          0   \n",
       "4       ...                    0              1             1          0   \n",
       "\n",
       "   allowed_claims  cite102_gt1  cite103_gt3  cite103_eq1  cite103_max  \\\n",
       "0               0            0            0            1            2   \n",
       "1               0            0            0            0            2   \n",
       "2               0            0            0            0            3   \n",
       "3               0            0            1            0            4   \n",
       "4               0            0            0            0            0   \n",
       "\n",
       "   signature_type  \n",
       "0               1  \n",
       "1               1  \n",
       "2               3  \n",
       "3               1  \n",
       "4               1  \n",
       "\n",
       "[5 rows x 23 columns]"
      ]
     },
     "execution_count": 10,
     "metadata": {},
     "output_type": "execute_result"
    }
   ],
   "source": [
    "office_actions.head()"
   ]
  },
  {
   "cell_type": "code",
   "execution_count": 11,
   "metadata": {
    "collapsed": true
   },
   "outputs": [],
   "source": [
    "office_actions = office_actions[(office_actions.app_id >= 15000000) & (office_actions.app_id < 16000000)]"
   ]
  },
  {
   "cell_type": "code",
   "execution_count": 12,
   "metadata": {
    "collapsed": true
   },
   "outputs": [],
   "source": [
    "office_actions.to_pickle(\"../data/office_15.dat\")"
   ]
  },
  {
   "cell_type": "code",
   "execution_count": 13,
   "metadata": {
    "collapsed": true
   },
   "outputs": [],
   "source": [
    "del office_actions"
   ]
  },
  {
   "cell_type": "code",
   "execution_count": 14,
   "metadata": {
    "collapsed": true
   },
   "outputs": [],
   "source": [
    "# office_15 = office_actions[(office_actions.app_id >= 15000000) & (office_actions.app_id < 16000000)]"
   ]
  },
  {
   "cell_type": "code",
   "execution_count": 15,
   "metadata": {
    "collapsed": true
   },
   "outputs": [],
   "source": [
    "# len(office_15)"
   ]
  },
  {
   "cell_type": "code",
   "execution_count": 16,
   "metadata": {
    "collapsed": true
   },
   "outputs": [],
   "source": [
    "# office_15.to_pickle(\"../data/office_15.dat\")"
   ]
  },
  {
   "cell_type": "code",
   "execution_count": null,
   "metadata": {
    "collapsed": true
   },
   "outputs": [],
   "source": []
  },
  {
   "cell_type": "code",
   "execution_count": null,
   "metadata": {
    "collapsed": true
   },
   "outputs": [],
   "source": []
  },
  {
   "cell_type": "markdown",
   "metadata": {},
   "source": [
    "### Load citations and office actions which app_id starts with 15 only\n",
    "\n",
    "To reduce footprint, restart kernel here and reload it."
   ]
  },
  {
   "cell_type": "code",
   "execution_count": 2,
   "metadata": {
    "collapsed": true
   },
   "outputs": [],
   "source": [
    "citations_15 = pd.read_pickle(\"../data/citations_15.dat\")"
   ]
  },
  {
   "cell_type": "code",
   "execution_count": 3,
   "metadata": {
    "collapsed": true
   },
   "outputs": [],
   "source": [
    "office_15 = pd.read_pickle(\"../data/office_15.dat\")"
   ]
  },
  {
   "cell_type": "code",
   "execution_count": null,
   "metadata": {
    "collapsed": true
   },
   "outputs": [],
   "source": []
  },
  {
   "cell_type": "code",
   "execution_count": 4,
   "metadata": {},
   "outputs": [
    {
     "data": {
      "text/html": [
       "<div>\n",
       "<style scoped>\n",
       "    .dataframe tbody tr th:only-of-type {\n",
       "        vertical-align: middle;\n",
       "    }\n",
       "\n",
       "    .dataframe tbody tr th {\n",
       "        vertical-align: top;\n",
       "    }\n",
       "\n",
       "    .dataframe thead th {\n",
       "        text-align: right;\n",
       "    }\n",
       "</style>\n",
       "<table border=\"1\" class=\"dataframe\">\n",
       "  <thead>\n",
       "    <tr style=\"text-align: right;\">\n",
       "      <th></th>\n",
       "      <th>app_id</th>\n",
       "      <th>citation_pat_pgpub_id</th>\n",
       "      <th>parsed</th>\n",
       "      <th>ifw_number</th>\n",
       "      <th>action_type</th>\n",
       "      <th>action_subtype</th>\n",
       "      <th>form892</th>\n",
       "      <th>form1449</th>\n",
       "      <th>citation_in_oa</th>\n",
       "    </tr>\n",
       "  </thead>\n",
       "  <tbody>\n",
       "    <tr>\n",
       "      <th>57732192</th>\n",
       "      <td>15000008</td>\n",
       "      <td>8291627</td>\n",
       "      <td>8291627</td>\n",
       "      <td>NaN</td>\n",
       "      <td>NaN</td>\n",
       "      <td>NaN</td>\n",
       "      <td>1</td>\n",
       "      <td>0</td>\n",
       "      <td>0</td>\n",
       "    </tr>\n",
       "    <tr>\n",
       "      <th>57732193</th>\n",
       "      <td>15000008</td>\n",
       "      <td>2093620</td>\n",
       "      <td>2093620</td>\n",
       "      <td>NaN</td>\n",
       "      <td>NaN</td>\n",
       "      <td>NaN</td>\n",
       "      <td>1</td>\n",
       "      <td>0</td>\n",
       "      <td>0</td>\n",
       "    </tr>\n",
       "    <tr>\n",
       "      <th>57732194</th>\n",
       "      <td>15000008</td>\n",
       "      <td>9221406</td>\n",
       "      <td>9221406</td>\n",
       "      <td>NaN</td>\n",
       "      <td>NaN</td>\n",
       "      <td>NaN</td>\n",
       "      <td>1</td>\n",
       "      <td>0</td>\n",
       "      <td>0</td>\n",
       "    </tr>\n",
       "    <tr>\n",
       "      <th>57732195</th>\n",
       "      <td>15000008</td>\n",
       "      <td>8544198</td>\n",
       "      <td>8544198</td>\n",
       "      <td>NaN</td>\n",
       "      <td>NaN</td>\n",
       "      <td>NaN</td>\n",
       "      <td>1</td>\n",
       "      <td>0</td>\n",
       "      <td>0</td>\n",
       "    </tr>\n",
       "    <tr>\n",
       "      <th>57732196</th>\n",
       "      <td>15000008</td>\n",
       "      <td>7225569</td>\n",
       "      <td>7225569</td>\n",
       "      <td>NaN</td>\n",
       "      <td>NaN</td>\n",
       "      <td>NaN</td>\n",
       "      <td>1</td>\n",
       "      <td>0</td>\n",
       "      <td>0</td>\n",
       "    </tr>\n",
       "  </tbody>\n",
       "</table>\n",
       "</div>"
      ],
      "text/plain": [
       "            app_id citation_pat_pgpub_id   parsed ifw_number  action_type  \\\n",
       "57732192  15000008               8291627  8291627        NaN          NaN   \n",
       "57732193  15000008               2093620  2093620        NaN          NaN   \n",
       "57732194  15000008               9221406  9221406        NaN          NaN   \n",
       "57732195  15000008               8544198  8544198        NaN          NaN   \n",
       "57732196  15000008               7225569  7225569        NaN          NaN   \n",
       "\n",
       "         action_subtype  form892  form1449  citation_in_oa  \n",
       "57732192            NaN        1         0               0  \n",
       "57732193            NaN        1         0               0  \n",
       "57732194            NaN        1         0               0  \n",
       "57732195            NaN        1         0               0  \n",
       "57732196            NaN        1         0               0  "
      ]
     },
     "execution_count": 4,
     "metadata": {},
     "output_type": "execute_result"
    }
   ],
   "source": [
    "citations_15.head()"
   ]
  },
  {
   "cell_type": "code",
   "execution_count": 5,
   "metadata": {},
   "outputs": [
    {
     "data": {
      "text/html": [
       "<div>\n",
       "<style scoped>\n",
       "    .dataframe tbody tr th:only-of-type {\n",
       "        vertical-align: middle;\n",
       "    }\n",
       "\n",
       "    .dataframe tbody tr th {\n",
       "        vertical-align: top;\n",
       "    }\n",
       "\n",
       "    .dataframe thead th {\n",
       "        text-align: right;\n",
       "    }\n",
       "</style>\n",
       "<table border=\"1\" class=\"dataframe\">\n",
       "  <thead>\n",
       "    <tr style=\"text-align: right;\">\n",
       "      <th></th>\n",
       "      <th>app_id</th>\n",
       "      <th>ifw_number</th>\n",
       "      <th>document_cd</th>\n",
       "      <th>mail_dt</th>\n",
       "      <th>art_unit</th>\n",
       "      <th>uspc_class</th>\n",
       "      <th>uspc_subclass</th>\n",
       "      <th>header_missing</th>\n",
       "      <th>fp_missing</th>\n",
       "      <th>rejection_fp_mismatch</th>\n",
       "      <th>...</th>\n",
       "      <th>rejection_103</th>\n",
       "      <th>rejection_112</th>\n",
       "      <th>rejection_dp</th>\n",
       "      <th>objection</th>\n",
       "      <th>allowed_claims</th>\n",
       "      <th>cite102_gt1</th>\n",
       "      <th>cite103_gt3</th>\n",
       "      <th>cite103_eq1</th>\n",
       "      <th>cite103_max</th>\n",
       "      <th>signature_type</th>\n",
       "    </tr>\n",
       "  </thead>\n",
       "  <tbody>\n",
       "    <tr>\n",
       "      <th>3549653</th>\n",
       "      <td>15001440</td>\n",
       "      <td>IKIANOLHRXEAPX4</td>\n",
       "      <td>CTNF</td>\n",
       "      <td>2016-02-16</td>\n",
       "      <td>3762</td>\n",
       "      <td>607</td>\n",
       "      <td>042000</td>\n",
       "      <td>0</td>\n",
       "      <td>0</td>\n",
       "      <td>0</td>\n",
       "      <td>...</td>\n",
       "      <td>0</td>\n",
       "      <td>1</td>\n",
       "      <td>0</td>\n",
       "      <td>0</td>\n",
       "      <td>0</td>\n",
       "      <td>0</td>\n",
       "      <td>0</td>\n",
       "      <td>0</td>\n",
       "      <td>0</td>\n",
       "      <td>1</td>\n",
       "    </tr>\n",
       "    <tr>\n",
       "      <th>3560595</th>\n",
       "      <td>15009822</td>\n",
       "      <td>IKSBCEFQRXEAPX1</td>\n",
       "      <td>CTNF</td>\n",
       "      <td>2016-02-22</td>\n",
       "      <td>2139</td>\n",
       "      <td>711</td>\n",
       "      <td>162000</td>\n",
       "      <td>0</td>\n",
       "      <td>0</td>\n",
       "      <td>0</td>\n",
       "      <td>...</td>\n",
       "      <td>1</td>\n",
       "      <td>0</td>\n",
       "      <td>0</td>\n",
       "      <td>0</td>\n",
       "      <td>0</td>\n",
       "      <td>0</td>\n",
       "      <td>0</td>\n",
       "      <td>0</td>\n",
       "      <td>2</td>\n",
       "      <td>1</td>\n",
       "    </tr>\n",
       "    <tr>\n",
       "      <th>3561801</th>\n",
       "      <td>15005636</td>\n",
       "      <td>IKSG9XK1RXEAPX1</td>\n",
       "      <td>CTNF</td>\n",
       "      <td>2016-02-22</td>\n",
       "      <td>3766</td>\n",
       "      <td>600</td>\n",
       "      <td>509000</td>\n",
       "      <td>0</td>\n",
       "      <td>0</td>\n",
       "      <td>0</td>\n",
       "      <td>...</td>\n",
       "      <td>0</td>\n",
       "      <td>1</td>\n",
       "      <td>1</td>\n",
       "      <td>0</td>\n",
       "      <td>0</td>\n",
       "      <td>0</td>\n",
       "      <td>0</td>\n",
       "      <td>0</td>\n",
       "      <td>0</td>\n",
       "      <td>0</td>\n",
       "    </tr>\n",
       "    <tr>\n",
       "      <th>3562763</th>\n",
       "      <td>15002146</td>\n",
       "      <td>IKSLCJQLRXEAPX4</td>\n",
       "      <td>CTNF</td>\n",
       "      <td>2016-02-22</td>\n",
       "      <td>3723</td>\n",
       "      <td>015</td>\n",
       "      <td>104930</td>\n",
       "      <td>0</td>\n",
       "      <td>0</td>\n",
       "      <td>0</td>\n",
       "      <td>...</td>\n",
       "      <td>0</td>\n",
       "      <td>0</td>\n",
       "      <td>1</td>\n",
       "      <td>1</td>\n",
       "      <td>0</td>\n",
       "      <td>0</td>\n",
       "      <td>0</td>\n",
       "      <td>0</td>\n",
       "      <td>0</td>\n",
       "      <td>1</td>\n",
       "    </tr>\n",
       "    <tr>\n",
       "      <th>3564336</th>\n",
       "      <td>15001553</td>\n",
       "      <td>IKTT4P0TRXEAPX1</td>\n",
       "      <td>CTNF</td>\n",
       "      <td>2016-02-19</td>\n",
       "      <td>1625</td>\n",
       "      <td>514</td>\n",
       "      <td>279000</td>\n",
       "      <td>0</td>\n",
       "      <td>1</td>\n",
       "      <td>0</td>\n",
       "      <td>...</td>\n",
       "      <td>0</td>\n",
       "      <td>1</td>\n",
       "      <td>0</td>\n",
       "      <td>0</td>\n",
       "      <td>0</td>\n",
       "      <td>0</td>\n",
       "      <td>0</td>\n",
       "      <td>0</td>\n",
       "      <td>0</td>\n",
       "      <td>1</td>\n",
       "    </tr>\n",
       "  </tbody>\n",
       "</table>\n",
       "<p>5 rows × 23 columns</p>\n",
       "</div>"
      ],
      "text/plain": [
       "           app_id       ifw_number document_cd     mail_dt art_unit  \\\n",
       "3549653  15001440  IKIANOLHRXEAPX4        CTNF  2016-02-16     3762   \n",
       "3560595  15009822  IKSBCEFQRXEAPX1        CTNF  2016-02-22     2139   \n",
       "3561801  15005636  IKSG9XK1RXEAPX1        CTNF  2016-02-22     3766   \n",
       "3562763  15002146  IKSLCJQLRXEAPX4        CTNF  2016-02-22     3723   \n",
       "3564336  15001553  IKTT4P0TRXEAPX1        CTNF  2016-02-19     1625   \n",
       "\n",
       "        uspc_class uspc_subclass  header_missing  fp_missing  \\\n",
       "3549653        607        042000               0           0   \n",
       "3560595        711        162000               0           0   \n",
       "3561801        600        509000               0           0   \n",
       "3562763        015        104930               0           0   \n",
       "3564336        514        279000               0           1   \n",
       "\n",
       "         rejection_fp_mismatch       ...        rejection_103  rejection_112  \\\n",
       "3549653                      0       ...                    0              1   \n",
       "3560595                      0       ...                    1              0   \n",
       "3561801                      0       ...                    0              1   \n",
       "3562763                      0       ...                    0              0   \n",
       "3564336                      0       ...                    0              1   \n",
       "\n",
       "         rejection_dp  objection  allowed_claims  cite102_gt1  cite103_gt3  \\\n",
       "3549653             0          0               0            0            0   \n",
       "3560595             0          0               0            0            0   \n",
       "3561801             1          0               0            0            0   \n",
       "3562763             1          1               0            0            0   \n",
       "3564336             0          0               0            0            0   \n",
       "\n",
       "         cite103_eq1  cite103_max  signature_type  \n",
       "3549653            0            0               1  \n",
       "3560595            0            2               1  \n",
       "3561801            0            0               0  \n",
       "3562763            0            0               1  \n",
       "3564336            0            0               1  \n",
       "\n",
       "[5 rows x 23 columns]"
      ]
     },
     "execution_count": 5,
     "metadata": {},
     "output_type": "execute_result"
    }
   ],
   "source": [
    "office_15.head()"
   ]
  },
  {
   "cell_type": "code",
   "execution_count": null,
   "metadata": {
    "collapsed": true
   },
   "outputs": [],
   "source": []
  },
  {
   "cell_type": "code",
   "execution_count": null,
   "metadata": {
    "collapsed": true
   },
   "outputs": [],
   "source": []
  },
  {
   "cell_type": "markdown",
   "metadata": {},
   "source": [
    "### Create poor man's index files by unix command"
   ]
  },
  {
   "cell_type": "code",
   "execution_count": 6,
   "metadata": {
    "collapsed": true
   },
   "outputs": [],
   "source": [
    "import os, os.path"
   ]
  },
  {
   "cell_type": "code",
   "execution_count": 7,
   "metadata": {
    "collapsed": true
   },
   "outputs": [],
   "source": [
    "INDEX_PATH=\"../data/index/\""
   ]
  },
  {
   "cell_type": "code",
   "execution_count": 8,
   "metadata": {
    "collapsed": true
   },
   "outputs": [],
   "source": [
    "if not os.path.exists(INDEX_PATH):\n",
    "    os.mkdir(INDEX_PATH)"
   ]
  },
  {
   "cell_type": "code",
   "execution_count": null,
   "metadata": {
    "collapsed": true
   },
   "outputs": [],
   "source": []
  },
  {
   "cell_type": "code",
   "execution_count": 9,
   "metadata": {
    "collapsed": true
   },
   "outputs": [],
   "source": [
    "def create_one_index(xmlrel):\n",
    "    xmlpath = \"../data/\"+xmlrel\n",
    "    indexfile=INDEX_PATH+xmlrel+\".idx\"\n",
    "    !mkdir -p {os.path.dirname(indexfile)}\n",
    "    !grep -n \"doc-number\" {xmlpath} | sed -e 's/\\(.*\\)<doc-number>\\([^<]*\\)<\\/doc-number>.*/\\1\\2/' > {indexfile}"
   ]
  },
  {
   "cell_type": "code",
   "execution_count": null,
   "metadata": {
    "collapsed": true
   },
   "outputs": [],
   "source": []
  },
  {
   "cell_type": "code",
   "execution_count": 10,
   "metadata": {
    "collapsed": true
   },
   "outputs": [],
   "source": [
    "import glob"
   ]
  },
  {
   "cell_type": "code",
   "execution_count": 11,
   "metadata": {
    "collapsed": true
   },
   "outputs": [],
   "source": [
    "xmls = glob.glob(\"../data/application2017/ipa*.xml\")"
   ]
  },
  {
   "cell_type": "code",
   "execution_count": 15,
   "metadata": {},
   "outputs": [
    {
     "data": {
      "text/plain": [
       "['../data/application2017/ipa170511.xml',\n",
       " '../data/application2017/ipa170713.xml',\n",
       " '../data/application2017/ipa170921.xml']"
      ]
     },
     "execution_count": 15,
     "metadata": {},
     "output_type": "execute_result"
    }
   ],
   "source": [
    "xmls[:3]"
   ]
  },
  {
   "cell_type": "code",
   "execution_count": 16,
   "metadata": {
    "collapsed": true
   },
   "outputs": [],
   "source": [
    "xmlrels = [xml[len(\"../data/\"):] for xml in xmls]"
   ]
  },
  {
   "cell_type": "code",
   "execution_count": 17,
   "metadata": {},
   "outputs": [
    {
     "data": {
      "text/plain": [
       "['application2017/ipa170511.xml',\n",
       " 'application2017/ipa170713.xml',\n",
       " 'application2017/ipa170921.xml']"
      ]
     },
     "execution_count": 17,
     "metadata": {},
     "output_type": "execute_result"
    }
   ],
   "source": [
    "xmlrels[:3]"
   ]
  },
  {
   "cell_type": "code",
   "execution_count": 18,
   "metadata": {},
   "outputs": [
    {
     "name": "stdout",
     "output_type": "stream",
     "text": [
      "CPU times: user 9.12 s, sys: 3.76 s, total: 12.9 s\n",
      "Wall time: 11min 10s\n"
     ]
    }
   ],
   "source": [
    "%%time\n",
    "\n",
    "for xmlrel in xmlrels:\n",
    "    create_one_index(xmlrel)"
   ]
  },
  {
   "cell_type": "code",
   "execution_count": null,
   "metadata": {
    "collapsed": true
   },
   "outputs": [],
   "source": []
  },
  {
   "cell_type": "code",
   "execution_count": 27,
   "metadata": {
    "collapsed": true
   },
   "outputs": [],
   "source": [
    "xmls = glob.glob(\"../data/grants2012/ipg*.xml\")"
   ]
  },
  {
   "cell_type": "code",
   "execution_count": 28,
   "metadata": {
    "collapsed": true
   },
   "outputs": [],
   "source": [
    "xmlrels = [xml[len(\"../data/\"):] for xml in xmls]"
   ]
  },
  {
   "cell_type": "code",
   "execution_count": 29,
   "metadata": {},
   "outputs": [
    {
     "name": "stdout",
     "output_type": "stream",
     "text": [
      "CPU times: user 6.82 s, sys: 3.09 s, total: 9.91 s\n",
      "Wall time: 7min 53s\n"
     ]
    }
   ],
   "source": [
    "%%time\n",
    "\n",
    "for xmlrel in xmlrels:\n",
    "    create_one_index(xmlrel)"
   ]
  },
  {
   "cell_type": "code",
   "execution_count": null,
   "metadata": {
    "collapsed": true
   },
   "outputs": [],
   "source": []
  },
  {
   "cell_type": "markdown",
   "metadata": {},
   "source": [
    "### Load index from files."
   ]
  },
  {
   "cell_type": "code",
   "execution_count": 19,
   "metadata": {
    "collapsed": true
   },
   "outputs": [],
   "source": [
    "# dict format:\n",
    "# key is doc-number\n",
    "# val is list of [relxml, linenumber]\n",
    "\n",
    "def build_one_index_file_to_dict(indexfile, dic):\n",
    "    with open(indexfile, \"r\") as f:\n",
    "        tupples = [l.rstrip(\"\\n\").split(\":\", 1) for l in f]\n",
    "    relxml = indexfile[len(\"../data/index/\"):].rstrip(\".idx\")\n",
    "    for tup in tupples:\n",
    "        dic.setdefault(tup[1], []).append([relxml, int(tup[0])])\n",
    "\n",
    "\n",
    "def build_all_index_dict(indexfiles, dic):\n",
    "    for f in indexfiles:\n",
    "        build_one_index_file_to_dict(f, dic)"
   ]
  },
  {
   "cell_type": "code",
   "execution_count": 20,
   "metadata": {
    "collapsed": true
   },
   "outputs": [],
   "source": [
    "indexfiles2017 = glob.glob(\"../data/index/application2017/*.idx\")"
   ]
  },
  {
   "cell_type": "code",
   "execution_count": 21,
   "metadata": {
    "collapsed": true
   },
   "outputs": [],
   "source": [
    "index2017 = {}"
   ]
  },
  {
   "cell_type": "code",
   "execution_count": 22,
   "metadata": {},
   "outputs": [
    {
     "name": "stdout",
     "output_type": "stream",
     "text": [
      "CPU times: user 5.6 s, sys: 367 ms, total: 5.97 s\n",
      "Wall time: 6.04 s\n"
     ]
    }
   ],
   "source": [
    "%%time\n",
    "build_all_index_dict(indexfiles2017, index2017)"
   ]
  },
  {
   "cell_type": "code",
   "execution_count": 25,
   "metadata": {},
   "outputs": [
    {
     "data": {
      "text/plain": [
       "['20170305631', '20170177612', '62013724']"
      ]
     },
     "execution_count": 25,
     "metadata": {},
     "output_type": "execute_result"
    }
   ],
   "source": [
    "list( index2017.keys() )[:3]"
   ]
  },
  {
   "cell_type": "code",
   "execution_count": 26,
   "metadata": {},
   "outputs": [
    {
     "data": {
      "text/plain": [
       "[[['application2017/ipa171026.xml', 2229955]],\n",
       " [['application2017/ipa170622.xml', 6218567]],\n",
       " [['application2017/ipa170615.xml', 6552523]]]"
      ]
     },
     "execution_count": 26,
     "metadata": {},
     "output_type": "execute_result"
    }
   ],
   "source": [
    "list( index2017.values() )[:3]"
   ]
  },
  {
   "cell_type": "code",
   "execution_count": 30,
   "metadata": {
    "collapsed": true
   },
   "outputs": [],
   "source": [
    "indexfilesGrants2012 = glob.glob(\"../data/index/grants2012/*.idx\")"
   ]
  },
  {
   "cell_type": "code",
   "execution_count": 31,
   "metadata": {
    "collapsed": true
   },
   "outputs": [],
   "source": [
    "indexGrants2012 = {}"
   ]
  },
  {
   "cell_type": "code",
   "execution_count": 32,
   "metadata": {
    "collapsed": true
   },
   "outputs": [],
   "source": [
    "%%time\n",
    "build_all_index_dict(indexfilesGrants2012, indexGrants2012)"
   ]
  },
  {
   "cell_type": "code",
   "execution_count": null,
   "metadata": {
    "collapsed": true
   },
   "outputs": [],
   "source": []
  },
  {
   "cell_type": "markdown",
   "metadata": {},
   "source": [
    "## Picking up co-related patent information."
   ]
  },
  {
   "cell_type": "code",
   "execution_count": 33,
   "metadata": {
    "collapsed": true
   },
   "outputs": [],
   "source": [
    "office_15[\"app_id_str\"] = office_15.app_id.map(str)"
   ]
  },
  {
   "cell_type": "code",
   "execution_count": 34,
   "metadata": {},
   "outputs": [
    {
     "data": {
      "text/plain": [
       "22126"
      ]
     },
     "execution_count": 34,
     "metadata": {},
     "output_type": "execute_result"
    }
   ],
   "source": [
    "sum(office_15.app_id_str.isin(index2017) == True)"
   ]
  },
  {
   "cell_type": "code",
   "execution_count": 35,
   "metadata": {
    "collapsed": true
   },
   "outputs": [],
   "source": [
    "office2017 = office_15[office_15.app_id_str.isin(index2017)]"
   ]
  },
  {
   "cell_type": "code",
   "execution_count": 36,
   "metadata": {},
   "outputs": [
    {
     "data": {
      "text/html": [
       "<div>\n",
       "<style scoped>\n",
       "    .dataframe tbody tr th:only-of-type {\n",
       "        vertical-align: middle;\n",
       "    }\n",
       "\n",
       "    .dataframe tbody tr th {\n",
       "        vertical-align: top;\n",
       "    }\n",
       "\n",
       "    .dataframe thead th {\n",
       "        text-align: right;\n",
       "    }\n",
       "</style>\n",
       "<table border=\"1\" class=\"dataframe\">\n",
       "  <thead>\n",
       "    <tr style=\"text-align: right;\">\n",
       "      <th></th>\n",
       "      <th>app_id</th>\n",
       "      <th>ifw_number</th>\n",
       "      <th>document_cd</th>\n",
       "      <th>mail_dt</th>\n",
       "      <th>art_unit</th>\n",
       "      <th>uspc_class</th>\n",
       "      <th>uspc_subclass</th>\n",
       "      <th>header_missing</th>\n",
       "      <th>fp_missing</th>\n",
       "      <th>rejection_fp_mismatch</th>\n",
       "      <th>...</th>\n",
       "      <th>rejection_112</th>\n",
       "      <th>rejection_dp</th>\n",
       "      <th>objection</th>\n",
       "      <th>allowed_claims</th>\n",
       "      <th>cite102_gt1</th>\n",
       "      <th>cite103_gt3</th>\n",
       "      <th>cite103_eq1</th>\n",
       "      <th>cite103_max</th>\n",
       "      <th>signature_type</th>\n",
       "      <th>app_id_str</th>\n",
       "    </tr>\n",
       "  </thead>\n",
       "  <tbody>\n",
       "    <tr>\n",
       "      <th>3561801</th>\n",
       "      <td>15005636</td>\n",
       "      <td>IKSG9XK1RXEAPX1</td>\n",
       "      <td>CTNF</td>\n",
       "      <td>2016-02-22</td>\n",
       "      <td>3766</td>\n",
       "      <td>600</td>\n",
       "      <td>509000</td>\n",
       "      <td>0</td>\n",
       "      <td>0</td>\n",
       "      <td>0</td>\n",
       "      <td>...</td>\n",
       "      <td>1</td>\n",
       "      <td>1</td>\n",
       "      <td>0</td>\n",
       "      <td>0</td>\n",
       "      <td>0</td>\n",
       "      <td>0</td>\n",
       "      <td>0</td>\n",
       "      <td>0</td>\n",
       "      <td>0</td>\n",
       "      <td>15005636</td>\n",
       "    </tr>\n",
       "    <tr>\n",
       "      <th>3564336</th>\n",
       "      <td>15001553</td>\n",
       "      <td>IKTT4P0TRXEAPX1</td>\n",
       "      <td>CTNF</td>\n",
       "      <td>2016-02-19</td>\n",
       "      <td>1625</td>\n",
       "      <td>514</td>\n",
       "      <td>279000</td>\n",
       "      <td>0</td>\n",
       "      <td>1</td>\n",
       "      <td>0</td>\n",
       "      <td>...</td>\n",
       "      <td>1</td>\n",
       "      <td>0</td>\n",
       "      <td>0</td>\n",
       "      <td>0</td>\n",
       "      <td>0</td>\n",
       "      <td>0</td>\n",
       "      <td>0</td>\n",
       "      <td>0</td>\n",
       "      <td>1</td>\n",
       "      <td>15001553</td>\n",
       "    </tr>\n",
       "    <tr>\n",
       "      <th>3568839</th>\n",
       "      <td>15009367</td>\n",
       "      <td>IKZGL7O1RXEAPX4</td>\n",
       "      <td>CTNF</td>\n",
       "      <td>2016-02-25</td>\n",
       "      <td>2137</td>\n",
       "      <td>711</td>\n",
       "      <td>103000</td>\n",
       "      <td>0</td>\n",
       "      <td>0</td>\n",
       "      <td>0</td>\n",
       "      <td>...</td>\n",
       "      <td>0</td>\n",
       "      <td>1</td>\n",
       "      <td>0</td>\n",
       "      <td>0</td>\n",
       "      <td>0</td>\n",
       "      <td>0</td>\n",
       "      <td>0</td>\n",
       "      <td>0</td>\n",
       "      <td>1</td>\n",
       "      <td>15009367</td>\n",
       "    </tr>\n",
       "    <tr>\n",
       "      <th>3569392</th>\n",
       "      <td>15041416</td>\n",
       "      <td>IKZI6SS3RXEAPX1</td>\n",
       "      <td>CTNF</td>\n",
       "      <td>2016-02-25</td>\n",
       "      <td>2618</td>\n",
       "      <td>345</td>\n",
       "      <td>619000</td>\n",
       "      <td>0</td>\n",
       "      <td>0</td>\n",
       "      <td>0</td>\n",
       "      <td>...</td>\n",
       "      <td>0</td>\n",
       "      <td>0</td>\n",
       "      <td>0</td>\n",
       "      <td>0</td>\n",
       "      <td>0</td>\n",
       "      <td>1</td>\n",
       "      <td>0</td>\n",
       "      <td>5</td>\n",
       "      <td>1</td>\n",
       "      <td>15041416</td>\n",
       "    </tr>\n",
       "    <tr>\n",
       "      <th>3574015</th>\n",
       "      <td>15014088</td>\n",
       "      <td>IL0U1CK0RXEAPX5</td>\n",
       "      <td>CTNF</td>\n",
       "      <td>2016-02-26</td>\n",
       "      <td>2852</td>\n",
       "      <td>399</td>\n",
       "      <td>085000</td>\n",
       "      <td>0</td>\n",
       "      <td>0</td>\n",
       "      <td>0</td>\n",
       "      <td>...</td>\n",
       "      <td>0</td>\n",
       "      <td>0</td>\n",
       "      <td>1</td>\n",
       "      <td>0</td>\n",
       "      <td>0</td>\n",
       "      <td>0</td>\n",
       "      <td>0</td>\n",
       "      <td>2</td>\n",
       "      <td>1</td>\n",
       "      <td>15014088</td>\n",
       "    </tr>\n",
       "  </tbody>\n",
       "</table>\n",
       "<p>5 rows × 24 columns</p>\n",
       "</div>"
      ],
      "text/plain": [
       "           app_id       ifw_number document_cd     mail_dt art_unit  \\\n",
       "3561801  15005636  IKSG9XK1RXEAPX1        CTNF  2016-02-22     3766   \n",
       "3564336  15001553  IKTT4P0TRXEAPX1        CTNF  2016-02-19     1625   \n",
       "3568839  15009367  IKZGL7O1RXEAPX4        CTNF  2016-02-25     2137   \n",
       "3569392  15041416  IKZI6SS3RXEAPX1        CTNF  2016-02-25     2618   \n",
       "3574015  15014088  IL0U1CK0RXEAPX5        CTNF  2016-02-26     2852   \n",
       "\n",
       "        uspc_class uspc_subclass  header_missing  fp_missing  \\\n",
       "3561801        600        509000               0           0   \n",
       "3564336        514        279000               0           1   \n",
       "3568839        711        103000               0           0   \n",
       "3569392        345        619000               0           0   \n",
       "3574015        399        085000               0           0   \n",
       "\n",
       "         rejection_fp_mismatch     ...      rejection_112  rejection_dp  \\\n",
       "3561801                      0     ...                  1             1   \n",
       "3564336                      0     ...                  1             0   \n",
       "3568839                      0     ...                  0             1   \n",
       "3569392                      0     ...                  0             0   \n",
       "3574015                      0     ...                  0             0   \n",
       "\n",
       "         objection  allowed_claims  cite102_gt1  cite103_gt3  cite103_eq1  \\\n",
       "3561801          0               0            0            0            0   \n",
       "3564336          0               0            0            0            0   \n",
       "3568839          0               0            0            0            0   \n",
       "3569392          0               0            0            1            0   \n",
       "3574015          1               0            0            0            0   \n",
       "\n",
       "         cite103_max  signature_type  app_id_str  \n",
       "3561801            0               0    15005636  \n",
       "3564336            0               1    15001553  \n",
       "3568839            0               1    15009367  \n",
       "3569392            5               1    15041416  \n",
       "3574015            2               1    15014088  \n",
       "\n",
       "[5 rows x 24 columns]"
      ]
     },
     "execution_count": 36,
     "metadata": {},
     "output_type": "execute_result"
    }
   ],
   "source": [
    "office2017.head()"
   ]
  },
  {
   "cell_type": "code",
   "execution_count": 37,
   "metadata": {
    "collapsed": true
   },
   "outputs": [],
   "source": [
    "ifw_from_OA = set(office2017.ifw_number)"
   ]
  },
  {
   "cell_type": "code",
   "execution_count": 38,
   "metadata": {},
   "outputs": [
    {
     "data": {
      "text/plain": [
       "22126"
      ]
     },
     "execution_count": 38,
     "metadata": {},
     "output_type": "execute_result"
    }
   ],
   "source": [
    "len(list(ifw_from_OA))"
   ]
  },
  {
   "cell_type": "code",
   "execution_count": 39,
   "metadata": {
    "collapsed": true
   },
   "outputs": [],
   "source": [
    "citations_2017 = citations_15[citations_15.ifw_number.isin(ifw_from_OA)]"
   ]
  },
  {
   "cell_type": "code",
   "execution_count": 40,
   "metadata": {
    "collapsed": true
   },
   "outputs": [],
   "source": [
    "citations_we_have = citations_2017[citations_2017.citation_pat_pgpub_id.isin(indexGrants2012)]"
   ]
  },
  {
   "cell_type": "code",
   "execution_count": 41,
   "metadata": {},
   "outputs": [
    {
     "data": {
      "text/plain": [
       "4421"
      ]
     },
     "execution_count": 41,
     "metadata": {},
     "output_type": "execute_result"
    }
   ],
   "source": [
    "len(citations_we_have)"
   ]
  },
  {
   "cell_type": "code",
   "execution_count": 42,
   "metadata": {},
   "outputs": [
    {
     "data": {
      "text/html": [
       "<div>\n",
       "<style scoped>\n",
       "    .dataframe tbody tr th:only-of-type {\n",
       "        vertical-align: middle;\n",
       "    }\n",
       "\n",
       "    .dataframe tbody tr th {\n",
       "        vertical-align: top;\n",
       "    }\n",
       "\n",
       "    .dataframe thead th {\n",
       "        text-align: right;\n",
       "    }\n",
       "</style>\n",
       "<table border=\"1\" class=\"dataframe\">\n",
       "  <thead>\n",
       "    <tr style=\"text-align: right;\">\n",
       "      <th></th>\n",
       "      <th>app_id</th>\n",
       "      <th>citation_pat_pgpub_id</th>\n",
       "      <th>parsed</th>\n",
       "      <th>ifw_number</th>\n",
       "      <th>action_type</th>\n",
       "      <th>action_subtype</th>\n",
       "      <th>form892</th>\n",
       "      <th>form1449</th>\n",
       "      <th>citation_in_oa</th>\n",
       "    </tr>\n",
       "  </thead>\n",
       "  <tbody>\n",
       "    <tr>\n",
       "      <th>57733581</th>\n",
       "      <td>15000285</td>\n",
       "      <td>4659845</td>\n",
       "      <td>4659845</td>\n",
       "      <td>IV82WOB1RXEAPX5</td>\n",
       "      <td>103.0</td>\n",
       "      <td>NaN</td>\n",
       "      <td>1</td>\n",
       "      <td>0</td>\n",
       "      <td>1</td>\n",
       "    </tr>\n",
       "    <tr>\n",
       "      <th>57733622</th>\n",
       "      <td>15000297</td>\n",
       "      <td>7268118</td>\n",
       "      <td>7268118</td>\n",
       "      <td>IO1DLQ1SRXEAPX3</td>\n",
       "      <td>102.0</td>\n",
       "      <td>b</td>\n",
       "      <td>0</td>\n",
       "      <td>1</td>\n",
       "      <td>1</td>\n",
       "    </tr>\n",
       "    <tr>\n",
       "      <th>57733623</th>\n",
       "      <td>15000297</td>\n",
       "      <td>7268118</td>\n",
       "      <td>7268118</td>\n",
       "      <td>IO1DLQ1SRXEAPX3</td>\n",
       "      <td>103.0</td>\n",
       "      <td>a</td>\n",
       "      <td>0</td>\n",
       "      <td>1</td>\n",
       "      <td>1</td>\n",
       "    </tr>\n",
       "    <tr>\n",
       "      <th>57733624</th>\n",
       "      <td>15000297</td>\n",
       "      <td>5578570</td>\n",
       "      <td>5578570</td>\n",
       "      <td>IO1DLQ1SRXEAPX3</td>\n",
       "      <td>103.0</td>\n",
       "      <td>a</td>\n",
       "      <td>1</td>\n",
       "      <td>0</td>\n",
       "      <td>1</td>\n",
       "    </tr>\n",
       "    <tr>\n",
       "      <th>57733628</th>\n",
       "      <td>15000297</td>\n",
       "      <td>5342620</td>\n",
       "      <td>5342620</td>\n",
       "      <td>IO1DLQ1SRXEAPX3</td>\n",
       "      <td>103.0</td>\n",
       "      <td>a</td>\n",
       "      <td>1</td>\n",
       "      <td>1</td>\n",
       "      <td>1</td>\n",
       "    </tr>\n",
       "  </tbody>\n",
       "</table>\n",
       "</div>"
      ],
      "text/plain": [
       "            app_id citation_pat_pgpub_id   parsed       ifw_number  \\\n",
       "57733581  15000285               4659845  4659845  IV82WOB1RXEAPX5   \n",
       "57733622  15000297               7268118  7268118  IO1DLQ1SRXEAPX3   \n",
       "57733623  15000297               7268118  7268118  IO1DLQ1SRXEAPX3   \n",
       "57733624  15000297               5578570  5578570  IO1DLQ1SRXEAPX3   \n",
       "57733628  15000297               5342620  5342620  IO1DLQ1SRXEAPX3   \n",
       "\n",
       "          action_type action_subtype  form892  form1449  citation_in_oa  \n",
       "57733581        103.0            NaN        1         0               1  \n",
       "57733622        102.0              b        0         1               1  \n",
       "57733623        103.0              a        0         1               1  \n",
       "57733624        103.0              a        1         0               1  \n",
       "57733628        103.0              a        1         1               1  "
      ]
     },
     "execution_count": 42,
     "metadata": {},
     "output_type": "execute_result"
    }
   ],
   "source": [
    "citations_we_have.head()"
   ]
  },
  {
   "cell_type": "code",
   "execution_count": null,
   "metadata": {
    "collapsed": true
   },
   "outputs": [],
   "source": []
  },
  {
   "cell_type": "code",
   "execution_count": 43,
   "metadata": {
    "collapsed": true
   },
   "outputs": [],
   "source": [
    "index2017_we_need = {str(key):index2017[str(key)] for key in set(citations_we_have.app_id)}"
   ]
  },
  {
   "cell_type": "code",
   "execution_count": 44,
   "metadata": {},
   "outputs": [
    {
     "data": {
      "text/plain": [
       "2356"
      ]
     },
     "execution_count": 44,
     "metadata": {},
     "output_type": "execute_result"
    }
   ],
   "source": [
    "len(index2017_we_need)"
   ]
  },
  {
   "cell_type": "code",
   "execution_count": 45,
   "metadata": {},
   "outputs": [
    {
     "data": {
      "text/plain": [
       "[('15338532',\n",
       "  [['application2017/ipa170216.xml', 1936602],\n",
       "   ['application2017/ipa170216.xml', 1936770]]),\n",
       " ('15051356',\n",
       "  [['application2017/ipa170831.xml', 856899],\n",
       "   ['application2017/ipa170831.xml', 856935]]),\n",
       " ('15238319',\n",
       "  [['application2017/ipa170309.xml', 1817396],\n",
       "   ['application2017/ipa170309.xml', 1817519]])]"
      ]
     },
     "execution_count": 45,
     "metadata": {},
     "output_type": "execute_result"
    }
   ],
   "source": [
    "list(index2017_we_need.items())[:3]"
   ]
  },
  {
   "cell_type": "code",
   "execution_count": null,
   "metadata": {
    "collapsed": true
   },
   "outputs": [],
   "source": []
  },
  {
   "cell_type": "code",
   "execution_count": 46,
   "metadata": {
    "collapsed": true
   },
   "outputs": [],
   "source": [
    "## cut subtext of (target-bound):(target+bound) from very large text file\n",
    "## but if (target-bound) is smaller than 1, treat as 1.\n",
    "## retuned value is tupple which value is\n",
    "## first cell: offset for target\n",
    "## second cell: array of text, each element stand for one line.\n",
    "\n",
    "def retrieve_subtext_fast(target, bound, fpath):\n",
    "    start = max(1, target-bound)\n",
    "    end = target+bound\n",
    "    sed_arg = \"'{},{}p'\".format(start, end)\n",
    "    subtext = !sed -n {sed_arg} {fpath}\n",
    "    return (target - start, subtext)"
   ]
  },
  {
   "cell_type": "code",
   "execution_count": 47,
   "metadata": {
    "collapsed": true
   },
   "outputs": [],
   "source": [
    "#<us-patent-application ...>...</us-patent-application>\n",
    "#<us-patent-grant ...>....</us-patent-grant>\n",
    "\n",
    "def find_nearest_root_element(target_offset, subtext_arr, tagname):\n",
    "    begin_tag = '<{}'.format(tagname)\n",
    "    last_cand = -1\n",
    "    for i, line in enumerate(subtext_arr):\n",
    "        if i > target_offset:\n",
    "            if last_cand == -1:\n",
    "                raise Exception('no target tagname found around target_offset')\n",
    "            return last_cand\n",
    "        if begin_tag in line:\n",
    "            last_cand = i\n",
    "    raise Exception('no target tagname found around target_offset')        "
   ]
  },
  {
   "cell_type": "code",
   "execution_count": 48,
   "metadata": {
    "collapsed": true
   },
   "outputs": [],
   "source": [
    "def retrieve_begin_end(begin_offset, subtext_arr, tagname):\n",
    "    end_tag = '</{}'.format(tagname)\n",
    "    res = []\n",
    "    for line in subtext_arr[begin_offset:]:\n",
    "        res.append(line)\n",
    "        if end_tag in line:\n",
    "            return res\n",
    "    raise Exception('no end tagname found')        "
   ]
  },
  {
   "cell_type": "code",
   "execution_count": 49,
   "metadata": {
    "collapsed": true
   },
   "outputs": [],
   "source": [
    "import re"
   ]
  },
  {
   "cell_type": "code",
   "execution_count": 50,
   "metadata": {
    "collapsed": true
   },
   "outputs": [],
   "source": [
    "DOC_NUMBER_PAT=re.compile(r'<doc-number>([^<]+)</doc-number>')\n",
    "\n",
    "def find_first_doc_number(text_arr):\n",
    "    for text in text_arr:\n",
    "        matchObj = DOC_NUMBER_PAT.search(text)\n",
    "        if matchObj:\n",
    "            return matchObj.group(1)\n",
    "    raise Exception(\"No doc-number found.\")"
   ]
  },
  {
   "cell_type": "code",
   "execution_count": 51,
   "metadata": {
    "collapsed": true
   },
   "outputs": [],
   "source": [
    "# tagname is \"us-patent-application\" or \"us-patent-grant\"\n",
    "#<us-patent-application ...>...</us-patent-application>\n",
    "#<us-patent-grant ...>....</us-patent-grant>\n",
    "\n",
    "def get_patent(tagname, file_path, target_offset):\n",
    "    BOUND=5000\n",
    "    target_mod_offset, subtext_arr = retrieve_subtext_fast(target_offset, BOUND, file_path)\n",
    "    begin_pos = find_nearest_root_element(target_mod_offset, subtext_arr, tagname)\n",
    "    result_patent = retrieve_begin_end(begin_pos, subtext_arr, tagname)\n",
    "    docid = find_first_doc_number(result_patent)\n",
    "    return docid, result_patent"
   ]
  },
  {
   "cell_type": "code",
   "execution_count": 55,
   "metadata": {},
   "outputs": [
    {
     "data": {
      "text/plain": [
       "[['application2017/ipa170216.xml', 1936602],\n",
       " ['application2017/ipa170216.xml', 1936770]]"
      ]
     },
     "execution_count": 55,
     "metadata": {},
     "output_type": "execute_result"
    }
   ],
   "source": [
    "index2017_we_need['15338532']"
   ]
  },
  {
   "cell_type": "code",
   "execution_count": 57,
   "metadata": {},
   "outputs": [
    {
     "data": {
      "text/plain": [
       "'20170043899'"
      ]
     },
     "execution_count": 57,
     "metadata": {},
     "output_type": "execute_result"
    }
   ],
   "source": [
    "real_id1, pat_text1 = get_patent(\"us-patent-application\", '../data/' + 'application2017/ipa170216.xml', 1936602)\n",
    "real_id1"
   ]
  },
  {
   "cell_type": "code",
   "execution_count": 120,
   "metadata": {
    "scrolled": true
   },
   "outputs": [],
   "source": [
    "# pat_text1"
   ]
  },
  {
   "cell_type": "markdown",
   "metadata": {},
   "source": [
    "Check execution time."
   ]
  },
  {
   "cell_type": "code",
   "execution_count": 68,
   "metadata": {},
   "outputs": [
    {
     "name": "stdout",
     "output_type": "stream",
     "text": [
      "15338532\n",
      "15051356\n",
      "15238319\n",
      "15078852\n",
      "15073698\n",
      "15143593\n",
      "15005383\n",
      "15003682\n",
      "15073098\n",
      "15354122\n",
      "CPU times: user 140 ms, sys: 239 ms, total: 379 ms\n",
      "Wall time: 30.7 s\n"
     ]
    }
   ],
   "source": [
    "%%time\n",
    "\n",
    "for elem in list(index2017_we_need.items())[:10]:\n",
    "    print(elem[0])\n",
    "    for sub_elem in elem[1]:\n",
    "        filename = sub_elem[0]\n",
    "        target_offset = sub_elem[1]\n",
    "        real_id, pat_text = get_patent(\"us-patent-application\", '../data/' + filename, target_offset)"
   ]
  },
  {
   "cell_type": "code",
   "execution_count": null,
   "metadata": {
    "collapsed": true
   },
   "outputs": [],
   "source": []
  },
  {
   "cell_type": "code",
   "execution_count": 107,
   "metadata": {
    "collapsed": true
   },
   "outputs": [],
   "source": [
    "from tqdm import tqdm_notebook as tqdm"
   ]
  },
  {
   "cell_type": "code",
   "execution_count": 122,
   "metadata": {},
   "outputs": [
    {
     "name": "stdout",
     "output_type": "stream",
     "text": [
      "\n",
      "\n",
      "CPU times: user 1min, sys: 1min 31s, total: 2min 32s\n",
      "Wall time: 2h 24min 26s\n"
     ]
    }
   ],
   "source": [
    "%%time\n",
    "data_df = pd.DataFrame(columns=['application_id', 'cited_doc_number', 'patent_data'])\n",
    "idx = 0\n",
    "\n",
    "for elem in tqdm(list(index2017_we_need.items())):\n",
    "    app_id = elem[0]\n",
    "    for sub_elem in elem[1]:\n",
    "        try:\n",
    "            filename = sub_elem[0]\n",
    "            target_offset = sub_elem[1]\n",
    "            real_id, pat_text = get_patent(\"us-patent-application\", '../data/' + filename, target_offset)\n",
    "\n",
    "            data_df.loc[idx] = [app_id, real_id, pat_text]\n",
    "\n",
    "            idx += 1\n",
    "        except:\n",
    "            continue"
   ]
  },
  {
   "cell_type": "code",
   "execution_count": 123,
   "metadata": {},
   "outputs": [],
   "source": [
    "data_df.to_pickle(\"../data/extacted_application2017_data.dat\")"
   ]
  },
  {
   "cell_type": "code",
   "execution_count": 124,
   "metadata": {},
   "outputs": [
    {
     "data": {
      "text/plain": [
       "4738"
      ]
     },
     "execution_count": 124,
     "metadata": {},
     "output_type": "execute_result"
    }
   ],
   "source": [
    "len(data_df)"
   ]
  },
  {
   "cell_type": "code",
   "execution_count": null,
   "metadata": {
    "collapsed": true
   },
   "outputs": [],
   "source": []
  },
  {
   "cell_type": "code",
   "execution_count": null,
   "metadata": {
    "collapsed": true
   },
   "outputs": [],
   "source": []
  },
  {
   "cell_type": "code",
   "execution_count": null,
   "metadata": {
    "collapsed": true
   },
   "outputs": [],
   "source": []
  },
  {
   "cell_type": "code",
   "execution_count": null,
   "metadata": {
    "collapsed": true
   },
   "outputs": [],
   "source": []
  },
  {
   "cell_type": "markdown",
   "metadata": {},
   "source": [
    "## CHECK data consistency\n",
    "\n",
    "('8202487', 1),\n",
    "('8114845', 2),\n",
    "('8140012', 1),\n",
    "('8144683', 1),\n",
    "('8138863', 1),\n",
    "('8095929', 2),\n",
    "('8289665', 1),\n",
    "('8087315', 2),\n",
    "('8322805', 1),\n",
    "('8147894', 1),\n",
    "('8118868', 1),\n",
    "('8101436', 1),\n",
    "('8331747', 1),\n",
    "('8239267', 1),\n",
    "('8307045', 1),\n",
    "('8169523', 1),\n",
    "('8270788', 1),\n",
    "('8199013', 1),\n",
    "('8289837', 1),\n",
    "('8123234', 1),\n",
    "('8292411', 1),\n",
    "('8166718', 1),\n",
    "('8297738', 1),\n",
    "('8106186', 1),\n",
    "('8185850', 1),\n",
    "('8201268', 2),\n",
    "('8123510', 1),\n",
    "('8206358', 1),\n",
    "('8327128', 1),\n",
    "('8263886', 1),\n",
    "('8250085', 1),\n",
    "('8140786', 3),\n",
    "('8151694', 1),\n",
    "('8291754', 1),\n",
    "('8151323', 1),\n",
    "('8113316', 1),\n",
    "('8226943', 2),\n",
    "('8106402', 1),\n",
    "('8200899', 1),\n",
    "('8163144', 1),\n",
    "('8238313', 1),\n",
    "('8325073', 1),\n",
    "('8145369', 2),\n",
    "('8129836', 1),\n",
    "('8088025', 2),\n",
    "('8132770', 1),\n",
    "('8263863', 1)"
   ]
  },
  {
   "cell_type": "code",
   "execution_count": 87,
   "metadata": {},
   "outputs": [
    {
     "data": {
      "text/html": [
       "<div>\n",
       "<style scoped>\n",
       "    .dataframe tbody tr th:only-of-type {\n",
       "        vertical-align: middle;\n",
       "    }\n",
       "\n",
       "    .dataframe tbody tr th {\n",
       "        vertical-align: top;\n",
       "    }\n",
       "\n",
       "    .dataframe thead th {\n",
       "        text-align: right;\n",
       "    }\n",
       "</style>\n",
       "<table border=\"1\" class=\"dataframe\">\n",
       "  <thead>\n",
       "    <tr style=\"text-align: right;\">\n",
       "      <th></th>\n",
       "      <th>app_id</th>\n",
       "      <th>citation_pat_pgpub_id</th>\n",
       "      <th>parsed</th>\n",
       "      <th>ifw_number</th>\n",
       "      <th>action_type</th>\n",
       "      <th>action_subtype</th>\n",
       "      <th>form892</th>\n",
       "      <th>form1449</th>\n",
       "      <th>citation_in_oa</th>\n",
       "    </tr>\n",
       "  </thead>\n",
       "  <tbody>\n",
       "    <tr>\n",
       "      <th>57996378</th>\n",
       "      <td>15052617</td>\n",
       "      <td>8140012</td>\n",
       "      <td>8140012</td>\n",
       "      <td>IQCBRHIDRXEAPX2</td>\n",
       "      <td>103.0</td>\n",
       "      <td>NaN</td>\n",
       "      <td>1</td>\n",
       "      <td>0</td>\n",
       "      <td>1</td>\n",
       "    </tr>\n",
       "    <tr>\n",
       "      <th>57996387</th>\n",
       "      <td>15052617</td>\n",
       "      <td>8140012</td>\n",
       "      <td>8140012</td>\n",
       "      <td>IYDEJIZSRXEAPX1</td>\n",
       "      <td>103.0</td>\n",
       "      <td>NaN</td>\n",
       "      <td>1</td>\n",
       "      <td>0</td>\n",
       "      <td>1</td>\n",
       "    </tr>\n",
       "  </tbody>\n",
       "</table>\n",
       "</div>"
      ],
      "text/plain": [
       "            app_id citation_pat_pgpub_id   parsed       ifw_number  \\\n",
       "57996378  15052617               8140012  8140012  IQCBRHIDRXEAPX2   \n",
       "57996387  15052617               8140012  8140012  IYDEJIZSRXEAPX1   \n",
       "\n",
       "          action_type action_subtype  form892  form1449  citation_in_oa  \n",
       "57996378        103.0            NaN        1         0               1  \n",
       "57996387        103.0            NaN        1         0               1  "
      ]
     },
     "execution_count": 87,
     "metadata": {},
     "output_type": "execute_result"
    }
   ],
   "source": [
    "citations_2017[citations_2017.parsed == '8140012']"
   ]
  },
  {
   "cell_type": "code",
   "execution_count": 89,
   "metadata": {},
   "outputs": [
    {
     "data": {
      "text/plain": [
       "True"
      ]
     },
     "execution_count": 89,
     "metadata": {},
     "output_type": "execute_result"
    }
   ],
   "source": [
    "'15052617' in set( index2017_we_need.keys() )"
   ]
  },
  {
   "cell_type": "code",
   "execution_count": null,
   "metadata": {
    "collapsed": true
   },
   "outputs": [],
   "source": []
  },
  {
   "cell_type": "code",
   "execution_count": null,
   "metadata": {
    "collapsed": true
   },
   "outputs": [],
   "source": []
  },
  {
   "cell_type": "code",
   "execution_count": null,
   "metadata": {
    "collapsed": true
   },
   "outputs": [],
   "source": []
  },
  {
   "cell_type": "code",
   "execution_count": null,
   "metadata": {
    "collapsed": true
   },
   "outputs": [],
   "source": []
  },
  {
   "cell_type": "markdown",
   "metadata": {
    "collapsed": true
   },
   "source": [
    "# PREVIOUS WORKS BY "
   ]
  },
  {
   "cell_type": "markdown",
   "metadata": {},
   "source": [
    "## Data setup assumption\n",
    "\n",
    "Download application of 2017 and grants of 2012, unzip xml, and place under data/\n",
    "\n",
    "From here: https://bulkdata.uspto.gov/#pats\n",
    "\n",
    "### Grants 2012\n",
    "\n",
    "Use \"Patent Grant Full Text Data (No Images) (JAN 1976 - PRESENT)\".\n",
    "\n",
    "- Download all zip of https://bulkdata.uspto.gov/data/patent/grant/redbook/fulltext/2012/\n",
    "   - Use shell script to download zip (https://colab.research.google.com/drive/1gJO0VQ72Xfr_SY2dwWyiTvczIv0_gd4L)\n",
    "       - save to download.sh and run\n",
    "- place xml under data/grants2012/\n",
    "   - ex.data/grants2012/ipg120103.xml data/grants2012/ipg120221.xml\n",
    "   - Total about 24GB\n",
    "\n",
    "### Application 2017\n",
    "\n",
    "Use \"Patent Application Full Text Data (No Images) (MAR 15, 2001 - PRESENT)\"\n",
    "\n",
    "- Download all zip of https://bulkdata.uspto.gov/data/patent/application/redbook/fulltext/2017/\n",
    "   - Use above colab shell script again\n",
    "- place xml under data/application/2017\n",
    "    - ex. data/application2017/ipa170105.xml data/appli cation2017/ipa170223.xml\n",
    "    - Total about 35GB"
   ]
  },
  {
   "cell_type": "code",
   "execution_count": 25,
   "metadata": {
    "collapsed": true
   },
   "outputs": [],
   "source": [
    "import glob"
   ]
  },
  {
   "cell_type": "code",
   "execution_count": 26,
   "metadata": {
    "collapsed": true
   },
   "outputs": [],
   "source": [
    "xmls = [\"../data/grants2012/ipg120103.xml\"]"
   ]
  },
  {
   "cell_type": "code",
   "execution_count": 27,
   "metadata": {},
   "outputs": [
    {
     "data": {
      "text/plain": [
       "'../data/grants2012/ipg120103.xml'"
      ]
     },
     "execution_count": 27,
     "metadata": {},
     "output_type": "execute_result"
    }
   ],
   "source": [
    "xmls[0]"
   ]
  },
  {
   "cell_type": "code",
   "execution_count": 28,
   "metadata": {},
   "outputs": [
    {
     "data": {
      "text/plain": [
       "'grants2012/ipg120103.xml'"
      ]
     },
     "execution_count": 28,
     "metadata": {},
     "output_type": "execute_result"
    }
   ],
   "source": [
    "xmls[0][len(\"../data/\"):]"
   ]
  },
  {
   "cell_type": "code",
   "execution_count": 29,
   "metadata": {
    "collapsed": true
   },
   "outputs": [],
   "source": [
    "xmlrels = [xml[len(\"../data/\"):] for xml in xmls]"
   ]
  },
  {
   "cell_type": "code",
   "execution_count": 30,
   "metadata": {},
   "outputs": [
    {
     "data": {
      "text/plain": [
       "'grants2012/ipg120103.xml'"
      ]
     },
     "execution_count": 30,
     "metadata": {},
     "output_type": "execute_result"
    }
   ],
   "source": [
    "xmlrels[0]"
   ]
  },
  {
   "cell_type": "code",
   "execution_count": 31,
   "metadata": {},
   "outputs": [
    {
     "name": "stdout",
     "output_type": "stream",
     "text": [
      "CPU times: user 106 ms, sys: 295 ms, total: 401 ms\n",
      "Wall time: 8.3 s\n"
     ]
    }
   ],
   "source": [
    "%%time\n",
    "\n",
    "for xmlrel in xmlrels:\n",
    "    create_one_index(xmlrel)"
   ]
  },
  {
   "cell_type": "markdown",
   "metadata": {},
   "source": [
    "### LOAD index"
   ]
  },
  {
   "cell_type": "code",
   "execution_count": 36,
   "metadata": {
    "collapsed": true
   },
   "outputs": [],
   "source": [
    "# dict format:\n",
    "# key is doc-number\n",
    "# val is list of [relxml, linenumber]\n",
    "\n",
    "def build_one_index_file_to_dict(indexfile, dic):\n",
    "    with open(indexfile, \"r\") as f:\n",
    "        tupples = [l.rstrip(\"\\n\").split(\":\", 1) for l in f]\n",
    "    relxml = indexfile[len(\"../data/index/\"):].rstrip(\".idx\")\n",
    "    for tup in tupples:\n",
    "        dic.setdefault(tup[1], []).append([relxml, int(tup[0])])"
   ]
  },
  {
   "cell_type": "code",
   "execution_count": 37,
   "metadata": {
    "collapsed": true
   },
   "outputs": [],
   "source": [
    "def build_all_index_dict(indexfiles, dic):\n",
    "    for f in indexfiles:\n",
    "        build_one_index_file_to_dict(f, dic)"
   ]
  },
  {
   "cell_type": "code",
   "execution_count": 38,
   "metadata": {
    "collapsed": true
   },
   "outputs": [],
   "source": [
    "index_one_file = {}"
   ]
  },
  {
   "cell_type": "code",
   "execution_count": 41,
   "metadata": {},
   "outputs": [
    {
     "name": "stdout",
     "output_type": "stream",
     "text": [
      "../data/index/grants2012/ipg120103.xml.idx\n"
     ]
    }
   ],
   "source": [
    "build_one_index_file_to_dict(\"../data/index/grants2012/ipg120103.xml.idx\", index_one_file)"
   ]
  },
  {
   "cell_type": "code",
   "execution_count": 42,
   "metadata": {},
   "outputs": [
    {
     "data": {
      "text/plain": [
       "{'2003/0088698': [['grants2012/ipg120103.xml', 5932378]],\n",
       " '2003/0101009': [['grants2012/ipg120103.xml', 5444164]],\n",
       " '2008/0174268': [['grants2012/ipg120103.xml', 97505]],\n",
       " '7185754': [['grants2012/ipg120103.xml', 621423]],\n",
       " '2009/0189725': [['grants2012/ipg120103.xml', 3679932]],\n",
       " '2010/0188834': [['grants2012/ipg120103.xml', 320959]],\n",
       " '2005/0085851': [['grants2012/ipg120103.xml', 1215392]],\n",
       " '6502161': [['grants2012/ipg120103.xml', 5775801]],\n",
       " '2003-332350': [['grants2012/ipg120103.xml', 3403277]],\n",
       " '7311727': [['grants2012/ipg120103.xml', 1079399],\n",
       "  ['grants2012/ipg120103.xml', 3354987]],\n",
       " '2006/0196497': [['grants2012/ipg120103.xml', 1043116]],\n",
       " '5489777': [['grants2012/ipg120103.xml', 3990121]],\n",
       " '5539449': [['grants2012/ipg120103.xml', 5914513]],\n",
       " '2001016548': [['grants2012/ipg120103.xml', 692522]],\n",
       " '2001/0047509': [['grants2012/ipg120103.xml', 3835179]],\n",
       " '7141300': [['grants2012/ipg120103.xml', 2869838]],\n",
       " '2002/0184080': [['grants2012/ipg120103.xml', 5444151]],\n",
       " 'WO 85/05167': [['grants2012/ipg120103.xml', 1403990]],\n",
       " '6052654': [['grants2012/ipg120103.xml', 4695886]],\n",
       " '2008/0132932': [['grants2012/ipg120103.xml', 1192546]],\n",
       " '2005/0146947': [['grants2012/ipg120103.xml', 4175427]],\n",
       " '6602474': [['grants2012/ipg120103.xml', 2142789]],\n",
       " '5482670': [['grants2012/ipg120103.xml', 446134]],\n",
       " '2003/0135476': [['grants2012/ipg120103.xml', 5826254]],\n",
       " '5892826': [['grants2012/ipg120103.xml', 5764897]],\n",
       " '2002/0121679': [['grants2012/ipg120103.xml', 3835383],\n",
       "  ['grants2012/ipg120103.xml', 3854098]],\n",
       " '3611336': [['grants2012/ipg120103.xml', 3373892]],\n",
       " 'WO 2005026205': [['grants2012/ipg120103.xml', 3041942]],\n",
       " 'D399428': [['grants2012/ipg120103.xml', 82844]],\n",
       " '2007/0002263': [['grants2012/ipg120103.xml', 3959521]],\n",
       " 'WO 2004/082687': [['grants2012/ipg120103.xml', 2597882]],\n",
       " '3927666': [['grants2012/ipg120103.xml', 1180412]],\n",
       " '5613190': [['grants2012/ipg120103.xml', 5067207]],\n",
       " '2004/0019803': [['grants2012/ipg120103.xml', 5924212]],\n",
       " 'WO 0051830': [['grants2012/ipg120103.xml', 278668]],\n",
       " '20100177442': [['grants2012/ipg120103.xml', 4131095]],\n",
       " '4612554': [['grants2012/ipg120103.xml', 809134]],\n",
       " '7130630': [['grants2012/ipg120103.xml', 4984584]],\n",
       " '6190411': [['grants2012/ipg120103.xml', 1187769]],\n",
       " '7636848': [['grants2012/ipg120103.xml', 5757383]],\n",
       " '09604965': [['grants2012/ipg120103.xml', 5528234]],\n",
       " '2009/0116478': [['grants2012/ipg120103.xml', 4961893]],\n",
       " 'D509089': [['grants2012/ipg120103.xml', 31875]],\n",
       " '61189815': [['grants2012/ipg120103.xml', 3389857]],\n",
       " '6367009': [['grants2012/ipg120103.xml', 5931425]],\n",
       " '5071957': [['grants2012/ipg120103.xml', 2347813]],\n",
       " '7226473': [['grants2012/ipg120103.xml', 1078787]],\n",
       " '7673055': [['grants2012/ipg120103.xml', 4935839]],\n",
       " '2006/0151123': [['grants2012/ipg120103.xml', 549499]],\n",
       " '10901428': [['grants2012/ipg120103.xml', 689584],\n",
       "  ['grants2012/ipg120103.xml', 689620]],\n",
       " '7175940': [['grants2012/ipg120103.xml', 2211151],\n",
       "  ['grants2012/ipg120103.xml', 2219794],\n",
       "  ['grants2012/ipg120103.xml', 2228078],\n",
       "  ['grants2012/ipg120103.xml', 2236790],\n",
       "  ['grants2012/ipg120103.xml', 3430060],\n",
       "  ['grants2012/ipg120103.xml', 3438658],\n",
       "  ['grants2012/ipg120103.xml', 3447253],\n",
       "  ['grants2012/ipg120103.xml', 3455272],\n",
       "  ['grants2012/ipg120103.xml', 3463873],\n",
       "  ['grants2012/ipg120103.xml', 3472453],\n",
       "  ['grants2012/ipg120103.xml', 3481454]],\n",
       " '6201886': [['grants2012/ipg120103.xml', 5434744]],\n",
       " '2002/0010679': [['grants2012/ipg120103.xml', 5270867],\n",
       "  ['grants2012/ipg120103.xml', 5753465],\n",
       "  ['grants2012/ipg120103.xml', 5923563]],\n",
       " '2011/0221988': [['grants2012/ipg120103.xml', 3937584]],\n",
       " '12886040': [['grants2012/ipg120103.xml', 4188510],\n",
       "  ['grants2012/ipg120103.xml', 4188764]],\n",
       " '6991333': [['grants2012/ipg120103.xml', 834945]],\n",
       " '08088602': [['grants2012/ipg120103.xml', 1954338],\n",
       "  ['grants2012/ipg120103.xml', 1954662]],\n",
       " '6104700': [['grants2012/ipg120103.xml', 5562062],\n",
       "  ['grants2012/ipg120103.xml', 5698240]],\n",
       " '6895238': [['grants2012/ipg120103.xml', 3756732]],\n",
       " '5937344': [['grants2012/ipg120103.xml', 4922686]],\n",
       " '5812394': [['grants2012/ipg120103.xml', 5068444],\n",
       "  ['grants2012/ipg120103.xml', 5845883]],\n",
       " '12171839': [['grants2012/ipg120103.xml', 4801844]],\n",
       " '08090689': [['grants2012/ipg120103.xml', 5414437]],\n",
       " '2003/0236824': [['grants2012/ipg120103.xml', 4318962]],\n",
       " '5651996': [['grants2012/ipg120103.xml', 1670326]],\n",
       " '6565770': [['grants2012/ipg120103.xml', 1323013]],\n",
       " '6813525': [['grants2012/ipg120103.xml', 3813861]],\n",
       " '5272344': [['grants2012/ipg120103.xml', 3380569]],\n",
       " '2002/0077515': [['grants2012/ipg120103.xml', 573799]],\n",
       " '5440186': [['grants2012/ipg120103.xml', 1109009]],\n",
       " '6936860': [['grants2012/ipg120103.xml', 962465],\n",
       "  ['grants2012/ipg120103.xml', 3412579]],\n",
       " '2009/0068140': [['grants2012/ipg120103.xml', 1498026]],\n",
       " 'WO 2011/075615': [['grants2012/ipg120103.xml', 1498709]],\n",
       " '6631433': [['grants2012/ipg120103.xml', 5531674]],\n",
       " '2005115961': [['grants2012/ipg120103.xml', 4733233],\n",
       "  ['grants2012/ipg120103.xml', 4843728]],\n",
       " '2001-074466': [['grants2012/ipg120103.xml', 427764]],\n",
       " '20090199911': [['grants2012/ipg120103.xml', 527061]],\n",
       " '5668775': [['grants2012/ipg120103.xml', 3763277]],\n",
       " 'WO 03/005971': [['grants2012/ipg120103.xml', 2748292]],\n",
       " '60530724': [['grants2012/ipg120103.xml', 5086568]],\n",
       " '7171379': [['grants2012/ipg120103.xml', 5651399]],\n",
       " 'A-2007-286423': [['grants2012/ipg120103.xml', 4030448]],\n",
       " '7614213': [['grants2012/ipg120103.xml', 377356]],\n",
       " '6652533': [['grants2012/ipg120103.xml', 1242533],\n",
       "  ['grants2012/ipg120103.xml', 5022081]],\n",
       " '6509193': [['grants2012/ipg120103.xml', 2142609]],\n",
       " 'D436930': [['grants2012/ipg120103.xml', 104117],\n",
       "  ['grants2012/ipg120103.xml', 106035],\n",
       "  ['grants2012/ipg120103.xml', 107953],\n",
       "  ['grants2012/ipg120103.xml', 109868],\n",
       "  ['grants2012/ipg120103.xml', 111786],\n",
       "  ['grants2012/ipg120103.xml', 113704],\n",
       "  ['grants2012/ipg120103.xml', 115619],\n",
       "  ['grants2012/ipg120103.xml', 117537],\n",
       "  ['grants2012/ipg120103.xml', 119455],\n",
       "  ['grants2012/ipg120103.xml', 121370]],\n",
       " '2007/0034429': [['grants2012/ipg120103.xml', 605107]],\n",
       " '6412292': [['grants2012/ipg120103.xml', 989465]],\n",
       " '6599303': [['grants2012/ipg120103.xml', 1269289]],\n",
       " '5123111': [['grants2012/ipg120103.xml', 4924846],\n",
       "  ['grants2012/ipg120103.xml', 4927485]],\n",
       " '0703165': [['grants2012/ipg120103.xml', 1340068]],\n",
       " '7249330': [['grants2012/ipg120103.xml', 5072196]],\n",
       " '5813805': [['grants2012/ipg120103.xml', 536844]],\n",
       " '5124186': [['grants2012/ipg120103.xml', 2286777],\n",
       "  ['grants2012/ipg120103.xml', 2293630]],\n",
       " '7934869': [['grants2012/ipg120103.xml', 1062736]],\n",
       " '2009/0076358': [['grants2012/ipg120103.xml', 3714978]],\n",
       " '4672948': [['grants2012/ipg120103.xml', 3327770]],\n",
       " '1150940': [['grants2012/ipg120103.xml', 972227]],\n",
       " '5331571': [['grants2012/ipg120103.xml', 3825601]],\n",
       " '3680546': [['grants2012/ipg120103.xml', 1085905]],\n",
       " '7069118': [['grants2012/ipg120103.xml', 5279990]],\n",
       " '7332488': [['grants2012/ipg120103.xml', 1079603]],\n",
       " '03202878': [['grants2012/ipg120103.xml', 1138810],\n",
       "  ['grants2012/ipg120103.xml', 5039711]],\n",
       " '6153379': [['grants2012/ipg120103.xml', 3990368]],\n",
       " '5591785': [['grants2012/ipg120103.xml', 2862350]],\n",
       " '4025580': [['grants2012/ipg120103.xml', 1718497]],\n",
       " '6432119': [['grants2012/ipg120103.xml', 1522115]],\n",
       " 'A-3-210298': [['grants2012/ipg120103.xml', 480520]],\n",
       " '5110402': [['grants2012/ipg120103.xml', 294385]],\n",
       " '2325002': [['grants2012/ipg120103.xml', 1910775]],\n",
       " '7602904': [['grants2012/ipg120103.xml', 159725]],\n",
       " '5951560': [['grants2012/ipg120103.xml', 1186749]],\n",
       " 'PCT/EP03/02073': [['grants2012/ipg120103.xml', 1357150]],\n",
       " '2004/0131583': [['grants2012/ipg120103.xml', 1522247]],\n",
       " '6079627': [['grants2012/ipg120103.xml', 991246]],\n",
       " '60573723': [['grants2012/ipg120103.xml', 1864487]],\n",
       " '5150357': [['grants2012/ipg120103.xml', 4389731]],\n",
       " '2005/0071016': [['grants2012/ipg120103.xml', 3358363]],\n",
       " '20110130398': [['grants2012/ipg120103.xml', 2730563]],\n",
       " '3893672': [['grants2012/ipg120103.xml', 1034971]],\n",
       " '7620305': [['grants2012/ipg120103.xml', 4845918]],\n",
       " '6071236': [['grants2012/ipg120103.xml', 946757]],\n",
       " '5699657': [['grants2012/ipg120103.xml', 1185584]],\n",
       " '2006000451': [['grants2012/ipg120103.xml', 3187442]],\n",
       " '7075049': [['grants2012/ipg120103.xml', 3372465],\n",
       "  ['grants2012/ipg120103.xml', 3901414]],\n",
       " '4890620': [['grants2012/ipg120103.xml', 309685]],\n",
       " '6245060': [['grants2012/ipg120103.xml', 3706993]],\n",
       " '6940631': [['grants2012/ipg120103.xml', 4821631]],\n",
       " '6084528': [['grants2012/ipg120103.xml', 5333444]],\n",
       " '3498026': [['grants2012/ipg120103.xml', 1300126]],\n",
       " '2004/0200329': [['grants2012/ipg120103.xml', 544773]],\n",
       " '08090366': [['grants2012/ipg120103.xml', 4945413]],\n",
       " '2004/0103435': [['grants2012/ipg120103.xml', 4963674]],\n",
       " 'RE36233': [['grants2012/ipg120103.xml', 2839805]],\n",
       " '2005/0227029': [['grants2012/ipg120103.xml', 297458]],\n",
       " '12723694': [['grants2012/ipg120103.xml', 3959437]],\n",
       " '5778631': [['grants2012/ipg120103.xml', 361419]],\n",
       " 'D492695': [['grants2012/ipg120103.xml', 143506]],\n",
       " '6738764': [['grants2012/ipg120103.xml', 5435832]],\n",
       " '2004/0015762': [['grants2012/ipg120103.xml', 5654740]],\n",
       " '6742574': [['grants2012/ipg120103.xml', 562283]],\n",
       " '2008/0256292': [['grants2012/ipg120103.xml', 5711799]],\n",
       " '7129415': [['grants2012/ipg120103.xml', 3330447]],\n",
       " '2006/0287087': [['grants2012/ipg120103.xml', 3817941]],\n",
       " '4894760': [['grants2012/ipg120103.xml', 856409]],\n",
       " '4281224': [['grants2012/ipg120103.xml', 4705468]],\n",
       " 'W02007/007237': [['grants2012/ipg120103.xml', 4136907]],\n",
       " '5012077': [['grants2012/ipg120103.xml', 5366581]],\n",
       " '2006/0285034': [['grants2012/ipg120103.xml', 3904393]],\n",
       " '5985989': [['grants2012/ipg120103.xml', 1328288]],\n",
       " '6382049': [['grants2012/ipg120103.xml', 5109392]],\n",
       " '7481719': [['grants2012/ipg120103.xml', 1041305]],\n",
       " '7245916': [['grants2012/ipg120103.xml', 4950777]],\n",
       " '6087953': [['grants2012/ipg120103.xml', 4720455]],\n",
       " '12407320': [['grants2012/ipg120103.xml', 5366269],\n",
       "  ['grants2012/ipg120103.xml', 5370264]],\n",
       " '2008/0201211': [['grants2012/ipg120103.xml', 5386252]],\n",
       " '4011567': [['grants2012/ipg120103.xml', 3771739]],\n",
       " '08087613': [['grants2012/ipg120103.xml', 713447]],\n",
       " '6104866': [['grants2012/ipg120103.xml', 4836051]],\n",
       " '2009/017419': [['grants2012/ipg120103.xml', 274473]],\n",
       " 'WO-98/51063': [['grants2012/ipg120103.xml', 4393078]],\n",
       " '5710922': [['grants2012/ipg120103.xml', 4695550]],\n",
       " '2007/0023375': [['grants2012/ipg120103.xml', 630374]],\n",
       " '5517024': [['grants2012/ipg120103.xml', 594250]],\n",
       " '6412838': [['grants2012/ipg120103.xml', 725687]],\n",
       " '0 319 043': [['grants2012/ipg120103.xml', 2871058]],\n",
       " '07/203849': [['grants2012/ipg120103.xml', 1682190]],\n",
       " 'PCT/JP2005/013413': [['grants2012/ipg120103.xml', 2185147]],\n",
       " '6-84326': [['grants2012/ipg120103.xml', 4820329]],\n",
       " '7113451': [['grants2012/ipg120103.xml', 1055106]],\n",
       " '1014881': [['grants2012/ipg120103.xml', 1654389]],\n",
       " '6176863': [['grants2012/ipg120103.xml', 1251533]],\n",
       " '4324102': [['grants2012/ipg120103.xml', 387393]],\n",
       " '6782488': [['grants2012/ipg120103.xml', 5794350]],\n",
       " 'WO 97/42253': [['grants2012/ipg120103.xml', 5493601]],\n",
       " '5644169': [['grants2012/ipg120103.xml', 3518823],\n",
       "  ['grants2012/ipg120103.xml', 3525689],\n",
       "  ['grants2012/ipg120103.xml', 3543549]],\n",
       " 'PCT/DE02/01120': [['grants2012/ipg120103.xml', 3879984]],\n",
       " '2005/0095023': [['grants2012/ipg120103.xml', 4865989]],\n",
       " '6420204': [['grants2012/ipg120103.xml', 3551733]],\n",
       " '2007/0217982': [['grants2012/ipg120103.xml', 1302112]],\n",
       " '2005/0203461': [['grants2012/ipg120103.xml', 3713297]],\n",
       " '7009250': [['grants2012/ipg120103.xml', 3498643]],\n",
       " '6975942': [['grants2012/ipg120103.xml', 3739164]],\n",
       " '2002/0091624': [['grants2012/ipg120103.xml', 5360362]],\n",
       " '08090131': [['grants2012/ipg120103.xml', 4700868]],\n",
       " '2010/0051078': [['grants2012/ipg120103.xml', 523759]],\n",
       " '5316993': [['grants2012/ipg120103.xml', 371934]],\n",
       " '5589297': [['grants2012/ipg120103.xml', 1787466]],\n",
       " '7374038': [['grants2012/ipg120103.xml', 623986]],\n",
       " '2008/0227863': [['grants2012/ipg120103.xml', 2642856]],\n",
       " '6302807': [['grants2012/ipg120103.xml', 1036881]],\n",
       " '2003/0006534': [['grants2012/ipg120103.xml', 555022]],\n",
       " '2007/0049274': [['grants2012/ipg120103.xml', 4982037]],\n",
       " '7434145': [['grants2012/ipg120103.xml', 5808700]],\n",
       " '02090089': [['grants2012/ipg120103.xml', 1731090]],\n",
       " '2004/0090959': [['grants2012/ipg120103.xml', 5640327]],\n",
       " '7383061': [['grants2012/ipg120103.xml', 5005671]],\n",
       " '5643799': [['grants2012/ipg120103.xml', 1407664]],\n",
       " '12550720': [['grants2012/ipg120103.xml', 347214]],\n",
       " '5283309': [['grants2012/ipg120103.xml', 1712306]],\n",
       " '5103306': [['grants2012/ipg120103.xml', 5732011]],\n",
       " '11143369': [['grants2012/ipg120103.xml', 1778806]],\n",
       " '2008/0205602': [['grants2012/ipg120103.xml', 5528012]],\n",
       " '10 2007 006 276': [['grants2012/ipg120103.xml', 1200826]],\n",
       " '20100034834': [['grants2012/ipg120103.xml', 1551262]],\n",
       " '2004/0168358': [['grants2012/ipg120103.xml', 3739381]],\n",
       " '2003/0236536': [['grants2012/ipg120103.xml', 1197704]],\n",
       " '2004/0198015': [['grants2012/ipg120103.xml', 2248799]],\n",
       " '6310655': [['grants2012/ipg120103.xml', 3773443]],\n",
       " '12802939': [['grants2012/ipg120103.xml', 347829]],\n",
       " '5519942': [['grants2012/ipg120103.xml', 333005]],\n",
       " '2010/0302471': [['grants2012/ipg120103.xml', 3937571]],\n",
       " '20060253037': [['grants2012/ipg120103.xml', 1216039]],\n",
       " '2005/0263465': [['grants2012/ipg120103.xml', 631744]],\n",
       " '6234236': [['grants2012/ipg120103.xml', 552054]],\n",
       " 'WO 95/27344': [['grants2012/ipg120103.xml', 3691765]],\n",
       " '5133360': [['grants2012/ipg120103.xml', 1104657]],\n",
       " '2004/0264396': [['grants2012/ipg120103.xml', 3712684],\n",
       "  ['grants2012/ipg120103.xml', 4331274]],\n",
       " '20070005786': [['grants2012/ipg120103.xml', 5601392]],\n",
       " '937726': [['grants2012/ipg120103.xml', 2444606]],\n",
       " '2006/0005860': [['grants2012/ipg120103.xml', 3967834]],\n",
       " 'D255786': [['grants2012/ipg120103.xml', 88232]],\n",
       " '6006225': [['grants2012/ipg120103.xml', 5432128]],\n",
       " '5856911': [['grants2012/ipg120103.xml', 3519243],\n",
       "  ['grants2012/ipg120103.xml', 3526157],\n",
       "  ['grants2012/ipg120103.xml', 3543993]],\n",
       " '7668990': [['grants2012/ipg120103.xml', 4893176]],\n",
       " '2004/0118744': [['grants2012/ipg120103.xml', 418928]],\n",
       " '7453324': [['grants2012/ipg120103.xml', 3662810]],\n",
       " '5923804': [['grants2012/ipg120103.xml', 873479]],\n",
       " '20100190264': [['grants2012/ipg120103.xml', 1924565]],\n",
       " '11261742': [['grants2012/ipg120103.xml', 1413838],\n",
       "  ['grants2012/ipg120103.xml', 1413874]],\n",
       " '2003/0101857': [['grants2012/ipg120103.xml', 544653]],\n",
       " '2003/0017264': [['grants2012/ipg120103.xml', 3318509]],\n",
       " '2009/0075672': [['grants2012/ipg120103.xml', 3749473],\n",
       "  ['grants2012/ipg120103.xml', 3752068],\n",
       "  ['grants2012/ipg120103.xml', 4970809]],\n",
       " '5846261': [['grants2012/ipg120103.xml', 1250597]],\n",
       " '295597': [['grants2012/ipg120103.xml', 927447]],\n",
       " '2006/0087630': [['grants2012/ipg120103.xml', 3967919]],\n",
       " 'WO 02/06970': [['grants2012/ipg120103.xml', 253066]],\n",
       " '6760241': [['grants2012/ipg120103.xml', 4175325]],\n",
       " '7211537': [['grants2012/ipg120103.xml', 2870150]],\n",
       " 'WO 99/09042': [['grants2012/ipg120103.xml', 2145053]],\n",
       " '1 268 170': [['grants2012/ipg120103.xml', 359083]],\n",
       " '5890159': [['grants2012/ipg120103.xml', 5468669]],\n",
       " '2010/0034529': [['grants2012/ipg120103.xml', 4732025],\n",
       "  ['grants2012/ipg120103.xml', 4842520]],\n",
       " 'WO 01/54314': [['grants2012/ipg120103.xml', 4548758]],\n",
       " '2006/0184679': [['grants2012/ipg120103.xml', 5423559]],\n",
       " '6966906': [['grants2012/ipg120103.xml', 1135863],\n",
       "  ['grants2012/ipg120103.xml', 5036759]],\n",
       " '5418357': [['grants2012/ipg120103.xml', 685597]],\n",
       " '60942242': [['grants2012/ipg120103.xml', 864804]],\n",
       " '2009/0079295': [['grants2012/ipg120103.xml', 3571915]],\n",
       " '7872816': [['grants2012/ipg120103.xml', 151926]],\n",
       " '2009/0090559': [['grants2012/ipg120103.xml', 2288535],\n",
       "  ['grants2012/ipg120103.xml', 2295374]],\n",
       " 'D312541': [['grants2012/ipg120103.xml', 28451]],\n",
       " '04 128275': [['grants2012/ipg120103.xml', 3119983]],\n",
       " '4295183': [['grants2012/ipg120103.xml', 4161258]],\n",
       " '6735845': [['grants2012/ipg120103.xml', 362162]],\n",
       " 'D384210': [['grants2012/ipg120103.xml', 17395]],\n",
       " '7144422': [['grants2012/ipg120103.xml', 1078055]],\n",
       " '4423791': [['grants2012/ipg120103.xml', 2286573],\n",
       "  ['grants2012/ipg120103.xml', 2293426]],\n",
       " '0 501 906': [['grants2012/ipg120103.xml', 3823342]],\n",
       " '5646603': [['grants2012/ipg120103.xml', 5319016]],\n",
       " '2003/0159048': [['grants2012/ipg120103.xml', 5757447]],\n",
       " '5298515': [['grants2012/ipg120103.xml', 2669591]],\n",
       " '5938803': [['grants2012/ipg120103.xml', 918671]],\n",
       " '20090062009': [['grants2012/ipg120103.xml', 1024372]],\n",
       " '5827531': [['grants2012/ipg120103.xml', 1665841]],\n",
       " '2005/0280569': [['grants2012/ipg120103.xml', 4221338]],\n",
       " '4129911': [['grants2012/ipg120103.xml', 750641]],\n",
       " '42 11 363': [['grants2012/ipg120103.xml', 1734215]],\n",
       " '20080155888': [['grants2012/ipg120103.xml', 2137166]],\n",
       " '3897899': [['grants2012/ipg120103.xml', 292897]],\n",
       " '7195640': [['grants2012/ipg120103.xml', 1078499],\n",
       "  ['grants2012/ipg120103.xml', 3354759]],\n",
       " '2005/0154764': [['grants2012/ipg120103.xml', 5298946]],\n",
       " '2006/0090082': [['grants2012/ipg120103.xml', 5640773]],\n",
       " '2005/0097455': [['grants2012/ipg120103.xml', 5600739]],\n",
       " '7497917': [['grants2012/ipg120103.xml', 666924]],\n",
       " '7240212': [['grants2012/ipg120103.xml', 5361046]],\n",
       " '2003/0187773': [['grants2012/ipg120103.xml', 4636563]],\n",
       " '4806437': [['grants2012/ipg120103.xml', 3564783]],\n",
       " '11201861': [['grants2012/ipg120103.xml', 354091],\n",
       "  ['grants2012/ipg120103.xml', 354529]],\n",
       " '5762987': [['grants2012/ipg120103.xml', 465598]],\n",
       " '11-226158': [['grants2012/ipg120103.xml', 1037425]],\n",
       " '20090242237': [['grants2012/ipg120103.xml', 956169]],\n",
       " '5759255': [['grants2012/ipg120103.xml', 1319264]],\n",
       " 'WO 95-27460': [['grants2012/ipg120103.xml', 1153085],\n",
       "  ['grants2012/ipg120103.xml', 1157260]],\n",
       " '5049979': [['grants2012/ipg120103.xml', 3536236]],\n",
       " '2003/0172768': [['grants2012/ipg120103.xml', 755853]],\n",
       " '0 289 208': [['grants2012/ipg120103.xml', 949288]],\n",
       " '2002/0095150': [['grants2012/ipg120103.xml', 1202756]],\n",
       " 'WO2007/119439': [['grants2012/ipg120103.xml', 1724943]],\n",
       " 'PCT/JP2008/050260': [['grants2012/ipg120103.xml', 3940053]],\n",
       " '5923013': [['grants2012/ipg120103.xml', 4014141]],\n",
       " '2002-16312': [['grants2012/ipg120103.xml', 3424159]],\n",
       " '05-279019': [['grants2012/ipg120103.xml', 1474747]],\n",
       " '2004/0094627': [['grants2012/ipg120103.xml', 689042]],\n",
       " '3899852': [['grants2012/ipg120103.xml', 978304],\n",
       "  ['grants2012/ipg120103.xml', 983346]],\n",
       " '7323492': [['grants2012/ipg120103.xml', 2375145]],\n",
       " '97151102 A': [['grants2012/ipg120103.xml', 3618143]],\n",
       " '7248138': [['grants2012/ipg120103.xml', 3679732]],\n",
       " '5315584': [['grants2012/ipg120103.xml', 4250328]],\n",
       " '7180248': [['grants2012/ipg120103.xml', 5213992]],\n",
       " 'D418573': [['grants2012/ipg120103.xml', 177774]],\n",
       " '08087714': [['grants2012/ipg120103.xml', 774122]],\n",
       " '2002/0025325': [['grants2012/ipg120103.xml', 1660719]],\n",
       " '4217618': [['grants2012/ipg120103.xml', 3885271]],\n",
       " '6923988': [['grants2012/ipg120103.xml', 2522519]],\n",
       " '2005/0204385': [['grants2012/ipg120103.xml', 4287541]],\n",
       " 'D502449': [['grants2012/ipg120103.xml', 962093]],\n",
       " '2006/0241056': [['grants2012/ipg120103.xml', 2348259]],\n",
       " '08088453': [['grants2012/ipg120103.xml', 1716254]],\n",
       " '2006/0230185': [['grants2012/ipg120103.xml', 4446258]],\n",
       " '2004/0138895': [['grants2012/ipg120103.xml', 5257289]],\n",
       " '5068923': [['grants2012/ipg120103.xml', 125400]],\n",
       " '20110047775': [['grants2012/ipg120103.xml', 288323]],\n",
       " '2004/0034467': [['grants2012/ipg120103.xml', 5142415]],\n",
       " '6523898': [['grants2012/ipg120103.xml', 782764]],\n",
       " '4942601': [['grants2012/ipg120103.xml', 4366701]],\n",
       " '4628437': [['grants2012/ipg120103.xml', 5064002]],\n",
       " '6627977': [['grants2012/ipg120103.xml', 3527645]],\n",
       " '11858947': [['grants2012/ipg120103.xml', 4748588]],\n",
       " '6721779': [['grants2012/ipg120103.xml', 5621975]],\n",
       " '5153457': [['grants2012/ipg120103.xml', 3658503]],\n",
       " '6615383': [['grants2012/ipg120103.xml', 5894085]],\n",
       " '2005/0204051': [['grants2012/ipg120103.xml', 5928761]],\n",
       " 'WO 97/00270': [['grants2012/ipg120103.xml', 1605914]],\n",
       " '5657641': [['grants2012/ipg120103.xml', 989199]],\n",
       " '6517036': [['grants2012/ipg120103.xml', 751441]],\n",
       " '4660671': [['grants2012/ipg120103.xml', 5124328]],\n",
       " '6213168': [['grants2012/ipg120103.xml', 1668161]],\n",
       " '6824995': [['grants2012/ipg120103.xml', 1384068]],\n",
       " '08088510': [['grants2012/ipg120103.xml', 1785483]],\n",
       " '6160549': [['grants2012/ipg120103.xml', 5846156]],\n",
       " '0817444': [['grants2012/ipg120103.xml', 5607096]],\n",
       " 'D0651707': [['grants2012/ipg120103.xml', 186970]],\n",
       " '4379753': [['grants2012/ipg120103.xml', 2303557]],\n",
       " '12129927': [['grants2012/ipg120103.xml', 4585405]],\n",
       " '7222084': [['grants2012/ipg120103.xml', 5430228]],\n",
       " '6564967': [['grants2012/ipg120103.xml', 646380]],\n",
       " '5986673': [['grants2012/ipg120103.xml', 5349974]],\n",
       " '5239841': [['grants2012/ipg120103.xml', 975600]],\n",
       " '5028569': [['grants2012/ipg120103.xml', 1192948]],\n",
       " 'D467466': [['grants2012/ipg120103.xml', 40135]],\n",
       " '5533305': [['grants2012/ipg120103.xml', 991051]],\n",
       " '5536641': [['grants2012/ipg120103.xml', 1068776]],\n",
       " '10-1996-0011358': [['grants2012/ipg120103.xml', 402738]],\n",
       " '7235983': [['grants2012/ipg120103.xml', 3644919]],\n",
       " '5835857': [['grants2012/ipg120103.xml', 4547017]],\n",
       " '5711448': [['grants2012/ipg120103.xml', 79152],\n",
       "  ['grants2012/ipg120103.xml', 82760]],\n",
       " '2002/0085647': [['grants2012/ipg120103.xml', 3703138]],\n",
       " '1 182 843': [['grants2012/ipg120103.xml', 4944013]],\n",
       " '7279635': [['grants2012/ipg120103.xml', 3331404]],\n",
       " '4278228': [['grants2012/ipg120103.xml', 1061358]],\n",
       " '3680366': [['grants2012/ipg120103.xml', 3906509]],\n",
       " '4187396': [['grants2012/ipg120103.xml', 5243540]],\n",
       " '5208610': [['grants2012/ipg120103.xml', 823638]],\n",
       " '2002/0155829': [['grants2012/ipg120103.xml', 4951237]],\n",
       " '2008/0255161': [['grants2012/ipg120103.xml', 2568921]],\n",
       " '2007/0269432': [['grants2012/ipg120103.xml', 2283915]],\n",
       " '5951582': [['grants2012/ipg120103.xml', 3706177]],\n",
       " '6454977': [['grants2012/ipg120103.xml', 1788128]],\n",
       " '0 911 153': [['grants2012/ipg120103.xml', 1850223]],\n",
       " 'WO 95/28634': [['grants2012/ipg120103.xml', 314883]],\n",
       " 'D590108': [['grants2012/ipg120103.xml', 216387]],\n",
       " '5751953': [['grants2012/ipg120103.xml', 5911897]],\n",
       " '6718309': [['grants2012/ipg120103.xml', 4673372]],\n",
       " '2004/0228203': [['grants2012/ipg120103.xml', 4183892],\n",
       "  ['grants2012/ipg120103.xml', 5691541]],\n",
       " '7298243': [['grants2012/ipg120103.xml', 159253],\n",
       "  ['grants2012/ipg120103.xml', 5760002]],\n",
       " '20090092107': [['grants2012/ipg120103.xml', 4372773]],\n",
       " '4210148': [['grants2012/ipg120103.xml', 1180868]],\n",
       " '03-044234': [['grants2012/ipg120103.xml', 4376872]],\n",
       " '6868319': [['grants2012/ipg120103.xml', 5101390]],\n",
       " '60-008485': [['grants2012/ipg120103.xml', 925810]],\n",
       " '2363064': [['grants2012/ipg120103.xml', 3022589]],\n",
       " 'WO2009/058128': [['grants2012/ipg120103.xml', 4137095]],\n",
       " '6563515': [['grants2012/ipg120103.xml', 5917116]],\n",
       " '6082674': [['grants2012/ipg120103.xml', 714869]],\n",
       " '2002/0147182': [['grants2012/ipg120103.xml', 2747528]],\n",
       " '6193342': [['grants2012/ipg120103.xml', 810514]],\n",
       " '2004/0226720': [['grants2012/ipg120103.xml', 584003]],\n",
       " '12344541': [['grants2012/ipg120103.xml', 3488515]],\n",
       " '60774123': [['grants2012/ipg120103.xml', 3402890]],\n",
       " '6372609': [['grants2012/ipg120103.xml', 2204214]],\n",
       " '5000901': [['grants2012/ipg120103.xml', 1122000]],\n",
       " '6789054': [['grants2012/ipg120103.xml', 5071740]],\n",
       " '2006/0278884': [['grants2012/ipg120103.xml', 3423296]],\n",
       " '4044333': [['grants2012/ipg120103.xml', 5780372]],\n",
       " '258863': [['grants2012/ipg120103.xml', 2660392]],\n",
       " '2008/0246887': [['grants2012/ipg120103.xml', 4362490]],\n",
       " '12158339': [['grants2012/ipg120103.xml', 2402630]],\n",
       " '20090138485': [['grants2012/ipg120103.xml', 5425141]],\n",
       " '2001353477': [['grants2012/ipg120103.xml', 274463]],\n",
       " '5660900': [['grants2012/ipg120103.xml', 933028]],\n",
       " '2002/0065891': [['grants2012/ipg120103.xml', 5524518]],\n",
       " '6439465': [['grants2012/ipg120103.xml', 4707947]],\n",
       " '2004/0015961': [['grants2012/ipg120103.xml', 5591141]],\n",
       " '6428413': [['grants2012/ipg120103.xml', 1003095]],\n",
       " '6683129': [['grants2012/ipg120103.xml', 1368774]],\n",
       " '2006/0004367': [['grants2012/ipg120103.xml', 1244969]],\n",
       " 'RE043062': [['grants2012/ipg120103.xml', 242677]],\n",
       " 'WO 97/19344': [['grants2012/ipg120103.xml', 314983]],\n",
       " '08087266': [['grants2012/ipg120103.xml', 402389]],\n",
       " '5386577': [['grants2012/ipg120103.xml', 695174]],\n",
       " '5164899': [['grants2012/ipg120103.xml', 5452366]],\n",
       " '12639106': [['grants2012/ipg120103.xml', 2832670]],\n",
       " '5233169': [['grants2012/ipg120103.xml', 685201]],\n",
       " '5890063': [['grants2012/ipg120103.xml', 244793]],\n",
       " 'WO 00/16105': [['grants2012/ipg120103.xml', 4822960]],\n",
       " '5276019': [['grants2012/ipg120103.xml', 2356032],\n",
       "  ['grants2012/ipg120103.xml', 3014644]],\n",
       " '5263675': [['grants2012/ipg120103.xml', 344566]],\n",
       " '5163055': [['grants2012/ipg120103.xml', 5064878]],\n",
       " 'RE043059': [['grants2012/ipg120103.xml', 240760]],\n",
       " '11155497': [['grants2012/ipg120103.xml', 4525606],\n",
       "  ['grants2012/ipg120103.xml', 4531239]],\n",
       " '2003-114884': [['grants2012/ipg120103.xml', 5816800]],\n",
       " '08-065269': [['grants2012/ipg120103.xml', 4376882]],\n",
       " '4710174': [['grants2012/ipg120103.xml', 1148899]],\n",
       " '7391735': [['grants2012/ipg120103.xml', 5646212]],\n",
       " '828 529': [['grants2012/ipg120103.xml', 466962]],\n",
       " 'D194037': [['grants2012/ipg120103.xml', 24400]],\n",
       " '5887758': [['grants2012/ipg120103.xml', 640257]],\n",
       " '7548565': [['grants2012/ipg120103.xml', 5917321]],\n",
       " '20080258462': [['grants2012/ipg120103.xml', 768409]],\n",
       " '6298992': [['grants2012/ipg120103.xml', 622111]],\n",
       " '6711433': [['grants2012/ipg120103.xml', 4744682],\n",
       "  ['grants2012/ipg120103.xml', 4754868]],\n",
       " '2323649': [['grants2012/ipg120103.xml', 892559]],\n",
       " '1057213': [['grants2012/ipg120103.xml', 1058604]],\n",
       " '2006-066213': [['grants2012/ipg120103.xml', 4865887]],\n",
       " '6223163': [['grants2012/ipg120103.xml', 5294026]],\n",
       " '2006/0263653': [['grants2012/ipg120103.xml', 1797688]],\n",
       " '6625214': [['grants2012/ipg120103.xml', 4521850],\n",
       "  ['grants2012/ipg120103.xml', 4534363]],\n",
       " '2846700': [['grants2012/ipg120103.xml', 32896]],\n",
       " '0 879 675': [['grants2012/ipg120103.xml', 5220749]],\n",
       " '4707724': [['grants2012/ipg120103.xml', 3517707],\n",
       "  ['grants2012/ipg120103.xml', 3524537],\n",
       "  ['grants2012/ipg120103.xml', 3542397]],\n",
       " '6738711': [['grants2012/ipg120103.xml', 4984019]],\n",
       " '5745366': [['grants2012/ipg120103.xml', 5097418]],\n",
       " '5019042': [['grants2012/ipg120103.xml', 1164938]],\n",
       " 'WO 2004/089214': [['grants2012/ipg120103.xml', 4733603],\n",
       "  ['grants2012/ipg120103.xml', 4844098]],\n",
       " 'D329011': [['grants2012/ipg120103.xml', 278272]],\n",
       " '2005/0113262': [['grants2012/ipg120103.xml', 2288328],\n",
       "  ['grants2012/ipg120103.xml', 2295155]],\n",
       " '2001/0045494': [['grants2012/ipg120103.xml', 4899040]],\n",
       " '1 082 963': [['grants2012/ipg120103.xml', 3049858]],\n",
       " 'A-1-272941': [['grants2012/ipg120103.xml', 3992105]],\n",
       " '6603744': [['grants2012/ipg120103.xml', 5596638],\n",
       "  ['grants2012/ipg120103.xml', 5675213]],\n",
       " '0 975 111': [['grants2012/ipg120103.xml', 5323256]],\n",
       " '4271554': [['grants2012/ipg120103.xml', 889358]],\n",
       " '2005/0086105': [['grants2012/ipg120103.xml', 5312202]],\n",
       " '7753513': [['grants2012/ipg120103.xml', 812027]],\n",
       " '3860754': [['grants2012/ipg120103.xml', 3840479]],\n",
       " '2004/0059036': [['grants2012/ipg120103.xml', 2847864]],\n",
       " '6080182': [['grants2012/ipg120103.xml', 1214129],\n",
       "  ['grants2012/ipg120103.xml', 1251305]],\n",
       " '5904210': [['grants2012/ipg120103.xml', 3738681]],\n",
       " '08089116': [['grants2012/ipg120103.xml', 3494182]],\n",
       " '2003/0100995': [['grants2012/ipg120103.xml', 5425471]],\n",
       " '5619399': [['grants2012/ipg120103.xml', 5726581]],\n",
       " '5959555': [['grants2012/ipg120103.xml', 4720335]],\n",
       " '5837391': [['grants2012/ipg120103.xml', 1770328]],\n",
       " '5634849': [['grants2012/ipg120103.xml', 5911819],\n",
       "  ['grants2012/ipg120103.xml', 5916597]],\n",
       " '6792475': [['grants2012/ipg120103.xml', 5550485]],\n",
       " '2004/0044766': [['grants2012/ipg120103.xml', 5600461]],\n",
       " 'D632684': [['grants2012/ipg120103.xml', 128790]],\n",
       " '6430160': [['grants2012/ipg120103.xml', 5603295]],\n",
       " '6091074': [['grants2012/ipg120103.xml', 1164398]],\n",
       " '4994135': [['grants2012/ipg120103.xml', 294157]],\n",
       " 'WO 2004/038980': [['grants2012/ipg120103.xml', 4325694]],\n",
       " '5901238': [['grants2012/ipg120103.xml', 4727508],\n",
       "  ['grants2012/ipg120103.xml', 4838008]],\n",
       " '2000-40808': [['grants2012/ipg120103.xml', 4197107]],\n",
       " '7441151': [['grants2012/ipg120103.xml', 3815541]],\n",
       " '2006/0100627': [['grants2012/ipg120103.xml', 1192126]],\n",
       " '12272606': [['grants2012/ipg120103.xml', 3524224]],\n",
       " '4862257': [['grants2012/ipg120103.xml', 4052664]],\n",
       " '2324721': [['grants2012/ipg120103.xml', 891255]],\n",
       " '7198338': [['grants2012/ipg120103.xml', 4147660]],\n",
       " '5100415': [['grants2012/ipg120103.xml', 1182836]],\n",
       " '2002/0049536': [['grants2012/ipg120103.xml', 5164951]],\n",
       " '2009/0062328': [['grants2012/ipg120103.xml', 2545326]],\n",
       " '2000-345979': [['grants2012/ipg120103.xml', 5513016]],\n",
       " '4600343': [['grants2012/ipg120103.xml', 892348]],\n",
       " '3762395': [['grants2012/ipg120103.xml', 526194]],\n",
       " '5855600': [['grants2012/ipg120103.xml', 1230840]],\n",
       " '2007/0085701': [['grants2012/ipg120103.xml', 5082233]],\n",
       " '11849033': [['grants2012/ipg120103.xml', 3326003],\n",
       "  ['grants2012/ipg120103.xml', 3326034]],\n",
       " '2007/0196047': [['grants2012/ipg120103.xml', 2146801]],\n",
       " '6690761': [['grants2012/ipg120103.xml', 5269283]],\n",
       " '2007/0005998': [['grants2012/ipg120103.xml', 4185372],\n",
       "  ['grants2012/ipg120103.xml', 5693007]],\n",
       " '6-229901': [['grants2012/ipg120103.xml', 440328]],\n",
       " '4600390': [['grants2012/ipg120103.xml', 1703696]],\n",
       " '6563617': [['grants2012/ipg120103.xml', 3784120]],\n",
       " '5695864': [['grants2012/ipg120103.xml', 4193211]],\n",
       " '2005/0075416': [['grants2012/ipg120103.xml', 1757137]],\n",
       " '5851978': [['grants2012/ipg120103.xml', 2303845]],\n",
       " '20080088728': [['grants2012/ipg120103.xml', 3918801]],\n",
       " '4914551': [['grants2012/ipg120103.xml', 4157056]],\n",
       " '5076337': [['grants2012/ipg120103.xml', 674086]],\n",
       " '6934755': [['grants2012/ipg120103.xml', 5570957],\n",
       "  ['grants2012/ipg120103.xml', 5596663]],\n",
       " '6344882': [['grants2012/ipg120103.xml', 5913668]],\n",
       " '6452923': [['grants2012/ipg120103.xml', 5649799]],\n",
       " '2009/0066230': [['grants2012/ipg120103.xml', 1419005]],\n",
       " '6753348': [['grants2012/ipg120103.xml', 2498245]],\n",
       " '2002/0138701': [['grants2012/ipg120103.xml', 5884080]],\n",
       " '2005/0137015': [['grants2012/ipg120103.xml', 1018632]],\n",
       " '6256365': [['grants2012/ipg120103.xml', 2374869]],\n",
       " '20100002403': [['grants2012/ipg120103.xml', 4160537]],\n",
       " '08088244': [['grants2012/ipg120103.xml', 1360075]],\n",
       " 'D589279': [['grants2012/ipg120103.xml', 49735]],\n",
       " '2003/0212686': [['grants2012/ipg120103.xml', 5895552]],\n",
       " '5517752': [['grants2012/ipg120103.xml', 951042]],\n",
       " '11-003849': [['grants2012/ipg120103.xml', 4031106]],\n",
       " '2011/0228420': [['grants2012/ipg120103.xml', 4219286]],\n",
       " '08087395': [['grants2012/ipg120103.xml', 500261]],\n",
       " '11894061': [['grants2012/ipg120103.xml', 1761377]],\n",
       " '6870828': [['grants2012/ipg120103.xml', 4633641],\n",
       "  ['grants2012/ipg120103.xml', 4634489]],\n",
       " '6604646': [['grants2012/ipg120103.xml', 637185]],\n",
       " '6843705': [['grants2012/ipg120103.xml', 976535]],\n",
       " '2009/0243651': [['grants2012/ipg120103.xml', 3655865]],\n",
       " '1471459': [['grants2012/ipg120103.xml', 3845703]],\n",
       " '7213146': [['grants2012/ipg120103.xml', 5871355]],\n",
       " '08088748': [['grants2012/ipg120103.xml', 2362794],\n",
       "  ['grants2012/ipg120103.xml', 2363216]],\n",
       " '4649364': [['grants2012/ipg120103.xml', 1447866]],\n",
       " '0070504': [['grants2012/ipg120103.xml', 4939006]],\n",
       " 'WO 95/06128': [['grants2012/ipg120103.xml', 3036421]],\n",
       " '6786955': [['grants2012/ipg120103.xml', 827213]],\n",
       " '5701294': [['grants2012/ipg120103.xml', 4353296]],\n",
       " '6976753': [['grants2012/ipg120103.xml', 823095]],\n",
       " '7553799': [['grants2012/ipg120103.xml', 1778812]],\n",
       " '2003/0024538': [['grants2012/ipg120103.xml', 1197548]],\n",
       " '6625315': [['grants2012/ipg120103.xml', 4802424]],\n",
       " '4467709': [['grants2012/ipg120103.xml', 511041]],\n",
       " '6113621': [['grants2012/ipg120103.xml', 1071045]],\n",
       " '20090252107': [['grants2012/ipg120103.xml', 4468666]],\n",
       " '103 58 344': [['grants2012/ipg120103.xml', 4459300]],\n",
       " '2007/0085726': [['grants2012/ipg120103.xml', 4305931]],\n",
       " '2006/0041906': [['grants2012/ipg120103.xml', 4824637]],\n",
       " '5898695': [['grants2012/ipg120103.xml', 4378057]],\n",
       " '6832140': [['grants2012/ipg120103.xml', 5141960]],\n",
       " 'D473529': [['grants2012/ipg120103.xml', 199833]],\n",
       " '6617598': [['grants2012/ipg120103.xml', 3388391]],\n",
       " '4640920': [['grants2012/ipg120103.xml', 2500913]],\n",
       " '2995023': [['grants2012/ipg120103.xml', 404239]],\n",
       " '6097985': [['grants2012/ipg120103.xml', 1168085]],\n",
       " '2008108856': [['grants2012/ipg120103.xml', 261327]],\n",
       " '1146380': [['grants2012/ipg120103.xml', 834173]],\n",
       " 'D2009/926/J': [['grants2012/ipg120103.xml', 103229]],\n",
       " '7124205': [['grants2012/ipg120103.xml', 5700340]],\n",
       " '4020179': [['grants2012/ipg120103.xml', 2729874]],\n",
       " '200828355': [['grants2012/ipg120103.xml', 1330074]],\n",
       " '5753959': [['grants2012/ipg120103.xml', 806261]],\n",
       " '7443835': [['grants2012/ipg120103.xml', 4947481]],\n",
       " '0340668': [['grants2012/ipg120103.xml', 5721122]],\n",
       " '4366307': [['grants2012/ipg120103.xml', 2839300]],\n",
       " '1045387': [['grants2012/ipg120103.xml', 5719988],\n",
       "  ['grants2012/ipg120103.xml', 5719998]],\n",
       " '20090012290': [['grants2012/ipg120103.xml', 2427248]],\n",
       " '5839910': [['grants2012/ipg120103.xml', 319768]],\n",
       " '5450504': [['grants2012/ipg120103.xml', 4796216]],\n",
       " '2004/0010778': [['grants2012/ipg120103.xml', 5228887]],\n",
       " '2005-200159': [['grants2012/ipg120103.xml', 876053]],\n",
       " '2004/0210184': [['grants2012/ipg120103.xml', 3712540]],\n",
       " '6867734': [['grants2012/ipg120103.xml', 3756672]],\n",
       " '5463736': [['grants2012/ipg120103.xml', 5424973]],\n",
       " '6843042': [['grants2012/ipg120103.xml', 1679126]],\n",
       " '5649205': [['grants2012/ipg120103.xml', 5848643]],\n",
       " '10901445': [['grants2012/ipg120103.xml', 689561],\n",
       "  ['grants2012/ipg120103.xml', 689597]],\n",
       " 'D564068': [['grants2012/ipg120103.xml', 181664]],\n",
       " '2003/0045845': [['grants2012/ipg120103.xml', 3213289]],\n",
       " '7783094': [['grants2012/ipg120103.xml', 5270183]],\n",
       " '6335950': [['grants2012/ipg120103.xml', 4528164]],\n",
       " 'D639144': [['grants2012/ipg120103.xml', 202066]],\n",
       " '11083937': [['grants2012/ipg120103.xml', 400376]],\n",
       " '2008/0233078': [['grants2012/ipg120103.xml', 1652189]],\n",
       " '2002/0194293': [['grants2012/ipg120103.xml', 5889454]],\n",
       " '2002/0008692': [['grants2012/ipg120103.xml', 3843839]],\n",
       " 'PCT/EP2006/005328': [['grants2012/ipg120103.xml', 5582299]],\n",
       " '7493659': [['grants2012/ipg120103.xml', 5940377]],\n",
       " '2005-252876': [['grants2012/ipg120103.xml', 5007555]],\n",
       " 'WO2010/024227': [['grants2012/ipg120103.xml', 2738122]],\n",
       " '6796898': [['grants2012/ipg120103.xml', 996798]],\n",
       " '1740183': [['grants2012/ipg120103.xml', 3184565]],\n",
       " '2008/0111501': [['grants2012/ipg120103.xml', 105228],\n",
       "  ['grants2012/ipg120103.xml', 107146],\n",
       "  ['grants2012/ipg120103.xml', 109064],\n",
       "  ['grants2012/ipg120103.xml', 110979],\n",
       "  ['grants2012/ipg120103.xml', 112897],\n",
       "  ['grants2012/ipg120103.xml', 114815],\n",
       "  ['grants2012/ipg120103.xml', 116730],\n",
       "  ['grants2012/ipg120103.xml', 118648],\n",
       "  ['grants2012/ipg120103.xml', 120566],\n",
       "  ['grants2012/ipg120103.xml', 122505]],\n",
       " '6104391': [['grants2012/ipg120103.xml', 3876366],\n",
       "  ['grants2012/ipg120103.xml', 5070042]],\n",
       " '2002/0132218': [['grants2012/ipg120103.xml', 163740]],\n",
       " '5800690': [['grants2012/ipg120103.xml', 2140749]],\n",
       " '20110044169': [['grants2012/ipg120103.xml', 4302585]],\n",
       " '7587508': [['grants2012/ipg120103.xml', 5633693]],\n",
       " '5569305': [['grants2012/ipg120103.xml', 1184864]],\n",
       " '7114652': [['grants2012/ipg120103.xml', 159133]],\n",
       " '6496122': [['grants2012/ipg120103.xml', 3812660],\n",
       "  ['grants2012/ipg120103.xml', 3842447]],\n",
       " '5722573': [['grants2012/ipg120103.xml', 255123]],\n",
       " '2001/0036302': [['grants2012/ipg120103.xml', 4744694]],\n",
       " '2004/0146560': [['grants2012/ipg120103.xml', 3534064]],\n",
       " '2004/0088359': [['grants2012/ipg120103.xml', 5522260]],\n",
       " '7085806': [['grants2012/ipg120103.xml', 5291002]],\n",
       " '6264034': [['grants2012/ipg120103.xml', 670680]],\n",
       " '20070123977': [['grants2012/ipg120103.xml', 1081786]],\n",
       " 'D512101': [['grants2012/ipg120103.xml', 78107]],\n",
       " '4646367': [['grants2012/ipg120103.xml', 260294]],\n",
       " 'D298940': [['grants2012/ipg120103.xml', 126877]],\n",
       " '12482085': [['grants2012/ipg120103.xml', 3582791]],\n",
       " '5501273': [['grants2012/ipg120103.xml', 420978]],\n",
       " '2003/0195517': [['grants2012/ipg120103.xml', 5023353]],\n",
       " '2004/0259040': [['grants2012/ipg120103.xml', 3967138],\n",
       "  ['grants2012/ipg120103.xml', 3970938]],\n",
       " '2006/0179391': [['grants2012/ipg120103.xml', 5586302]],\n",
       " '7334062': [['grants2012/ipg120103.xml', 5663252]],\n",
       " '2006103859': [['grants2012/ipg120103.xml', 876073]],\n",
       " '6285774': [['grants2012/ipg120103.xml', 4712428]],\n",
       " '1519311': [['grants2012/ipg120103.xml', 4712492]],\n",
       " '2004/0077408': [['grants2012/ipg120103.xml', 1006105]],\n",
       " 'D391991': [['grants2012/ipg120103.xml', 18397]],\n",
       " '08087619': [['grants2012/ipg120103.xml', 717097]],\n",
       " '5640960': [['grants2012/ipg120103.xml', 1093943]],\n",
       " '2001-263551': [['grants2012/ipg120103.xml', 4705723]],\n",
       " '2006/0069922': [['grants2012/ipg120103.xml', 4940277],\n",
       "  ['grants2012/ipg120103.xml', 5315172]],\n",
       " '2002-92214': [['grants2012/ipg120103.xml', 5815908]],\n",
       " '2003/0043766': [['grants2012/ipg120103.xml', 3670566]],\n",
       " '6547903': [['grants2012/ipg120103.xml', 1374090]],\n",
       " '7959551': [['grants2012/ipg120103.xml', 1067484],\n",
       "  ['grants2012/ipg120103.xml', 1067588]],\n",
       " '3565303': [['grants2012/ipg120103.xml', 661818]],\n",
       " '5266782': [['grants2012/ipg120103.xml', 5366773]],\n",
       " '2002-216360': [['grants2012/ipg120103.xml', 4669033]],\n",
       " '2006/0204784': [['grants2012/ipg120103.xml', 1771121]],\n",
       " 'WO 2006/016294': [['grants2012/ipg120103.xml', 3574470]],\n",
       " '6134448': [['grants2012/ipg120103.xml', 4454893]],\n",
       " '7474916': [['grants2012/ipg120103.xml', 5042898]],\n",
       " '2005/0044064': [['grants2012/ipg120103.xml', 5480219]],\n",
       " '12455450': [['grants2012/ipg120103.xml', 628560]],\n",
       " '2007/0026297': [['grants2012/ipg120103.xml', 5015529]],\n",
       " '5436634': [['grants2012/ipg120103.xml', 3788145]],\n",
       " '5563883': [['grants2012/ipg120103.xml', 5625154]],\n",
       " '4440679': [['grants2012/ipg120103.xml', 1669402]],\n",
       " '2003/0208520': [['grants2012/ipg120103.xml', 5902164]],\n",
       " '4330338': [['grants2012/ipg120103.xml', 1666778]],\n",
       " '5518486': [['grants2012/ipg120103.xml', 1061821]],\n",
       " '2002/0168761': [['grants2012/ipg120103.xml', 2465129]],\n",
       " '2002/0147803': [['grants2012/ipg120103.xml', 5923769]],\n",
       " '2006 2 0054312 U': [['grants2012/ipg120103.xml', 726319]],\n",
       " '3906758': [['grants2012/ipg120103.xml', 408054]],\n",
       " '6201799': [['grants2012/ipg120103.xml', 4494517]],\n",
       " '4604529': [['grants2012/ipg120103.xml', 1796132]],\n",
       " '4806590': [['grants2012/ipg120103.xml', 2839444]],\n",
       " '5248873': [['grants2012/ipg120103.xml', 3637965],\n",
       "  ['grants2012/ipg120103.xml', 3642986],\n",
       "  ['grants2012/ipg120103.xml', 3825313],\n",
       "  ['grants2012/ipg120103.xml', 3851816]],\n",
       " '4067651': [['grants2012/ipg120103.xml', 3980868]],\n",
       " '5540457': [['grants2012/ipg120103.xml', 755729]],\n",
       " '1205246': [['grants2012/ipg120103.xml', 538097]],\n",
       " '20090192112': [['grants2012/ipg120103.xml', 2364395]],\n",
       " '3099398': [['grants2012/ipg120103.xml', 5579031]],\n",
       " '6510907': [['grants2012/ipg120103.xml', 596986]],\n",
       " '2009/0105173': [['grants2012/ipg120103.xml', 5175716]],\n",
       " '2001326160': [['grants2012/ipg120103.xml', 3979056]],\n",
       " '5476704': [['grants2012/ipg120103.xml', 1357948]],\n",
       " 'WO 2010122340': [['grants2012/ipg120103.xml', 2504241]],\n",
       " '2844173': [['grants2012/ipg120103.xml', 539333]],\n",
       " '7184426': [['grants2012/ipg120103.xml', 4357221]],\n",
       " '7337337': [['grants2012/ipg120103.xml', 5588566]],\n",
       " '5182199': [['grants2012/ipg120103.xml', 1973385]],\n",
       " 'D0651694': [['grants2012/ipg120103.xml', 182565]],\n",
       " '2008/0182139': [['grants2012/ipg120103.xml', 1798436]],\n",
       " '5020194': [['grants2012/ipg120103.xml', 867796]],\n",
       " '20070295768': [['grants2012/ipg120103.xml', 658802]],\n",
       " '5660454': [['grants2012/ipg120103.xml', 4719795]],\n",
       " '1 353 283': [['grants2012/ipg120103.xml', 406186]],\n",
       " '2007/0165007': [['grants2012/ipg120103.xml', 3844871]],\n",
       " '4741307': [['grants2012/ipg120103.xml', 500835]],\n",
       " '2002/0061564': [['grants2012/ipg120103.xml', 1996050]],\n",
       " '5576090': [['grants2012/ipg120103.xml', 1151643],\n",
       "  ['grants2012/ipg120103.xml', 1155818]],\n",
       " '6700488': [['grants2012/ipg120103.xml', 3700892]],\n",
       " '1563704': [['grants2012/ipg120103.xml', 281317]],\n",
       " '10-65780': [['grants2012/ipg120103.xml', 877976]],\n",
       " 'PCT/CN2005/000872': [['grants2012/ipg120103.xml', 3685156]],\n",
       " '6273671': [['grants2012/ipg120103.xml', 905606]],\n",
       " '2005/0073849': [['grants2012/ipg120103.xml', 965515]],\n",
       " '5318567': [['grants2012/ipg120103.xml', 1256250]],\n",
       " '5545228': [['grants2012/ipg120103.xml', 1184756]],\n",
       " 'D393193': [['grants2012/ipg120103.xml', 58094]],\n",
       " '2008/0027342': [['grants2012/ipg120103.xml', 1090361]],\n",
       " '08089078': [['grants2012/ipg120103.xml', 3408638]],\n",
       " 'D533206': [['grants2012/ipg120103.xml', 152429],\n",
       "  ['grants2012/ipg120103.xml', 153826]],\n",
       " 'D323369': [['grants2012/ipg120103.xml', 168853]],\n",
       " '5797876': [['grants2012/ipg120103.xml', 1122867]],\n",
       " '5796366': [['grants2012/ipg120103.xml', 3763289]],\n",
       " '7554237': [['grants2012/ipg120103.xml', 5109693]],\n",
       " '2009/0043374': [['grants2012/ipg120103.xml', 3362903]],\n",
       " '1 376 410': [['grants2012/ipg120103.xml', 5659628]],\n",
       " '6199073': [['grants2012/ipg120103.xml', 681135]],\n",
       " '1783364': [['grants2012/ipg120103.xml', 379292]],\n",
       " '2 206.240': [['grants2012/ipg120103.xml', 297738]],\n",
       " '2008/0151814': [['grants2012/ipg120103.xml', 4331634]],\n",
       " '5737529': [['grants2012/ipg120103.xml', 5067819]],\n",
       " '6813243': [['grants2012/ipg120103.xml', 5699728]],\n",
       " '7328752': [['grants2012/ipg120103.xml', 702971]],\n",
       " '2010/0101356': [['grants2012/ipg120103.xml', 149101],\n",
       "  ['grants2012/ipg120103.xml', 149617]],\n",
       " '5471470': [['grants2012/ipg120103.xml', 4390499]],\n",
       " '2001-312116': [['grants2012/ipg120103.xml', 4888511]],\n",
       " '10104663': [['grants2012/ipg120103.xml', 1138850],\n",
       "  ['grants2012/ipg120103.xml', 5039761]],\n",
       " '12164259': [['grants2012/ipg120103.xml', 4373346]],\n",
       " '4841975': [['grants2012/ipg120103.xml', 1259613]],\n",
       " '5526287': [['grants2012/ipg120103.xml', 5066487]],\n",
       " '10-2006-0030661': [['grants2012/ipg120103.xml', 5256576]],\n",
       " '0956680': [['grants2012/ipg120103.xml', 5578745]],\n",
       " '6151600': [['grants2012/ipg120103.xml', 5321053]],\n",
       " 'WO 2004/069803': [['grants2012/ipg120103.xml', 2465711]],\n",
       " '0 663 412': [['grants2012/ipg120103.xml', 1763024]],\n",
       " '4235679': [['grants2012/ipg120103.xml', 1374974]],\n",
       " '5238369': [['grants2012/ipg120103.xml', 4132997]],\n",
       " '12655155': [['grants2012/ipg120103.xml', 5057526],\n",
       "  ['grants2012/ipg120103.xml', 5058308]],\n",
       " '5889215': [['grants2012/ipg120103.xml', 434953]],\n",
       " '6650616': [['grants2012/ipg120103.xml', 4577987]],\n",
       " '6910003': [['grants2012/ipg120103.xml', 5447196]],\n",
       " '5779654': [['grants2012/ipg120103.xml', 1198893]],\n",
       " 'WO 93/20188': [['grants2012/ipg120103.xml', 3033878]],\n",
       " '6831099': [['grants2012/ipg120103.xml', 2348029]],\n",
       " '4712537': [['grants2012/ipg120103.xml', 1163232]],\n",
       " '6319979': [['grants2012/ipg120103.xml', 2866454]],\n",
       " 'D90881': [['grants2012/ipg120103.xml', 199202]],\n",
       " '10647923': [['grants2012/ipg120103.xml', 5242368]],\n",
       " 'WO 2005/054491': [['grants2012/ipg120103.xml', 1996237]],\n",
       " '5923270': [['grants2012/ipg120103.xml', 896549],\n",
       "  ['grants2012/ipg120103.xml', 5114283]],\n",
       " '2003/0235555': [['grants2012/ipg120103.xml', 2150317]],\n",
       " '4888557': [['grants2012/ipg120103.xml', 3744130],\n",
       "  ['grants2012/ipg120103.xml', 4903805]],\n",
       " '5464861': [['grants2012/ipg120103.xml', 2434354]],\n",
       " '2008/0274229': [['grants2012/ipg120103.xml', 936807]],\n",
       " '2003/0083973': [['grants2012/ipg120103.xml', 5355147]],\n",
       " '5287477': [['grants2012/ipg120103.xml', 5697352]],\n",
       " '3353749': [['grants2012/ipg120103.xml', 698317]],\n",
       " '3474241': [['grants2012/ipg120103.xml', 3805712]],\n",
       " '6265466': [['grants2012/ipg120103.xml', 1441982]],\n",
       " '6619866': [['grants2012/ipg120103.xml', 4858838]],\n",
       " '7492602': [['grants2012/ipg120103.xml', 4159818]],\n",
       " '6151609': [['grants2012/ipg120103.xml', 5748760]],\n",
       " '5724909': [['grants2012/ipg120103.xml', 201130]],\n",
       " 'D482405': [['grants2012/ipg120103.xml', 201377]],\n",
       " 'PCT/JP2007/073539': [['grants2012/ipg120103.xml', 823352]],\n",
       " '5913692': [['grants2012/ipg120103.xml', 66064]],\n",
       " '2009/0153659': [['grants2012/ipg120103.xml', 4749769]],\n",
       " '6781456': [['grants2012/ipg120103.xml', 3833066]],\n",
       " '08087805': [['grants2012/ipg120103.xml', 856356]],\n",
       " '7296535': [['grants2012/ipg120103.xml', 490932]],\n",
       " '2010/0296913': [['grants2012/ipg120103.xml', 901774]],\n",
       " '6311954': [['grants2012/ipg120103.xml', 762388]],\n",
       " '5696270': [['grants2012/ipg120103.xml', 2449703]],\n",
       " '4817947': [['grants2012/ipg120103.xml', 997432]],\n",
       " '2006/0067047': [['grants2012/ipg120103.xml', 4154043]],\n",
       " '2005-244538': [['grants2012/ipg120103.xml', 4647968]],\n",
       " '2004/0259355': [['grants2012/ipg120103.xml', 2248811]],\n",
       " '2011/0040780': [['grants2012/ipg120103.xml', 682027]],\n",
       " '7412459': [['grants2012/ipg120103.xml', 5719639]],\n",
       " '5264267': [['grants2012/ipg120103.xml', 12997]],\n",
       " '2006/0264256': [['grants2012/ipg120103.xml', 1025006]],\n",
       " '6245107': [['grants2012/ipg120103.xml', 1251737]],\n",
       " '5907436': [['grants2012/ipg120103.xml', 4053000]],\n",
       " '7165140': [['grants2012/ipg120103.xml', 5706279]],\n",
       " '4944654': [['grants2012/ipg120103.xml', 639992]],\n",
       " 'D173699': [['grants2012/ipg120103.xml', 5064],\n",
       "  ['grants2012/ipg120103.xml', 5689],\n",
       "  ['grants2012/ipg120103.xml', 6313],\n",
       "  ['grants2012/ipg120103.xml', 6929],\n",
       "  ['grants2012/ipg120103.xml', 7644]],\n",
       " '2003-275170': [['grants2012/ipg120103.xml', 3891571]],\n",
       " '6171303': [['grants2012/ipg120103.xml', 1134351],\n",
       "  ['grants2012/ipg120103.xml', 5035246]],\n",
       " '20050086375': [['grants2012/ipg120103.xml', 5645129]],\n",
       " '20090048204': [['grants2012/ipg120103.xml', 2784146]],\n",
       " '2002/0178299': [['grants2012/ipg120103.xml', 5895204]],\n",
       " '7580581': [['grants2012/ipg120103.xml', 4005972]],\n",
       " '6981031': [['grants2012/ipg120103.xml', 5598126]],\n",
       " 'D455463': [['grants2012/ipg120103.xml', 170135]],\n",
       " '6766817': [['grants2012/ipg120103.xml', 2142933],\n",
       "  ['grants2012/ipg120103.xml', 4228393]],\n",
       " '08087193': [['grants2012/ipg120103.xml', 342332]],\n",
       " '281137': [['grants2012/ipg120103.xml', 588558]],\n",
       " '2003-313126': [['grants2012/ipg120103.xml', 2465367]],\n",
       " '2005-39890': [['grants2012/ipg120103.xml', 4866775]],\n",
       " '2002/0006196': [['grants2012/ipg120103.xml', 4670724]],\n",
       " '2002/0138361': [['grants2012/ipg120103.xml', 5375089]],\n",
       " '7176726': [['grants2012/ipg120103.xml', 3660539]],\n",
       " '2003/0072475': [['grants2012/ipg120103.xml', 4729959],\n",
       "  ['grants2012/ipg120103.xml', 4840492]],\n",
       " '5297148': [['grants2012/ipg120103.xml', 5669596]],\n",
       " 'RE40368': [['grants2012/ipg120103.xml', 3843647]],\n",
       " '7089092': [['grants2012/ipg120103.xml', 3936379]],\n",
       " '4264921': [['grants2012/ipg120103.xml', 4002485]],\n",
       " '6417914': [['grants2012/ipg120103.xml', 3966417]],\n",
       " '2004/0072358': [['grants2012/ipg120103.xml', 1123613],\n",
       "  ['grants2012/ipg120103.xml', 5019471]],\n",
       " '20100157486': [['grants2012/ipg120103.xml', 4134102]],\n",
       " '7099169': [['grants2012/ipg120103.xml', 4169376]],\n",
       " '2006-039698': [['grants2012/ipg120103.xml', 5166050]],\n",
       " '6966931': [['grants2012/ipg120103.xml', 1253777]],\n",
       " '5588625': [['grants2012/ipg120103.xml', 723181]],\n",
       " '5303198': [['grants2012/ipg120103.xml', 5669608]],\n",
       " '2002/0070099': [['grants2012/ipg120103.xml', 508623]],\n",
       " '5765095': [['grants2012/ipg120103.xml', 446434]],\n",
       " '5949773': [['grants2012/ipg120103.xml', 4949648]],\n",
       " '2009/0141673': [['grants2012/ipg120103.xml', 4316971]],\n",
       " '11126255': [['grants2012/ipg120103.xml', 3928765]],\n",
       " '6997518': [['grants2012/ipg120103.xml', 573099]],\n",
       " '6341236': [['grants2012/ipg120103.xml', 1168501]],\n",
       " '1371596': [['grants2012/ipg120103.xml', 614061]],\n",
       " '2005/0078613': [['grants2012/ipg120103.xml', 4639085]],\n",
       " '2009/0279593': [['grants2012/ipg120103.xml', 4899972],\n",
       "  ['grants2012/ipg120103.xml', 4900424],\n",
       "  ['grants2012/ipg120103.xml', 4900856]],\n",
       " '5359706': [['grants2012/ipg120103.xml', 3878068]],\n",
       " '6200338': [['grants2012/ipg120103.xml', 1235213]],\n",
       " '5119832': [['grants2012/ipg120103.xml', 1160868]],\n",
       " 'D501446': [['grants2012/ipg120103.xml', 94887]],\n",
       " '2003/0149272': [['grants2012/ipg120103.xml', 2907615]],\n",
       " '5702397': [['grants2012/ipg120103.xml', 1175607],\n",
       "  ['grants2012/ipg120103.xml', 1185597],\n",
       "  ['grants2012/ipg120103.xml', 1223376]],\n",
       " '2006/0097227': [['grants2012/ipg120103.xml', 1771073]],\n",
       " '08090963': [['grants2012/ipg120103.xml', 5768431]],\n",
       " '6647857': [['grants2012/ipg120103.xml', 460715]],\n",
       " '2005/0004658': [['grants2012/ipg120103.xml', 1232425]],\n",
       " '2010/0235004': [['grants2012/ipg120103.xml', 5102000]],\n",
       " '1231090': [['grants2012/ipg120103.xml', 1351165]],\n",
       " '6633952': [['grants2012/ipg120103.xml', 5699140]],\n",
       " '2007/0079012': [['grants2012/ipg120103.xml', 5078221]],\n",
       " '4729727': [['grants2012/ipg120103.xml', 927499]],\n",
       " '5728960': [['grants2012/ipg120103.xml', 3320840]],\n",
       " '2010/0272282': [['grants2012/ipg120103.xml', 4677252]],\n",
       " '2005/0181079': [['grants2012/ipg120103.xml', 1681895]],\n",
       " 'D612316': [['grants2012/ipg120103.xml', 92746]],\n",
       " '2004/0158308': [['grants2012/ipg120103.xml', 3357462]],\n",
       " 'WO 99/33613': [['grants2012/ipg120103.xml', 1415255]],\n",
       " '2009-139560': [['grants2012/ipg120103.xml', 803799]],\n",
       " '6429508': [['grants2012/ipg120103.xml', 3520096],\n",
       "  ['grants2012/ipg120103.xml', 3527237],\n",
       "  ['grants2012/ipg120103.xml', 3544930]],\n",
       " '6443594': [['grants2012/ipg120103.xml', 960605]],\n",
       " '6086740': [['grants2012/ipg120103.xml', 2141829]],\n",
       " '2003/0027558': [['grants2012/ipg120103.xml', 5149327]],\n",
       " '2003/0048571': [['grants2012/ipg120103.xml', 5705703]],\n",
       " '08087747': [['grants2012/ipg120103.xml', 800576]],\n",
       " 'WO2007061638': [['grants2012/ipg120103.xml', 965799]],\n",
       " '3496217': [['grants2012/ipg120103.xml', 3181697]],\n",
       " '4890886': [['grants2012/ipg120103.xml', 782174]],\n",
       " '6842606': [['grants2012/ipg120103.xml', 5011565]],\n",
       " '6988806': [['grants2012/ipg120103.xml', 3936355]],\n",
       " '6601238': [['grants2012/ipg120103.xml', 5913044]],\n",
       " '20110070690': [['grants2012/ipg120103.xml', 2182369]],\n",
       " '4836024': [['grants2012/ipg120103.xml', 5274283]],\n",
       " '7532020': [['grants2012/ipg120103.xml', 3648838]],\n",
       " '2005/0133066': [['grants2012/ipg120103.xml', 2249932]],\n",
       " '2003/0198647': [['grants2012/ipg120103.xml', 3033735]],\n",
       " 'WO2007/005898': [['grants2012/ipg120103.xml', 1579688]],\n",
       " '4763712': [['grants2012/ipg120103.xml', 550828]],\n",
       " '6370448': [['grants2012/ipg120103.xml', 5071030]],\n",
       " '5584523': [['grants2012/ipg120103.xml', 336533]],\n",
       " '5187797': [['grants2012/ipg120103.xml', 695090]],\n",
       " '7577529': [['grants2012/ipg120103.xml', 5167802]],\n",
       " '8-232981': [['grants2012/ipg120103.xml', 618157]],\n",
       " '5304181': [['grants2012/ipg120103.xml', 1260393]],\n",
       " '7928378': [['grants2012/ipg120103.xml', 3381278]],\n",
       " 'D589439': [['grants2012/ipg120103.xml', 97120]],\n",
       " '2004/0201683': [['grants2012/ipg120103.xml', 4009078]],\n",
       " '6112821': [['grants2012/ipg120103.xml', 587500]],\n",
       " '3628057': [['grants2012/ipg120103.xml', 4247291]],\n",
       " '2002/0100040': [['grants2012/ipg120103.xml', 1018440]],\n",
       " '7130072': [['grants2012/ipg120103.xml', 4005881]],\n",
       " '2005/0031176': [['grants2012/ipg120103.xml', 5026044]],\n",
       " '2006/0186859': [['grants2012/ipg120103.xml', 3718669]],\n",
       " '7621822': [['grants2012/ipg120103.xml', 1037156]],\n",
       " '08089574': [['grants2012/ipg120103.xml', 3940342]],\n",
       " '2001112806': [['grants2012/ipg120103.xml', 4526106],\n",
       "  ['grants2012/ipg120103.xml', 4531719]],\n",
       " '20040222539': [['grants2012/ipg120103.xml', 1433167]],\n",
       " '6491634': [['grants2012/ipg120103.xml', 1092234]],\n",
       " '5991465': [['grants2012/ipg120103.xml', 3783415]],\n",
       " '5530203': [['grants2012/ipg120103.xml', 3333980]],\n",
       " '2004/0037373': [['grants2012/ipg120103.xml', 5795320]],\n",
       " 'D155422': [['grants2012/ipg120103.xml', 36127]],\n",
       " '2009/0145598': [['grants2012/ipg120103.xml', 574484]],\n",
       " '2005/0071265': [['grants2012/ipg120103.xml', 5353173]],\n",
       " 'WO 99/20049': [['grants2012/ipg120103.xml', 5911254]],\n",
       " '7686619': [['grants2012/ipg120103.xml', 4158546]],\n",
       " '2006/0240822': [['grants2012/ipg120103.xml', 4926755],\n",
       "  ['grants2012/ipg120103.xml', 4929276]],\n",
       " '5920061': [['grants2012/ipg120103.xml', 686593]],\n",
       " '6387113': [['grants2012/ipg120103.xml', 1188321]],\n",
       " '5617131': [['grants2012/ipg120103.xml', 4847156]],\n",
       " '3707888': [['grants2012/ipg120103.xml', 598704]],\n",
       " 'PCT/US2004/013364': [['grants2012/ipg120103.xml', 1451446]],\n",
       " '6590860': [['grants2012/ipg120103.xml', 4503501]],\n",
       " '2152227': [['grants2012/ipg120103.xml', 4000209]],\n",
       " '1487364': [['grants2012/ipg120103.xml', 4679476]],\n",
       " '6968206': [['grants2012/ipg120103.xml', 4984356]],\n",
       " '5990982': [['grants2012/ipg120103.xml', 3783402]],\n",
       " '5646269': [['grants2012/ipg120103.xml', 2356872],\n",
       "  ['grants2012/ipg120103.xml', 3015496]],\n",
       " '20090049781': [['grants2012/ipg120103.xml', 353025]],\n",
       " 'A-10-340846': [['grants2012/ipg120103.xml', 3968650],\n",
       "  ['grants2012/ipg120103.xml', 3971711]],\n",
       " '5414750': [['grants2012/ipg120103.xml', 5552639]],\n",
       " '2002/0122514': [['grants2012/ipg120103.xml', 4613386]],\n",
       " '08087371': [['grants2012/ipg120103.xml', 482485]],\n",
       " '03/035131': [['grants2012/ipg120103.xml', 3364877]],\n",
       " '7320170': [['grants2012/ipg120103.xml', 306115]],\n",
       " '4709728': [['grants2012/ipg120103.xml', 3856331]],\n",
       " '2006/0120726': [['grants2012/ipg120103.xml', 3803528]],\n",
       " 'A 2006-165500': [['grants2012/ipg120103.xml', 3964600]],\n",
       " '6242281': [['grants2012/ipg120103.xml', 3519628],\n",
       "  ['grants2012/ipg120103.xml', 3526637],\n",
       "  ['grants2012/ipg120103.xml', 3544414]],\n",
       " '2006/0100666': [['grants2012/ipg120103.xml', 1172284]],\n",
       " '2004/0095900': [['grants2012/ipg120103.xml', 5640339]],\n",
       " '5121045': [['grants2012/ipg120103.xml', 3621407]],\n",
       " '7746926': [['grants2012/ipg120103.xml', 4166512]],\n",
       " '7353055': [['grants2012/ipg120103.xml', 1123347]],\n",
       " '2006/0154994': [['grants2012/ipg120103.xml', 558854]],\n",
       " '2004/0255135': [['grants2012/ipg120103.xml', 4697677],\n",
       "  ['grants2012/ipg120103.xml', 5516302]],\n",
       " '2002/0018598': [['grants2012/ipg120103.xml', 3893170]],\n",
       " '12072651': [['grants2012/ipg120103.xml', 1934077]],\n",
       " '2005/0042554': [['grants2012/ipg120103.xml', 3967258]],\n",
       " '5623138': [['grants2012/ipg120103.xml', 5006287]],\n",
       " '4880839': [['grants2012/ipg120103.xml', 2792394]],\n",
       " '2005/0255840': [['grants2012/ipg120103.xml', 4731713],\n",
       "  ['grants2012/ipg120103.xml', 4842220]],\n",
       " '557225': [['grants2012/ipg120103.xml', 1024283]],\n",
       " '5866650': [['grants2012/ipg120103.xml', 2886704]],\n",
       " '6173275': [['grants2012/ipg120103.xml', 5457472]],\n",
       " '2007/0156034': [['grants2012/ipg120103.xml', 5018733]],\n",
       " '6303268': [['grants2012/ipg120103.xml', 1818941]],\n",
       " '2002-062491': [['grants2012/ipg120103.xml', 4822770]],\n",
       " '4789368': [['grants2012/ipg120103.xml', 202692]],\n",
       " 'WO 2007/050479': [['grants2012/ipg120103.xml', 574835]],\n",
       " '2778101': [['grants2012/ipg120103.xml', 413013]],\n",
       " '6339849': [['grants2012/ipg120103.xml', 260540]],\n",
       " '7183610': [['grants2012/ipg120103.xml', 3502427]],\n",
       " 'WO 2009/009756': [['grants2012/ipg120103.xml', 1124730]],\n",
       " '0610989': [['grants2012/ipg120103.xml', 4496676]],\n",
       " '6405066': [['grants2012/ipg120103.xml', 3707413]],\n",
       " '7046911': [['grants2012/ipg120103.xml', 5417610]],\n",
       " '6745221': [['grants2012/ipg120103.xml', 5310902]],\n",
       " '29385133': [['grants2012/ipg120103.xml', 111276],\n",
       "  ['grants2012/ipg120103.xml', 113078]],\n",
       " '5602987': [['grants2012/ipg120103.xml', 5670448]],\n",
       " '2011/0263393': [['grants2012/ipg120103.xml', 174744]],\n",
       " '8083877': [['grants2012/ipg120103.xml', 3521096],\n",
       "  ['grants2012/ipg120103.xml', 3529244],\n",
       "  ['grants2012/ipg120103.xml', 3546493]],\n",
       " '09880268': [['grants2012/ipg120103.xml', 5653171],\n",
       "  ['grants2012/ipg120103.xml', 5653202]],\n",
       " '2006-028107': [['grants2012/ipg120103.xml', 1280123]],\n",
       " '2003/0014368': [['grants2012/ipg120103.xml', 5658392]],\n",
       " '2003-171264': [['grants2012/ipg120103.xml', 2312852]],\n",
       " '4323755': [['grants2012/ipg120103.xml', 319372]],\n",
       " '2004/0177859': [['grants2012/ipg120103.xml', 205025]],\n",
       " '08088955': [['grants2012/ipg120103.xml', 3201594]],\n",
       " '6483938': [['grants2012/ipg120103.xml', 4772304]],\n",
       " '09953499': [['grants2012/ipg120103.xml', 1598056],\n",
       "  ['grants2012/ipg120103.xml', 1598155],\n",
       "  ['grants2012/ipg120103.xml', 1598185]],\n",
       " '4537234': [['grants2012/ipg120103.xml', 536472]],\n",
       " '2009/0124611': [['grants2012/ipg120103.xml', 2545398]],\n",
       " '4969598': [['grants2012/ipg120103.xml', 3856787]],\n",
       " '5623644': [['grants2012/ipg120103.xml', 239936]],\n",
       " '2004/0166802': [['grants2012/ipg120103.xml', 4337778]],\n",
       " '08089068': [['grants2012/ipg120103.xml', 3400384]],\n",
       " '1 431 190': [['grants2012/ipg120103.xml', 634065]],\n",
       " '3857572': [['grants2012/ipg120103.xml', 765739]],\n",
       " '2006/0189275': [['grants2012/ipg120103.xml', 4548410]],\n",
       " '2004/0016879': [['grants2012/ipg120103.xml', 4229127]],\n",
       " '7051080': [['grants2012/ipg120103.xml', 5657204]],\n",
       " '2006/0187715': [['grants2012/ipg120103.xml', 5777165]],\n",
       " '2004/0092909': [['grants2012/ipg120103.xml', 1113362]],\n",
       " '7269600': [['grants2012/ipg120103.xml', 5499069]],\n",
       " '1543980': [['grants2012/ipg120103.xml', 27464]],\n",
       " '7471088': [['grants2012/ipg120103.xml', 3622606]],\n",
       " '2007/0057815': [['grants2012/ipg120103.xml', 3686529]],\n",
       " '2004/0084887': [['grants2012/ipg120103.xml', 5124586]],\n",
       " '5930250': [['grants2012/ipg120103.xml', 3754499]],\n",
       " '5368390': [['grants2012/ipg120103.xml', 862799]],\n",
       " '2004/0161594': [['grants2012/ipg120103.xml', 1745723]],\n",
       " '638290': [['grants2012/ipg120103.xml', 391681]],\n",
       " '2004/0051111': [['grants2012/ipg120103.xml', 1418825],\n",
       "  ['grants2012/ipg120103.xml', 3414095]],\n",
       " '2008/0165218': [['grants2012/ipg120103.xml', 830225]],\n",
       " '2002/0123325': [['grants2012/ipg120103.xml', 4951140]],\n",
       " '5963916': [['grants2012/ipg120103.xml', 5296962]],\n",
       " '2006/0230569': [['grants2012/ipg120103.xml', 275348]],\n",
       " '6676050': [['grants2012/ipg120103.xml', 702311]],\n",
       " '6234395': [['grants2012/ipg120103.xml', 687290]],\n",
       " '0346126': [['grants2012/ipg120103.xml', 352852]],\n",
       " '6794950': [['grants2012/ipg120103.xml', 3677826]],\n",
       " '1 125018': [['grants2012/ipg120103.xml', 4164755]],\n",
       " '2007/0066721': [['grants2012/ipg120103.xml', 1363091]],\n",
       " 'WO-01/01366': [['grants2012/ipg120103.xml', 5579359]],\n",
       " '5212091': [['grants2012/ipg120103.xml', 1950065],\n",
       "  ['grants2012/ipg120103.xml', 2318065]],\n",
       " '2007/0142686': [['grants2012/ipg120103.xml', 1455056]],\n",
       " '10-054368': [['grants2012/ipg120103.xml', 925820]],\n",
       " '2003/0222890': [['grants2012/ipg120103.xml', 5834758]],\n",
       " '08088656': [['grants2012/ipg120103.xml', 2193768]],\n",
       " '2009/0152656': [['grants2012/ipg120103.xml', 3523168]],\n",
       " 'D438040': [['grants2012/ipg120103.xml', 174095]],\n",
       " '10689432': [['grants2012/ipg120103.xml', 5644797]],\n",
       " '7201728': [['grants2012/ipg120103.xml', 1256877]],\n",
       " '7553828': [['grants2012/ipg120103.xml', 2375205]],\n",
       " 'D104201': [['grants2012/ipg120103.xml', 69587]],\n",
       " '6714331': [['grants2012/ipg120103.xml', 4721239]],\n",
       " '2003/0072254': [['grants2012/ipg120103.xml', 4276921]],\n",
       " '2010/0031972': [['grants2012/ipg120103.xml', 428871]],\n",
       " '5526120': [['grants2012/ipg120103.xml', 311581]],\n",
       " 'D503465': [['grants2012/ipg120103.xml', 184586]],\n",
       " '5186096': [['grants2012/ipg120103.xml', 465178]],\n",
       " '2005/0257045': [['grants2012/ipg120103.xml', 5761851]],\n",
       " '2007/0271276': [['grants2012/ipg120103.xml', 5792128]],\n",
       " 'WO 99/09455': [['grants2012/ipg120103.xml', 3990585]],\n",
       " '5889765': [['grants2012/ipg120103.xml', 4583752]],\n",
       " '5737009': [['grants2012/ipg120103.xml', 5603061],\n",
       "  ['grants2012/ipg120103.xml', 5918554]],\n",
       " '2006/0247617': [['grants2012/ipg120103.xml', 1172492]],\n",
       " '6047358': [['grants2012/ipg120103.xml', 4979195]],\n",
       " '7066537': [['grants2012/ipg120103.xml', 783463]],\n",
       " 'D0651672': [['grants2012/ipg120103.xml', 174939]],\n",
       " '2003/0100308': [['grants2012/ipg120103.xml', 5769142]],\n",
       " 'A-2005-514744': [['grants2012/ipg120103.xml', 3394109]],\n",
       " '6635055': [['grants2012/ipg120103.xml', 1097018]],\n",
       " '7899494': [['grants2012/ipg120103.xml', 4696847]],\n",
       " '7167583': [['grants2012/ipg120103.xml', 4769090]],\n",
       " 'PCT/EP2008/058265': [['grants2012/ipg120103.xml', 5604638]],\n",
       " '6831661': [['grants2012/ipg120103.xml', 4009654]],\n",
       " '2007-149572': [['grants2012/ipg120103.xml', 1798074]],\n",
       " '6353608': [['grants2012/ipg120103.xml', 4635315]],\n",
       " '2005/0098349': [['grants2012/ipg120103.xml', 2288316],\n",
       "  ['grants2012/ipg120103.xml', 2295143]],\n",
       " '7533833': [['grants2012/ipg120103.xml', 699852]],\n",
       " '5371666': [['grants2012/ipg120103.xml', 3612242]],\n",
       " '1068851': [['grants2012/ipg120103.xml', 1494601]],\n",
       " '5556431': [['grants2012/ipg120103.xml', 5021001]],\n",
       " '7152064': [['grants2012/ipg120103.xml', 5447448]],\n",
       " '2011/0097845': [['grants2012/ipg120103.xml', 4822608]],\n",
       " '6873975': [['grants2012/ipg120103.xml', 4666644]],\n",
       " '7804307': [['grants2012/ipg120103.xml', 3640264],\n",
       "  ['grants2012/ipg120103.xml', 3645208]],\n",
       " '3690243': [['grants2012/ipg120103.xml', 5099552]],\n",
       " ...}"
      ]
     },
     "execution_count": 42,
     "metadata": {},
     "output_type": "execute_result"
    }
   ],
   "source": [
    "index_one_file"
   ]
  },
  {
   "cell_type": "code",
   "execution_count": null,
   "metadata": {
    "collapsed": true
   },
   "outputs": [],
   "source": []
  },
  {
   "cell_type": "code",
   "execution_count": null,
   "metadata": {
    "collapsed": true
   },
   "outputs": [],
   "source": []
  },
  {
   "cell_type": "code",
   "execution_count": 67,
   "metadata": {
    "collapsed": true
   },
   "outputs": [],
   "source": [
    "xmls = glob.glob(\"../data/grants2012/*.xml\")"
   ]
  },
  {
   "cell_type": "code",
   "execution_count": 68,
   "metadata": {},
   "outputs": [
    {
     "data": {
      "text/plain": [
       "'../data/grants2012/ipg120911.xml'"
      ]
     },
     "execution_count": 68,
     "metadata": {},
     "output_type": "execute_result"
    }
   ],
   "source": [
    "xmls[0]"
   ]
  },
  {
   "cell_type": "code",
   "execution_count": 69,
   "metadata": {},
   "outputs": [
    {
     "data": {
      "text/plain": [
       "'grants2012/ipg120911.xml'"
      ]
     },
     "execution_count": 69,
     "metadata": {},
     "output_type": "execute_result"
    }
   ],
   "source": [
    "xmls[0][len(\"../data/\"):]"
   ]
  },
  {
   "cell_type": "code",
   "execution_count": null,
   "metadata": {
    "collapsed": true
   },
   "outputs": [],
   "source": []
  },
  {
   "cell_type": "code",
   "execution_count": 70,
   "metadata": {
    "collapsed": true
   },
   "outputs": [],
   "source": [
    "xmlrels = [xml[len(\"../data/\"):] for xml in xmls]"
   ]
  },
  {
   "cell_type": "code",
   "execution_count": 72,
   "metadata": {},
   "outputs": [
    {
     "data": {
      "text/plain": [
       "'grants2012/ipg120911.xml'"
      ]
     },
     "execution_count": 72,
     "metadata": {},
     "output_type": "execute_result"
    }
   ],
   "source": [
    "xmlrels[0]"
   ]
  },
  {
   "cell_type": "code",
   "execution_count": null,
   "metadata": {
    "collapsed": true
   },
   "outputs": [],
   "source": []
  },
  {
   "cell_type": "raw",
   "metadata": {},
   "source": [
    "Below cell took about 4min.\n",
    "\n",
    "CPU times: user 4.49 s, sys: 812 ms, total: 5.3 s\n",
    "Wall time: 3min 48s"
   ]
  },
  {
   "cell_type": "code",
   "execution_count": 73,
   "metadata": {},
   "outputs": [
    {
     "name": "stdout",
     "output_type": "stream",
     "text": [
      "CPU times: user 4.49 s, sys: 812 ms, total: 5.3 s\n",
      "Wall time: 3min 48s\n"
     ]
    }
   ],
   "source": [
    "%%time\n",
    "\n",
    "for xmlrel in xmlrels:\n",
    "    create_one_index(xmlrel)"
   ]
  },
  {
   "cell_type": "code",
   "execution_count": null,
   "metadata": {
    "collapsed": true
   },
   "outputs": [],
   "source": []
  },
  {
   "cell_type": "code",
   "execution_count": null,
   "metadata": {
    "collapsed": true
   },
   "outputs": [],
   "source": []
  },
  {
   "cell_type": "code",
   "execution_count": 9,
   "metadata": {
    "collapsed": true
   },
   "outputs": [],
   "source": [
    "xmls = glob.glob(\"../data/application2017/*.xml\")\n",
    "xmlrels = [xml[len(\"../data/\"):] for xml in xmls]"
   ]
  },
  {
   "cell_type": "code",
   "execution_count": 10,
   "metadata": {},
   "outputs": [
    {
     "name": "stdout",
     "output_type": "stream",
     "text": [
      "CPU times: user 9.32 s, sys: 1.43 s, total: 10.8 s\n",
      "Wall time: 7min 2s\n"
     ]
    }
   ],
   "source": [
    "%%time\n",
    "\n",
    "for xmlrel in xmlrels:\n",
    "    create_one_index(xmlrel)"
   ]
  },
  {
   "cell_type": "code",
   "execution_count": null,
   "metadata": {
    "collapsed": true
   },
   "outputs": [],
   "source": []
  },
  {
   "cell_type": "code",
   "execution_count": null,
   "metadata": {
    "collapsed": true
   },
   "outputs": [],
   "source": []
  },
  {
   "cell_type": "code",
   "execution_count": null,
   "metadata": {
    "collapsed": true
   },
   "outputs": [],
   "source": []
  },
  {
   "cell_type": "code",
   "execution_count": null,
   "metadata": {
    "collapsed": true
   },
   "outputs": [],
   "source": []
  },
  {
   "cell_type": "markdown",
   "metadata": {},
   "source": [
    "### Load index from files"
   ]
  },
  {
   "cell_type": "code",
   "execution_count": 65,
   "metadata": {
    "collapsed": true
   },
   "outputs": [],
   "source": [
    "import glob"
   ]
  },
  {
   "cell_type": "code",
   "execution_count": null,
   "metadata": {
    "collapsed": true
   },
   "outputs": [],
   "source": []
  },
  {
   "cell_type": "code",
   "execution_count": 7,
   "metadata": {
    "collapsed": true
   },
   "outputs": [],
   "source": [
    "# dict format:\n",
    "# key is doc-number\n",
    "# val is list of [relxml, linenumber]\n",
    "\n",
    "def build_one_index_file_to_dict(indexfile, dic):\n",
    "    with open(indexfile, \"r\") as f:\n",
    "        tupples = [l.rstrip(\"\\n\").split(\":\", 1) for l in f]\n",
    "    relxml = indexfile[len(\"../data/index/\"):].rstrip(\".idx\")\n",
    "    for tup in tupples:\n",
    "        dic.setdefault(tup[1], []).append([relxml, int(tup[0])])"
   ]
  },
  {
   "cell_type": "code",
   "execution_count": null,
   "metadata": {
    "collapsed": true
   },
   "outputs": [],
   "source": []
  },
  {
   "cell_type": "code",
   "execution_count": 16,
   "metadata": {
    "collapsed": true
   },
   "outputs": [],
   "source": [
    "def build_all_index_dict(indexfiles, dic):\n",
    "    for f in indexfiles:\n",
    "        build_one_index_file_to_dict(f, dic)"
   ]
  },
  {
   "cell_type": "code",
   "execution_count": null,
   "metadata": {
    "collapsed": true
   },
   "outputs": [],
   "source": []
  },
  {
   "cell_type": "code",
   "execution_count": null,
   "metadata": {
    "collapsed": true
   },
   "outputs": [],
   "source": []
  },
  {
   "cell_type": "code",
   "execution_count": 13,
   "metadata": {
    "collapsed": true
   },
   "outputs": [],
   "source": [
    "indexfiles2017 = glob.glob(\"../data/index/application2017/*.idx\")"
   ]
  },
  {
   "cell_type": "code",
   "execution_count": 17,
   "metadata": {
    "collapsed": true
   },
   "outputs": [],
   "source": [
    "index2017 = {}"
   ]
  },
  {
   "cell_type": "code",
   "execution_count": 18,
   "metadata": {
    "collapsed": true
   },
   "outputs": [],
   "source": [
    "build_all_index_dict(indexfiles2017, index2017)"
   ]
  },
  {
   "cell_type": "code",
   "execution_count": null,
   "metadata": {
    "collapsed": true
   },
   "outputs": [],
   "source": []
  },
  {
   "cell_type": "code",
   "execution_count": 45,
   "metadata": {
    "collapsed": true
   },
   "outputs": [],
   "source": [
    "indexfilesGrants2012 = glob.glob(\"../data/index/grants2012/*.idx\")"
   ]
  },
  {
   "cell_type": "code",
   "execution_count": 47,
   "metadata": {
    "collapsed": true
   },
   "outputs": [],
   "source": [
    "indexGrants2012 = {}"
   ]
  },
  {
   "cell_type": "code",
   "execution_count": 48,
   "metadata": {
    "collapsed": true
   },
   "outputs": [],
   "source": [
    "build_all_index_dict(indexfilesGrants2012, indexGrants2012)"
   ]
  },
  {
   "cell_type": "code",
   "execution_count": null,
   "metadata": {
    "collapsed": true
   },
   "outputs": [],
   "source": []
  },
  {
   "cell_type": "markdown",
   "metadata": {},
   "source": [
    "### Filter office action only of application 2017 doc-number."
   ]
  },
  {
   "cell_type": "code",
   "execution_count": 37,
   "metadata": {
    "collapsed": true
   },
   "outputs": [],
   "source": [
    "# key of index2017 is string because doc-number sometime contains non-int value.\n",
    "# so we create string row in office action data frame to use isin method.\n",
    "\n",
    "office_15[\"app_id_str\"] = office_15.app_id.map(str)"
   ]
  },
  {
   "cell_type": "code",
   "execution_count": null,
   "metadata": {
    "collapsed": true
   },
   "outputs": [],
   "source": []
  },
  {
   "cell_type": "code",
   "execution_count": 36,
   "metadata": {},
   "outputs": [
    {
     "data": {
      "text/plain": [
       "21820"
      ]
     },
     "execution_count": 36,
     "metadata": {},
     "output_type": "execute_result"
    }
   ],
   "source": [
    "sum(office_15.app_id_str.isin(index2017) == True)"
   ]
  },
  {
   "cell_type": "code",
   "execution_count": 38,
   "metadata": {
    "collapsed": true
   },
   "outputs": [],
   "source": [
    "office2017 = office_15[office_15.app_id_str.isin(index2017)]"
   ]
  },
  {
   "cell_type": "code",
   "execution_count": null,
   "metadata": {
    "collapsed": true
   },
   "outputs": [],
   "source": []
  },
  {
   "cell_type": "code",
   "execution_count": 40,
   "metadata": {},
   "outputs": [
    {
     "data": {
      "text/plain": [
       "21820"
      ]
     },
     "execution_count": 40,
     "metadata": {},
     "output_type": "execute_result"
    }
   ],
   "source": [
    "len(office2017)"
   ]
  },
  {
   "cell_type": "code",
   "execution_count": 39,
   "metadata": {},
   "outputs": [
    {
     "data": {
      "text/html": [
       "<div>\n",
       "<style scoped>\n",
       "    .dataframe tbody tr th:only-of-type {\n",
       "        vertical-align: middle;\n",
       "    }\n",
       "\n",
       "    .dataframe tbody tr th {\n",
       "        vertical-align: top;\n",
       "    }\n",
       "\n",
       "    .dataframe thead th {\n",
       "        text-align: right;\n",
       "    }\n",
       "</style>\n",
       "<table border=\"1\" class=\"dataframe\">\n",
       "  <thead>\n",
       "    <tr style=\"text-align: right;\">\n",
       "      <th></th>\n",
       "      <th>app_id</th>\n",
       "      <th>ifw_number</th>\n",
       "      <th>document_cd</th>\n",
       "      <th>mail_dt</th>\n",
       "      <th>art_unit</th>\n",
       "      <th>uspc_class</th>\n",
       "      <th>uspc_subclass</th>\n",
       "      <th>header_missing</th>\n",
       "      <th>fp_missing</th>\n",
       "      <th>rejection_fp_mismatch</th>\n",
       "      <th>...</th>\n",
       "      <th>rejection_112</th>\n",
       "      <th>rejection_dp</th>\n",
       "      <th>objection</th>\n",
       "      <th>allowed_claims</th>\n",
       "      <th>cite102_gt1</th>\n",
       "      <th>cite103_gt3</th>\n",
       "      <th>cite103_eq1</th>\n",
       "      <th>cite103_max</th>\n",
       "      <th>signature_type</th>\n",
       "      <th>app_id_str</th>\n",
       "    </tr>\n",
       "  </thead>\n",
       "  <tbody>\n",
       "    <tr>\n",
       "      <th>3561801</th>\n",
       "      <td>15005636</td>\n",
       "      <td>IKSG9XK1RXEAPX1</td>\n",
       "      <td>CTNF</td>\n",
       "      <td>2016-02-22</td>\n",
       "      <td>3766</td>\n",
       "      <td>600</td>\n",
       "      <td>509000</td>\n",
       "      <td>0</td>\n",
       "      <td>0</td>\n",
       "      <td>0</td>\n",
       "      <td>...</td>\n",
       "      <td>1</td>\n",
       "      <td>1</td>\n",
       "      <td>0</td>\n",
       "      <td>0</td>\n",
       "      <td>0</td>\n",
       "      <td>0</td>\n",
       "      <td>0</td>\n",
       "      <td>0</td>\n",
       "      <td>0</td>\n",
       "      <td>15005636</td>\n",
       "    </tr>\n",
       "    <tr>\n",
       "      <th>3564336</th>\n",
       "      <td>15001553</td>\n",
       "      <td>IKTT4P0TRXEAPX1</td>\n",
       "      <td>CTNF</td>\n",
       "      <td>2016-02-19</td>\n",
       "      <td>1625</td>\n",
       "      <td>514</td>\n",
       "      <td>279000</td>\n",
       "      <td>0</td>\n",
       "      <td>1</td>\n",
       "      <td>0</td>\n",
       "      <td>...</td>\n",
       "      <td>1</td>\n",
       "      <td>0</td>\n",
       "      <td>0</td>\n",
       "      <td>0</td>\n",
       "      <td>0</td>\n",
       "      <td>0</td>\n",
       "      <td>0</td>\n",
       "      <td>0</td>\n",
       "      <td>1</td>\n",
       "      <td>15001553</td>\n",
       "    </tr>\n",
       "    <tr>\n",
       "      <th>3568839</th>\n",
       "      <td>15009367</td>\n",
       "      <td>IKZGL7O1RXEAPX4</td>\n",
       "      <td>CTNF</td>\n",
       "      <td>2016-02-25</td>\n",
       "      <td>2137</td>\n",
       "      <td>711</td>\n",
       "      <td>103000</td>\n",
       "      <td>0</td>\n",
       "      <td>0</td>\n",
       "      <td>0</td>\n",
       "      <td>...</td>\n",
       "      <td>0</td>\n",
       "      <td>1</td>\n",
       "      <td>0</td>\n",
       "      <td>0</td>\n",
       "      <td>0</td>\n",
       "      <td>0</td>\n",
       "      <td>0</td>\n",
       "      <td>0</td>\n",
       "      <td>1</td>\n",
       "      <td>15009367</td>\n",
       "    </tr>\n",
       "    <tr>\n",
       "      <th>3569392</th>\n",
       "      <td>15041416</td>\n",
       "      <td>IKZI6SS3RXEAPX1</td>\n",
       "      <td>CTNF</td>\n",
       "      <td>2016-02-25</td>\n",
       "      <td>2618</td>\n",
       "      <td>345</td>\n",
       "      <td>619000</td>\n",
       "      <td>0</td>\n",
       "      <td>0</td>\n",
       "      <td>0</td>\n",
       "      <td>...</td>\n",
       "      <td>0</td>\n",
       "      <td>0</td>\n",
       "      <td>0</td>\n",
       "      <td>0</td>\n",
       "      <td>0</td>\n",
       "      <td>1</td>\n",
       "      <td>0</td>\n",
       "      <td>5</td>\n",
       "      <td>1</td>\n",
       "      <td>15041416</td>\n",
       "    </tr>\n",
       "    <tr>\n",
       "      <th>3574015</th>\n",
       "      <td>15014088</td>\n",
       "      <td>IL0U1CK0RXEAPX5</td>\n",
       "      <td>CTNF</td>\n",
       "      <td>2016-02-26</td>\n",
       "      <td>2852</td>\n",
       "      <td>399</td>\n",
       "      <td>085000</td>\n",
       "      <td>0</td>\n",
       "      <td>0</td>\n",
       "      <td>0</td>\n",
       "      <td>...</td>\n",
       "      <td>0</td>\n",
       "      <td>0</td>\n",
       "      <td>1</td>\n",
       "      <td>0</td>\n",
       "      <td>0</td>\n",
       "      <td>0</td>\n",
       "      <td>0</td>\n",
       "      <td>2</td>\n",
       "      <td>1</td>\n",
       "      <td>15014088</td>\n",
       "    </tr>\n",
       "  </tbody>\n",
       "</table>\n",
       "<p>5 rows × 24 columns</p>\n",
       "</div>"
      ],
      "text/plain": [
       "           app_id       ifw_number document_cd     mail_dt art_unit  \\\n",
       "3561801  15005636  IKSG9XK1RXEAPX1        CTNF  2016-02-22     3766   \n",
       "3564336  15001553  IKTT4P0TRXEAPX1        CTNF  2016-02-19     1625   \n",
       "3568839  15009367  IKZGL7O1RXEAPX4        CTNF  2016-02-25     2137   \n",
       "3569392  15041416  IKZI6SS3RXEAPX1        CTNF  2016-02-25     2618   \n",
       "3574015  15014088  IL0U1CK0RXEAPX5        CTNF  2016-02-26     2852   \n",
       "\n",
       "        uspc_class uspc_subclass  header_missing  fp_missing  \\\n",
       "3561801        600        509000               0           0   \n",
       "3564336        514        279000               0           1   \n",
       "3568839        711        103000               0           0   \n",
       "3569392        345        619000               0           0   \n",
       "3574015        399        085000               0           0   \n",
       "\n",
       "         rejection_fp_mismatch     ...      rejection_112  rejection_dp  \\\n",
       "3561801                      0     ...                  1             1   \n",
       "3564336                      0     ...                  1             0   \n",
       "3568839                      0     ...                  0             1   \n",
       "3569392                      0     ...                  0             0   \n",
       "3574015                      0     ...                  0             0   \n",
       "\n",
       "         objection  allowed_claims  cite102_gt1  cite103_gt3  cite103_eq1  \\\n",
       "3561801          0               0            0            0            0   \n",
       "3564336          0               0            0            0            0   \n",
       "3568839          0               0            0            0            0   \n",
       "3569392          0               0            0            1            0   \n",
       "3574015          1               0            0            0            0   \n",
       "\n",
       "         cite103_max  signature_type  app_id_str  \n",
       "3561801            0               0    15005636  \n",
       "3564336            0               1    15001553  \n",
       "3568839            0               1    15009367  \n",
       "3569392            5               1    15041416  \n",
       "3574015            2               1    15014088  \n",
       "\n",
       "[5 rows x 24 columns]"
      ]
     },
     "execution_count": 39,
     "metadata": {},
     "output_type": "execute_result"
    }
   ],
   "source": [
    "office2017.head()"
   ]
  },
  {
   "cell_type": "code",
   "execution_count": null,
   "metadata": {
    "collapsed": true
   },
   "outputs": [],
   "source": []
  },
  {
   "cell_type": "code",
   "execution_count": 41,
   "metadata": {
    "collapsed": true
   },
   "outputs": [],
   "source": [
    "ifw_from_OA = set(office2017.ifw_number)"
   ]
  },
  {
   "cell_type": "code",
   "execution_count": 42,
   "metadata": {},
   "outputs": [
    {
     "data": {
      "text/plain": [
       "21820"
      ]
     },
     "execution_count": 42,
     "metadata": {},
     "output_type": "execute_result"
    }
   ],
   "source": [
    "len(list(ifw_from_OA))"
   ]
  },
  {
   "cell_type": "code",
   "execution_count": null,
   "metadata": {
    "collapsed": true
   },
   "outputs": [],
   "source": []
  },
  {
   "cell_type": "code",
   "execution_count": null,
   "metadata": {
    "collapsed": true
   },
   "outputs": [],
   "source": []
  },
  {
   "cell_type": "code",
   "execution_count": null,
   "metadata": {
    "collapsed": true
   },
   "outputs": [],
   "source": []
  },
  {
   "cell_type": "code",
   "execution_count": null,
   "metadata": {
    "collapsed": true
   },
   "outputs": [],
   "source": []
  },
  {
   "cell_type": "code",
   "execution_count": 51,
   "metadata": {},
   "outputs": [
    {
     "data": {
      "text/html": [
       "<div>\n",
       "<style scoped>\n",
       "    .dataframe tbody tr th:only-of-type {\n",
       "        vertical-align: middle;\n",
       "    }\n",
       "\n",
       "    .dataframe tbody tr th {\n",
       "        vertical-align: top;\n",
       "    }\n",
       "\n",
       "    .dataframe thead th {\n",
       "        text-align: right;\n",
       "    }\n",
       "</style>\n",
       "<table border=\"1\" class=\"dataframe\">\n",
       "  <thead>\n",
       "    <tr style=\"text-align: right;\">\n",
       "      <th></th>\n",
       "      <th>app_id</th>\n",
       "      <th>citation_pat_pgpub_id</th>\n",
       "      <th>parsed</th>\n",
       "      <th>ifw_number</th>\n",
       "      <th>action_type</th>\n",
       "      <th>action_subtype</th>\n",
       "      <th>form892</th>\n",
       "      <th>form1449</th>\n",
       "      <th>citation_in_oa</th>\n",
       "    </tr>\n",
       "  </thead>\n",
       "  <tbody>\n",
       "    <tr>\n",
       "      <th>57732192</th>\n",
       "      <td>15000008</td>\n",
       "      <td>8291627</td>\n",
       "      <td>8291627</td>\n",
       "      <td>NaN</td>\n",
       "      <td>NaN</td>\n",
       "      <td>NaN</td>\n",
       "      <td>1</td>\n",
       "      <td>0</td>\n",
       "      <td>0</td>\n",
       "    </tr>\n",
       "    <tr>\n",
       "      <th>57732193</th>\n",
       "      <td>15000008</td>\n",
       "      <td>2093620</td>\n",
       "      <td>2093620</td>\n",
       "      <td>NaN</td>\n",
       "      <td>NaN</td>\n",
       "      <td>NaN</td>\n",
       "      <td>1</td>\n",
       "      <td>0</td>\n",
       "      <td>0</td>\n",
       "    </tr>\n",
       "    <tr>\n",
       "      <th>57732194</th>\n",
       "      <td>15000008</td>\n",
       "      <td>9221406</td>\n",
       "      <td>9221406</td>\n",
       "      <td>NaN</td>\n",
       "      <td>NaN</td>\n",
       "      <td>NaN</td>\n",
       "      <td>1</td>\n",
       "      <td>0</td>\n",
       "      <td>0</td>\n",
       "    </tr>\n",
       "    <tr>\n",
       "      <th>57732195</th>\n",
       "      <td>15000008</td>\n",
       "      <td>8544198</td>\n",
       "      <td>8544198</td>\n",
       "      <td>NaN</td>\n",
       "      <td>NaN</td>\n",
       "      <td>NaN</td>\n",
       "      <td>1</td>\n",
       "      <td>0</td>\n",
       "      <td>0</td>\n",
       "    </tr>\n",
       "    <tr>\n",
       "      <th>57732196</th>\n",
       "      <td>15000008</td>\n",
       "      <td>7225569</td>\n",
       "      <td>7225569</td>\n",
       "      <td>NaN</td>\n",
       "      <td>NaN</td>\n",
       "      <td>NaN</td>\n",
       "      <td>1</td>\n",
       "      <td>0</td>\n",
       "      <td>0</td>\n",
       "    </tr>\n",
       "  </tbody>\n",
       "</table>\n",
       "</div>"
      ],
      "text/plain": [
       "            app_id citation_pat_pgpub_id   parsed ifw_number  action_type  \\\n",
       "57732192  15000008               8291627  8291627        NaN          NaN   \n",
       "57732193  15000008               2093620  2093620        NaN          NaN   \n",
       "57732194  15000008               9221406  9221406        NaN          NaN   \n",
       "57732195  15000008               8544198  8544198        NaN          NaN   \n",
       "57732196  15000008               7225569  7225569        NaN          NaN   \n",
       "\n",
       "         action_subtype  form892  form1449  citation_in_oa  \n",
       "57732192            NaN        1         0               0  \n",
       "57732193            NaN        1         0               0  \n",
       "57732194            NaN        1         0               0  \n",
       "57732195            NaN        1         0               0  \n",
       "57732196            NaN        1         0               0  "
      ]
     },
     "execution_count": 51,
     "metadata": {},
     "output_type": "execute_result"
    }
   ],
   "source": [
    "citations_15.head()"
   ]
  },
  {
   "cell_type": "code",
   "execution_count": 55,
   "metadata": {
    "collapsed": true
   },
   "outputs": [],
   "source": [
    "citations_2017 = citations_15[citations_15.ifw_number.isin(ifw_from_OA)]"
   ]
  },
  {
   "cell_type": "code",
   "execution_count": 56,
   "metadata": {},
   "outputs": [
    {
     "data": {
      "text/plain": [
       "43416"
      ]
     },
     "execution_count": 56,
     "metadata": {},
     "output_type": "execute_result"
    }
   ],
   "source": [
    "len(citations_2017)"
   ]
  },
  {
   "cell_type": "code",
   "execution_count": 57,
   "metadata": {},
   "outputs": [
    {
     "data": {
      "text/html": [
       "<div>\n",
       "<style scoped>\n",
       "    .dataframe tbody tr th:only-of-type {\n",
       "        vertical-align: middle;\n",
       "    }\n",
       "\n",
       "    .dataframe tbody tr th {\n",
       "        vertical-align: top;\n",
       "    }\n",
       "\n",
       "    .dataframe thead th {\n",
       "        text-align: right;\n",
       "    }\n",
       "</style>\n",
       "<table border=\"1\" class=\"dataframe\">\n",
       "  <thead>\n",
       "    <tr style=\"text-align: right;\">\n",
       "      <th></th>\n",
       "      <th>app_id</th>\n",
       "      <th>citation_pat_pgpub_id</th>\n",
       "      <th>parsed</th>\n",
       "      <th>ifw_number</th>\n",
       "      <th>action_type</th>\n",
       "      <th>action_subtype</th>\n",
       "      <th>form892</th>\n",
       "      <th>form1449</th>\n",
       "      <th>citation_in_oa</th>\n",
       "    </tr>\n",
       "  </thead>\n",
       "  <tbody>\n",
       "    <tr>\n",
       "      <th>57732253</th>\n",
       "      <td>15000027</td>\n",
       "      <td>8553488</td>\n",
       "      <td>8553488</td>\n",
       "      <td>IRPCOHEPRXEAPX4</td>\n",
       "      <td>102.0</td>\n",
       "      <td>a</td>\n",
       "      <td>1</td>\n",
       "      <td>0</td>\n",
       "      <td>1</td>\n",
       "    </tr>\n",
       "    <tr>\n",
       "      <th>57732273</th>\n",
       "      <td>15000034</td>\n",
       "      <td>Dando US 2015/0364400</td>\n",
       "      <td>20150364400</td>\n",
       "      <td>IYD99O6CRXEAPX0</td>\n",
       "      <td>103.0</td>\n",
       "      <td>NaN</td>\n",
       "      <td>0</td>\n",
       "      <td>0</td>\n",
       "      <td>1</td>\n",
       "    </tr>\n",
       "    <tr>\n",
       "      <th>57732274</th>\n",
       "      <td>15000034</td>\n",
       "      <td>Sun US 2012/0181696</td>\n",
       "      <td>20120181696</td>\n",
       "      <td>IYD99O6CRXEAPX0</td>\n",
       "      <td>103.0</td>\n",
       "      <td>NaN</td>\n",
       "      <td>0</td>\n",
       "      <td>0</td>\n",
       "      <td>1</td>\n",
       "    </tr>\n",
       "    <tr>\n",
       "      <th>57732275</th>\n",
       "      <td>15000034</td>\n",
       "      <td>Sun US 2012/0279760</td>\n",
       "      <td>20120279760</td>\n",
       "      <td>IYD99O6CRXEAPX0</td>\n",
       "      <td>103.0</td>\n",
       "      <td>NaN</td>\n",
       "      <td>0</td>\n",
       "      <td>0</td>\n",
       "      <td>1</td>\n",
       "    </tr>\n",
       "    <tr>\n",
       "      <th>57732324</th>\n",
       "      <td>15000048</td>\n",
       "      <td>20140091294</td>\n",
       "      <td>20140091294</td>\n",
       "      <td>IR59S77KRXEAPX5</td>\n",
       "      <td>103.0</td>\n",
       "      <td>NaN</td>\n",
       "      <td>1</td>\n",
       "      <td>0</td>\n",
       "      <td>1</td>\n",
       "    </tr>\n",
       "  </tbody>\n",
       "</table>\n",
       "</div>"
      ],
      "text/plain": [
       "            app_id  citation_pat_pgpub_id       parsed       ifw_number  \\\n",
       "57732253  15000027                8553488      8553488  IRPCOHEPRXEAPX4   \n",
       "57732273  15000034  Dando US 2015/0364400  20150364400  IYD99O6CRXEAPX0   \n",
       "57732274  15000034    Sun US 2012/0181696  20120181696  IYD99O6CRXEAPX0   \n",
       "57732275  15000034    Sun US 2012/0279760  20120279760  IYD99O6CRXEAPX0   \n",
       "57732324  15000048            20140091294  20140091294  IR59S77KRXEAPX5   \n",
       "\n",
       "          action_type action_subtype  form892  form1449  citation_in_oa  \n",
       "57732253        102.0              a        1         0               1  \n",
       "57732273        103.0            NaN        0         0               1  \n",
       "57732274        103.0            NaN        0         0               1  \n",
       "57732275        103.0            NaN        0         0               1  \n",
       "57732324        103.0            NaN        1         0               1  "
      ]
     },
     "execution_count": 57,
     "metadata": {},
     "output_type": "execute_result"
    }
   ],
   "source": [
    "citations_2017.head()"
   ]
  },
  {
   "cell_type": "code",
   "execution_count": 58,
   "metadata": {
    "collapsed": true
   },
   "outputs": [],
   "source": [
    "citations_we_have = citations_2017[citations_2017.citation_pat_pgpub_id.isin(indexGrants2012)]"
   ]
  },
  {
   "cell_type": "code",
   "execution_count": 59,
   "metadata": {},
   "outputs": [
    {
     "data": {
      "text/plain": [
       "4362"
      ]
     },
     "execution_count": 59,
     "metadata": {},
     "output_type": "execute_result"
    }
   ],
   "source": [
    "len(citations_we_have)"
   ]
  },
  {
   "cell_type": "code",
   "execution_count": 60,
   "metadata": {},
   "outputs": [
    {
     "data": {
      "text/html": [
       "<div>\n",
       "<style scoped>\n",
       "    .dataframe tbody tr th:only-of-type {\n",
       "        vertical-align: middle;\n",
       "    }\n",
       "\n",
       "    .dataframe tbody tr th {\n",
       "        vertical-align: top;\n",
       "    }\n",
       "\n",
       "    .dataframe thead th {\n",
       "        text-align: right;\n",
       "    }\n",
       "</style>\n",
       "<table border=\"1\" class=\"dataframe\">\n",
       "  <thead>\n",
       "    <tr style=\"text-align: right;\">\n",
       "      <th></th>\n",
       "      <th>app_id</th>\n",
       "      <th>citation_pat_pgpub_id</th>\n",
       "      <th>parsed</th>\n",
       "      <th>ifw_number</th>\n",
       "      <th>action_type</th>\n",
       "      <th>action_subtype</th>\n",
       "      <th>form892</th>\n",
       "      <th>form1449</th>\n",
       "      <th>citation_in_oa</th>\n",
       "    </tr>\n",
       "  </thead>\n",
       "  <tbody>\n",
       "    <tr>\n",
       "      <th>57733581</th>\n",
       "      <td>15000285</td>\n",
       "      <td>4659845</td>\n",
       "      <td>4659845</td>\n",
       "      <td>IV82WOB1RXEAPX5</td>\n",
       "      <td>103.0</td>\n",
       "      <td>NaN</td>\n",
       "      <td>1</td>\n",
       "      <td>0</td>\n",
       "      <td>1</td>\n",
       "    </tr>\n",
       "    <tr>\n",
       "      <th>57733622</th>\n",
       "      <td>15000297</td>\n",
       "      <td>7268118</td>\n",
       "      <td>7268118</td>\n",
       "      <td>IO1DLQ1SRXEAPX3</td>\n",
       "      <td>102.0</td>\n",
       "      <td>b</td>\n",
       "      <td>0</td>\n",
       "      <td>1</td>\n",
       "      <td>1</td>\n",
       "    </tr>\n",
       "    <tr>\n",
       "      <th>57733623</th>\n",
       "      <td>15000297</td>\n",
       "      <td>7268118</td>\n",
       "      <td>7268118</td>\n",
       "      <td>IO1DLQ1SRXEAPX3</td>\n",
       "      <td>103.0</td>\n",
       "      <td>a</td>\n",
       "      <td>0</td>\n",
       "      <td>1</td>\n",
       "      <td>1</td>\n",
       "    </tr>\n",
       "    <tr>\n",
       "      <th>57733624</th>\n",
       "      <td>15000297</td>\n",
       "      <td>5578570</td>\n",
       "      <td>5578570</td>\n",
       "      <td>IO1DLQ1SRXEAPX3</td>\n",
       "      <td>103.0</td>\n",
       "      <td>a</td>\n",
       "      <td>1</td>\n",
       "      <td>0</td>\n",
       "      <td>1</td>\n",
       "    </tr>\n",
       "    <tr>\n",
       "      <th>57733628</th>\n",
       "      <td>15000297</td>\n",
       "      <td>5342620</td>\n",
       "      <td>5342620</td>\n",
       "      <td>IO1DLQ1SRXEAPX3</td>\n",
       "      <td>103.0</td>\n",
       "      <td>a</td>\n",
       "      <td>1</td>\n",
       "      <td>1</td>\n",
       "      <td>1</td>\n",
       "    </tr>\n",
       "  </tbody>\n",
       "</table>\n",
       "</div>"
      ],
      "text/plain": [
       "            app_id citation_pat_pgpub_id   parsed       ifw_number  \\\n",
       "57733581  15000285               4659845  4659845  IV82WOB1RXEAPX5   \n",
       "57733622  15000297               7268118  7268118  IO1DLQ1SRXEAPX3   \n",
       "57733623  15000297               7268118  7268118  IO1DLQ1SRXEAPX3   \n",
       "57733624  15000297               5578570  5578570  IO1DLQ1SRXEAPX3   \n",
       "57733628  15000297               5342620  5342620  IO1DLQ1SRXEAPX3   \n",
       "\n",
       "          action_type action_subtype  form892  form1449  citation_in_oa  \n",
       "57733581        103.0            NaN        1         0               1  \n",
       "57733622        102.0              b        0         1               1  \n",
       "57733623        103.0              a        0         1               1  \n",
       "57733624        103.0              a        1         0               1  \n",
       "57733628        103.0              a        1         1               1  "
      ]
     },
     "execution_count": 60,
     "metadata": {},
     "output_type": "execute_result"
    }
   ],
   "source": [
    "citations_we_have.head()"
   ]
  },
  {
   "cell_type": "code",
   "execution_count": 61,
   "metadata": {
    "collapsed": true
   },
   "outputs": [],
   "source": [
    "citations_we_have.to_pickle(\"../data/citations_2017_2012.dat\")"
   ]
  },
  {
   "cell_type": "code",
   "execution_count": null,
   "metadata": {
    "collapsed": true
   },
   "outputs": [],
   "source": []
  },
  {
   "cell_type": "code",
   "execution_count": null,
   "metadata": {
    "collapsed": true
   },
   "outputs": [],
   "source": []
  },
  {
   "cell_type": "code",
   "execution_count": 65,
   "metadata": {
    "collapsed": true
   },
   "outputs": [],
   "source": [
    "index2017_we_need = {str(key):index2017[str(key)] for key in set(citations_we_have.app_id)}"
   ]
  },
  {
   "cell_type": "code",
   "execution_count": 66,
   "metadata": {},
   "outputs": [
    {
     "data": {
      "text/plain": [
       "2322"
      ]
     },
     "execution_count": 66,
     "metadata": {},
     "output_type": "execute_result"
    }
   ],
   "source": [
    "len(list(index2017_we_need.keys()))"
   ]
  },
  {
   "cell_type": "code",
   "execution_count": null,
   "metadata": {
    "collapsed": true
   },
   "outputs": [],
   "source": []
  },
  {
   "cell_type": "code",
   "execution_count": null,
   "metadata": {
    "collapsed": true
   },
   "outputs": [],
   "source": []
  },
  {
   "cell_type": "code",
   "execution_count": 67,
   "metadata": {
    "collapsed": true
   },
   "outputs": [],
   "source": [
    "indexGrants2012_we_need = {str(key):indexGrants2012[str(key)] for key in set(citations_we_have.citation_pat_pgpub_id)}"
   ]
  },
  {
   "cell_type": "code",
   "execution_count": null,
   "metadata": {
    "collapsed": true
   },
   "outputs": [],
   "source": []
  },
  {
   "cell_type": "code",
   "execution_count": 69,
   "metadata": {},
   "outputs": [
    {
     "data": {
      "text/plain": [
       "['7945484', 'WO 00/54659', '20100306879', '4242108', '4619580']"
      ]
     },
     "execution_count": 69,
     "metadata": {},
     "output_type": "execute_result"
    }
   ],
   "source": [
    "list(indexGrants2012_we_need.keys())[0:5]"
   ]
  },
  {
   "cell_type": "code",
   "execution_count": 70,
   "metadata": {},
   "outputs": [
    {
     "data": {
      "text/plain": [
       "3071"
      ]
     },
     "execution_count": 70,
     "metadata": {},
     "output_type": "execute_result"
    }
   ],
   "source": [
    "len(list(indexGrants2012_we_need.keys()))"
   ]
  },
  {
   "cell_type": "code",
   "execution_count": null,
   "metadata": {
    "collapsed": true
   },
   "outputs": [],
   "source": []
  },
  {
   "cell_type": "code",
   "execution_count": 71,
   "metadata": {
    "scrolled": true
   },
   "outputs": [
    {
     "data": {
      "text/plain": [
       "[['grants2012/ipg120417.xml', 6067926],\n",
       " ['grants2012/ipg121204.xml', 6903406],\n",
       " ['grants2012/ipg121204.xml', 6903688]]"
      ]
     },
     "execution_count": 71,
     "metadata": {},
     "output_type": "execute_result"
    }
   ],
   "source": [
    "indexGrants2012_we_need['7945484']"
   ]
  },
  {
   "cell_type": "code",
   "execution_count": null,
   "metadata": {
    "collapsed": true
   },
   "outputs": [],
   "source": []
  },
  {
   "cell_type": "code",
   "execution_count": 73,
   "metadata": {
    "collapsed": true
   },
   "outputs": [],
   "source": [
    "## cut subtext of (target-bound):(target+bound) from very large text file\n",
    "## but if (target-bound) is smaller than 1, treat as 1.\n",
    "## retuned value is tupple which value is\n",
    "## first cell: offset for target\n",
    "## second cell: array of text, each element stand for one line.\n",
    "\n",
    "def retrieve_subtext_fast(target, bound, fpath):\n",
    "    start = max(1, target-bound)\n",
    "    end = target+bound\n",
    "    sed_arg = \"'{},{}p'\".format(start, end)\n",
    "    subtext = !sed -n {sed_arg} {fpath}\n",
    "    return (target - start, subtext)"
   ]
  },
  {
   "cell_type": "code",
   "execution_count": null,
   "metadata": {
    "collapsed": true
   },
   "outputs": [],
   "source": []
  },
  {
   "cell_type": "code",
   "execution_count": null,
   "metadata": {
    "collapsed": true
   },
   "outputs": [],
   "source": []
  },
  {
   "cell_type": "code",
   "execution_count": 95,
   "metadata": {
    "collapsed": true
   },
   "outputs": [],
   "source": [
    "#<us-patent-application ...>...</us-patent-application>\n",
    "#<us-patent-grant ...>....</us-patent-grant>\n",
    "\n",
    "def find_nearest_root_element(target_offset, subtext_arr, tagname):\n",
    "    begin_tag = '<{}'.format(tagname)\n",
    "    last_cand = -1\n",
    "    for i, line in enumerate(subtext_arr):\n",
    "        if i > target_offset:\n",
    "            if last_cand == -1:\n",
    "                raise Exception('no target tagname found around target_offset')\n",
    "            return last_cand\n",
    "        if begin_tag in line:\n",
    "            last_cand = i\n",
    "    raise Exception('no target tagname found around target_offset')        "
   ]
  },
  {
   "cell_type": "code",
   "execution_count": null,
   "metadata": {
    "collapsed": true
   },
   "outputs": [],
   "source": []
  },
  {
   "cell_type": "code",
   "execution_count": 101,
   "metadata": {
    "collapsed": true
   },
   "outputs": [],
   "source": [
    "def retrieve_begin_end(begin_offset, subtext_arr, tagname):\n",
    "    end_tag = '</{}'.format(tagname)\n",
    "    res = []\n",
    "    for line in subtext_arr[begin_offset:]:\n",
    "        res.append(line)\n",
    "        if end_tag in line:\n",
    "            return res\n",
    "    raise Exception('no end tagname found')        "
   ]
  },
  {
   "cell_type": "code",
   "execution_count": null,
   "metadata": {
    "collapsed": true
   },
   "outputs": [],
   "source": []
  },
  {
   "cell_type": "code",
   "execution_count": 106,
   "metadata": {
    "collapsed": true
   },
   "outputs": [],
   "source": [
    "import re"
   ]
  },
  {
   "cell_type": "code",
   "execution_count": null,
   "metadata": {
    "collapsed": true
   },
   "outputs": [],
   "source": []
  },
  {
   "cell_type": "code",
   "execution_count": 126,
   "metadata": {
    "collapsed": true
   },
   "outputs": [],
   "source": [
    "DOC_NUMBER_PAT=re.compile(r'<doc-number>([^<]+)</doc-number>')\n",
    "\n",
    "def find_first_doc_number(text_arr):\n",
    "    for text in text_arr:\n",
    "        matchObj = DOC_NUMBER_PAT.search(text)\n",
    "        if matchObj:\n",
    "            return matchObj.group(1)\n",
    "    raise Exception(\"No doc-number found.\")\n",
    "        \n",
    "    "
   ]
  },
  {
   "cell_type": "code",
   "execution_count": 127,
   "metadata": {},
   "outputs": [
    {
     "data": {
      "text/plain": [
       "'20170351915'"
      ]
     },
     "execution_count": 127,
     "metadata": {},
     "output_type": "execute_result"
    }
   ],
   "source": [
    "find_first_doc_number(res_pat)"
   ]
  },
  {
   "cell_type": "code",
   "execution_count": null,
   "metadata": {
    "collapsed": true
   },
   "outputs": [],
   "source": []
  },
  {
   "cell_type": "code",
   "execution_count": 131,
   "metadata": {
    "collapsed": true
   },
   "outputs": [],
   "source": [
    "# tagname is \"us-patent-application\" or \"us-patent-grant\"\n",
    "#<us-patent-application ...>...</us-patent-application>\n",
    "#<us-patent-grant ...>....</us-patent-grant>\n",
    "\n",
    "def get_patent(tagname, file_path, target_offset):\n",
    "    BOUND=5000\n",
    "    target_mod_offset, subtext_arr = retrieve_subtext_fast(target_offset, BOUND, file_path)\n",
    "    begin_pos = find_nearest_root_element(target_mod_offset, subtext_arr, tagname)\n",
    "    result_patent = retrieve_begin_end(begin_pos, subtext_arr, tagname)\n",
    "    docid = find_first_doc_number(result_patent)\n",
    "    return docid, result_patent"
   ]
  },
  {
   "cell_type": "code",
   "execution_count": null,
   "metadata": {
    "collapsed": true
   },
   "outputs": [],
   "source": []
  },
  {
   "cell_type": "code",
   "execution_count": null,
   "metadata": {
    "collapsed": true
   },
   "outputs": [],
   "source": []
  },
  {
   "cell_type": "code",
   "execution_count": 71,
   "metadata": {
    "scrolled": true
   },
   "outputs": [
    {
     "data": {
      "text/plain": [
       "[['grants2012/ipg120417.xml', 6067926],\n",
       " ['grants2012/ipg121204.xml', 6903406],\n",
       " ['grants2012/ipg121204.xml', 6903688]]"
      ]
     },
     "execution_count": 71,
     "metadata": {},
     "output_type": "execute_result"
    }
   ],
   "source": [
    "indexGrants2012_we_need['7945484']"
   ]
  },
  {
   "cell_type": "code",
   "execution_count": null,
   "metadata": {
    "collapsed": true
   },
   "outputs": [],
   "source": []
  },
  {
   "cell_type": "code",
   "execution_count": 140,
   "metadata": {},
   "outputs": [
    {
     "data": {
      "text/plain": [
       "'08160929'"
      ]
     },
     "execution_count": 140,
     "metadata": {},
     "output_type": "execute_result"
    }
   ],
   "source": [
    "real_id1, pat_text1 = get_patent(\"us-patent-grant\", '../data/' + 'grants2012/ipg120417.xml', 6067926)\n",
    "real_id1"
   ]
  },
  {
   "cell_type": "code",
   "execution_count": 141,
   "metadata": {},
   "outputs": [
    {
     "data": {
      "text/plain": [
       "'08326698'"
      ]
     },
     "execution_count": 141,
     "metadata": {},
     "output_type": "execute_result"
    }
   ],
   "source": [
    "real_id2, pat_text2 = get_patent(\"us-patent-grant\", '../data/' + 'grants2012/ipg121204.xml', 6903406)\n",
    "real_id2"
   ]
  },
  {
   "cell_type": "code",
   "execution_count": 142,
   "metadata": {},
   "outputs": [
    {
     "data": {
      "text/plain": [
       "'08326698'"
      ]
     },
     "execution_count": 142,
     "metadata": {},
     "output_type": "execute_result"
    }
   ],
   "source": [
    "real_id3, pat_text3 = get_patent(\"us-patent-grant\", '../data/' + 'grants2012/ipg121204.xml', 6903688)\n",
    "real_id3"
   ]
  },
  {
   "cell_type": "code",
   "execution_count": null,
   "metadata": {
    "collapsed": true
   },
   "outputs": [],
   "source": []
  },
  {
   "cell_type": "code",
   "execution_count": 146,
   "metadata": {
    "collapsed": true
   },
   "outputs": [],
   "source": [
    "with open('tmp_out.txt', 'w') as f: \n",
    "    print(\"\\n\".join(pat_text1), file=f)"
   ]
  },
  {
   "cell_type": "code",
   "execution_count": null,
   "metadata": {
    "collapsed": true
   },
   "outputs": [],
   "source": [
    "['grants2012/ipg120417.xml', 6067926],\n",
    " ['grants2012/ipg121204.xml', 6903406],\n",
    " ['grants2012/ipg121204.xml', 6903688]"
   ]
  },
  {
   "cell_type": "code",
   "execution_count": null,
   "metadata": {
    "collapsed": true
   },
   "outputs": [],
   "source": []
  },
  {
   "cell_type": "code",
   "execution_count": null,
   "metadata": {
    "collapsed": true
   },
   "outputs": [],
   "source": []
  },
  {
   "cell_type": "code",
   "execution_count": null,
   "metadata": {
    "collapsed": true
   },
   "outputs": [],
   "source": []
  },
  {
   "cell_type": "code",
   "execution_count": 129,
   "metadata": {
    "collapsed": true
   },
   "outputs": [],
   "source": [
    "a, b = res_tup"
   ]
  },
  {
   "cell_type": "code",
   "execution_count": null,
   "metadata": {
    "collapsed": true
   },
   "outputs": [],
   "source": []
  },
  {
   "cell_type": "code",
   "execution_count": null,
   "metadata": {
    "collapsed": true
   },
   "outputs": [],
   "source": []
  },
  {
   "cell_type": "code",
   "execution_count": 86,
   "metadata": {},
   "outputs": [
    {
     "data": {
      "text/plain": [
       "'<doc-number>15146848</doc-number>'"
      ]
     },
     "execution_count": 86,
     "metadata": {},
     "output_type": "execute_result"
    }
   ],
   "source": [
    "res_tup[1][res_tup[0]]"
   ]
  },
  {
   "cell_type": "code",
   "execution_count": 88,
   "metadata": {},
   "outputs": [
    {
     "data": {
      "text/plain": [
       "['<subclass>F</subclass>',\n",
       " '<main-group>17</main-group>',\n",
       " '<subgroup>30371</subgroup>',\n",
       " '<symbol-position>L</symbol-position>',\n",
       " '<classification-value>I</classification-value>',\n",
       " '<action-date><date>20171207</date></action-date>',\n",
       " '<generating-office><country>US</country></generating-office>',\n",
       " '<classification-status>B</classification-status>',\n",
       " '<classification-data-source>H</classification-data-source>',\n",
       " '<scheme-origination-code>C</scheme-origination-code>',\n",
       " '</classification-cpc>',\n",
       " '<classification-cpc>',\n",
       " '<cpc-version-indicator><date>20130101</date></cpc-version-indicator>',\n",
       " '<section>G</section>',\n",
       " '<class>06</class>',\n",
       " '<subclass>F</subclass>',\n",
       " '<main-group>17</main-group>',\n",
       " '<subgroup>3028</subgroup>',\n",
       " '<symbol-position>L</symbol-position>',\n",
       " '<classification-value>I</classification-value>',\n",
       " '<action-date><date>20171207</date></action-date>',\n",
       " '<generating-office><country>US</country></generating-office>',\n",
       " '<classification-status>B</classification-status>',\n",
       " '<classification-data-source>H</classification-data-source>',\n",
       " '<scheme-origination-code>C</scheme-origination-code>',\n",
       " '</classification-cpc>',\n",
       " '<classification-cpc>',\n",
       " '<cpc-version-indicator><date>20130101</date></cpc-version-indicator>',\n",
       " '<section>G</section>',\n",
       " '<class>06</class>',\n",
       " '<subclass>K</subclass>',\n",
       " '<main-group>9</main-group>',\n",
       " '<subgroup>03</subgroup>',\n",
       " '<symbol-position>L</symbol-position>',\n",
       " '<classification-value>I</classification-value>',\n",
       " '<action-date><date>20171207</date></action-date>',\n",
       " '<generating-office><country>US</country></generating-office>',\n",
       " '<classification-status>B</classification-status>',\n",
       " '<classification-data-source>H</classification-data-source>',\n",
       " '<scheme-origination-code>C</scheme-origination-code>',\n",
       " '</classification-cpc>',\n",
       " '</further-cpc>',\n",
       " '</classifications-cpc>',\n",
       " '<invention-title id=\"d2e43\">GLOBAL GEOGRAPHIC INFORMATION RETRIEVAL, VALIDATION, AND NORMALIZATION</invention-title>',\n",
       " '<us-related-documents>',\n",
       " '<continuation>',\n",
       " '<relation>',\n",
       " '<parent-doc>',\n",
       " '<document-id>',\n",
       " '<country>US</country>',\n",
       " '<doc-number>15146848</doc-number>',\n",
       " '<date>20160504</date>',\n",
       " '</document-id>',\n",
       " '<parent-grant-document>',\n",
       " '<document-id>',\n",
       " '<country>US</country>',\n",
       " '<doc-number>9767354</doc-number>',\n",
       " '</document-id>',\n",
       " '</parent-grant-document>',\n",
       " '</parent-doc>',\n",
       " '<child-doc>',\n",
       " '<document-id>',\n",
       " '<country>US</country>',\n",
       " '<doc-number>15686017</doc-number>',\n",
       " '</document-id>',\n",
       " '</child-doc>',\n",
       " '</relation>',\n",
       " '</continuation>',\n",
       " '<continuation-in-part>',\n",
       " '<relation>',\n",
       " '<parent-doc>',\n",
       " '<document-id>',\n",
       " '<country>US</country>',\n",
       " '<doc-number>14588147</doc-number>',\n",
       " '<date>20141231</date>',\n",
       " '</document-id>',\n",
       " '<parent-grant-document>',\n",
       " '<document-id>',\n",
       " '<country>US</country>',\n",
       " '<doc-number>9342741</doc-number>',\n",
       " '</document-id>',\n",
       " '</parent-grant-document>',\n",
       " '</parent-doc>',\n",
       " '<child-doc>',\n",
       " '<document-id>',\n",
       " '<country>US</country>',\n",
       " '<doc-number>15146848</doc-number>',\n",
       " '</document-id>',\n",
       " '</child-doc>',\n",
       " '</relation>',\n",
       " '</continuation-in-part>',\n",
       " '<continuation>',\n",
       " '<relation>',\n",
       " '<parent-doc>',\n",
       " '<document-id>',\n",
       " '<country>US</country>',\n",
       " '<doc-number>14176006</doc-number>',\n",
       " '<date>20140207</date>',\n",
       " '</document-id>',\n",
       " '<parent-grant-document>']"
      ]
     },
     "execution_count": 88,
     "metadata": {},
     "output_type": "execute_result"
    }
   ],
   "source": [
    "res_tup[1][950:1050]"
   ]
  },
  {
   "cell_type": "code",
   "execution_count": null,
   "metadata": {
    "collapsed": true
   },
   "outputs": [],
   "source": []
  },
  {
   "cell_type": "code",
   "execution_count": null,
   "metadata": {
    "collapsed": true
   },
   "outputs": [],
   "source": []
  },
  {
   "cell_type": "code",
   "execution_count": null,
   "metadata": {
    "collapsed": true
   },
   "outputs": [],
   "source": []
  },
  {
   "cell_type": "code",
   "execution_count": 78,
   "metadata": {
    "collapsed": true
   },
   "outputs": [],
   "source": [
    "res_tup = retrieve_subtext_fast(6067926, 10, '../data/grants2012/ipg120417.xml')"
   ]
  },
  {
   "cell_type": "code",
   "execution_count": 79,
   "metadata": {},
   "outputs": [
    {
     "data": {
      "text/plain": [
       "10"
      ]
     },
     "execution_count": 79,
     "metadata": {},
     "output_type": "execute_result"
    }
   ],
   "source": [
    "res_tup[0]"
   ]
  },
  {
   "cell_type": "code",
   "execution_count": 80,
   "metadata": {},
   "outputs": [
    {
     "data": {
      "text/plain": [
       "'<doc-number>7945484</doc-number>'"
      ]
     },
     "execution_count": 80,
     "metadata": {},
     "output_type": "execute_result"
    }
   ],
   "source": [
    "res_tup[1][10]"
   ]
  },
  {
   "cell_type": "code",
   "execution_count": null,
   "metadata": {
    "collapsed": true
   },
   "outputs": [],
   "source": []
  },
  {
   "cell_type": "code",
   "execution_count": null,
   "metadata": {
    "collapsed": true
   },
   "outputs": [],
   "source": []
  },
  {
   "cell_type": "code",
   "execution_count": 83,
   "metadata": {},
   "outputs": [
    {
     "data": {
      "text/plain": [
       "['15146848', '15192621', '15334971', '15049456', '15282523']"
      ]
     },
     "execution_count": 83,
     "metadata": {},
     "output_type": "execute_result"
    }
   ],
   "source": [
    "list(index2017_we_need.keys())[0:5]"
   ]
  },
  {
   "cell_type": "code",
   "execution_count": 84,
   "metadata": {},
   "outputs": [
    {
     "data": {
      "text/plain": [
       "[['application2017/ipa171207.xml', 5183637],\n",
       " ['application2017/ipa171207.xml', 5183673]]"
      ]
     },
     "execution_count": 84,
     "metadata": {},
     "output_type": "execute_result"
    }
   ],
   "source": [
    "index2017_we_need['15146848']"
   ]
  },
  {
   "cell_type": "code",
   "execution_count": null,
   "metadata": {
    "collapsed": true
   },
   "outputs": [],
   "source": []
  },
  {
   "cell_type": "code",
   "execution_count": 91,
   "metadata": {
    "collapsed": true
   },
   "outputs": [],
   "source": [
    "res_tup = retrieve_subtext_fast(5183637, 5000, '../data/application2017/ipa171207.xml')"
   ]
  },
  {
   "cell_type": "code",
   "execution_count": 96,
   "metadata": {},
   "outputs": [
    {
     "data": {
      "text/plain": [
       "4667"
      ]
     },
     "execution_count": 96,
     "metadata": {},
     "output_type": "execute_result"
    }
   ],
   "source": [
    "find_nearest_root_element(res_tup[0], res_tup[1], 'us-patent-application')"
   ]
  },
  {
   "cell_type": "code",
   "execution_count": 93,
   "metadata": {},
   "outputs": [
    {
     "data": {
      "text/plain": [
       "5000"
      ]
     },
     "execution_count": 93,
     "metadata": {},
     "output_type": "execute_result"
    }
   ],
   "source": [
    "res_tup[0]"
   ]
  },
  {
   "cell_type": "code",
   "execution_count": 97,
   "metadata": {},
   "outputs": [
    {
     "data": {
      "text/plain": [
       "'<us-patent-application lang=\"EN\" dtd-version=\"v4.4 2014-04-03\" file=\"US20170351915A1-20171207.XML\" status=\"PRODUCTION\" id=\"us-patent-application\" country=\"US\" date-produced=\"20171121\" date-publ=\"20171207\">'"
      ]
     },
     "execution_count": 97,
     "metadata": {},
     "output_type": "execute_result"
    }
   ],
   "source": [
    "res_tup[1][4667]"
   ]
  },
  {
   "cell_type": "code",
   "execution_count": 103,
   "metadata": {
    "collapsed": true
   },
   "outputs": [],
   "source": [
    "res_pat = retrieve_begin_end(4667, res_tup[1], 'us-patent-application')"
   ]
  },
  {
   "cell_type": "code",
   "execution_count": 105,
   "metadata": {},
   "outputs": [
    {
     "data": {
      "text/plain": [
       "['<us-patent-application lang=\"EN\" dtd-version=\"v4.4 2014-04-03\" file=\"US20170351915A1-20171207.XML\" status=\"PRODUCTION\" id=\"us-patent-application\" country=\"US\" date-produced=\"20171121\" date-publ=\"20171207\">',\n",
       " '<us-bibliographic-data-application lang=\"EN\" country=\"US\">',\n",
       " '<publication-reference>',\n",
       " '<document-id>',\n",
       " '<country>US</country>']"
      ]
     },
     "execution_count": 105,
     "metadata": {},
     "output_type": "execute_result"
    }
   ],
   "source": [
    "res_pat[0:5]"
   ]
  },
  {
   "cell_type": "code",
   "execution_count": 104,
   "metadata": {},
   "outputs": [
    {
     "data": {
      "text/plain": [
       "'</us-patent-application>'"
      ]
     },
     "execution_count": 104,
     "metadata": {},
     "output_type": "execute_result"
    }
   ],
   "source": [
    "res_pat[-1]"
   ]
  },
  {
   "cell_type": "code",
   "execution_count": null,
   "metadata": {
    "collapsed": true
   },
   "outputs": [],
   "source": []
  },
  {
   "cell_type": "code",
   "execution_count": null,
   "metadata": {
    "collapsed": true
   },
   "outputs": [],
   "source": []
  },
  {
   "cell_type": "code",
   "execution_count": null,
   "metadata": {
    "collapsed": true
   },
   "outputs": [],
   "source": [
    "subtext = !sed -n ''"
   ]
  },
  {
   "cell_type": "code",
   "execution_count": null,
   "metadata": {
    "collapsed": true
   },
   "outputs": [],
   "source": []
  },
  {
   "cell_type": "code",
   "execution_count": null,
   "metadata": {
    "collapsed": true
   },
   "outputs": [],
   "source": []
  },
  {
   "cell_type": "code",
   "execution_count": null,
   "metadata": {
    "collapsed": true
   },
   "outputs": [],
   "source": []
  },
  {
   "cell_type": "code",
   "execution_count": null,
   "metadata": {
    "collapsed": true
   },
   "outputs": [],
   "source": []
  },
  {
   "cell_type": "code",
   "execution_count": null,
   "metadata": {
    "collapsed": true
   },
   "outputs": [],
   "source": []
  },
  {
   "cell_type": "code",
   "execution_count": null,
   "metadata": {
    "collapsed": true
   },
   "outputs": [],
   "source": []
  },
  {
   "cell_type": "code",
   "execution_count": null,
   "metadata": {
    "collapsed": true
   },
   "outputs": [],
   "source": []
  },
  {
   "cell_type": "markdown",
   "metadata": {},
   "source": [
    "# Try and error"
   ]
  },
  {
   "cell_type": "code",
   "execution_count": null,
   "metadata": {
    "collapsed": true
   },
   "outputs": [],
   "source": []
  },
  {
   "cell_type": "code",
   "execution_count": 74,
   "metadata": {
    "collapsed": true
   },
   "outputs": [],
   "source": [
    "# create_one_index(\"grants2012/ipg120103.xml\")"
   ]
  },
  {
   "cell_type": "code",
   "execution_count": null,
   "metadata": {
    "collapsed": true
   },
   "outputs": [],
   "source": []
  },
  {
   "cell_type": "code",
   "execution_count": null,
   "metadata": {
    "collapsed": true
   },
   "outputs": [],
   "source": []
  },
  {
   "cell_type": "code",
   "execution_count": null,
   "metadata": {
    "collapsed": true
   },
   "outputs": [],
   "source": []
  },
  {
   "cell_type": "code",
   "execution_count": 21,
   "metadata": {
    "collapsed": true
   },
   "outputs": [],
   "source": [
    "xmlrel = \"application2017/ipa170105.xml\""
   ]
  },
  {
   "cell_type": "code",
   "execution_count": 22,
   "metadata": {
    "collapsed": true
   },
   "outputs": [],
   "source": [
    "xmlpath = \"../data/\"+xmlrel"
   ]
  },
  {
   "cell_type": "code",
   "execution_count": 29,
   "metadata": {
    "collapsed": true
   },
   "outputs": [],
   "source": [
    "indexfile=INDEX_PATH+xmlrel+\".idx\""
   ]
  },
  {
   "cell_type": "code",
   "execution_count": null,
   "metadata": {
    "collapsed": true
   },
   "outputs": [],
   "source": []
  },
  {
   "cell_type": "code",
   "execution_count": 31,
   "metadata": {
    "collapsed": true
   },
   "outputs": [],
   "source": [
    "!mkdir -p {os.path.dirname(indexfile)}"
   ]
  },
  {
   "cell_type": "code",
   "execution_count": 32,
   "metadata": {
    "collapsed": true
   },
   "outputs": [],
   "source": [
    "!grep -n \"doc-number\" {xmlpath} | sed -e 's/\\(.*\\)<doc-number>\\([^<]*\\)<\\/doc-number>.*/\\1\\2/' > {indexfile}"
   ]
  },
  {
   "cell_type": "code",
   "execution_count": null,
   "metadata": {
    "collapsed": true
   },
   "outputs": [],
   "source": []
  },
  {
   "cell_type": "code",
   "execution_count": null,
   "metadata": {
    "collapsed": true
   },
   "outputs": [],
   "source": []
  },
  {
   "cell_type": "code",
   "execution_count": null,
   "metadata": {
    "collapsed": true
   },
   "outputs": [],
   "source": []
  },
  {
   "cell_type": "code",
   "execution_count": 45,
   "metadata": {
    "collapsed": true
   },
   "outputs": [],
   "source": [
    "with open(indexfile, \"r\") as f:\n",
    "    tupples = [l.rstrip(\"\\n\").split(\":\", 1) for l in f]"
   ]
  },
  {
   "cell_type": "code",
   "execution_count": 46,
   "metadata": {},
   "outputs": [
    {
     "data": {
      "text/plain": [
       "31695"
      ]
     },
     "execution_count": 46,
     "metadata": {},
     "output_type": "execute_result"
    }
   ],
   "source": [
    "len(tupples)"
   ]
  },
  {
   "cell_type": "code",
   "execution_count": 60,
   "metadata": {
    "collapsed": true
   },
   "outputs": [],
   "source": [
    "dic = {}"
   ]
  },
  {
   "cell_type": "code",
   "execution_count": 61,
   "metadata": {
    "collapsed": true
   },
   "outputs": [],
   "source": [
    "for tup in tupples:\n",
    "    dic.setdefault(tup[1], []).append(int(tup[0]))"
   ]
  },
  {
   "cell_type": "code",
   "execution_count": null,
   "metadata": {
    "collapsed": true
   },
   "outputs": [],
   "source": []
  },
  {
   "cell_type": "code",
   "execution_count": 62,
   "metadata": {},
   "outputs": [
    {
     "data": {
      "text/plain": [
       "[3508, 3648]"
      ]
     },
     "execution_count": 62,
     "metadata": {},
     "output_type": "execute_result"
    }
   ],
   "source": [
    "# some doc-number seems dup\n",
    "dic[\"15265874\"]"
   ]
  },
  {
   "cell_type": "code",
   "execution_count": null,
   "metadata": {
    "collapsed": true
   },
   "outputs": [],
   "source": []
  },
  {
   "cell_type": "code",
   "execution_count": null,
   "metadata": {
    "collapsed": true
   },
   "outputs": [],
   "source": []
  },
  {
   "cell_type": "code",
   "execution_count": null,
   "metadata": {
    "collapsed": true,
    "scrolled": false
   },
   "outputs": [],
   "source": [
    "for tup in tupples:    \n",
    "    if tup[1] not in dic:\n",
    "        print(tup[1])\n",
    "    dic[tup[1]] = 1    "
   ]
  },
  {
   "cell_type": "code",
   "execution_count": null,
   "metadata": {
    "collapsed": true
   },
   "outputs": [],
   "source": []
  },
  {
   "cell_type": "code",
   "execution_count": null,
   "metadata": {
    "collapsed": true
   },
   "outputs": [],
   "source": []
  },
  {
   "cell_type": "code",
   "execution_count": null,
   "metadata": {
    "collapsed": true
   },
   "outputs": [],
   "source": []
  },
  {
   "cell_type": "markdown",
   "metadata": {},
   "source": [
    "### just read xml file is too slow. Give up using python"
   ]
  },
  {
   "cell_type": "code",
   "execution_count": 4,
   "metadata": {
    "scrolled": true
   },
   "outputs": [
    {
     "ename": "KeyboardInterrupt",
     "evalue": "",
     "output_type": "error",
     "traceback": [
      "\u001b[0;31m---------------------------------------------------------------------------\u001b[0m",
      "\u001b[0;31mKeyboardInterrupt\u001b[0m                         Traceback (most recent call last)",
      "\u001b[0;32m<timed exec>\u001b[0m in \u001b[0;36m<module>\u001b[0;34m()\u001b[0m\n",
      "\u001b[0;32m/usr/lib/python3.5/encodings/ascii.py\u001b[0m in \u001b[0;36mdecode\u001b[0;34m(self, input, final)\u001b[0m\n\u001b[1;32m     23\u001b[0m \u001b[0;34m\u001b[0m\u001b[0m\n\u001b[1;32m     24\u001b[0m \u001b[0;32mclass\u001b[0m \u001b[0mIncrementalDecoder\u001b[0m\u001b[0;34m(\u001b[0m\u001b[0mcodecs\u001b[0m\u001b[0;34m.\u001b[0m\u001b[0mIncrementalDecoder\u001b[0m\u001b[0;34m)\u001b[0m\u001b[0;34m:\u001b[0m\u001b[0;34m\u001b[0m\u001b[0m\n\u001b[0;32m---> 25\u001b[0;31m     \u001b[0;32mdef\u001b[0m \u001b[0mdecode\u001b[0m\u001b[0;34m(\u001b[0m\u001b[0mself\u001b[0m\u001b[0;34m,\u001b[0m \u001b[0minput\u001b[0m\u001b[0;34m,\u001b[0m \u001b[0mfinal\u001b[0m\u001b[0;34m=\u001b[0m\u001b[0;32mFalse\u001b[0m\u001b[0;34m)\u001b[0m\u001b[0;34m:\u001b[0m\u001b[0;34m\u001b[0m\u001b[0m\n\u001b[0m\u001b[1;32m     26\u001b[0m         \u001b[0;32mreturn\u001b[0m \u001b[0mcodecs\u001b[0m\u001b[0;34m.\u001b[0m\u001b[0mascii_decode\u001b[0m\u001b[0;34m(\u001b[0m\u001b[0minput\u001b[0m\u001b[0;34m,\u001b[0m \u001b[0mself\u001b[0m\u001b[0;34m.\u001b[0m\u001b[0merrors\u001b[0m\u001b[0;34m)\u001b[0m\u001b[0;34m[\u001b[0m\u001b[0;36m0\u001b[0m\u001b[0;34m]\u001b[0m\u001b[0;34m\u001b[0m\u001b[0m\n\u001b[1;32m     27\u001b[0m \u001b[0;34m\u001b[0m\u001b[0m\n",
      "\u001b[0;31mKeyboardInterrupt\u001b[0m: "
     ]
    }
   ],
   "source": [
    "%%time\n",
    "\n",
    "with open(\"../data/\" + xmlpath, \"r\") as f:\n",
    "    lnum = 0\n",
    "    fpos = 0\n",
    "    line = f.readline()\n",
    "    while line:\n",
    "        lnum += 1\n",
    "        line = f.readline()\n",
    "        fpos = f.tell()\n"
   ]
  },
  {
   "cell_type": "code",
   "execution_count": null,
   "metadata": {
    "collapsed": true
   },
   "outputs": [],
   "source": []
  },
  {
   "cell_type": "markdown",
   "metadata": {},
   "source": [
    "### Whoosh trial\n",
    "\n",
    "Conclusion: indexing is too slow and we can't use it."
   ]
  },
  {
   "cell_type": "code",
   "execution_count": 6,
   "metadata": {
    "collapsed": true
   },
   "outputs": [],
   "source": [
    "from whoosh.index import create_in\n",
    "from whoosh.fields import *\n",
    "import os, os.path\n"
   ]
  },
  {
   "cell_type": "code",
   "execution_count": null,
   "metadata": {
    "collapsed": true
   },
   "outputs": [],
   "source": []
  },
  {
   "cell_type": "code",
   "execution_count": 14,
   "metadata": {
    "collapsed": true
   },
   "outputs": [],
   "source": [
    "schema = Schema(path=ID(stored=True), line_num=NUMERIC(stored=True), pos=NUMERIC(stored=True), line=TEXT)"
   ]
  },
  {
   "cell_type": "code",
   "execution_count": 15,
   "metadata": {
    "collapsed": true
   },
   "outputs": [],
   "source": [
    "if not os.path.exists(\"indexdir\"):\n",
    "    os.mkdir(\"indexdir\")\n",
    "\n",
    "ix = index.create_in(\"indexdir\", schema)"
   ]
  },
  {
   "cell_type": "code",
   "execution_count": 17,
   "metadata": {
    "collapsed": true
   },
   "outputs": [],
   "source": [
    "writer = ix.writer()"
   ]
  },
  {
   "cell_type": "code",
   "execution_count": 18,
   "metadata": {
    "collapsed": true
   },
   "outputs": [],
   "source": [
    "xmlpath = \"application2017/ipa170105.xml\""
   ]
  },
  {
   "cell_type": "code",
   "execution_count": 21,
   "metadata": {},
   "outputs": [
    {
     "ename": "KeyboardInterrupt",
     "evalue": "",
     "output_type": "error",
     "traceback": [
      "\u001b[0;31m---------------------------------------------------------------------------\u001b[0m",
      "\u001b[0;31mKeyboardInterrupt\u001b[0m                         Traceback (most recent call last)",
      "\u001b[0;32m<ipython-input-21-741c168215b1>\u001b[0m in \u001b[0;36m<module>\u001b[0;34m()\u001b[0m\n\u001b[1;32m      5\u001b[0m     \u001b[0;32mwhile\u001b[0m \u001b[0mline\u001b[0m\u001b[0;34m:\u001b[0m\u001b[0;34m\u001b[0m\u001b[0m\n\u001b[1;32m      6\u001b[0m         \u001b[0mlnum\u001b[0m \u001b[0;34m+=\u001b[0m \u001b[0;36m1\u001b[0m\u001b[0;34m\u001b[0m\u001b[0m\n\u001b[0;32m----> 7\u001b[0;31m         \u001b[0mwriter\u001b[0m\u001b[0;34m.\u001b[0m\u001b[0madd_document\u001b[0m\u001b[0;34m(\u001b[0m\u001b[0mpath\u001b[0m\u001b[0;34m=\u001b[0m\u001b[0mxmlpath\u001b[0m\u001b[0;34m,\u001b[0m \u001b[0mline\u001b[0m\u001b[0;34m=\u001b[0m\u001b[0mline\u001b[0m\u001b[0;34m,\u001b[0m \u001b[0mline_num\u001b[0m\u001b[0;34m=\u001b[0m\u001b[0mlnum\u001b[0m\u001b[0;34m,\u001b[0m \u001b[0mpos\u001b[0m\u001b[0;34m=\u001b[0m\u001b[0mfpos\u001b[0m\u001b[0;34m)\u001b[0m\u001b[0;34m\u001b[0m\u001b[0m\n\u001b[0m\u001b[1;32m      8\u001b[0m         \u001b[0mline\u001b[0m \u001b[0;34m=\u001b[0m \u001b[0mf\u001b[0m\u001b[0;34m.\u001b[0m\u001b[0mreadline\u001b[0m\u001b[0;34m(\u001b[0m\u001b[0;34m)\u001b[0m\u001b[0;34m\u001b[0m\u001b[0m\n\u001b[1;32m      9\u001b[0m         \u001b[0mfpos\u001b[0m \u001b[0;34m=\u001b[0m \u001b[0mf\u001b[0m\u001b[0;34m.\u001b[0m\u001b[0mtell\u001b[0m\u001b[0;34m(\u001b[0m\u001b[0;34m)\u001b[0m\u001b[0;34m\u001b[0m\u001b[0m\n",
      "\u001b[0;32m/usr/local/lib/python3.5/dist-packages/whoosh/writing.py\u001b[0m in \u001b[0;36madd_document\u001b[0;34m(self, **fields)\u001b[0m\n\u001b[1;32m    748\u001b[0m                 \u001b[0mscorable\u001b[0m \u001b[0;34m=\u001b[0m \u001b[0mfield\u001b[0m\u001b[0;34m.\u001b[0m\u001b[0mscorable\u001b[0m\u001b[0;34m\u001b[0m\u001b[0m\n\u001b[1;32m    749\u001b[0m                 \u001b[0;31m# Add the terms to the pool\u001b[0m\u001b[0;34m\u001b[0m\u001b[0;34m\u001b[0m\u001b[0m\n\u001b[0;32m--> 750\u001b[0;31m                 \u001b[0;32mfor\u001b[0m \u001b[0mtbytes\u001b[0m\u001b[0;34m,\u001b[0m \u001b[0mfreq\u001b[0m\u001b[0;34m,\u001b[0m \u001b[0mweight\u001b[0m\u001b[0;34m,\u001b[0m \u001b[0mvbytes\u001b[0m \u001b[0;32min\u001b[0m \u001b[0mitems\u001b[0m\u001b[0;34m:\u001b[0m\u001b[0;34m\u001b[0m\u001b[0m\n\u001b[0m\u001b[1;32m    751\u001b[0m                     \u001b[0mweight\u001b[0m \u001b[0;34m*=\u001b[0m \u001b[0mfieldboost\u001b[0m\u001b[0;34m\u001b[0m\u001b[0m\n\u001b[1;32m    752\u001b[0m                     \u001b[0;32mif\u001b[0m \u001b[0mscorable\u001b[0m\u001b[0;34m:\u001b[0m\u001b[0;34m\u001b[0m\u001b[0m\n",
      "\u001b[0;32m/usr/local/lib/python3.5/dist-packages/whoosh/fields.py\u001b[0m in \u001b[0;36mindex\u001b[0;34m(self, value, **kwargs)\u001b[0m\n\u001b[1;32m    162\u001b[0m         \u001b[0mword_values\u001b[0m \u001b[0;34m=\u001b[0m \u001b[0mself\u001b[0m\u001b[0;34m.\u001b[0m\u001b[0mformat\u001b[0m\u001b[0;34m.\u001b[0m\u001b[0mword_values\u001b[0m\u001b[0;34m\u001b[0m\u001b[0m\n\u001b[1;32m    163\u001b[0m         \u001b[0mana\u001b[0m \u001b[0;34m=\u001b[0m \u001b[0mself\u001b[0m\u001b[0;34m.\u001b[0m\u001b[0manalyzer\u001b[0m\u001b[0;34m\u001b[0m\u001b[0m\n\u001b[0;32m--> 164\u001b[0;31m         \u001b[0;32mfor\u001b[0m \u001b[0mtstring\u001b[0m\u001b[0;34m,\u001b[0m \u001b[0mfreq\u001b[0m\u001b[0;34m,\u001b[0m \u001b[0mwt\u001b[0m\u001b[0;34m,\u001b[0m \u001b[0mvbytes\u001b[0m \u001b[0;32min\u001b[0m \u001b[0mword_values\u001b[0m\u001b[0;34m(\u001b[0m\u001b[0mvalue\u001b[0m\u001b[0;34m,\u001b[0m \u001b[0mana\u001b[0m\u001b[0;34m,\u001b[0m \u001b[0;34m**\u001b[0m\u001b[0mkwargs\u001b[0m\u001b[0;34m)\u001b[0m\u001b[0;34m:\u001b[0m\u001b[0;34m\u001b[0m\u001b[0m\n\u001b[0m\u001b[1;32m    165\u001b[0m             \u001b[0;32myield\u001b[0m \u001b[0;34m(\u001b[0m\u001b[0mutf8encode\u001b[0m\u001b[0;34m(\u001b[0m\u001b[0mtstring\u001b[0m\u001b[0;34m)\u001b[0m\u001b[0;34m[\u001b[0m\u001b[0;36m0\u001b[0m\u001b[0;34m]\u001b[0m\u001b[0;34m,\u001b[0m \u001b[0mfreq\u001b[0m\u001b[0;34m,\u001b[0m \u001b[0mwt\u001b[0m\u001b[0;34m,\u001b[0m \u001b[0mvbytes\u001b[0m\u001b[0;34m)\u001b[0m\u001b[0;34m\u001b[0m\u001b[0m\n\u001b[1;32m    166\u001b[0m \u001b[0;34m\u001b[0m\u001b[0m\n",
      "\u001b[0;32m/usr/local/lib/python3.5/dist-packages/whoosh/formats.py\u001b[0m in \u001b[0;36mword_values\u001b[0;34m(self, value, analyzer, **kwargs)\u001b[0m\n\u001b[1;32m    221\u001b[0m         \u001b[0mkwargs\u001b[0m\u001b[0;34m[\u001b[0m\u001b[0;34m\"positions\"\u001b[0m\u001b[0;34m]\u001b[0m \u001b[0;34m=\u001b[0m \u001b[0;32mTrue\u001b[0m\u001b[0;34m\u001b[0m\u001b[0m\n\u001b[1;32m    222\u001b[0m         \u001b[0mkwargs\u001b[0m\u001b[0;34m[\u001b[0m\u001b[0;34m\"boosts\"\u001b[0m\u001b[0;34m]\u001b[0m \u001b[0;34m=\u001b[0m \u001b[0;32mTrue\u001b[0m\u001b[0;34m\u001b[0m\u001b[0m\n\u001b[0;32m--> 223\u001b[0;31m         \u001b[0;32mfor\u001b[0m \u001b[0mt\u001b[0m \u001b[0;32min\u001b[0m \u001b[0mtokens\u001b[0m\u001b[0;34m(\u001b[0m\u001b[0mvalue\u001b[0m\u001b[0;34m,\u001b[0m \u001b[0manalyzer\u001b[0m\u001b[0;34m,\u001b[0m \u001b[0mkwargs\u001b[0m\u001b[0;34m)\u001b[0m\u001b[0;34m:\u001b[0m\u001b[0;34m\u001b[0m\u001b[0m\n\u001b[0m\u001b[1;32m    224\u001b[0m             \u001b[0mposes\u001b[0m\u001b[0;34m[\u001b[0m\u001b[0mt\u001b[0m\u001b[0;34m.\u001b[0m\u001b[0mtext\u001b[0m\u001b[0;34m]\u001b[0m\u001b[0;34m.\u001b[0m\u001b[0mappend\u001b[0m\u001b[0;34m(\u001b[0m\u001b[0mt\u001b[0m\u001b[0;34m.\u001b[0m\u001b[0mpos\u001b[0m\u001b[0;34m)\u001b[0m\u001b[0;34m\u001b[0m\u001b[0m\n\u001b[1;32m    225\u001b[0m             \u001b[0mweights\u001b[0m\u001b[0;34m[\u001b[0m\u001b[0mt\u001b[0m\u001b[0;34m.\u001b[0m\u001b[0mtext\u001b[0m\u001b[0;34m]\u001b[0m \u001b[0;34m+=\u001b[0m \u001b[0mt\u001b[0m\u001b[0;34m.\u001b[0m\u001b[0mboost\u001b[0m\u001b[0;34m\u001b[0m\u001b[0m\n",
      "\u001b[0;32m/usr/local/lib/python3.5/dist-packages/whoosh/analysis/acore.py\u001b[0m in \u001b[0;36m<genexpr>\u001b[0;34m(.0)\u001b[0m\n\u001b[1;32m     40\u001b[0m     \"\"\"Removes tokens from a token stream where token.stopped = True.\n\u001b[1;32m     41\u001b[0m     \"\"\"\n\u001b[0;32m---> 42\u001b[0;31m     \u001b[0;32mreturn\u001b[0m \u001b[0;34m(\u001b[0m\u001b[0mt\u001b[0m \u001b[0;32mfor\u001b[0m \u001b[0mt\u001b[0m \u001b[0;32min\u001b[0m \u001b[0mtokenstream\u001b[0m \u001b[0;32mif\u001b[0m \u001b[0;32mnot\u001b[0m \u001b[0mt\u001b[0m\u001b[0;34m.\u001b[0m\u001b[0mstopped\u001b[0m\u001b[0;34m)\u001b[0m\u001b[0;34m\u001b[0m\u001b[0m\n\u001b[0m\u001b[1;32m     43\u001b[0m \u001b[0;34m\u001b[0m\u001b[0m\n\u001b[1;32m     44\u001b[0m \u001b[0;34m\u001b[0m\u001b[0m\n",
      "\u001b[0;32m/usr/local/lib/python3.5/dist-packages/whoosh/analysis/filters.py\u001b[0m in \u001b[0;36m__call__\u001b[0;34m(self, tokens)\u001b[0m\n\u001b[1;32m    299\u001b[0m \u001b[0;34m\u001b[0m\u001b[0m\n\u001b[1;32m    300\u001b[0m         \u001b[0mpos\u001b[0m \u001b[0;34m=\u001b[0m \u001b[0;32mNone\u001b[0m\u001b[0;34m\u001b[0m\u001b[0m\n\u001b[0;32m--> 301\u001b[0;31m         \u001b[0;32mfor\u001b[0m \u001b[0mt\u001b[0m \u001b[0;32min\u001b[0m \u001b[0mtokens\u001b[0m\u001b[0;34m:\u001b[0m\u001b[0;34m\u001b[0m\u001b[0m\n\u001b[0m\u001b[1;32m    302\u001b[0m             \u001b[0mtext\u001b[0m \u001b[0;34m=\u001b[0m \u001b[0mt\u001b[0m\u001b[0;34m.\u001b[0m\u001b[0mtext\u001b[0m\u001b[0;34m\u001b[0m\u001b[0m\n\u001b[1;32m    303\u001b[0m             if (len(text) >= minsize\n",
      "\u001b[0;32m/usr/local/lib/python3.5/dist-packages/whoosh/analysis/filters.py\u001b[0m in \u001b[0;36m__call__\u001b[0;34m(self, tokens)\u001b[0m\n\u001b[1;32m    223\u001b[0m \u001b[0;34m\u001b[0m\u001b[0m\n\u001b[1;32m    224\u001b[0m     \u001b[0;32mdef\u001b[0m \u001b[0m__call__\u001b[0m\u001b[0;34m(\u001b[0m\u001b[0mself\u001b[0m\u001b[0;34m,\u001b[0m \u001b[0mtokens\u001b[0m\u001b[0;34m)\u001b[0m\u001b[0;34m:\u001b[0m\u001b[0;34m\u001b[0m\u001b[0m\n\u001b[0;32m--> 225\u001b[0;31m         \u001b[0;32mfor\u001b[0m \u001b[0mt\u001b[0m \u001b[0;32min\u001b[0m \u001b[0mtokens\u001b[0m\u001b[0;34m:\u001b[0m\u001b[0;34m\u001b[0m\u001b[0m\n\u001b[0m\u001b[1;32m    226\u001b[0m             \u001b[0mt\u001b[0m\u001b[0;34m.\u001b[0m\u001b[0mtext\u001b[0m \u001b[0;34m=\u001b[0m \u001b[0mt\u001b[0m\u001b[0;34m.\u001b[0m\u001b[0mtext\u001b[0m\u001b[0;34m.\u001b[0m\u001b[0mlower\u001b[0m\u001b[0;34m(\u001b[0m\u001b[0;34m)\u001b[0m\u001b[0;34m\u001b[0m\u001b[0m\n\u001b[1;32m    227\u001b[0m             \u001b[0;32myield\u001b[0m \u001b[0mt\u001b[0m\u001b[0;34m\u001b[0m\u001b[0m\n",
      "\u001b[0;32m/usr/local/lib/python3.5/dist-packages/whoosh/analysis/tokenizers.py\u001b[0m in \u001b[0;36m__call__\u001b[0;34m(self, value, positions, chars, keeporiginal, removestops, start_pos, start_char, tokenize, mode, **kwargs)\u001b[0m\n\u001b[1;32m    131\u001b[0m         \u001b[0;32melif\u001b[0m \u001b[0;32mnot\u001b[0m \u001b[0mself\u001b[0m\u001b[0;34m.\u001b[0m\u001b[0mgaps\u001b[0m\u001b[0;34m:\u001b[0m\u001b[0;34m\u001b[0m\u001b[0m\n\u001b[1;32m    132\u001b[0m             \u001b[0;31m# The default: expression matches are used as tokens\u001b[0m\u001b[0;34m\u001b[0m\u001b[0;34m\u001b[0m\u001b[0m\n\u001b[0;32m--> 133\u001b[0;31m             \u001b[0;32mfor\u001b[0m \u001b[0mpos\u001b[0m\u001b[0;34m,\u001b[0m \u001b[0mmatch\u001b[0m \u001b[0;32min\u001b[0m \u001b[0menumerate\u001b[0m\u001b[0;34m(\u001b[0m\u001b[0mself\u001b[0m\u001b[0;34m.\u001b[0m\u001b[0mexpression\u001b[0m\u001b[0;34m.\u001b[0m\u001b[0mfinditer\u001b[0m\u001b[0;34m(\u001b[0m\u001b[0mvalue\u001b[0m\u001b[0;34m)\u001b[0m\u001b[0;34m)\u001b[0m\u001b[0;34m:\u001b[0m\u001b[0;34m\u001b[0m\u001b[0m\n\u001b[0m\u001b[1;32m    134\u001b[0m                 \u001b[0mt\u001b[0m\u001b[0;34m.\u001b[0m\u001b[0mtext\u001b[0m \u001b[0;34m=\u001b[0m \u001b[0mmatch\u001b[0m\u001b[0;34m.\u001b[0m\u001b[0mgroup\u001b[0m\u001b[0;34m(\u001b[0m\u001b[0;36m0\u001b[0m\u001b[0;34m)\u001b[0m\u001b[0;34m\u001b[0m\u001b[0m\n\u001b[1;32m    135\u001b[0m                 \u001b[0mt\u001b[0m\u001b[0;34m.\u001b[0m\u001b[0mboost\u001b[0m \u001b[0;34m=\u001b[0m \u001b[0;36m1.0\u001b[0m\u001b[0;34m\u001b[0m\u001b[0m\n",
      "\u001b[0;31mKeyboardInterrupt\u001b[0m: "
     ]
    }
   ],
   "source": [
    "with open(\"../data/\" + xmlpath, \"r\") as f:\n",
    "    lnum = 0\n",
    "    fpos = 0\n",
    "    line = f.readline()\n",
    "    while line:\n",
    "        lnum += 1\n",
    "        writer.add_document(path=xmlpath, line=line, line_num=lnum, pos=fpos)\n",
    "        line = f.readline()\n",
    "        fpos = f.tell()\n",
    "\n",
    "writer.commit()\n",
    "ix.close()"
   ]
  },
  {
   "cell_type": "code",
   "execution_count": null,
   "metadata": {
    "collapsed": true
   },
   "outputs": [],
   "source": []
  },
  {
   "cell_type": "code",
   "execution_count": null,
   "metadata": {
    "collapsed": true
   },
   "outputs": [],
   "source": []
  },
  {
   "cell_type": "code",
   "execution_count": null,
   "metadata": {
    "collapsed": true
   },
   "outputs": [],
   "source": []
  },
  {
   "cell_type": "code",
   "execution_count": null,
   "metadata": {
    "collapsed": true
   },
   "outputs": [],
   "source": []
  },
  {
   "cell_type": "code",
   "execution_count": null,
   "metadata": {
    "collapsed": true
   },
   "outputs": [],
   "source": []
  },
  {
   "cell_type": "code",
   "execution_count": null,
   "metadata": {
    "collapsed": true
   },
   "outputs": [],
   "source": []
  },
  {
   "cell_type": "code",
   "execution_count": null,
   "metadata": {
    "collapsed": true
   },
   "outputs": [],
   "source": []
  }
 ],
 "metadata": {
  "kernelspec": {
   "display_name": "Python 3",
   "language": "python",
   "name": "python3"
  },
  "language_info": {
   "codemirror_mode": {
    "name": "ipython",
    "version": 3
   },
   "file_extension": ".py",
   "mimetype": "text/x-python",
   "name": "python",
   "nbconvert_exporter": "python",
   "pygments_lexer": "ipython3",
   "version": "3.5.2"
  },
  "widgets": {
   "state": {
    "6659e9352867459e8c77ccc86d09b731": {
     "views": [
      {
       "cell_index": 96
      }
     ]
    }
   },
   "version": "1.2.0"
  }
 },
 "nbformat": 4,
 "nbformat_minor": 2
}
