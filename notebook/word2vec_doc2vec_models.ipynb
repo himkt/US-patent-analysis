{
 "cells": [
  {
   "cell_type": "markdown",
   "metadata": {},
   "source": [
    "# Similarity computations using w2v and d2v\n",
    "\n",
    "Compute similarities among patents using word2vec and doc2vec models.  \n",
    "Use the same datasets as `tfidf_nearest.ipynb`."
   ]
  },
  {
   "cell_type": "code",
   "execution_count": 3,
   "metadata": {},
   "outputs": [
    {
     "name": "stdout",
     "output_type": "stream",
     "text": [
      "Collecting gensim\n",
      "  Downloading https://files.pythonhosted.org/packages/03/0a/02c7ac51565a0a5b05a07936e5559a635d5d2e8cf19801e0f00204df5ece/gensim-3.6.0-cp35-cp35m-manylinux1_x86_64.whl (23.6MB)\n",
      "\u001b[K    100% |################################| 23.6MB 59kB/s  eta 0:00:01\n",
      "\u001b[?25hRequirement already satisfied (use --upgrade to upgrade): scipy>=0.18.1 in /usr/local/lib/python3.5/dist-packages (from gensim)\n",
      "Collecting smart-open>=1.2.1 (from gensim)\n",
      "  Downloading https://files.pythonhosted.org/packages/4b/1f/6f27e3682124de63ac97a0a5876da6186de6c19410feab66c1543afab055/smart_open-1.7.1.tar.gz\n",
      "Requirement already satisfied (use --upgrade to upgrade): numpy>=1.11.3 in /usr/local/lib/python3.5/dist-packages (from gensim)\n",
      "Requirement already satisfied (use --upgrade to upgrade): six>=1.5.0 in /usr/local/lib/python3.5/dist-packages (from gensim)\n",
      "Collecting boto>=2.32 (from smart-open>=1.2.1->gensim)\n",
      "  Downloading https://files.pythonhosted.org/packages/23/10/c0b78c27298029e4454a472a1919bde20cb182dab1662cec7f2ca1dcc523/boto-2.49.0-py2.py3-none-any.whl (1.4MB)\n",
      "\u001b[K    100% |################################| 1.4MB 1.1MB/s eta 0:00:01\n",
      "\u001b[?25hCollecting bz2file (from smart-open>=1.2.1->gensim)\n",
      "  Downloading https://files.pythonhosted.org/packages/61/39/122222b5e85cd41c391b68a99ee296584b2a2d1d233e7ee32b4532384f2d/bz2file-0.98.tar.gz\n",
      "Collecting requests (from smart-open>=1.2.1->gensim)\n",
      "  Downloading https://files.pythonhosted.org/packages/65/47/7e02164a2a3db50ed6d8a6ab1d6d60b69c4c3fdf57a284257925dfc12bda/requests-2.19.1-py2.py3-none-any.whl (91kB)\n",
      "\u001b[K    100% |################################| 92kB 10.2MB/s ta 0:00:01\n",
      "\u001b[?25hCollecting boto3 (from smart-open>=1.2.1->gensim)\n",
      "  Downloading https://files.pythonhosted.org/packages/8e/49/4616f3beaa9974aa275933218fe64b200f4177ff5f0753a3b72c5cec5dda/boto3-1.9.14-py2.py3-none-any.whl (128kB)\n",
      "\u001b[K    100% |################################| 133kB 9.0MB/s eta 0:00:01\n",
      "\u001b[?25hCollecting urllib3<1.24,>=1.21.1 (from requests->smart-open>=1.2.1->gensim)\n",
      "  Downloading https://files.pythonhosted.org/packages/bd/c9/6fdd990019071a4a32a5e7cb78a1d92c53851ef4f56f62a3486e6a7d8ffb/urllib3-1.23-py2.py3-none-any.whl (133kB)\n",
      "\u001b[K    100% |################################| 143kB 9.1MB/s eta 0:00:01\n",
      "\u001b[?25hCollecting idna<2.8,>=2.5 (from requests->smart-open>=1.2.1->gensim)\n",
      "  Downloading https://files.pythonhosted.org/packages/4b/2a/0276479a4b3caeb8a8c1af2f8e4355746a97fab05a372e4a2c6a6b876165/idna-2.7-py2.py3-none-any.whl (58kB)\n",
      "\u001b[K    100% |################################| 61kB 10.3MB/s ta 0:00:01\n",
      "\u001b[?25hCollecting certifi>=2017.4.17 (from requests->smart-open>=1.2.1->gensim)\n",
      "  Downloading https://files.pythonhosted.org/packages/df/f7/04fee6ac349e915b82171f8e23cee63644d83663b34c539f7a09aed18f9e/certifi-2018.8.24-py2.py3-none-any.whl (147kB)\n",
      "\u001b[K    100% |################################| 153kB 8.6MB/s eta 0:00:01\n",
      "\u001b[?25hCollecting chardet<3.1.0,>=3.0.2 (from requests->smart-open>=1.2.1->gensim)\n",
      "  Downloading https://files.pythonhosted.org/packages/bc/a9/01ffebfb562e4274b6487b4bb1ddec7ca55ec7510b22e4c51f14098443b8/chardet-3.0.4-py2.py3-none-any.whl (133kB)\n",
      "\u001b[K    100% |################################| 143kB 9.8MB/s eta 0:00:01\n",
      "\u001b[?25hCollecting jmespath<1.0.0,>=0.7.1 (from boto3->smart-open>=1.2.1->gensim)\n",
      "  Downloading https://files.pythonhosted.org/packages/b7/31/05c8d001f7f87f0f07289a5fc0fc3832e9a57f2dbd4d3b0fee70e0d51365/jmespath-0.9.3-py2.py3-none-any.whl\n",
      "Collecting s3transfer<0.2.0,>=0.1.10 (from boto3->smart-open>=1.2.1->gensim)\n",
      "  Downloading https://files.pythonhosted.org/packages/d7/14/2a0004d487464d120c9fb85313a75cd3d71a7506955be458eebfe19a6b1d/s3transfer-0.1.13-py2.py3-none-any.whl (59kB)\n",
      "\u001b[K    100% |################################| 61kB 10.9MB/s ta 0:00:01\n",
      "\u001b[?25hCollecting botocore<1.13.0,>=1.12.14 (from boto3->smart-open>=1.2.1->gensim)\n",
      "  Downloading https://files.pythonhosted.org/packages/22/fa/af1ad7aebe166932fe1cac5eae5413d090eca4d723829756c31fc53c174d/botocore-1.12.14-py2.py3-none-any.whl (4.7MB)\n",
      "\u001b[K    100% |################################| 4.7MB 311kB/s eta 0:00:01\n",
      "\u001b[?25hCollecting docutils>=0.10 (from botocore<1.13.0,>=1.12.14->boto3->smart-open>=1.2.1->gensim)\n",
      "  Downloading https://files.pythonhosted.org/packages/36/fa/08e9e6e0e3cbd1d362c3bbee8d01d0aedb2155c4ac112b19ef3cae8eed8d/docutils-0.14-py3-none-any.whl (543kB)\n",
      "\u001b[K    100% |################################| 552kB 2.8MB/s eta 0:00:01\n",
      "\u001b[?25hRequirement already satisfied (use --upgrade to upgrade): python-dateutil<3.0.0,>=2.1; python_version >= \"2.7\" in /usr/local/lib/python3.5/dist-packages (from botocore<1.13.0,>=1.12.14->boto3->smart-open>=1.2.1->gensim)\n",
      "Building wheels for collected packages: smart-open, bz2file\n",
      "  Running setup.py bdist_wheel for smart-open ... \u001b[?25ldone\n",
      "\u001b[?25h  Stored in directory: /root/.cache/pip/wheels/23/00/44/e5b939f7a80c04e32297dbd6d96fa3065af89ecf57e2b5f89f\n",
      "  Running setup.py bdist_wheel for bz2file ... \u001b[?25ldone\n",
      "\u001b[?25h  Stored in directory: /root/.cache/pip/wheels/81/75/d6/e1317bf09bf1af5a30befc2a007869fa6e1f516b8f7c591cb9\n",
      "Successfully built smart-open bz2file\n",
      "Installing collected packages: boto, bz2file, urllib3, idna, certifi, chardet, requests, jmespath, docutils, botocore, s3transfer, boto3, smart-open, gensim\n",
      "Successfully installed boto-2.49.0 boto3-1.9.14 botocore-1.12.14 bz2file-0.98 certifi-2018.8.24 chardet-3.0.4 docutils-0.14 gensim-3.6.0 idna-2.7 jmespath-0.9.3 requests-2.19.1 s3transfer-0.1.13 smart-open-1.7.1 urllib3-1.23\n",
      "\u001b[33mYou are using pip version 8.1.1, however version 18.0 is available.\n",
      "You should consider upgrading via the 'pip install --upgrade pip' command.\u001b[0m\n"
     ]
    }
   ],
   "source": [
    "!pip3 install gensim"
   ]
  },
  {
   "cell_type": "code",
   "execution_count": 1,
   "metadata": {},
   "outputs": [],
   "source": [
    "import h5py\n",
    "import pandas as pd\n",
    "import numpy as np\n",
    "import pickle"
   ]
  },
  {
   "cell_type": "code",
   "execution_count": 2,
   "metadata": {},
   "outputs": [],
   "source": [
    "citations_info_target = pd.read_pickle(\"../data/citations_info_2000.df.gz\")\n",
    "training_app_df = pd.read_pickle(\"../data/training_app_1000.df.gz\")\n",
    "testset_app_df = pd.read_pickle(\"../data/testset_app_1000.df.gz\")\n",
    "grants_target_df = pd.read_pickle(\"../data/grants_for_2000.df.gz\")"
   ]
  },
  {
   "cell_type": "code",
   "execution_count": 3,
   "metadata": {},
   "outputs": [],
   "source": [
    "import re\n",
    "CLAIM_PAT = re.compile(r'<claims[^>]*>(.*)</claims>',re.MULTILINE|re.DOTALL)\n",
    "TAG_PAT = re.compile(r\"<.*?>\")\n",
    "def whole_xml_to_claim_xml(whole):\n",
    "    mat = CLAIM_PAT.search(whole)\n",
    "    return mat.group(1)\n",
    "def whole_xml_to_claim(whole):\n",
    "    return TAG_PAT.sub(' ', whole_xml_to_claim_xml(whole))\n",
    "\n",
    "grants_target_df[\"claim\"] = grants_target_df[\"xml\"].map(whole_xml_to_claim)"
   ]
  },
  {
   "cell_type": "code",
   "execution_count": 4,
   "metadata": {},
   "outputs": [],
   "source": [
    "def set_one_answer_appid(labeldf, oneappid):\n",
    "    cited_patids = citations_info_target[citations_info_target.app_id == oneappid].parsed\n",
    "    labeldf.loc[oneappid] = labeldf.columns.isin(cited_patids)\n",
    "    \n",
    "def create_label_df():\n",
    "    label_df = pd.DataFrame(columns=grants_target_df.parsed.values, dtype=np.bool)\n",
    "    for appid in testset_app_df.app_id:\n",
    "        set_one_answer_appid(label_df, appid)\n",
    "    return label_df\n",
    "\n",
    "label_df = create_label_df()"
   ]
  },
  {
   "cell_type": "code",
   "execution_count": 5,
   "metadata": {},
   "outputs": [],
   "source": [
    "def predict_test_set(predict_func):\n",
    "    \"\"\"\n",
    "    predict_func(claims) return NxM of boolean. N is len(claims). M is rownum of grants_target_df.\n",
    "            value indicate n claim is cite patent of m row of grants_all_df.\n",
    "    \"\"\"\n",
    "    predictdf = pd.DataFrame(columns=grants_target_df.parsed.values, dtype=np.bool)\n",
    "    res = predict_func(testset_app_df[\"xml\"].map(whole_xml_to_claim))\n",
    "    for idx, appid in enumerate(testset_app_df.app_id):\n",
    "        predictdf.loc[appid] = res[idx, :]\n",
    "    return predictdf"
   ]
  },
  {
   "cell_type": "code",
   "execution_count": 6,
   "metadata": {},
   "outputs": [],
   "source": [
    "def calc_TPs(preddf, labeldf):\n",
    "    return sum([sum(preddf.loc[one_appid][labeldf.loc[one_appid]]) for one_appid in testset_app_df.app_id])\n",
    "\n",
    "def calc_FPs(preddf, labeldf):\n",
    "    return sum([sum(preddf.loc[one_appid][~labeldf.loc[one_appid]]) for one_appid in testset_app_df.app_id])\n",
    "\n",
    "def calc_TNs(preddf, labeldf):\n",
    "    return sum([sum(preddf.loc[one_appid][~labeldf.loc[one_appid]] == False) for one_appid in testset_app_df.app_id])\n",
    "\n",
    "def calc_FNs(preddf, labeldf):\n",
    "    return sum([sum(preddf.loc[one_appid][labeldf.loc[one_appid]] == False) for one_appid in testset_app_df.app_id])\n",
    "\n",
    "def calc_TFPNs(preddf, labeldf):\n",
    "    return calc_TPs(preddf, labeldf), calc_FPs(preddf, labeldf), calc_TNs(preddf, labeldf), calc_FNs(preddf, labeldf)"
   ]
  },
  {
   "cell_type": "code",
   "execution_count": 7,
   "metadata": {},
   "outputs": [],
   "source": [
    "def calc_summary_TFPNs(TP, FP, TN, FN):\n",
    "    \"return acc, prec, recall, f1.\"\n",
    "    return pd.DataFrame(columns=[\"acc\", \"prec\", \"recall\", \"f1\"], data=[[(TP+TN)/(TP+FP+TN+FN), TP/(TP+FP), TP/(TP+FN), 2*TP/(2*TP+FP+FN)]])\n",
    "    \n",
    "def calc_summary(preddf, labeldf):\n",
    "    TP, FP, TN, FN = calc_TFPNs(preddf, labeldf)\n",
    "    return calc_summary_TFPNs(TP, FP, TN, FN)"
   ]
  },
  {
   "cell_type": "markdown",
   "metadata": {},
   "source": [
    "# Word2Vec model"
   ]
  },
  {
   "cell_type": "code",
   "execution_count": 8,
   "metadata": {},
   "outputs": [],
   "source": [
    "from gensim.models import Word2Vec\n",
    "from scipy import spatial\n",
    "\n",
    "import multiprocessing\n",
    "CPUNUM = multiprocessing.cpu_count()"
   ]
  },
  {
   "cell_type": "code",
   "execution_count": 9,
   "metadata": {},
   "outputs": [],
   "source": [
    "grants_target_claims = grants_target_df['claim'].map(lambda x:x.split()).tolist()"
   ]
  },
  {
   "cell_type": "code",
   "execution_count": 10,
   "metadata": {},
   "outputs": [
    {
     "name": "stdout",
     "output_type": "stream",
     "text": [
      "CPU times: user 2min 21s, sys: 340 ms, total: 2min 22s\n",
      "Wall time: 38.1 s\n"
     ]
    }
   ],
   "source": [
    "%%time\n",
    "\n",
    "w2v = Word2Vec(grants_target_claims, size=100, window=5, min_count=5, workers=CPUNUM, iter=10, hs=1)"
   ]
  },
  {
   "cell_type": "code",
   "execution_count": 11,
   "metadata": {},
   "outputs": [
    {
     "name": "stderr",
     "output_type": "stream",
     "text": [
      "/usr/local/lib/python3.5/dist-packages/ipykernel_launcher.py:1: DeprecationWarning: Call to deprecated `most_similar` (Method will be removed in 4.0.0, use self.wv.most_similar() instead).\n",
      "  \"\"\"Entry point for launching an IPython kernel.\n",
      "/usr/local/lib/python3.5/dist-packages/gensim/matutils.py:737: FutureWarning: Conversion of the second argument of issubdtype from `int` to `np.signedinteger` is deprecated. In future, it will be treated as `np.int64 == np.dtype(int).type`.\n",
      "  if np.issubdtype(vec.dtype, np.int):\n"
     ]
    },
    {
     "data": {
      "text/plain": [
       "[('machine.', 0.5617180466651917),\n",
       " ('machine,', 0.5128198862075806),\n",
       " ('system', 0.46534883975982666),\n",
       " ('machine;', 0.44383180141448975),\n",
       " ('engine', 0.4297574758529663),\n",
       " ('machines', 0.42752546072006226),\n",
       " ('machines.', 0.4204997420310974),\n",
       " ('broadcaster', 0.40508541464805603),\n",
       " ('medium', 0.40062206983566284),\n",
       " ('refrigerator', 0.39362210035324097)]"
      ]
     },
     "execution_count": 11,
     "metadata": {},
     "output_type": "execute_result"
    }
   ],
   "source": [
    "w2v.most_similar('machine')"
   ]
  },
  {
   "cell_type": "code",
   "execution_count": 12,
   "metadata": {},
   "outputs": [],
   "source": [
    "grants_ids = columns=grants_target_df.parsed.values"
   ]
  },
  {
   "cell_type": "code",
   "execution_count": 13,
   "metadata": {},
   "outputs": [
    {
     "name": "stderr",
     "output_type": "stream",
     "text": [
      "/usr/local/lib/python3.5/dist-packages/ipykernel_launcher.py:1: DeprecationWarning: Call to deprecated `__getitem__` (Method will be removed in 4.0.0, use self.wv.__getitem__() instead).\n",
      "  \"\"\"Entry point for launching an IPython kernel.\n"
     ]
    },
    {
     "data": {
      "text/plain": [
       "array([ 0.5916048 , -1.7218616 , -0.59667057,  0.5818731 ,  0.52734256,\n",
       "       -0.512131  , -1.4294631 , -3.4880166 ,  0.3735    , -0.21845096,\n",
       "       -0.72319996,  1.9481097 ,  0.3326751 , -2.0113938 , -0.4199664 ,\n",
       "       -0.4454579 , -2.2155037 ,  0.44235536,  1.5916381 , -1.2711016 ,\n",
       "        0.3362299 ,  0.4483676 , -2.1437216 , -0.7228693 ,  1.1525648 ,\n",
       "        0.01781464, -0.90633017, -0.6028116 , -0.09912238, -1.3534193 ,\n",
       "        0.3907733 , -1.2966522 , -2.0048268 , -0.26193586,  0.02206579,\n",
       "        0.26357436,  1.5647645 ,  1.2191278 , -0.67076594, -0.53152335,\n",
       "       -1.5127419 ,  0.3441564 ,  0.34324253, -0.07784438,  1.5538245 ,\n",
       "        0.57257354,  0.2855848 ,  0.01412794,  0.843     ,  0.5111835 ,\n",
       "       -0.06183404, -0.07303996,  0.272247  , -0.79330105,  1.7968342 ,\n",
       "       -1.1751816 ,  0.16157393, -0.7912256 , -0.35905218, -0.24691026,\n",
       "       -0.82257247, -0.95601   , -1.0435181 , -0.07435986,  0.1962175 ,\n",
       "        0.336578  , -0.6567713 , -0.7824007 ,  1.2987434 ,  1.0169649 ,\n",
       "       -0.77226394,  1.009147  ,  0.7624243 , -1.5475917 , -1.7408005 ,\n",
       "       -0.7463919 , -1.0400964 , -0.3264013 , -0.9667019 ,  0.3125855 ,\n",
       "        2.0929482 ,  0.7856653 , -1.1973407 , -1.9619524 , -0.15846807,\n",
       "       -1.6709048 , -1.0942007 ,  0.7103491 ,  0.50547504,  2.678092  ,\n",
       "        0.5530826 ,  0.3404933 ,  0.4909743 ,  1.1487129 ,  1.3687898 ,\n",
       "       -1.0757114 , -1.7356175 ,  0.13241404,  0.7789848 , -0.57013315],\n",
       "      dtype=float32)"
      ]
     },
     "execution_count": 13,
     "metadata": {},
     "output_type": "execute_result"
    }
   ],
   "source": [
    "np.average(w2v[['machine', 'water']], axis=0)"
   ]
  },
  {
   "cell_type": "code",
   "execution_count": 14,
   "metadata": {},
   "outputs": [],
   "source": [
    "def text_to_vec(text):\n",
    "    words = text.split()\n",
    "    filtered_words = []\n",
    "    for word in words:\n",
    "        if word in w2v.wv.vocab:\n",
    "            filtered_words.append(word)\n",
    "    vec = np.average(w2v[filtered_words], axis=0)\n",
    "    return vec"
   ]
  },
  {
   "cell_type": "code",
   "execution_count": 15,
   "metadata": {},
   "outputs": [
    {
     "name": "stderr",
     "output_type": "stream",
     "text": [
      "/usr/local/lib/python3.5/dist-packages/ipykernel_launcher.py:7: DeprecationWarning: Call to deprecated `__getitem__` (Method will be removed in 4.0.0, use self.wv.__getitem__() instead).\n",
      "  import sys\n"
     ]
    }
   ],
   "source": [
    "grants_w2v_vectors = []\n",
    "for i, id in enumerate(grants_ids):\n",
    "    vec = text_to_vec(grants_target_df.loc[i]['claim'])\n",
    "    grants_w2v_vectors.append(vec)\n",
    "grants_w2v_vectors = np.array(grants_w2v_vectors)"
   ]
  },
  {
   "cell_type": "code",
   "execution_count": 16,
   "metadata": {},
   "outputs": [
    {
     "data": {
      "text/plain": [
       "array([0, 4])"
      ]
     },
     "execution_count": 16,
     "metadata": {},
     "output_type": "execute_result"
    }
   ],
   "source": [
    "np.argsort([6,1,2,4,5])[::-1][0:2]"
   ]
  },
  {
   "cell_type": "code",
   "execution_count": 17,
   "metadata": {},
   "outputs": [],
   "source": [
    "def find_most_similar(vec):\n",
    "    topN = 10\n",
    "    similarities = []\n",
    "    for grants_vec in grants_w2v_vectors:\n",
    "        sim = 1 - spatial.distance.cosine(vec, grants_vec)\n",
    "        similarities.append(sim)\n",
    "    return [np.argmax(similarities)]\n",
    "#     return np.argsort(similarities)[::-1][0:topN]"
   ]
  },
  {
   "cell_type": "code",
   "execution_count": 18,
   "metadata": {},
   "outputs": [
    {
     "data": {
      "text/plain": [
       "[2]"
      ]
     },
     "execution_count": 18,
     "metadata": {},
     "output_type": "execute_result"
    }
   ],
   "source": [
    "find_most_similar(grants_w2v_vectors[2,:])"
   ]
  },
  {
   "cell_type": "code",
   "execution_count": 19,
   "metadata": {},
   "outputs": [],
   "source": [
    "def predict_test_set():\n",
    "    predictdf = pd.DataFrame(columns=grants_target_df.parsed.values, dtype=np.bool)\n",
    "    for idx, appid in enumerate(testset_app_df.app_id):\n",
    "        text = whole_xml_to_claim(testset_app_df.loc[idx]['xml'])\n",
    "        vec = text_to_vec(text)\n",
    "        similar_grant_indexes = find_most_similar(vec)\n",
    "        predictdf.loc[appid] = False\n",
    "        for similar_grant_index in similar_grant_indexes:\n",
    "            similar_grant_id = grants_ids[similar_grant_index]\n",
    "            predictdf.loc[appid, similar_grant_id] = True\n",
    "        if idx%100 == 0:\n",
    "            print(idx)\n",
    "    return predictdf"
   ]
  },
  {
   "cell_type": "code",
   "execution_count": 20,
   "metadata": {},
   "outputs": [
    {
     "name": "stderr",
     "output_type": "stream",
     "text": [
      "/usr/local/lib/python3.5/dist-packages/ipykernel_launcher.py:7: DeprecationWarning: Call to deprecated `__getitem__` (Method will be removed in 4.0.0, use self.wv.__getitem__() instead).\n",
      "  import sys\n"
     ]
    },
    {
     "name": "stdout",
     "output_type": "stream",
     "text": [
      "0\n",
      "100\n",
      "200\n",
      "300\n",
      "400\n",
      "500\n",
      "600\n",
      "700\n",
      "800\n",
      "900\n",
      "CPU times: user 2min 22s, sys: 7.47 s, total: 2min 29s\n",
      "Wall time: 2min 29s\n"
     ]
    }
   ],
   "source": [
    "%%time\n",
    "\n",
    "pred_df = predict_test_set()"
   ]
  },
  {
   "cell_type": "code",
   "execution_count": 21,
   "metadata": {},
   "outputs": [
    {
     "data": {
      "text/html": [
       "<div>\n",
       "<style scoped>\n",
       "    .dataframe tbody tr th:only-of-type {\n",
       "        vertical-align: middle;\n",
       "    }\n",
       "\n",
       "    .dataframe tbody tr th {\n",
       "        vertical-align: top;\n",
       "    }\n",
       "\n",
       "    .dataframe thead th {\n",
       "        text-align: right;\n",
       "    }\n",
       "</style>\n",
       "<table border=\"1\" class=\"dataframe\">\n",
       "  <thead>\n",
       "    <tr style=\"text-align: right;\">\n",
       "      <th></th>\n",
       "      <th>6837383</th>\n",
       "      <th>6837647</th>\n",
       "      <th>6837799</th>\n",
       "      <th>6837893</th>\n",
       "      <th>6837910</th>\n",
       "      <th>6838140</th>\n",
       "      <th>6838207</th>\n",
       "      <th>6838507</th>\n",
       "      <th>6838812</th>\n",
       "      <th>6838925</th>\n",
       "      <th>...</th>\n",
       "      <th>8334161</th>\n",
       "      <th>8334431</th>\n",
       "      <th>8334887</th>\n",
       "      <th>8336128</th>\n",
       "      <th>8336158</th>\n",
       "      <th>8336789</th>\n",
       "      <th>8336964</th>\n",
       "      <th>8337193</th>\n",
       "      <th>8339697</th>\n",
       "      <th>8340894</th>\n",
       "    </tr>\n",
       "  </thead>\n",
       "  <tbody>\n",
       "    <tr>\n",
       "      <th>14307191</th>\n",
       "      <td>False</td>\n",
       "      <td>False</td>\n",
       "      <td>False</td>\n",
       "      <td>False</td>\n",
       "      <td>False</td>\n",
       "      <td>False</td>\n",
       "      <td>False</td>\n",
       "      <td>False</td>\n",
       "      <td>False</td>\n",
       "      <td>False</td>\n",
       "      <td>...</td>\n",
       "      <td>False</td>\n",
       "      <td>False</td>\n",
       "      <td>False</td>\n",
       "      <td>False</td>\n",
       "      <td>False</td>\n",
       "      <td>False</td>\n",
       "      <td>False</td>\n",
       "      <td>False</td>\n",
       "      <td>False</td>\n",
       "      <td>False</td>\n",
       "    </tr>\n",
       "    <tr>\n",
       "      <th>13137006</th>\n",
       "      <td>False</td>\n",
       "      <td>False</td>\n",
       "      <td>False</td>\n",
       "      <td>False</td>\n",
       "      <td>False</td>\n",
       "      <td>False</td>\n",
       "      <td>False</td>\n",
       "      <td>False</td>\n",
       "      <td>False</td>\n",
       "      <td>False</td>\n",
       "      <td>...</td>\n",
       "      <td>False</td>\n",
       "      <td>False</td>\n",
       "      <td>False</td>\n",
       "      <td>False</td>\n",
       "      <td>False</td>\n",
       "      <td>False</td>\n",
       "      <td>False</td>\n",
       "      <td>False</td>\n",
       "      <td>False</td>\n",
       "      <td>False</td>\n",
       "    </tr>\n",
       "    <tr>\n",
       "      <th>12741959</th>\n",
       "      <td>False</td>\n",
       "      <td>False</td>\n",
       "      <td>False</td>\n",
       "      <td>False</td>\n",
       "      <td>False</td>\n",
       "      <td>False</td>\n",
       "      <td>False</td>\n",
       "      <td>False</td>\n",
       "      <td>False</td>\n",
       "      <td>False</td>\n",
       "      <td>...</td>\n",
       "      <td>False</td>\n",
       "      <td>False</td>\n",
       "      <td>False</td>\n",
       "      <td>False</td>\n",
       "      <td>False</td>\n",
       "      <td>False</td>\n",
       "      <td>False</td>\n",
       "      <td>False</td>\n",
       "      <td>False</td>\n",
       "      <td>False</td>\n",
       "    </tr>\n",
       "    <tr>\n",
       "      <th>12643447</th>\n",
       "      <td>False</td>\n",
       "      <td>False</td>\n",
       "      <td>False</td>\n",
       "      <td>False</td>\n",
       "      <td>False</td>\n",
       "      <td>False</td>\n",
       "      <td>False</td>\n",
       "      <td>False</td>\n",
       "      <td>False</td>\n",
       "      <td>False</td>\n",
       "      <td>...</td>\n",
       "      <td>False</td>\n",
       "      <td>False</td>\n",
       "      <td>False</td>\n",
       "      <td>False</td>\n",
       "      <td>False</td>\n",
       "      <td>False</td>\n",
       "      <td>False</td>\n",
       "      <td>False</td>\n",
       "      <td>False</td>\n",
       "      <td>False</td>\n",
       "    </tr>\n",
       "    <tr>\n",
       "      <th>14200253</th>\n",
       "      <td>False</td>\n",
       "      <td>False</td>\n",
       "      <td>False</td>\n",
       "      <td>False</td>\n",
       "      <td>False</td>\n",
       "      <td>False</td>\n",
       "      <td>False</td>\n",
       "      <td>False</td>\n",
       "      <td>False</td>\n",
       "      <td>False</td>\n",
       "      <td>...</td>\n",
       "      <td>False</td>\n",
       "      <td>False</td>\n",
       "      <td>False</td>\n",
       "      <td>False</td>\n",
       "      <td>False</td>\n",
       "      <td>False</td>\n",
       "      <td>False</td>\n",
       "      <td>False</td>\n",
       "      <td>False</td>\n",
       "      <td>False</td>\n",
       "    </tr>\n",
       "  </tbody>\n",
       "</table>\n",
       "<p>5 rows × 2524 columns</p>\n",
       "</div>"
      ],
      "text/plain": [
       "          6837383  6837647  6837799  6837893  6837910  6838140  6838207  \\\n",
       "14307191    False    False    False    False    False    False    False   \n",
       "13137006    False    False    False    False    False    False    False   \n",
       "12741959    False    False    False    False    False    False    False   \n",
       "12643447    False    False    False    False    False    False    False   \n",
       "14200253    False    False    False    False    False    False    False   \n",
       "\n",
       "          6838507  6838812  6838925   ...     8334161  8334431  8334887  \\\n",
       "14307191    False    False    False   ...       False    False    False   \n",
       "13137006    False    False    False   ...       False    False    False   \n",
       "12741959    False    False    False   ...       False    False    False   \n",
       "12643447    False    False    False   ...       False    False    False   \n",
       "14200253    False    False    False   ...       False    False    False   \n",
       "\n",
       "          8336128  8336158  8336789  8336964  8337193  8339697  8340894  \n",
       "14307191    False    False    False    False    False    False    False  \n",
       "13137006    False    False    False    False    False    False    False  \n",
       "12741959    False    False    False    False    False    False    False  \n",
       "12643447    False    False    False    False    False    False    False  \n",
       "14200253    False    False    False    False    False    False    False  \n",
       "\n",
       "[5 rows x 2524 columns]"
      ]
     },
     "execution_count": 21,
     "metadata": {},
     "output_type": "execute_result"
    }
   ],
   "source": [
    "pred_df.head()"
   ]
  },
  {
   "cell_type": "code",
   "execution_count": 22,
   "metadata": {},
   "outputs": [
    {
     "data": {
      "text/html": [
       "<div>\n",
       "<style scoped>\n",
       "    .dataframe tbody tr th:only-of-type {\n",
       "        vertical-align: middle;\n",
       "    }\n",
       "\n",
       "    .dataframe tbody tr th {\n",
       "        vertical-align: top;\n",
       "    }\n",
       "\n",
       "    .dataframe thead th {\n",
       "        text-align: right;\n",
       "    }\n",
       "</style>\n",
       "<table border=\"1\" class=\"dataframe\">\n",
       "  <thead>\n",
       "    <tr style=\"text-align: right;\">\n",
       "      <th></th>\n",
       "      <th>acc</th>\n",
       "      <th>prec</th>\n",
       "      <th>recall</th>\n",
       "      <th>f1</th>\n",
       "    </tr>\n",
       "  </thead>\n",
       "  <tbody>\n",
       "    <tr>\n",
       "      <th>0</th>\n",
       "      <td>0.999207</td>\n",
       "      <td>0.125</td>\n",
       "      <td>0.09992</td>\n",
       "      <td>0.111062</td>\n",
       "    </tr>\n",
       "  </tbody>\n",
       "</table>\n",
       "</div>"
      ],
      "text/plain": [
       "        acc   prec   recall        f1\n",
       "0  0.999207  0.125  0.09992  0.111062"
      ]
     },
     "execution_count": 22,
     "metadata": {},
     "output_type": "execute_result"
    }
   ],
   "source": [
    "# top1\n",
    "calc_summary(pred_df, label_df)"
   ]
  },
  {
   "cell_type": "code",
   "execution_count": 114,
   "metadata": {},
   "outputs": [
    {
     "data": {
      "text/html": [
       "<div>\n",
       "<style scoped>\n",
       "    .dataframe tbody tr th:only-of-type {\n",
       "        vertical-align: middle;\n",
       "    }\n",
       "\n",
       "    .dataframe tbody tr th {\n",
       "        vertical-align: top;\n",
       "    }\n",
       "\n",
       "    .dataframe thead th {\n",
       "        text-align: right;\n",
       "    }\n",
       "</style>\n",
       "<table border=\"1\" class=\"dataframe\">\n",
       "  <thead>\n",
       "    <tr style=\"text-align: right;\">\n",
       "      <th></th>\n",
       "      <th>acc</th>\n",
       "      <th>prec</th>\n",
       "      <th>recall</th>\n",
       "      <th>f1</th>\n",
       "    </tr>\n",
       "  </thead>\n",
       "  <tbody>\n",
       "    <tr>\n",
       "      <th>0</th>\n",
       "      <td>0.997756</td>\n",
       "      <td>0.0588</td>\n",
       "      <td>0.235012</td>\n",
       "      <td>0.094065</td>\n",
       "    </tr>\n",
       "  </tbody>\n",
       "</table>\n",
       "</div>"
      ],
      "text/plain": [
       "        acc    prec    recall        f1\n",
       "0  0.997756  0.0588  0.235012  0.094065"
      ]
     },
     "execution_count": 114,
     "metadata": {},
     "output_type": "execute_result"
    }
   ],
   "source": [
    "# # top5\n",
    "# calc_summary(pred_df, label_df)"
   ]
  },
  {
   "cell_type": "markdown",
   "metadata": {},
   "source": [
    "## Example"
   ]
  },
  {
   "cell_type": "code",
   "execution_count": 23,
   "metadata": {},
   "outputs": [
    {
     "data": {
      "text/html": [
       "<div>\n",
       "<style scoped>\n",
       "    .dataframe tbody tr th:only-of-type {\n",
       "        vertical-align: middle;\n",
       "    }\n",
       "\n",
       "    .dataframe tbody tr th {\n",
       "        vertical-align: top;\n",
       "    }\n",
       "\n",
       "    .dataframe thead th {\n",
       "        text-align: right;\n",
       "    }\n",
       "</style>\n",
       "<table border=\"1\" class=\"dataframe\">\n",
       "  <thead>\n",
       "    <tr style=\"text-align: right;\">\n",
       "      <th></th>\n",
       "      <th>app_id</th>\n",
       "      <th>xml</th>\n",
       "    </tr>\n",
       "  </thead>\n",
       "  <tbody>\n",
       "    <tr>\n",
       "      <th>0</th>\n",
       "      <td>14307191</td>\n",
       "      <td>&lt;us-patent-application lang=\"EN\" dtd-version=\"...</td>\n",
       "    </tr>\n",
       "    <tr>\n",
       "      <th>1</th>\n",
       "      <td>13137006</td>\n",
       "      <td>&lt;us-patent-application lang=\"EN\" dtd-version=\"...</td>\n",
       "    </tr>\n",
       "    <tr>\n",
       "      <th>2</th>\n",
       "      <td>12741959</td>\n",
       "      <td>&lt;us-patent-application lang=\"EN\" dtd-version=\"...</td>\n",
       "    </tr>\n",
       "    <tr>\n",
       "      <th>3</th>\n",
       "      <td>12643447</td>\n",
       "      <td>&lt;us-patent-application lang=\"EN\" dtd-version=\"...</td>\n",
       "    </tr>\n",
       "    <tr>\n",
       "      <th>4</th>\n",
       "      <td>14200253</td>\n",
       "      <td>&lt;us-patent-application lang=\"EN\" dtd-version=\"...</td>\n",
       "    </tr>\n",
       "  </tbody>\n",
       "</table>\n",
       "</div>"
      ],
      "text/plain": [
       "     app_id                                                xml\n",
       "0  14307191  <us-patent-application lang=\"EN\" dtd-version=\"...\n",
       "1  13137006  <us-patent-application lang=\"EN\" dtd-version=\"...\n",
       "2  12741959  <us-patent-application lang=\"EN\" dtd-version=\"...\n",
       "3  12643447  <us-patent-application lang=\"EN\" dtd-version=\"...\n",
       "4  14200253  <us-patent-application lang=\"EN\" dtd-version=\"..."
      ]
     },
     "execution_count": 23,
     "metadata": {},
     "output_type": "execute_result"
    }
   ],
   "source": [
    "testset_app_df.head()"
   ]
  },
  {
   "cell_type": "code",
   "execution_count": 24,
   "metadata": {},
   "outputs": [
    {
     "name": "stdout",
     "output_type": "stream",
     "text": [
      "\n",
      " \n",
      "  1 . A method to aggregate, filter, and share energy data for analysis, the method comprising:\n",
      " receiving first data associated with a first electrical circuit, the first data having a first protocol; \n",
      " sampling the first data at a first sampling rate to generate first digital data, wherein the first sampling rate is substantially continuous; and \n",
      " transmitting reporting digital data over a network having a network protocol different from the first protocol, the reporting digital data comprising at least the first digital data, wherein the reporting digital data is transmitted at a reporting rate that is decoupled from the first sampling rate. \n",
      " \n",
      " \n",
      " \n",
      "  2 . The method of  claim 1  further comprising:\n",
      " receiving second data associated with a second electrical circuit, the second data having a second protocol different from the first protocol; and \n",
      " sampling the second data at a second sampling rate to generate second digital data, wherein the second sampling rate is substantially continuous; \n",
      " wherein the network protocol is different from the first protocol and the second protocol, wherein the reporting digital data comprises at least one of the first digital data and the second digital data, and wherein the reporting digital data is transmitted at the reporting rate that is decoupled from the first sampling rate and the second sampling rate. \n",
      " \n",
      " \n",
      " \n",
      "  3 . The method of  claim 1  wherein the reporting rate is substantially continuous. \n",
      " \n",
      " \n",
      "  4 . The method of  claim 2  further comprising:\n",
      " validating the first digital data and the second digital data to remove erroneous data points and to provide validated data; \n",
      " removing redundant data points from the validated data to provide reduced data; and \n",
      " transmitting messages based at least in part on the reduced data over the network. \n",
      " \n",
      " \n",
      " \n",
      "  5 . The method of  claim 2  further comprising analyzing the first data and the second data and transmitting messages comprising control signals for load control of at least one of the first and the second electrical circuits based on the analysis of the first data and the second data. \n",
      " \n",
      " \n",
      "  6 . The method of  claim 2  further comprising receiving control signals for load control of at least one of the first electrical circuit and the second electrical circuit. \n",
      " \n",
      " \n",
      "  7 . The method of  claim 1  wherein the network comprises the Internet, wherein the network is accessed by one or more of wired access and wireless access. \n",
      " \n",
      " \n",
      "  8 . The method of  claim 1  wherein the network comprises one or more servers in a cloud configuration. \n",
      " \n",
      " \n",
      "  9 . The method of  claim 2  further comprising storing at least one of the first digital data, the second digital data, and the reporting digital data until confirmation that the third digital data is successfully transmitted over the network. \n",
      " \n",
      " \n",
      "  10 . The method of  claim 1  wherein receiving the first electrical signal comprises receiving at least one of amplitude, phase, voltage, current, fundamental energy component, harmonic energy components, intermodulation energy components, and transient energy components associated with the first electrical signal. \n",
      " \n",
      " \n",
      "  11 . The method of  claim 1  wherein the first sampling rate is between approximately once every 15 minutes to approximately 1 MHz. \n",
      " \n",
      " \n",
      "  12 . An apparatus to aggregate, filter, and share energy data for analysis, the apparatus comprising:\n",
      " a first input configured to receive first data associated with a first electrical circuit, the first data having a first protocol; \n",
      " first circuitry configured to sample the first data at a first sampling rate to generate first digital data, wherein the first sampling rate is substantially continuous; and \n",
      " a communication port configured to transmit reporting digital data over a network having a network protocol different from the first protocol, the reporting digital data comprising at least the first digital data, wherein the reporting digital data is transmitted at a reporting rate that is decoupled from the first sampling rate. \n",
      " \n",
      " \n",
      " \n",
      "  13 . The apparatus of  claim 12  further comprising:\n",
      " a second input configured to receive second data associated with a second electrical circuit, the second data having a second protocol different from the first protocol; and \n",
      " second circuitry configured to sample the second data at a second sampling rate to generate second digital data, wherein the second sampling rate is substantially continuous; \n",
      " wherein the communication port is further configured to transmit the reporting digital data over the network having the network protocol different from the first protocol and the second protocol, the reporting digital data comprising at least one of the first digital data and the second digital data, and wherein the reporting digital data is transmitted at the reporting rate that is decoupled from the first sampling rate and the second sampling rate. \n",
      " \n",
      " \n",
      " \n",
      "  14 . The apparatus of  claim 12  wherein the reporting rate is substantially continuous. \n",
      " \n",
      " \n",
      "  15 . The apparatus of  claim 13  further comprising:\n",
      " computer hardware configured to validate the first digital data and the second digital data to remove erroneous data points and to provide validated data; and \n",
      " computer hardware configured to remove redundant data points from the validated data to provide reduced data; \n",
      " wherein the communication port is further configured to transmit messages based at least in part on the reduced data over the network. \n",
      " \n",
      " \n",
      " \n",
      "  16 . The apparatus of  claim 15  further comprising computer hardware configured to perform energy calculations on the reduced data to provide calculated energy data, wherein the computer hardware comprises cloud-based servers. \n",
      " \n",
      " \n",
      "  17 . The apparatus of  claim 16  wherein the calculated energy data comprises at least one of line-to-line and line-to-current voltage, total power, active power, reactive power, line-to-line and line-to-neutral current, power factor, fundamental and harmonic total energy per phase, fundamental and harmonic total energy for the sum of phases, fundamental and harmonic active energy per phase, fundamental and harmonic active energy for the sum of phases, fundamental and harmonic reactive energy per phase, fundamental and harmonic reactive energy for the sum of phases, frequency, harmonic frequency, gas usage, chilled water usage, hot water usage, and total energy usage. \n",
      " \n",
      " \n",
      "  18 . The apparatus of  claim 13  further comprising analytics configured to analyze the first data and the second data and to provide messages comprising control signals for load control of at least one of the first electrical circuit and the second electrical circuit based on the analysis of the first data and the second data. \n",
      " \n",
      " \n",
      "  19 . The apparatus of  claim 13  wherein the communication port is further configured to receive control signals for load control of at least one of the first electrical circuit and the second electrical circuit. \n",
      " \n",
      " \n",
      "  20 . The apparatus of  claim 12  wherein the network comprises the Internet, and wherein the network is accessed by one or more of wired access and wireless access. \n",
      " \n",
      " \n",
      "  21 . The apparatus of  claim 12  wherein the network comprises one or more servers in a cloud configuration. \n",
      " \n",
      " \n",
      "  22 . The apparatus of  claim 13  further comprising memory configured to store at least one of the first digital data, the second digital data, and the reporting digital data until confirmation that the reporting digital data is successfully transmitted over the network. \n",
      " \n",
      " \n",
      "  23 . The apparatus of  claim 12  wherein the first electrical signal comprises at least one of amplitude, phase, voltage, current, fundamental energy component, harmonic energy components, intermodulation energy components, and transient energy components associated with first electrical signal. \n",
      " \n",
      " \n",
      "  24 . The apparatus of  claim 12  wherein the first sampling rate is between approximately once every 15 minutes to approximately 1 MHz. \n",
      " \n",
      "\n",
      "1909    \\n \\n 1. An apparatus comprising:\\n a qualific...\n",
      "Name: claim, dtype: object\n"
     ]
    },
    {
     "name": "stderr",
     "output_type": "stream",
     "text": [
      "/usr/local/lib/python3.5/dist-packages/ipykernel_launcher.py:7: DeprecationWarning: Call to deprecated `__getitem__` (Method will be removed in 4.0.0, use self.wv.__getitem__() instead).\n",
      "  import sys\n"
     ]
    }
   ],
   "source": [
    "idx = 0\n",
    "appid = 14307191\n",
    "text = whole_xml_to_claim(testset_app_df.loc[idx]['xml'])\n",
    "vec = text_to_vec(text)\n",
    "similar_grant_index = find_most_similar(vec)\n",
    "similar_grant_id = grants_ids[similar_grant_index]\n",
    "print(text)\n",
    "print(grants_target_df.loc[similar_grant_index]['claim'])"
   ]
  },
  {
   "cell_type": "code",
   "execution_count": 25,
   "metadata": {},
   "outputs": [
    {
     "name": "stdout",
     "output_type": "stream",
     "text": [
      "\n",
      " \n",
      "  1 . A display apparatus, comprising:\n",
      " a position sensor to sense an eye position of a user; \n",
      " a controller to set a virtual viewing window corresponding to the sensed eye position of the user and to provide a control signal to generate a directional light toward the virtual viewing window; and \n",
      " a light generator to generate a directional light based on the control signal. \n",
      " \n",
      " \n",
      " \n",
      "  2 . The display apparatus of  claim 1 , further comprising:\n",
      " a light modulator to modulate an intensity of the directional light based on the control signal. \n",
      " \n",
      " \n",
      " \n",
      "  3 . The display apparatus of  claim 1 , wherein the position sensor comprises at least one camera to photograph the eye position of the user. \n",
      " \n",
      " \n",
      "  4 . The display apparatus of  claim 1 , wherein the position sensor comprises at least one camera to identify the eye position of the user by photographing an identifier fixed around the eye position of the user. \n",
      " \n",
      " \n",
      "  5 . The display apparatus of  claim 1 , wherein the light generator comprises:\n",
      " a backlight to generate a non-directional light; \n",
      " a variable slit to convert, based on the control signal, the non-directional light to a plurality of point light sources, each having a different position; and \n",
      " a lens to generate a directional light toward the virtual viewing window by refracting at least a part of the plurality of point light sources. \n",
      " \n",
      " \n",
      " \n",
      "  6 . The display apparatus of  claim 5 , wherein the variable slit corresponds to a plurality of pixels of a liquid crystal display (LCD) panel. \n",
      " \n",
      " \n",
      "  7 . The display apparatus of  claim 1 , wherein the controller comprises:\n",
      " an eye position detector to calculate a coordinate value of the eye position of the user on a space coordinate using the sensed eye position of the user; and \n",
      " a viewing window setting unit to determine at least one of a position of the virtual viewing window and a size of the virtual viewing window to cover the eye of the user using the coordinate value of the eye position of the user. \n",
      " \n",
      " \n",
      " \n",
      "  8 . The display apparatus of  claim 7 , wherein the controller further comprises:\n",
      " a directional light source controller to control a control signal to generate a directional light toward the virtual viewing window; and \n",
      " a light field image generator to provide a control signal to generate a three-dimensional (3D) image of a light field scheme by adjusting an intensity of the directional light toward the virtual viewing window. \n",
      " \n",
      " \n",
      " \n",
      "  9 . A display method, comprising:\n",
      " sensing an eye position of a user; \n",
      " setting a virtual viewing window corresponding to the sensed eye position of the user; and \n",
      " generating a directional light toward the virtual viewing window. \n",
      " \n",
      " \n",
      " \n",
      "  10 . The display method of  claim 9 , further comprising:\n",
      " displaying, on the virtual viewing window, a light field 3D image by controlling generated the directional light. \n",
      " \n",
      " \n",
      " \n",
      "  11 . The display method of  claim 9 , wherein the generating of the directional light comprises:\n",
      " generating a non-directional light using a backlight; \n",
      " converting, using a variable slit, the non-directional light to a plurality of point light sources, each having a different position; and \n",
      " generating a directional light toward the virtual viewing window by refracting at least a part of the plurality of point light sources using a refracting lens. \n",
      " \n",
      " \n",
      " \n",
      "  12 . The display method of  claim 9 , wherein the setting of the virtual viewing window comprises:\n",
      " calculating a coordinate value of the eye position of the user on a space coordinate using the sensed eye position of the user; and \n",
      " determining, to cover the eye of the user using the coordinate value of the eye position of the user, at least one of a position of the virtual viewing window and a size of the virtual viewing window. \n",
      " \n",
      " \n",
      " \n",
      "  13 . The display method of  claim 9 , wherein the sensing of the eye position of the user comprises:\n",
      " photographing a front image using at least one camera; and \n",
      " sensing the eye position of the user by identifying the eye of the user from the front image. \n",
      " \n",
      " \n",
      " \n",
      "  14 . The display method of  claim 9 , wherein the sensing of the eye position of the user comprises:\n",
      " photographing an identifier fixed around the eye position of the user using at least one camera. \n",
      " \n",
      " \n",
      " \n",
      "  15 . A non-transitory computer-readable medium comprising a program for instructing a computer to perform the display method of  claim 9 . \n",
      " \n",
      " \n",
      "  16 . The display method of  claim 12 , wherein the position of the virtual viewing window and the size of the virtual viewing window are determined based on a position of a pupil of the eye of the user and a size of the pupil, respectively. \n",
      " \n",
      " \n",
      "  17 . A display apparatus, comprising:\n",
      " a position sensor to sense an eye position of a user using at least one of a visible light band camera, an infrared camera, and a depth camera; \n",
      " a controller to set a size of a virtual viewing window and to determine a position of the virtual viewing window based on the eye position of the user and a size of the eye, and to provide a control signal to generate a directional light toward the virtual viewing window; and \n",
      " a light generator including a backlight providing a standard light source, a variable slit to modulate the standard light source to a point light source at a predetermined position, and a lens to generate, based on the control signal, the directional light by refracting the point light source toward the virtual viewing window. \n",
      " \n",
      " \n",
      " \n",
      "  18 . The display apparatus of  claim 17 , further comprising a light modulator to adjust at least one of an actual intensity of the point light and a direction of the directional light based on a control signal from the controller. \n",
      " \n",
      " \n",
      "  19 . The display apparatus of  claim 17 , wherein the controller sets the size of the virtual viewing window based on a size of a pupil of the eye of the user and determines the position of the virtual viewing window based on a position of the pupil. \n",
      " \n",
      " \n",
      "  20 . A display method comprising:\n",
      " continuously tracing a pupil position of an eye of a viewer of a display; \n",
      " dynamically setting a virtual viewing window of the display to correspond to the continuously traced pupil position; and \n",
      " generating an image in the virtual viewing window while not generating an image in portions of the display that do not correspond to the virtual viewing window.  \n",
      " \n",
      " \n",
      "\n",
      "889    \\n \\n 1. A data input device comprising:\\n an ...\n",
      "Name: claim, dtype: object\n"
     ]
    },
    {
     "name": "stderr",
     "output_type": "stream",
     "text": [
      "/usr/local/lib/python3.5/dist-packages/ipykernel_launcher.py:7: DeprecationWarning: Call to deprecated `__getitem__` (Method will be removed in 4.0.0, use self.wv.__getitem__() instead).\n",
      "  import sys\n"
     ]
    }
   ],
   "source": [
    "idx = 1\n",
    "text = whole_xml_to_claim(testset_app_df.loc[idx]['xml'])\n",
    "vec = text_to_vec(text)\n",
    "similar_grant_index = find_most_similar(vec)\n",
    "similar_grant_id = grants_ids[similar_grant_index]\n",
    "print(text)\n",
    "print(grants_target_df.loc[similar_grant_index]['claim'])"
   ]
  },
  {
   "cell_type": "code",
   "execution_count": null,
   "metadata": {},
   "outputs": [],
   "source": []
  },
  {
   "cell_type": "code",
   "execution_count": null,
   "metadata": {},
   "outputs": [],
   "source": []
  },
  {
   "cell_type": "markdown",
   "metadata": {},
   "source": [
    "## Trial and error"
   ]
  },
  {
   "cell_type": "code",
   "execution_count": 26,
   "metadata": {},
   "outputs": [],
   "source": [
    "predictdf = pd.DataFrame(columns=grants_target_df.parsed.values, dtype=np.bool)"
   ]
  },
  {
   "cell_type": "code",
   "execution_count": 27,
   "metadata": {},
   "outputs": [],
   "source": [
    "predictdf.loc[14307191] = False"
   ]
  },
  {
   "cell_type": "code",
   "execution_count": 28,
   "metadata": {},
   "outputs": [],
   "source": [
    "predictdf.loc[14307191, 6837383] = True"
   ]
  },
  {
   "cell_type": "code",
   "execution_count": 29,
   "metadata": {},
   "outputs": [
    {
     "data": {
      "text/html": [
       "<div>\n",
       "<style scoped>\n",
       "    .dataframe tbody tr th:only-of-type {\n",
       "        vertical-align: middle;\n",
       "    }\n",
       "\n",
       "    .dataframe tbody tr th {\n",
       "        vertical-align: top;\n",
       "    }\n",
       "\n",
       "    .dataframe thead th {\n",
       "        text-align: right;\n",
       "    }\n",
       "</style>\n",
       "<table border=\"1\" class=\"dataframe\">\n",
       "  <thead>\n",
       "    <tr style=\"text-align: right;\">\n",
       "      <th></th>\n",
       "      <th>6837383</th>\n",
       "      <th>6837647</th>\n",
       "      <th>6837799</th>\n",
       "      <th>6837893</th>\n",
       "      <th>6837910</th>\n",
       "      <th>6838140</th>\n",
       "      <th>6838207</th>\n",
       "      <th>6838507</th>\n",
       "      <th>6838812</th>\n",
       "      <th>6838925</th>\n",
       "      <th>...</th>\n",
       "      <th>8334161</th>\n",
       "      <th>8334431</th>\n",
       "      <th>8334887</th>\n",
       "      <th>8336128</th>\n",
       "      <th>8336158</th>\n",
       "      <th>8336789</th>\n",
       "      <th>8336964</th>\n",
       "      <th>8337193</th>\n",
       "      <th>8339697</th>\n",
       "      <th>8340894</th>\n",
       "    </tr>\n",
       "  </thead>\n",
       "  <tbody>\n",
       "    <tr>\n",
       "      <th>14307191</th>\n",
       "      <td>True</td>\n",
       "      <td>False</td>\n",
       "      <td>False</td>\n",
       "      <td>False</td>\n",
       "      <td>False</td>\n",
       "      <td>False</td>\n",
       "      <td>False</td>\n",
       "      <td>False</td>\n",
       "      <td>False</td>\n",
       "      <td>False</td>\n",
       "      <td>...</td>\n",
       "      <td>False</td>\n",
       "      <td>False</td>\n",
       "      <td>False</td>\n",
       "      <td>False</td>\n",
       "      <td>False</td>\n",
       "      <td>False</td>\n",
       "      <td>False</td>\n",
       "      <td>False</td>\n",
       "      <td>False</td>\n",
       "      <td>False</td>\n",
       "    </tr>\n",
       "  </tbody>\n",
       "</table>\n",
       "<p>1 rows × 2524 columns</p>\n",
       "</div>"
      ],
      "text/plain": [
       "          6837383  6837647  6837799  6837893  6837910  6838140  6838207  \\\n",
       "14307191     True    False    False    False    False    False    False   \n",
       "\n",
       "          6838507  6838812  6838925   ...     8334161  8334431  8334887  \\\n",
       "14307191    False    False    False   ...       False    False    False   \n",
       "\n",
       "          8336128  8336158  8336789  8336964  8337193  8339697  8340894  \n",
       "14307191    False    False    False    False    False    False    False  \n",
       "\n",
       "[1 rows x 2524 columns]"
      ]
     },
     "execution_count": 29,
     "metadata": {},
     "output_type": "execute_result"
    }
   ],
   "source": [
    "predictdf"
   ]
  },
  {
   "cell_type": "code",
   "execution_count": 30,
   "metadata": {},
   "outputs": [
    {
     "data": {
      "text/plain": [
       "True"
      ]
     },
     "execution_count": 30,
     "metadata": {},
     "output_type": "execute_result"
    }
   ],
   "source": [
    "predictdf.loc[14307191, 6837383]"
   ]
  },
  {
   "cell_type": "code",
   "execution_count": null,
   "metadata": {},
   "outputs": [],
   "source": []
  },
  {
   "cell_type": "code",
   "execution_count": null,
   "metadata": {},
   "outputs": [],
   "source": []
  },
  {
   "cell_type": "code",
   "execution_count": null,
   "metadata": {},
   "outputs": [],
   "source": []
  },
  {
   "cell_type": "markdown",
   "metadata": {},
   "source": [
    "# Doc2vec model"
   ]
  },
  {
   "cell_type": "code",
   "execution_count": 8,
   "metadata": {},
   "outputs": [
    {
     "data": {
      "text/plain": [
       "'\\n \\n 1. A tool organizer for mounting to and adapted for use with a vehicle lift rack having support arms, said tool organizer comprising:\\n four upstanding walls depending from a base and forming a storage volume for storing a plurality of tools and parts;  \\n a selectively articulating lid enclosing said storage volume;  \\n adjustable attachment means depending from said storage volume, said attachment means removably attachable to said support arms for supporting said tool organizer by gravity impingement;  \\n a U-shaped ring affixed to an external portion of at least one of said walls, said ring for supporting a hand tool;  \\n a support plate projected from a front of said tool organizer and co-extensive with said base;  \\n a plurality of intermediate apertures formed in said support plate, said plurality of intermediate apertures adapted sized to accommodate intermediate and large hand tools;  \\n a plurality of small apertures formed in said support plate, said plurality of small apertures adapted to accommodate small hand tools;  \\n at least one large aperture formed in said support plate, said at least one large aperture adapted to accommodate a container.  \\n \\n \\n \\n 2. The tool organizer of  claim 1  further comprising a slidably retained storage drawer provided beneath said base and said support plate for additional storage area, said base and said support plate operating as an enclosure for said storage drawer. \\n \\n \\n 3. The tool organizer of  claim 2 , wherein a face of said storage drawer is co-extensive with an anterior margin of said support plate, said storage drawer further comprising a handle for easily grasping for selectively opening and closing said storage drawer. \\n \\n \\n 4. The tool organizer of  claim 1 , wherein said tool organizer rests cantilevered to said support arms, thereby positioning said storage volume below a horizontal level of said support arms. \\n \\n \\n 5. The tool organizer of  claim 1 , wherein said four upstanding walls comprise a front wall opposite a rear wall, a first sidewall opposite a second sidewall, wherein said first sidewall and said second sidewall are intermediately disposed between said front wall and said rear wall. \\n \\n \\n 6. The tool organizer of  claim 5 , wherein said rear wall comprises a greater vertical profile than said front wall for providing ease of access to said storage volume. \\n \\n \\n 7. The tool organizer of  claim 5 , wherein said first sidewall and said second sidewall are inclined from said front wall to said rear wall for providing ease of access to said storage volume. \\n \\n \\n 8. The tool organizer of  claim 1 , wherein said lid is affixed to said storage volume by an articulating hinge. \\n \\n \\n 9. The tool organizer of  claim 1 , wherein said lid comprises a lock for securing contents of said storage volume from unauthorized removal and theft. \\n \\n \\n 10. The tool organizer of  claim 1 , wherein said attachment means comprise at least one hook adjustable in length to accommodate variations in widths of said support arms. \\n \\n \\n 11. The tool organizer of  claim 1 , wherein at least one of said upstanding walls comprises magnetic properties for attracting and supporting magnetic objects. \\n \\n \\n 12. The tool organizer of  claim 1 , wherein said tool organizer comprises a color in a general class of yellow for providing visual indication of said tool organizer location. \\n \\n'"
      ]
     },
     "execution_count": 8,
     "metadata": {},
     "output_type": "execute_result"
    }
   ],
   "source": [
    "grants_target_df['claim'][0]"
   ]
  },
  {
   "cell_type": "markdown",
   "metadata": {},
   "source": [
    "### Do simple text preprocessing and create datasets for doc2vec model."
   ]
  },
  {
   "cell_type": "code",
   "execution_count": 9,
   "metadata": {},
   "outputs": [],
   "source": [
    "preprocessed_grant_data = grants_target_df['claim'].str\\\n",
    "    .replace(\"\\n\", \"\", regex=False).str\\\n",
    "    .replace(\"[0-9]*\\.\", \"\", regex=True).str\\\n",
    "    .replace(\"[,:;]\", \"\", regex=True).str\\\n",
    "    .replace(\"a |A |the |The \", \"\", regex=True)"
   ]
  },
  {
   "cell_type": "code",
   "execution_count": 10,
   "metadata": {},
   "outputs": [
    {
     "data": {
      "text/plain": [
       "'   tool organizer for mounting to and adapted for use with vehicle lift rack having support arms said tool organizer comprising four upstanding walls depending from base and forming storage volume for storing plurality of tools and parts   selectively articulating lid enclosing said storage volume   adjustable attachment means depending from said storage volume said attachment means removably attachable to said support arms for supporting said tool organizer by gravity impingement   U-shaped ring affixed to an external portion of at least one of said walls said ring for supporting hand tool   support plate projected from front of said tool organizer and co-extensive with said base   plurality of intermediate apertures formed in said support plate said plurality of intermediate apertures adapted sized to accommodate intermediate and large hand tools   plurality of small apertures formed in said support plate said plurality of small apertures adapted to accommodate small hand tools   at least one large aperture formed in said support plate said at least one large aperture adapted to accommodate container       tool organizer of  claim 1  further comprising slidably retained storage drawer provided beneath said base and said support plate for additional storage aresaid base and said support plate operating as an enclosure for said storage drawer     tool organizer of  claim 2  wherein face of said storage drawer is co-extensive with an anterior margin of said support plate said storage drawer further comprising handle for easily grasping for selectively opening and closing said storage drawer     tool organizer of  claim 1  wherein said tool organizer rests cantilevered to said support arms thereby positioning said storage volume below horizontal level of said support arms     tool organizer of  claim 1  wherein said four upstanding walls comprise front wall opposite rear wall first sidewall opposite second sidewall wherein said first sidewall and said second sidewall are intermediately disposed between said front wall and said rear wall     tool organizer of  claim 5  wherein said rear wall comprises greater vertical profile than said front wall for providing ease of access to said storage volume     tool organizer of  claim 5  wherein said first sidewall and said second sidewall are inclined from said front wall to said rear wall for providing ease of access to said storage volume     tool organizer of  claim 1  wherein said lid is affixed to said storage volume by an articulating hinge     tool organizer of  claim 1  wherein said lid comprises lock for securing contents of said storage volume from unauthorized removal and theft     tool organizer of  claim 1  wherein said attachment means comprise at least one hook adjustable in length to accommodate variations in widths of said support arms     tool organizer of  claim 1  wherein at least one of said upstanding walls comprises magnetic properties for attracting and supporting magnetic objects     tool organizer of  claim 1  wherein said tool organizer comprises color in general class of yellow for providing visual indication of said tool organizer location  '"
      ]
     },
     "execution_count": 10,
     "metadata": {},
     "output_type": "execute_result"
    }
   ],
   "source": [
    "preprocessed_grant_data[0]"
   ]
  },
  {
   "cell_type": "code",
   "execution_count": 11,
   "metadata": {},
   "outputs": [],
   "source": [
    "from gensim.models import doc2vec\n",
    "from gensim.utils import simple_preprocess"
   ]
  },
  {
   "cell_type": "code",
   "execution_count": 12,
   "metadata": {},
   "outputs": [],
   "source": [
    "d2v_grant_data = list()\n",
    "\n",
    "for idx, elem in enumerate(preprocessed_grant_data):\n",
    "    d2v_grant_data.append(\n",
    "        doc2vec.TaggedDocument(simple_preprocess(elem), [str(grants_target_df.parsed[idx])])\n",
    "    )"
   ]
  },
  {
   "cell_type": "code",
   "execution_count": 13,
   "metadata": {},
   "outputs": [
    {
     "data": {
      "text/plain": [
       "TaggedDocument(words=['tool', 'organizer', 'for', 'mounting', 'to', 'and', 'adapted', 'for', 'use', 'with', 'vehicle', 'lift', 'rack', 'having', 'support', 'arms', 'said', 'tool', 'organizer', 'comprising', 'four', 'upstanding', 'walls', 'depending', 'from', 'base', 'and', 'forming', 'storage', 'volume', 'for', 'storing', 'plurality', 'of', 'tools', 'and', 'parts', 'selectively', 'articulating', 'lid', 'enclosing', 'said', 'storage', 'volume', 'adjustable', 'attachment', 'means', 'depending', 'from', 'said', 'storage', 'volume', 'said', 'attachment', 'means', 'removably', 'attachable', 'to', 'said', 'support', 'arms', 'for', 'supporting', 'said', 'tool', 'organizer', 'by', 'gravity', 'impingement', 'shaped', 'ring', 'affixed', 'to', 'an', 'external', 'portion', 'of', 'at', 'least', 'one', 'of', 'said', 'walls', 'said', 'ring', 'for', 'supporting', 'hand', 'tool', 'support', 'plate', 'projected', 'from', 'front', 'of', 'said', 'tool', 'organizer', 'and', 'co', 'extensive', 'with', 'said', 'base', 'plurality', 'of', 'intermediate', 'apertures', 'formed', 'in', 'said', 'support', 'plate', 'said', 'plurality', 'of', 'intermediate', 'apertures', 'adapted', 'sized', 'to', 'accommodate', 'intermediate', 'and', 'large', 'hand', 'tools', 'plurality', 'of', 'small', 'apertures', 'formed', 'in', 'said', 'support', 'plate', 'said', 'plurality', 'of', 'small', 'apertures', 'adapted', 'to', 'accommodate', 'small', 'hand', 'tools', 'at', 'least', 'one', 'large', 'aperture', 'formed', 'in', 'said', 'support', 'plate', 'said', 'at', 'least', 'one', 'large', 'aperture', 'adapted', 'to', 'accommodate', 'container', 'tool', 'organizer', 'of', 'claim', 'further', 'comprising', 'slidably', 'retained', 'storage', 'drawer', 'provided', 'beneath', 'said', 'base', 'and', 'said', 'support', 'plate', 'for', 'additional', 'storage', 'aresaid', 'base', 'and', 'said', 'support', 'plate', 'operating', 'as', 'an', 'enclosure', 'for', 'said', 'storage', 'drawer', 'tool', 'organizer', 'of', 'claim', 'wherein', 'face', 'of', 'said', 'storage', 'drawer', 'is', 'co', 'extensive', 'with', 'an', 'anterior', 'margin', 'of', 'said', 'support', 'plate', 'said', 'storage', 'drawer', 'further', 'comprising', 'handle', 'for', 'easily', 'grasping', 'for', 'selectively', 'opening', 'and', 'closing', 'said', 'storage', 'drawer', 'tool', 'organizer', 'of', 'claim', 'wherein', 'said', 'tool', 'organizer', 'rests', 'cantilevered', 'to', 'said', 'support', 'arms', 'thereby', 'positioning', 'said', 'storage', 'volume', 'below', 'horizontal', 'level', 'of', 'said', 'support', 'arms', 'tool', 'organizer', 'of', 'claim', 'wherein', 'said', 'four', 'upstanding', 'walls', 'comprise', 'front', 'wall', 'opposite', 'rear', 'wall', 'first', 'sidewall', 'opposite', 'second', 'sidewall', 'wherein', 'said', 'first', 'sidewall', 'and', 'said', 'second', 'sidewall', 'are', 'intermediately', 'disposed', 'between', 'said', 'front', 'wall', 'and', 'said', 'rear', 'wall', 'tool', 'organizer', 'of', 'claim', 'wherein', 'said', 'rear', 'wall', 'comprises', 'greater', 'vertical', 'profile', 'than', 'said', 'front', 'wall', 'for', 'providing', 'ease', 'of', 'access', 'to', 'said', 'storage', 'volume', 'tool', 'organizer', 'of', 'claim', 'wherein', 'said', 'first', 'sidewall', 'and', 'said', 'second', 'sidewall', 'are', 'inclined', 'from', 'said', 'front', 'wall', 'to', 'said', 'rear', 'wall', 'for', 'providing', 'ease', 'of', 'access', 'to', 'said', 'storage', 'volume', 'tool', 'organizer', 'of', 'claim', 'wherein', 'said', 'lid', 'is', 'affixed', 'to', 'said', 'storage', 'volume', 'by', 'an', 'articulating', 'hinge', 'tool', 'organizer', 'of', 'claim', 'wherein', 'said', 'lid', 'comprises', 'lock', 'for', 'securing', 'contents', 'of', 'said', 'storage', 'volume', 'from', 'unauthorized', 'removal', 'and', 'theft', 'tool', 'organizer', 'of', 'claim', 'wherein', 'said', 'attachment', 'means', 'comprise', 'at', 'least', 'one', 'hook', 'adjustable', 'in', 'length', 'to', 'accommodate', 'variations', 'in', 'widths', 'of', 'said', 'support', 'arms', 'tool', 'organizer', 'of', 'claim', 'wherein', 'at', 'least', 'one', 'of', 'said', 'upstanding', 'walls', 'comprises', 'magnetic', 'properties', 'for', 'attracting', 'and', 'supporting', 'magnetic', 'objects', 'tool', 'organizer', 'of', 'claim', 'wherein', 'said', 'tool', 'organizer', 'comprises', 'color', 'in', 'general', 'class', 'of', 'yellow', 'for', 'providing', 'visual', 'indication', 'of', 'said', 'tool', 'organizer', 'location'], tags=['6837383'])"
      ]
     },
     "execution_count": 13,
     "metadata": {},
     "output_type": "execute_result"
    }
   ],
   "source": [
    "d2v_grant_data[0]"
   ]
  },
  {
   "cell_type": "markdown",
   "metadata": {},
   "source": [
    "### doc2vec model training.\n",
    "\n",
    "model parameters: https://radimrehurek.com/gensim/models/doc2vec.html"
   ]
  },
  {
   "cell_type": "code",
   "execution_count": 14,
   "metadata": {},
   "outputs": [],
   "source": [
    "import multiprocessing\n",
    "CPUNUM = multiprocessing.cpu_count()"
   ]
  },
  {
   "cell_type": "code",
   "execution_count": 15,
   "metadata": {},
   "outputs": [
    {
     "name": "stdout",
     "output_type": "stream",
     "text": [
      "CPU times: user 8min 55s, sys: 3.37 s, total: 8min 58s\n",
      "Wall time: 2min 24s\n"
     ]
    }
   ],
   "source": [
    "%%time\n",
    "\n",
    "model = doc2vec.Doc2Vec(\n",
    "    documents=d2v_grant_data\n",
    "    , dm = 1\n",
    "    , epochs = 50\n",
    "    , vector_size=350\n",
    "    , window=5\n",
    "    , min_count=5\n",
    "    , workers=CPUNUM\n",
    "    , seed=23)"
   ]
  },
  {
   "cell_type": "markdown",
   "metadata": {},
   "source": [
    "Check word similarities."
   ]
  },
  {
   "cell_type": "code",
   "execution_count": 16,
   "metadata": {},
   "outputs": [
    {
     "name": "stderr",
     "output_type": "stream",
     "text": [
      "/usr/local/lib/python3.5/dist-packages/ipykernel_launcher.py:1: DeprecationWarning: Call to deprecated `most_similar` (Method will be removed in 4.0.0, use self.wv.most_similar() instead).\n",
      "  \"\"\"Entry point for launching an IPython kernel.\n",
      "/usr/local/lib/python3.5/dist-packages/gensim/matutils.py:737: FutureWarning: Conversion of the second argument of issubdtype from `int` to `np.signedinteger` is deprecated. In future, it will be treated as `np.int64 == np.dtype(int).type`.\n",
      "  if np.issubdtype(vec.dtype, np.int):\n"
     ]
    },
    {
     "data": {
      "text/plain": [
       "[('computer', 0.3288521468639374),\n",
       " ('computing', 0.22295017540454865),\n",
       " ('mediaccording', 0.21654629707336426),\n",
       " ('carrier', 0.21311798691749573),\n",
       " ('processor', 0.2070944905281067),\n",
       " ('solid', 0.19546379148960114),\n",
       " ('abradable', 0.19497519731521606),\n",
       " ('writable', 0.19063375890254974),\n",
       " ('watercraft', 0.18996915221214294),\n",
       " ('browser', 0.1790914684534073)]"
      ]
     },
     "execution_count": 16,
     "metadata": {},
     "output_type": "execute_result"
    }
   ],
   "source": [
    "model.most_similar(\"machine\")"
   ]
  },
  {
   "cell_type": "markdown",
   "metadata": {},
   "source": [
    "It looks nice.  \n",
    "Next check document similarities."
   ]
  },
  {
   "cell_type": "code",
   "execution_count": 17,
   "metadata": {},
   "outputs": [
    {
     "data": {
      "text/html": [
       "<div>\n",
       "<style scoped>\n",
       "    .dataframe tbody tr th:only-of-type {\n",
       "        vertical-align: middle;\n",
       "    }\n",
       "\n",
       "    .dataframe tbody tr th {\n",
       "        vertical-align: top;\n",
       "    }\n",
       "\n",
       "    .dataframe thead th {\n",
       "        text-align: right;\n",
       "    }\n",
       "</style>\n",
       "<table border=\"1\" class=\"dataframe\">\n",
       "  <thead>\n",
       "    <tr style=\"text-align: right;\">\n",
       "      <th></th>\n",
       "      <th>parsed</th>\n",
       "      <th>xml</th>\n",
       "      <th>claim</th>\n",
       "    </tr>\n",
       "  </thead>\n",
       "  <tbody>\n",
       "    <tr>\n",
       "      <th>0</th>\n",
       "      <td>6837383</td>\n",
       "      <td>&lt;us-patent-grant lang=\"EN\" dtd-version=\"v40 20...</td>\n",
       "      <td>\\n \\n 1. A tool organizer for mounting to and ...</td>\n",
       "    </tr>\n",
       "    <tr>\n",
       "      <th>1</th>\n",
       "      <td>6837647</td>\n",
       "      <td>&lt;us-patent-grant lang=\"EN\" dtd-version=\"v40 20...</td>\n",
       "      <td>\\n \\n 1. A modular crowd and traffic control b...</td>\n",
       "    </tr>\n",
       "  </tbody>\n",
       "</table>\n",
       "</div>"
      ],
      "text/plain": [
       "    parsed                                                xml  \\\n",
       "0  6837383  <us-patent-grant lang=\"EN\" dtd-version=\"v40 20...   \n",
       "1  6837647  <us-patent-grant lang=\"EN\" dtd-version=\"v40 20...   \n",
       "\n",
       "                                               claim  \n",
       "0  \\n \\n 1. A tool organizer for mounting to and ...  \n",
       "1  \\n \\n 1. A modular crowd and traffic control b...  "
      ]
     },
     "execution_count": 17,
     "metadata": {},
     "output_type": "execute_result"
    }
   ],
   "source": [
    "grants_target_df.head(2)"
   ]
  },
  {
   "cell_type": "code",
   "execution_count": 18,
   "metadata": {},
   "outputs": [],
   "source": [
    "idx = 6837383"
   ]
  },
  {
   "cell_type": "code",
   "execution_count": 19,
   "metadata": {},
   "outputs": [
    {
     "name": "stderr",
     "output_type": "stream",
     "text": [
      "/usr/local/lib/python3.5/dist-packages/gensim/matutils.py:737: FutureWarning: Conversion of the second argument of issubdtype from `int` to `np.signedinteger` is deprecated. In future, it will be treated as `np.int64 == np.dtype(int).type`.\n",
      "  if np.issubdtype(vec.dtype, np.int):\n"
     ]
    },
    {
     "data": {
      "text/plain": [
       "[('7258401', 0.44296786189079285),\n",
       " ('7242108', 0.4299090802669525),\n",
       " ('7383954', 0.42481231689453125),\n",
       " ('6860386', 0.395189493894577),\n",
       " ('7954481', 0.37927863001823425),\n",
       " ('7384025', 0.35905197262763977),\n",
       " ('6908418', 0.3479470908641815),\n",
       " ('6991262', 0.34716877341270447),\n",
       " ('7845510', 0.34139519929885864),\n",
       " ('7253127', 0.34035345911979675)]"
      ]
     },
     "execution_count": 19,
     "metadata": {},
     "output_type": "execute_result"
    }
   ],
   "source": [
    "model.docvecs.most_similar(str(idx))"
   ]
  },
  {
   "cell_type": "code",
   "execution_count": 20,
   "metadata": {},
   "outputs": [
    {
     "name": "stderr",
     "output_type": "stream",
     "text": [
      "/usr/local/lib/python3.5/dist-packages/gensim/matutils.py:737: FutureWarning: Conversion of the second argument of issubdtype from `int` to `np.signedinteger` is deprecated. In future, it will be treated as `np.int64 == np.dtype(int).type`.\n",
      "  if np.issubdtype(vec.dtype, np.int):\n"
     ]
    }
   ],
   "source": [
    "most_similar_grant_idx = int(model.docvecs.most_similar(str(idx))[0][0])"
   ]
  },
  {
   "cell_type": "code",
   "execution_count": 21,
   "metadata": {},
   "outputs": [
    {
     "data": {
      "text/plain": [
       "7258401"
      ]
     },
     "execution_count": 21,
     "metadata": {},
     "output_type": "execute_result"
    }
   ],
   "source": [
    "most_similar_grant_idx"
   ]
  },
  {
   "cell_type": "markdown",
   "metadata": {},
   "source": [
    "Check similar documents."
   ]
  },
  {
   "cell_type": "code",
   "execution_count": 22,
   "metadata": {
    "scrolled": false
   },
   "outputs": [
    {
     "data": {
      "text/plain": [
       "array(['\\n \\n 1. A tool organizer for mounting to and adapted for use with a vehicle lift rack having support arms, said tool organizer comprising:\\n four upstanding walls depending from a base and forming a storage volume for storing a plurality of tools and parts;  \\n a selectively articulating lid enclosing said storage volume;  \\n adjustable attachment means depending from said storage volume, said attachment means removably attachable to said support arms for supporting said tool organizer by gravity impingement;  \\n a U-shaped ring affixed to an external portion of at least one of said walls, said ring for supporting a hand tool;  \\n a support plate projected from a front of said tool organizer and co-extensive with said base;  \\n a plurality of intermediate apertures formed in said support plate, said plurality of intermediate apertures adapted sized to accommodate intermediate and large hand tools;  \\n a plurality of small apertures formed in said support plate, said plurality of small apertures adapted to accommodate small hand tools;  \\n at least one large aperture formed in said support plate, said at least one large aperture adapted to accommodate a container.  \\n \\n \\n \\n 2. The tool organizer of  claim 1  further comprising a slidably retained storage drawer provided beneath said base and said support plate for additional storage area, said base and said support plate operating as an enclosure for said storage drawer. \\n \\n \\n 3. The tool organizer of  claim 2 , wherein a face of said storage drawer is co-extensive with an anterior margin of said support plate, said storage drawer further comprising a handle for easily grasping for selectively opening and closing said storage drawer. \\n \\n \\n 4. The tool organizer of  claim 1 , wherein said tool organizer rests cantilevered to said support arms, thereby positioning said storage volume below a horizontal level of said support arms. \\n \\n \\n 5. The tool organizer of  claim 1 , wherein said four upstanding walls comprise a front wall opposite a rear wall, a first sidewall opposite a second sidewall, wherein said first sidewall and said second sidewall are intermediately disposed between said front wall and said rear wall. \\n \\n \\n 6. The tool organizer of  claim 5 , wherein said rear wall comprises a greater vertical profile than said front wall for providing ease of access to said storage volume. \\n \\n \\n 7. The tool organizer of  claim 5 , wherein said first sidewall and said second sidewall are inclined from said front wall to said rear wall for providing ease of access to said storage volume. \\n \\n \\n 8. The tool organizer of  claim 1 , wherein said lid is affixed to said storage volume by an articulating hinge. \\n \\n \\n 9. The tool organizer of  claim 1 , wherein said lid comprises a lock for securing contents of said storage volume from unauthorized removal and theft. \\n \\n \\n 10. The tool organizer of  claim 1 , wherein said attachment means comprise at least one hook adjustable in length to accommodate variations in widths of said support arms. \\n \\n \\n 11. The tool organizer of  claim 1 , wherein at least one of said upstanding walls comprises magnetic properties for attracting and supporting magnetic objects. \\n \\n \\n 12. The tool organizer of  claim 1 , wherein said tool organizer comprises a color in a general class of yellow for providing visual indication of said tool organizer location. \\n \\n'],\n",
       "      dtype=object)"
      ]
     },
     "execution_count": 22,
     "metadata": {},
     "output_type": "execute_result"
    }
   ],
   "source": [
    "grants_target_df[grants_target_df.parsed == idx]['claim'].values"
   ]
  },
  {
   "cell_type": "code",
   "execution_count": 23,
   "metadata": {
    "scrolled": true
   },
   "outputs": [
    {
     "data": {
      "text/plain": [
       "array(['\\n \\n 1. A method of sitting, wherein said method comprises the steps of:\\n a. securing a portable chair to an upright support structure; \\n b. extending a support rod proximate a base of the support structure; \\n c. wherein said chair comprises fabric material, folding said fabric material into fan-folds; and \\n d. securing said fan-folds together via a grommet. \\n \\n \\n'],\n",
       "      dtype=object)"
      ]
     },
     "execution_count": 23,
     "metadata": {},
     "output_type": "execute_result"
    }
   ],
   "source": [
    "grants_target_df[grants_target_df.parsed == most_similar_grant_idx]['claim'].values"
   ]
  },
  {
   "cell_type": "markdown",
   "metadata": {},
   "source": [
    "Are these similar? It's not easy to judge, but these are both physical devices?\n",
    "\n",
    "Let's continue to check model predictions"
   ]
  },
  {
   "cell_type": "markdown",
   "metadata": {},
   "source": [
    "### Model prediction for test app data"
   ]
  },
  {
   "cell_type": "markdown",
   "metadata": {},
   "source": [
    "Create the same type data of testset_app_df as we did for grant_target_df."
   ]
  },
  {
   "cell_type": "code",
   "execution_count": 24,
   "metadata": {},
   "outputs": [
    {
     "data": {
      "text/html": [
       "<div>\n",
       "<style scoped>\n",
       "    .dataframe tbody tr th:only-of-type {\n",
       "        vertical-align: middle;\n",
       "    }\n",
       "\n",
       "    .dataframe tbody tr th {\n",
       "        vertical-align: top;\n",
       "    }\n",
       "\n",
       "    .dataframe thead th {\n",
       "        text-align: right;\n",
       "    }\n",
       "</style>\n",
       "<table border=\"1\" class=\"dataframe\">\n",
       "  <thead>\n",
       "    <tr style=\"text-align: right;\">\n",
       "      <th></th>\n",
       "      <th>app_id</th>\n",
       "      <th>xml</th>\n",
       "    </tr>\n",
       "  </thead>\n",
       "  <tbody>\n",
       "    <tr>\n",
       "      <th>0</th>\n",
       "      <td>14307191</td>\n",
       "      <td>&lt;us-patent-application lang=\"EN\" dtd-version=\"...</td>\n",
       "    </tr>\n",
       "    <tr>\n",
       "      <th>1</th>\n",
       "      <td>13137006</td>\n",
       "      <td>&lt;us-patent-application lang=\"EN\" dtd-version=\"...</td>\n",
       "    </tr>\n",
       "    <tr>\n",
       "      <th>2</th>\n",
       "      <td>12741959</td>\n",
       "      <td>&lt;us-patent-application lang=\"EN\" dtd-version=\"...</td>\n",
       "    </tr>\n",
       "    <tr>\n",
       "      <th>3</th>\n",
       "      <td>12643447</td>\n",
       "      <td>&lt;us-patent-application lang=\"EN\" dtd-version=\"...</td>\n",
       "    </tr>\n",
       "    <tr>\n",
       "      <th>4</th>\n",
       "      <td>14200253</td>\n",
       "      <td>&lt;us-patent-application lang=\"EN\" dtd-version=\"...</td>\n",
       "    </tr>\n",
       "  </tbody>\n",
       "</table>\n",
       "</div>"
      ],
      "text/plain": [
       "     app_id                                                xml\n",
       "0  14307191  <us-patent-application lang=\"EN\" dtd-version=\"...\n",
       "1  13137006  <us-patent-application lang=\"EN\" dtd-version=\"...\n",
       "2  12741959  <us-patent-application lang=\"EN\" dtd-version=\"...\n",
       "3  12643447  <us-patent-application lang=\"EN\" dtd-version=\"...\n",
       "4  14200253  <us-patent-application lang=\"EN\" dtd-version=\"..."
      ]
     },
     "execution_count": 24,
     "metadata": {},
     "output_type": "execute_result"
    }
   ],
   "source": [
    "testset_app_df.head()"
   ]
  },
  {
   "cell_type": "code",
   "execution_count": 25,
   "metadata": {},
   "outputs": [],
   "source": [
    "testset_app_df['claim'] = testset_app_df[\"xml\"].map(whole_xml_to_claim)"
   ]
  },
  {
   "cell_type": "code",
   "execution_count": 26,
   "metadata": {},
   "outputs": [
    {
     "data": {
      "text/html": [
       "<div>\n",
       "<style scoped>\n",
       "    .dataframe tbody tr th:only-of-type {\n",
       "        vertical-align: middle;\n",
       "    }\n",
       "\n",
       "    .dataframe tbody tr th {\n",
       "        vertical-align: top;\n",
       "    }\n",
       "\n",
       "    .dataframe thead th {\n",
       "        text-align: right;\n",
       "    }\n",
       "</style>\n",
       "<table border=\"1\" class=\"dataframe\">\n",
       "  <thead>\n",
       "    <tr style=\"text-align: right;\">\n",
       "      <th></th>\n",
       "      <th>app_id</th>\n",
       "      <th>xml</th>\n",
       "      <th>claim</th>\n",
       "    </tr>\n",
       "  </thead>\n",
       "  <tbody>\n",
       "    <tr>\n",
       "      <th>0</th>\n",
       "      <td>14307191</td>\n",
       "      <td>&lt;us-patent-application lang=\"EN\" dtd-version=\"...</td>\n",
       "      <td>\\n \\n  1 . A method to aggregate, filter, and ...</td>\n",
       "    </tr>\n",
       "    <tr>\n",
       "      <th>1</th>\n",
       "      <td>13137006</td>\n",
       "      <td>&lt;us-patent-application lang=\"EN\" dtd-version=\"...</td>\n",
       "      <td>\\n \\n  1 . A display apparatus, comprising:\\n ...</td>\n",
       "    </tr>\n",
       "    <tr>\n",
       "      <th>2</th>\n",
       "      <td>12741959</td>\n",
       "      <td>&lt;us-patent-application lang=\"EN\" dtd-version=\"...</td>\n",
       "      <td>\\n \\n  1 - 33 . (canceled) \\n \\n \\n  34 . A co...</td>\n",
       "    </tr>\n",
       "    <tr>\n",
       "      <th>3</th>\n",
       "      <td>12643447</td>\n",
       "      <td>&lt;us-patent-application lang=\"EN\" dtd-version=\"...</td>\n",
       "      <td>\\n \\n  1 . A terminal fitting formed by bendin...</td>\n",
       "    </tr>\n",
       "    <tr>\n",
       "      <th>4</th>\n",
       "      <td>14200253</td>\n",
       "      <td>&lt;us-patent-application lang=\"EN\" dtd-version=\"...</td>\n",
       "      <td>\\n \\n  1 . A printer for printing a three-dime...</td>\n",
       "    </tr>\n",
       "  </tbody>\n",
       "</table>\n",
       "</div>"
      ],
      "text/plain": [
       "     app_id                                                xml  \\\n",
       "0  14307191  <us-patent-application lang=\"EN\" dtd-version=\"...   \n",
       "1  13137006  <us-patent-application lang=\"EN\" dtd-version=\"...   \n",
       "2  12741959  <us-patent-application lang=\"EN\" dtd-version=\"...   \n",
       "3  12643447  <us-patent-application lang=\"EN\" dtd-version=\"...   \n",
       "4  14200253  <us-patent-application lang=\"EN\" dtd-version=\"...   \n",
       "\n",
       "                                               claim  \n",
       "0  \\n \\n  1 . A method to aggregate, filter, and ...  \n",
       "1  \\n \\n  1 . A display apparatus, comprising:\\n ...  \n",
       "2  \\n \\n  1 - 33 . (canceled) \\n \\n \\n  34 . A co...  \n",
       "3  \\n \\n  1 . A terminal fitting formed by bendin...  \n",
       "4  \\n \\n  1 . A printer for printing a three-dime...  "
      ]
     },
     "execution_count": 26,
     "metadata": {},
     "output_type": "execute_result"
    }
   ],
   "source": [
    "testset_app_df.head()"
   ]
  },
  {
   "cell_type": "code",
   "execution_count": 27,
   "metadata": {},
   "outputs": [],
   "source": [
    "preprocessed_testset_app_data = testset_app_df['claim'].str\\\n",
    "    .replace(\"\\n\", \"\", regex=False).str\\\n",
    "    .replace(\"[0-9]*\\.\", \"\", regex=True).str\\\n",
    "    .replace(\"[,:;]\", \"\", regex=True).str\\\n",
    "    .replace(\"a |A |the |The \", \"\", regex=True)"
   ]
  },
  {
   "cell_type": "code",
   "execution_count": 28,
   "metadata": {},
   "outputs": [],
   "source": [
    "preprocessed_testset_app_data = testset_app_df['claim']"
   ]
  },
  {
   "cell_type": "code",
   "execution_count": 29,
   "metadata": {},
   "outputs": [],
   "source": [
    "vec = model.infer_vector( simple_preprocess(preprocessed_testset_app_data[0]) )"
   ]
  },
  {
   "cell_type": "code",
   "execution_count": 30,
   "metadata": {},
   "outputs": [
    {
     "data": {
      "text/plain": [
       "array([ 1.4193389e+00,  4.9787712e-01,  1.1977789e+00, -2.3458123e+00,\n",
       "       -2.5139294e+00,  1.3345280e+00, -1.3750316e+00, -1.1853079e+00,\n",
       "       -1.0399116e+00, -3.0595894e+00,  1.2986062e+00, -4.6496108e-01,\n",
       "       -1.0849931e+00,  5.7383204e-01, -8.3700776e-01, -2.4948289e+00,\n",
       "        3.6967799e-01,  6.3146768e+00,  2.0904517e+00,  3.2004350e-01,\n",
       "       -3.9391303e+00, -2.3947566e+00,  3.3929551e+00,  4.3394918e+00,\n",
       "       -3.6151779e+00, -7.7018893e-01,  1.9713643e+00, -1.3699533e+00,\n",
       "        2.7648537e+00, -6.2558722e-01, -5.1446646e-01,  2.8439567e+00,\n",
       "        3.8421149e+00,  1.9443833e+00,  2.6537316e+00, -6.0759254e+00,\n",
       "       -2.2043023e+00,  1.9617833e+00, -3.3114133e+00, -2.5946164e+00,\n",
       "        2.1793137e-01,  4.1760902e+00, -1.3126152e+00,  1.7040106e+00,\n",
       "        1.5103260e+00, -1.1026165e+00,  1.6513299e+00,  4.2930894e+00,\n",
       "        1.1730182e+00, -1.4524143e+00, -1.4717603e+00, -1.2430451e+00,\n",
       "        6.8538934e-01, -2.4203212e+00,  3.6162165e-01,  1.1418265e+00,\n",
       "       -3.0569608e+00,  1.0984015e+00,  1.1282573e+00,  4.6267486e+00,\n",
       "       -2.1846247e+00, -2.1943984e+00, -1.0243232e+00,  4.4732203e+00,\n",
       "       -4.1739169e-01,  4.3166385e+00, -2.6439729e+00,  1.3235420e+00,\n",
       "       -2.1488216e+00, -8.2709485e-01, -1.3523957e+00,  3.7933075e+00,\n",
       "       -7.3593217e-01,  5.5725932e-01,  1.4274842e+00, -2.0004954e+00,\n",
       "       -3.3485403e+00, -1.8511759e+00,  1.0637090e+00,  1.9877498e-01,\n",
       "        2.2283278e+00, -1.4125313e+00,  2.5076122e+00,  3.6184626e+00,\n",
       "       -5.4198104e-01, -1.1219811e+00,  2.3761802e+00,  1.3606309e+00,\n",
       "       -8.3104539e-01, -2.6889467e+00, -1.8693154e+00,  5.3367176e+00,\n",
       "       -2.6934087e+00, -6.8076425e+00, -1.7056807e+00, -1.4847261e+00,\n",
       "        1.1925536e+00,  6.0253043e+00, -2.0416176e+00,  3.3630940e-01,\n",
       "       -2.9869635e+00, -1.4696892e+00,  1.1753074e-02,  3.4846182e+00,\n",
       "        4.5547061e+00, -9.7786826e-01, -2.7630112e+00,  3.6730800e+00,\n",
       "        6.2429345e-01, -5.2339907e+00,  2.4527063e+00, -1.1313392e+00,\n",
       "       -8.2323211e-01, -1.6571614e+00,  7.3491651e-01,  1.2830426e+00,\n",
       "        9.0618247e-01, -8.5911757e-01, -3.1004522e+00, -1.7477033e-01,\n",
       "       -2.3598492e+00,  4.1520553e+00, -2.1189100e-01,  2.2559514e+00,\n",
       "        2.2859833e+00, -6.8719566e-01, -3.0207140e+00, -2.3089125e+00,\n",
       "        4.1395208e-01, -2.5270255e+00, -5.1253450e-01, -2.2978072e+00,\n",
       "       -2.3129991e-01, -5.0903473e+00,  2.2605786e-01, -3.8365192e+00,\n",
       "        3.3555603e+00, -2.1406686e+00,  1.9170753e+00, -5.1273232e+00,\n",
       "        3.4873810e+00, -2.0629669e-02,  2.5972652e+00,  1.3937713e+00,\n",
       "        7.7037704e-01, -3.1046298e+00,  2.0882597e-03, -2.1800215e+00,\n",
       "       -2.6370783e+00,  2.8828304e+00,  3.8984790e+00, -2.5629923e+00,\n",
       "        2.3643062e+00,  2.6318307e+00, -8.9666113e-02, -7.4624467e-01,\n",
       "       -1.4895306e+00, -1.0896436e+00, -8.1791945e-02,  1.4589359e+00,\n",
       "        3.1279963e-01, -2.3492949e+00, -2.3561549e+00,  3.2345650e+00,\n",
       "        7.7656621e-01,  1.3911821e+00,  2.7841277e+00, -1.7129037e+00,\n",
       "       -5.0186765e-01,  3.0476980e+00,  8.2270575e-01,  4.6879787e+00,\n",
       "       -3.9724696e+00,  1.9111589e+00, -2.4955142e+00, -1.2781559e+00,\n",
       "        7.4596947e-01, -4.0949626e+00,  3.6570163e+00, -5.2993321e-01,\n",
       "        3.5421758e+00,  2.5772312e+00,  1.4500322e+00,  1.5943679e+00,\n",
       "       -2.1228137e+00,  1.4483637e+00, -2.4358616e+00,  1.3741529e+00,\n",
       "       -3.2298739e+00, -1.3896921e+00, -1.5467144e+00, -2.4683688e+00,\n",
       "        8.6271691e-01, -4.9159336e+00,  2.6073039e+00,  6.0036439e-01,\n",
       "        1.6155140e+00, -5.1831529e-02, -4.5772600e+00,  7.7054656e-01,\n",
       "        3.2408515e-01, -1.7977490e+00,  1.3230445e+00, -6.9070339e-01,\n",
       "       -3.2019106e-01,  7.1676528e-01,  1.4049997e+00, -5.0796199e+00,\n",
       "        1.2991631e-01, -7.1229085e-02, -2.1828983e+00, -1.3321632e+00,\n",
       "       -8.2461178e-01,  2.0633709e+00, -7.7648932e-01,  6.6083950e-01,\n",
       "        1.8507918e+00,  3.6662901e-03,  1.7997004e+00, -8.2276203e-03,\n",
       "        6.5103716e-01,  2.3416305e+00,  1.6919143e+00, -1.3086756e-01,\n",
       "        4.2641732e-01,  3.3544070e-01,  1.9509144e+00,  1.1103171e+00,\n",
       "        3.8071678e+00,  3.7666526e+00,  2.5286200e+00,  1.7862369e+00,\n",
       "       -8.6680746e-01,  4.2870941e+00,  7.8659111e-01,  3.2610819e-01,\n",
       "       -2.6758711e+00, -1.1515594e+00,  5.6490129e-01, -1.4263799e+00,\n",
       "       -2.4917929e+00, -2.1791472e+00,  1.4375062e+00,  2.1064736e-02,\n",
       "        3.1670518e+00,  3.1657556e-01, -1.0440177e+00,  4.6718960e+00,\n",
       "        1.5853873e+00, -7.8371006e-01, -3.9607782e+00, -4.2475505e+00,\n",
       "       -9.9437934e-01, -1.8451545e+00, -1.5087698e+00,  1.5776474e+00,\n",
       "       -7.0987654e+00, -2.4591198e+00,  1.8215251e+00,  1.1818689e+00,\n",
       "       -1.8222082e+00,  6.4909720e-01,  6.6608992e+00,  2.4737642e+00,\n",
       "       -3.9757059e+00, -2.1580956e+00,  1.3566558e+00,  1.9135879e+00,\n",
       "       -2.0394516e+00, -7.2851777e-01, -1.9474732e+00,  3.0371743e-01,\n",
       "        1.2129940e+00,  3.7351245e-01, -2.3582435e+00, -9.3604672e-01,\n",
       "       -1.9340764e+00,  3.6509082e+00, -2.1772227e+00,  3.1164522e+00,\n",
       "        3.2855260e+00,  1.7620435e+00, -1.0020022e-01,  1.4417838e+00,\n",
       "        4.7927766e+00,  1.0837986e+00, -8.5291386e-01,  2.1101904e+00,\n",
       "        2.2996573e+00,  5.9771478e-01,  4.4364557e+00,  3.1819248e+00,\n",
       "        5.8107269e-01,  3.4931040e+00,  2.5959461e+00,  5.5067986e-01,\n",
       "        5.0921196e-01, -5.0435615e+00, -8.3993012e-01, -3.6602376e+00,\n",
       "        4.7574468e+00, -1.2815409e+00, -2.2098266e-01, -2.3709850e+00,\n",
       "       -3.6595685e+00, -1.5589988e+00,  2.1300921e+00, -5.2614226e+00,\n",
       "       -6.8238276e-01,  8.3522528e-01, -1.5672557e+00,  2.2026818e+00,\n",
       "       -3.8276916e+00, -1.8422806e+00,  4.1768117e+00,  2.8944151e+00,\n",
       "        1.0416629e+00,  2.0117633e+00, -1.2569906e+00, -1.1871417e+00,\n",
       "        3.1597061e+00,  2.2774978e+00, -8.4661847e-01,  3.6742643e-03,\n",
       "       -3.0102912e-01,  1.7270751e+00, -3.1336710e+00, -1.0037899e+00,\n",
       "        1.2505916e+00, -1.3117259e+00,  1.1487960e+00, -7.8801876e-01,\n",
       "        1.0906780e+00,  5.8323326e+00, -1.3642331e+00, -1.6959217e+00,\n",
       "        1.6177194e+00,  2.5767252e-01,  1.7233878e+00,  1.1973333e+00,\n",
       "       -4.4144020e+00, -2.7007766e+00,  6.4048071e+00,  1.1801604e+00,\n",
       "       -3.9682651e+00, -6.5355101e+00, -3.1106737e-01, -1.7131941e+00,\n",
       "        3.8913152e+00, -4.4187179e+00], dtype=float32)"
      ]
     },
     "execution_count": 30,
     "metadata": {},
     "output_type": "execute_result"
    }
   ],
   "source": [
    "vec"
   ]
  },
  {
   "cell_type": "code",
   "execution_count": 31,
   "metadata": {},
   "outputs": [
    {
     "name": "stderr",
     "output_type": "stream",
     "text": [
      "/usr/local/lib/python3.5/dist-packages/gensim/matutils.py:737: FutureWarning: Conversion of the second argument of issubdtype from `int` to `np.signedinteger` is deprecated. In future, it will be treated as `np.int64 == np.dtype(int).type`.\n",
      "  if np.issubdtype(vec.dtype, np.int):\n"
     ]
    },
    {
     "data": {
      "text/plain": [
       "[('8104041', 0.2958594858646393),\n",
       " ('7719957', 0.2648068964481354),\n",
       " ('8214829', 0.24946874380111694),\n",
       " ('7453937', 0.2493516206741333),\n",
       " ('6914242', 0.2491285502910614),\n",
       " ('7620127', 0.2432052046060562),\n",
       " ('7304681', 0.23867309093475342),\n",
       " ('8035392', 0.23826931416988373),\n",
       " ('7057392', 0.23457486927509308),\n",
       " ('7252786', 0.23387867212295532)]"
      ]
     },
     "execution_count": 31,
     "metadata": {},
     "output_type": "execute_result"
    }
   ],
   "source": [
    "model.docvecs.most_similar([vec])"
   ]
  },
  {
   "cell_type": "code",
   "execution_count": 32,
   "metadata": {},
   "outputs": [
    {
     "name": "stderr",
     "output_type": "stream",
     "text": [
      "/usr/local/lib/python3.5/dist-packages/gensim/matutils.py:737: FutureWarning: Conversion of the second argument of issubdtype from `int` to `np.signedinteger` is deprecated. In future, it will be treated as `np.int64 == np.dtype(int).type`.\n",
      "  if np.issubdtype(vec.dtype, np.int):\n"
     ]
    },
    {
     "data": {
      "text/plain": [
       "[8104041]"
      ]
     },
     "execution_count": 32,
     "metadata": {},
     "output_type": "execute_result"
    }
   ],
   "source": [
    "[int(grantid) for grantid,similarity in model.docvecs.most_similar([vec], topn=1)]"
   ]
  },
  {
   "cell_type": "code",
   "execution_count": 33,
   "metadata": {},
   "outputs": [],
   "source": [
    "def predict_test_set():\n",
    "    predictdf = pd.DataFrame(columns=grants_target_df.parsed.values, dtype=np.bool)\n",
    "    for idx, appid in enumerate(testset_app_df.app_id):\n",
    "        text = preprocessed_testset_app_data[idx]\n",
    "        vec = model.infer_vector(simple_preprocess(text))\n",
    "        \n",
    "        similar_grant_indexes = [int(grantid) \n",
    "                                 for grantid, similarity \n",
    "                                 in model.docvecs.most_similar([vec], topn=1)]\n",
    "\n",
    "        predictdf.loc[appid] = False\n",
    "        for similar_grant_index in similar_grant_indexes:\n",
    "            predictdf.loc[appid, similar_grant_index] = True\n",
    "        if idx%100 == 0:\n",
    "            print(idx)\n",
    "    \n",
    "    return predictdf"
   ]
  },
  {
   "cell_type": "code",
   "execution_count": 34,
   "metadata": {},
   "outputs": [
    {
     "name": "stderr",
     "output_type": "stream",
     "text": [
      "/usr/local/lib/python3.5/dist-packages/gensim/matutils.py:737: FutureWarning: Conversion of the second argument of issubdtype from `int` to `np.signedinteger` is deprecated. In future, it will be treated as `np.int64 == np.dtype(int).type`.\n",
      "  if np.issubdtype(vec.dtype, np.int):\n"
     ]
    },
    {
     "name": "stdout",
     "output_type": "stream",
     "text": [
      "0\n",
      "100\n",
      "200\n",
      "300\n",
      "400\n",
      "500\n",
      "600\n",
      "700\n",
      "800\n",
      "900\n",
      "CPU times: user 3min 55s, sys: 4min 32s, total: 8min 27s\n",
      "Wall time: 2min 44s\n"
     ]
    }
   ],
   "source": [
    "%%time\n",
    "\n",
    "pred_df = predict_test_set()"
   ]
  },
  {
   "cell_type": "code",
   "execution_count": 35,
   "metadata": {},
   "outputs": [
    {
     "data": {
      "text/html": [
       "<div>\n",
       "<style scoped>\n",
       "    .dataframe tbody tr th:only-of-type {\n",
       "        vertical-align: middle;\n",
       "    }\n",
       "\n",
       "    .dataframe tbody tr th {\n",
       "        vertical-align: top;\n",
       "    }\n",
       "\n",
       "    .dataframe thead th {\n",
       "        text-align: right;\n",
       "    }\n",
       "</style>\n",
       "<table border=\"1\" class=\"dataframe\">\n",
       "  <thead>\n",
       "    <tr style=\"text-align: right;\">\n",
       "      <th></th>\n",
       "      <th>acc</th>\n",
       "      <th>prec</th>\n",
       "      <th>recall</th>\n",
       "      <th>f1</th>\n",
       "    </tr>\n",
       "  </thead>\n",
       "  <tbody>\n",
       "    <tr>\n",
       "      <th>0</th>\n",
       "      <td>0.999263</td>\n",
       "      <td>0.195</td>\n",
       "      <td>0.155875</td>\n",
       "      <td>0.173256</td>\n",
       "    </tr>\n",
       "  </tbody>\n",
       "</table>\n",
       "</div>"
      ],
      "text/plain": [
       "        acc   prec    recall        f1\n",
       "0  0.999263  0.195  0.155875  0.173256"
      ]
     },
     "execution_count": 35,
     "metadata": {},
     "output_type": "execute_result"
    }
   ],
   "source": [
    "calc_summary(pred_df, label_df)"
   ]
  },
  {
   "cell_type": "code",
   "execution_count": null,
   "metadata": {},
   "outputs": [],
   "source": []
  }
 ],
 "metadata": {
  "kernelspec": {
   "display_name": "Python 3",
   "language": "python",
   "name": "python3"
  },
  "language_info": {
   "codemirror_mode": {
    "name": "ipython",
    "version": 3
   },
   "file_extension": ".py",
   "mimetype": "text/x-python",
   "name": "python",
   "nbconvert_exporter": "python",
   "pygments_lexer": "ipython3",
   "version": "3.5.2"
  }
 },
 "nbformat": 4,
 "nbformat_minor": 2
}
