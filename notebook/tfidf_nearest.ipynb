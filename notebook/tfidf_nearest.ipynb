{
 "cells": [
  {
   "cell_type": "markdown",
   "metadata": {},
   "source": [
    "# Baseline model\n",
    "\n",
    "Just predict true if tf-idf cosin distance is closer than threshold.\n",
    "\n",
    "This is intended for simplest end-to-end solution."
   ]
  },
  {
   "cell_type": "markdown",
   "metadata": {},
   "source": [
    "# Training-Test set setup\n",
    "\n",
    "Dataset setup is common for all model.\n",
    "Currently just put in ipynb. Please dup! (maybe factor out to .py file in the future)."
   ]
  },
  {
   "cell_type": "code",
   "execution_count": 1,
   "metadata": {},
   "outputs": [],
   "source": [
    "import pandas as pd\n",
    "import numpy as np"
   ]
  },
  {
   "cell_type": "code",
   "execution_count": null,
   "metadata": {},
   "outputs": [],
   "source": []
  },
  {
   "cell_type": "code",
   "execution_count": 2,
   "metadata": {},
   "outputs": [],
   "source": [
    "grants_all_df = pd.read_pickle(\"../data/grants_2012_from2017_xmldf.dat\")"
   ]
  },
  {
   "cell_type": "code",
   "execution_count": 3,
   "metadata": {},
   "outputs": [],
   "source": [
    "app_all_df = pd.read_pickle(\"../data/app_2017_by2012_xmldf.dat\")"
   ]
  },
  {
   "cell_type": "code",
   "execution_count": null,
   "metadata": {},
   "outputs": [],
   "source": []
  },
  {
   "cell_type": "markdown",
   "metadata": {},
   "source": [
    "### Split training-test set setup\n",
    "\n",
    "If app_id is uniq, we can just use dataframe.sample.\n",
    "But somemodel might want to use multiple xml for the same app_id.\n",
    "\n",
    "So keep all app_id in split phase.\n",
    "Also, app_id order would be the same order as apply (maybe not, please confirm somebody!).\n",
    "So keep order when split, Then shuffle so that every one reproduce split even though they change mind to use multiple xml of each app_id."
   ]
  },
  {
   "cell_type": "code",
   "execution_count": 4,
   "metadata": {},
   "outputs": [],
   "source": [
    "all_appid = set(app_all_df['app_id'])"
   ]
  },
  {
   "cell_type": "code",
   "execution_count": 5,
   "metadata": {},
   "outputs": [],
   "source": [
    "import random"
   ]
  },
  {
   "cell_type": "code",
   "execution_count": 6,
   "metadata": {},
   "outputs": [],
   "source": [
    "random.seed(1234)"
   ]
  },
  {
   "cell_type": "code",
   "execution_count": 7,
   "metadata": {},
   "outputs": [],
   "source": [
    "training_id = set(random.sample(all_appid, int(len(all_appid)*0.9)))"
   ]
  },
  {
   "cell_type": "code",
   "execution_count": 8,
   "metadata": {},
   "outputs": [],
   "source": [
    "testset_id = all_appid - training_id"
   ]
  },
  {
   "cell_type": "code",
   "execution_count": 9,
   "metadata": {},
   "outputs": [
    {
     "data": {
      "text/plain": [
       "(2769, 308)"
      ]
     },
     "execution_count": 9,
     "metadata": {},
     "output_type": "execute_result"
    }
   ],
   "source": [
    "len(training_id), len(testset_id)"
   ]
  },
  {
   "cell_type": "code",
   "execution_count": null,
   "metadata": {},
   "outputs": [],
   "source": []
  },
  {
   "cell_type": "code",
   "execution_count": 10,
   "metadata": {},
   "outputs": [],
   "source": [
    "training_app_df = app_all_df[app_all_df.app_id.isin(training_id)]"
   ]
  },
  {
   "cell_type": "code",
   "execution_count": 11,
   "metadata": {},
   "outputs": [],
   "source": [
    "testset_app_df = app_all_df[~app_all_df.app_id.isin(training_id)]"
   ]
  },
  {
   "cell_type": "code",
   "execution_count": 12,
   "metadata": {},
   "outputs": [
    {
     "data": {
      "text/plain": [
       "((3083, 2), (2775, 2), (308, 2))"
      ]
     },
     "execution_count": 12,
     "metadata": {},
     "output_type": "execute_result"
    }
   ],
   "source": [
    "app_all_df.shape, training_app_df.shape, testset_app_df.shape"
   ]
  },
  {
   "cell_type": "code",
   "execution_count": 13,
   "metadata": {},
   "outputs": [
    {
     "data": {
      "text/plain": [
       "0    14742496\n",
       "1    14348426\n",
       "2    14613336\n",
       "3    14053984\n",
       "4    14590141\n",
       "Name: app_id, dtype: int64"
      ]
     },
     "execution_count": 13,
     "metadata": {},
     "output_type": "execute_result"
    }
   ],
   "source": [
    "training_app_df.head().app_id"
   ]
  },
  {
   "cell_type": "raw",
   "metadata": {},
   "source": [
    "Expected\n",
    "\n",
    "0    14742496\n",
    "1    14348426\n",
    "2    14613336\n",
    "3    14053984\n",
    "4    14590141"
   ]
  },
  {
   "cell_type": "code",
   "execution_count": 14,
   "metadata": {},
   "outputs": [
    {
     "data": {
      "text/plain": [
       "app_id                                             15289343\n",
       "xml       <?xml version=\"1.0\" encoding=\"UTF-8\"?>\\n<!DOCT...\n",
       "Name: 15, dtype: object"
      ]
     },
     "execution_count": 14,
     "metadata": {},
     "output_type": "execute_result"
    }
   ],
   "source": [
    "testset_app_df.iloc[1]"
   ]
  },
  {
   "cell_type": "code",
   "execution_count": null,
   "metadata": {},
   "outputs": [],
   "source": []
  },
  {
   "cell_type": "code",
   "execution_count": null,
   "metadata": {},
   "outputs": [],
   "source": []
  },
  {
   "cell_type": "code",
   "execution_count": 15,
   "metadata": {},
   "outputs": [],
   "source": [
    "def filter_uniq_appid(df):\n",
    "    ids = set()\n",
    "    filtermask = []\n",
    "    for i in range(len(df)):\n",
    "        app_id = df.iloc[i].app_id\n",
    "        filtermask.append(app_id not in ids)\n",
    "        ids.add(app_id)\n",
    "    return filtermask\n"
   ]
  },
  {
   "cell_type": "code",
   "execution_count": null,
   "metadata": {},
   "outputs": [],
   "source": []
  },
  {
   "cell_type": "markdown",
   "metadata": {},
   "source": [
    "### Keep only first app_id\n",
    "\n",
    "You can use multiple application xml if you want (in this case, skip filter_uniq_appid for training set).\n",
    "I keep only first app_id in dataframe. I guess it in order of date, but may be not. Please confirm somebody!"
   ]
  },
  {
   "cell_type": "code",
   "execution_count": 16,
   "metadata": {},
   "outputs": [],
   "source": [
    "training_app_df = training_app_df[filter_uniq_appid(training_app_df)]\n",
    "testset_app_df = testset_app_df[filter_uniq_appid(testset_app_df)]"
   ]
  },
  {
   "cell_type": "code",
   "execution_count": null,
   "metadata": {},
   "outputs": [],
   "source": []
  },
  {
   "cell_type": "code",
   "execution_count": 17,
   "metadata": {},
   "outputs": [
    {
     "data": {
      "text/plain": [
       "((2769, 2), (308, 2))"
      ]
     },
     "execution_count": 17,
     "metadata": {},
     "output_type": "execute_result"
    }
   ],
   "source": [
    "training_app_df.shape, testset_app_df.shape"
   ]
  },
  {
   "cell_type": "code",
   "execution_count": null,
   "metadata": {},
   "outputs": [],
   "source": []
  },
  {
   "cell_type": "markdown",
   "metadata": {},
   "source": [
    "### Shuffle"
   ]
  },
  {
   "cell_type": "code",
   "execution_count": 18,
   "metadata": {},
   "outputs": [],
   "source": [
    "# set seed again for easier interactive shift-enter\n",
    "random.seed(456)"
   ]
  },
  {
   "cell_type": "code",
   "execution_count": 19,
   "metadata": {},
   "outputs": [],
   "source": [
    "training_app_df = training_app_df.sample(frac=1).reset_index(drop=True)\n",
    "testset_app_df = testset_app_df.sample(frac=1).reset_index(drop=True)"
   ]
  },
  {
   "cell_type": "code",
   "execution_count": null,
   "metadata": {},
   "outputs": [],
   "source": []
  },
  {
   "cell_type": "markdown",
   "metadata": {},
   "source": [
    "### Reset index (may be you don't want, then skip here)"
   ]
  },
  {
   "cell_type": "code",
   "execution_count": 20,
   "metadata": {},
   "outputs": [],
   "source": [
    "training_app_df = training_app_df.reset_index(drop=True)\n",
    "testset_app_df = testset_app_df.reset_index(drop=True)"
   ]
  },
  {
   "cell_type": "code",
   "execution_count": null,
   "metadata": {},
   "outputs": [],
   "source": []
  },
  {
   "cell_type": "markdown",
   "metadata": {},
   "source": [
    "### Retrieve just claim. Remove all tags.\n",
    "\n",
    "This utility function might necessary for any mode."
   ]
  },
  {
   "cell_type": "code",
   "execution_count": null,
   "metadata": {},
   "outputs": [],
   "source": []
  },
  {
   "cell_type": "code",
   "execution_count": 21,
   "metadata": {},
   "outputs": [],
   "source": [
    "import re"
   ]
  },
  {
   "cell_type": "code",
   "execution_count": 22,
   "metadata": {},
   "outputs": [],
   "source": [
    "CLAIM_PAT = re.compile(r'<claims[^>]*>(.*)</claims>',re.MULTILINE|re.DOTALL)"
   ]
  },
  {
   "cell_type": "code",
   "execution_count": 23,
   "metadata": {},
   "outputs": [],
   "source": [
    "TAG_PAT = re.compile(r\"<.*?>\")"
   ]
  },
  {
   "cell_type": "code",
   "execution_count": 24,
   "metadata": {},
   "outputs": [],
   "source": [
    "def whole_xml_to_claim_xml(whole):\n",
    "    mat = CLAIM_PAT.search(whole)\n",
    "    return mat.group(1)"
   ]
  },
  {
   "cell_type": "code",
   "execution_count": 25,
   "metadata": {},
   "outputs": [],
   "source": [
    "def whole_xml_to_claim(whole):\n",
    "    return TAG_PAT.sub(' ', whole_xml_to_claim_xml(whole))"
   ]
  },
  {
   "cell_type": "code",
   "execution_count": null,
   "metadata": {},
   "outputs": [],
   "source": []
  },
  {
   "cell_type": "markdown",
   "metadata": {},
   "source": [
    "# Model evaluation"
   ]
  },
  {
   "cell_type": "code",
   "execution_count": null,
   "metadata": {},
   "outputs": [],
   "source": []
  },
  {
   "cell_type": "code",
   "execution_count": 26,
   "metadata": {},
   "outputs": [],
   "source": [
    "# this is created in data_collection.ipynb\n",
    "citations_2012_2017 = pd.read_pickle(\"../data/citations_2012_2017_merged.dat\")"
   ]
  },
  {
   "cell_type": "code",
   "execution_count": 132,
   "metadata": {},
   "outputs": [
    {
     "data": {
      "text/html": [
       "<div>\n",
       "<style scoped>\n",
       "    .dataframe tbody tr th:only-of-type {\n",
       "        vertical-align: middle;\n",
       "    }\n",
       "\n",
       "    .dataframe tbody tr th {\n",
       "        vertical-align: top;\n",
       "    }\n",
       "\n",
       "    .dataframe thead th {\n",
       "        text-align: right;\n",
       "    }\n",
       "</style>\n",
       "<table border=\"1\" class=\"dataframe\">\n",
       "  <thead>\n",
       "    <tr style=\"text-align: right;\">\n",
       "      <th></th>\n",
       "      <th>app_id</th>\n",
       "      <th>citation_pat_pgpub_id</th>\n",
       "      <th>parsed</th>\n",
       "      <th>ifw_number</th>\n",
       "      <th>action_type</th>\n",
       "      <th>action_subtype</th>\n",
       "      <th>form892</th>\n",
       "      <th>form1449</th>\n",
       "      <th>citation_in_oa</th>\n",
       "    </tr>\n",
       "  </thead>\n",
       "  <tbody>\n",
       "    <tr>\n",
       "      <th>0</th>\n",
       "      <td>12022531</td>\n",
       "      <td>8280486</td>\n",
       "      <td>8280486</td>\n",
       "      <td>NaN</td>\n",
       "      <td>NaN</td>\n",
       "      <td>NaN</td>\n",
       "      <td>1</td>\n",
       "      <td>0</td>\n",
       "      <td>0</td>\n",
       "    </tr>\n",
       "    <tr>\n",
       "      <th>1</th>\n",
       "      <td>12242637</td>\n",
       "      <td>8275762</td>\n",
       "      <td>8275762</td>\n",
       "      <td>NaN</td>\n",
       "      <td>NaN</td>\n",
       "      <td>NaN</td>\n",
       "      <td>0</td>\n",
       "      <td>1</td>\n",
       "      <td>0</td>\n",
       "    </tr>\n",
       "    <tr>\n",
       "      <th>2</th>\n",
       "      <td>12242637</td>\n",
       "      <td>8108415</td>\n",
       "      <td>8108415</td>\n",
       "      <td>NaN</td>\n",
       "      <td>NaN</td>\n",
       "      <td>NaN</td>\n",
       "      <td>0</td>\n",
       "      <td>1</td>\n",
       "      <td>0</td>\n",
       "    </tr>\n",
       "    <tr>\n",
       "      <th>3</th>\n",
       "      <td>12294889</td>\n",
       "      <td>8106092</td>\n",
       "      <td>8106092</td>\n",
       "      <td>NaN</td>\n",
       "      <td>NaN</td>\n",
       "      <td>NaN</td>\n",
       "      <td>0</td>\n",
       "      <td>1</td>\n",
       "      <td>0</td>\n",
       "    </tr>\n",
       "    <tr>\n",
       "      <th>4</th>\n",
       "      <td>12489066</td>\n",
       "      <td>8145522</td>\n",
       "      <td>8145522</td>\n",
       "      <td>NaN</td>\n",
       "      <td>NaN</td>\n",
       "      <td>NaN</td>\n",
       "      <td>0</td>\n",
       "      <td>1</td>\n",
       "      <td>0</td>\n",
       "    </tr>\n",
       "  </tbody>\n",
       "</table>\n",
       "</div>"
      ],
      "text/plain": [
       "     app_id citation_pat_pgpub_id   parsed ifw_number  action_type  \\\n",
       "0  12022531               8280486  8280486        NaN          NaN   \n",
       "1  12242637               8275762  8275762        NaN          NaN   \n",
       "2  12242637               8108415  8108415        NaN          NaN   \n",
       "3  12294889               8106092  8106092        NaN          NaN   \n",
       "4  12489066               8145522  8145522        NaN          NaN   \n",
       "\n",
       "  action_subtype  form892  form1449  citation_in_oa  \n",
       "0            NaN        1         0               0  \n",
       "1            NaN        0         1               0  \n",
       "2            NaN        0         1               0  \n",
       "3            NaN        0         1               0  \n",
       "4            NaN        0         1               0  "
      ]
     },
     "execution_count": 132,
     "metadata": {},
     "output_type": "execute_result"
    }
   ],
   "source": [
    "citations_2012_2017.head()"
   ]
  },
  {
   "cell_type": "code",
   "execution_count": 155,
   "metadata": {},
   "outputs": [
    {
     "data": {
      "text/plain": [
       "6745"
      ]
     },
     "execution_count": 155,
     "metadata": {},
     "output_type": "execute_result"
    }
   ],
   "source": [
    "len(citations_2012_2017)"
   ]
  },
  {
   "cell_type": "markdown",
   "metadata": {},
   "source": [
    "Unique count."
   ]
  },
  {
   "cell_type": "code",
   "execution_count": 179,
   "metadata": {},
   "outputs": [
    {
     "data": {
      "text/plain": [
       "3102"
      ]
     },
     "execution_count": 179,
     "metadata": {},
     "output_type": "execute_result"
    }
   ],
   "source": [
    "citations_2012_2017['app_id'].nunique()"
   ]
  },
  {
   "cell_type": "code",
   "execution_count": 162,
   "metadata": {},
   "outputs": [],
   "source": [
    "citations_2012_2017_ifwexist = citations_2012_2017[ ~citations_2012_2017['ifw_number'].isna() ]"
   ]
  },
  {
   "cell_type": "code",
   "execution_count": 164,
   "metadata": {
    "scrolled": true
   },
   "outputs": [
    {
     "data": {
      "text/html": [
       "<div>\n",
       "<style scoped>\n",
       "    .dataframe tbody tr th:only-of-type {\n",
       "        vertical-align: middle;\n",
       "    }\n",
       "\n",
       "    .dataframe tbody tr th {\n",
       "        vertical-align: top;\n",
       "    }\n",
       "\n",
       "    .dataframe thead th {\n",
       "        text-align: right;\n",
       "    }\n",
       "</style>\n",
       "<table border=\"1\" class=\"dataframe\">\n",
       "  <thead>\n",
       "    <tr style=\"text-align: right;\">\n",
       "      <th></th>\n",
       "      <th>app_id</th>\n",
       "      <th>citation_pat_pgpub_id</th>\n",
       "      <th>parsed</th>\n",
       "      <th>ifw_number</th>\n",
       "      <th>action_type</th>\n",
       "      <th>action_subtype</th>\n",
       "      <th>form892</th>\n",
       "      <th>form1449</th>\n",
       "      <th>citation_in_oa</th>\n",
       "    </tr>\n",
       "  </thead>\n",
       "  <tbody>\n",
       "    <tr>\n",
       "      <th>19</th>\n",
       "      <td>13024953</td>\n",
       "      <td>8212201</td>\n",
       "      <td>8212201</td>\n",
       "      <td>HQ3SCW7IPXXIFW4</td>\n",
       "      <td>103.0</td>\n",
       "      <td>a</td>\n",
       "      <td>1</td>\n",
       "      <td>0</td>\n",
       "      <td>1</td>\n",
       "    </tr>\n",
       "    <tr>\n",
       "      <th>24</th>\n",
       "      <td>13186063</td>\n",
       "      <td>8298268</td>\n",
       "      <td>8298268</td>\n",
       "      <td>HCUM9NCSPXXIFW4</td>\n",
       "      <td>102.0</td>\n",
       "      <td>b</td>\n",
       "      <td>1</td>\n",
       "      <td>0</td>\n",
       "      <td>1</td>\n",
       "    </tr>\n",
       "    <tr>\n",
       "      <th>25</th>\n",
       "      <td>13186063</td>\n",
       "      <td>8298268</td>\n",
       "      <td>8298268</td>\n",
       "      <td>HCUM9NCSPXXIFW4</td>\n",
       "      <td>103.0</td>\n",
       "      <td>a</td>\n",
       "      <td>1</td>\n",
       "      <td>0</td>\n",
       "      <td>1</td>\n",
       "    </tr>\n",
       "    <tr>\n",
       "      <th>26</th>\n",
       "      <td>13186063</td>\n",
       "      <td>8298268</td>\n",
       "      <td>8298268</td>\n",
       "      <td>HKV3VYS7PXXIFW4</td>\n",
       "      <td>103.0</td>\n",
       "      <td>a</td>\n",
       "      <td>1</td>\n",
       "      <td>0</td>\n",
       "      <td>1</td>\n",
       "    </tr>\n",
       "    <tr>\n",
       "      <th>27</th>\n",
       "      <td>13186063</td>\n",
       "      <td>8298268</td>\n",
       "      <td>8298268</td>\n",
       "      <td>HU9X0Z3GPXXIFW4</td>\n",
       "      <td>103.0</td>\n",
       "      <td>a</td>\n",
       "      <td>1</td>\n",
       "      <td>0</td>\n",
       "      <td>1</td>\n",
       "    </tr>\n",
       "  </tbody>\n",
       "</table>\n",
       "</div>"
      ],
      "text/plain": [
       "      app_id citation_pat_pgpub_id   parsed       ifw_number  action_type  \\\n",
       "19  13024953               8212201  8212201  HQ3SCW7IPXXIFW4        103.0   \n",
       "24  13186063               8298268  8298268  HCUM9NCSPXXIFW4        102.0   \n",
       "25  13186063               8298268  8298268  HCUM9NCSPXXIFW4        103.0   \n",
       "26  13186063               8298268  8298268  HKV3VYS7PXXIFW4        103.0   \n",
       "27  13186063               8298268  8298268  HU9X0Z3GPXXIFW4        103.0   \n",
       "\n",
       "   action_subtype  form892  form1449  citation_in_oa  \n",
       "19              a        1         0               1  \n",
       "24              b        1         0               1  \n",
       "25              a        1         0               1  \n",
       "26              a        1         0               1  \n",
       "27              a        1         0               1  "
      ]
     },
     "execution_count": 164,
     "metadata": {},
     "output_type": "execute_result"
    }
   ],
   "source": [
    "citations_2012_2017_ifwexist.head()"
   ]
  },
  {
   "cell_type": "code",
   "execution_count": 167,
   "metadata": {},
   "outputs": [
    {
     "data": {
      "text/plain": [
       "645"
      ]
     },
     "execution_count": 167,
     "metadata": {},
     "output_type": "execute_result"
    }
   ],
   "source": [
    "sum(~citations_2012_2017_ifwexist['ifw_number'].isna())"
   ]
  },
  {
   "cell_type": "code",
   "execution_count": 168,
   "metadata": {},
   "outputs": [
    {
     "data": {
      "text/plain": [
       "645"
      ]
     },
     "execution_count": 168,
     "metadata": {},
     "output_type": "execute_result"
    }
   ],
   "source": [
    "sum(~citations_2012_2017_ifwexist['action_type'].isna())"
   ]
  },
  {
   "cell_type": "markdown",
   "metadata": {},
   "source": [
    "It seems NOT NaN ifw_number and action_type subset is about 10% of the total.  \n",
    "If ifw_number exists it seems action_type also exists."
   ]
  },
  {
   "cell_type": "markdown",
   "metadata": {},
   "source": [
    "### Merge office_action data\n",
    "\n",
    "This mere allows us to use various meta information such as action_type."
   ]
  },
  {
   "cell_type": "code",
   "execution_count": 169,
   "metadata": {},
   "outputs": [
    {
     "name": "stderr",
     "output_type": "stream",
     "text": [
      "/usr/local/lib/python3.5/dist-packages/IPython/core/interactiveshell.py:2728: DtypeWarning: Columns (1,4,5) have mixed types. Specify dtype option on import or set low_memory=False.\n",
      "  interactivity=interactivity, compiler=compiler, result=result)\n"
     ]
    }
   ],
   "source": [
    "office_actions = pd.read_csv(\"../data/office_actions.csv\")"
   ]
  },
  {
   "cell_type": "code",
   "execution_count": 170,
   "metadata": {},
   "outputs": [
    {
     "data": {
      "text/html": [
       "<div>\n",
       "<style scoped>\n",
       "    .dataframe tbody tr th:only-of-type {\n",
       "        vertical-align: middle;\n",
       "    }\n",
       "\n",
       "    .dataframe tbody tr th {\n",
       "        vertical-align: top;\n",
       "    }\n",
       "\n",
       "    .dataframe thead th {\n",
       "        text-align: right;\n",
       "    }\n",
       "</style>\n",
       "<table border=\"1\" class=\"dataframe\">\n",
       "  <thead>\n",
       "    <tr style=\"text-align: right;\">\n",
       "      <th></th>\n",
       "      <th>app_id</th>\n",
       "      <th>ifw_number</th>\n",
       "      <th>document_cd</th>\n",
       "      <th>mail_dt</th>\n",
       "      <th>art_unit</th>\n",
       "      <th>uspc_class</th>\n",
       "      <th>uspc_subclass</th>\n",
       "      <th>header_missing</th>\n",
       "      <th>fp_missing</th>\n",
       "      <th>rejection_fp_mismatch</th>\n",
       "      <th>...</th>\n",
       "      <th>rejection_103</th>\n",
       "      <th>rejection_112</th>\n",
       "      <th>rejection_dp</th>\n",
       "      <th>objection</th>\n",
       "      <th>allowed_claims</th>\n",
       "      <th>cite102_gt1</th>\n",
       "      <th>cite103_gt3</th>\n",
       "      <th>cite103_eq1</th>\n",
       "      <th>cite103_max</th>\n",
       "      <th>signature_type</th>\n",
       "    </tr>\n",
       "  </thead>\n",
       "  <tbody>\n",
       "    <tr>\n",
       "      <th>0</th>\n",
       "      <td>14150981</td>\n",
       "      <td>100867762</td>\n",
       "      <td>CTFR</td>\n",
       "      <td>2015-10-15</td>\n",
       "      <td>2632</td>\n",
       "      <td>375</td>\n",
       "      <td>219000</td>\n",
       "      <td>0</td>\n",
       "      <td>0</td>\n",
       "      <td>0</td>\n",
       "      <td>...</td>\n",
       "      <td>1</td>\n",
       "      <td>0</td>\n",
       "      <td>0</td>\n",
       "      <td>0</td>\n",
       "      <td>0</td>\n",
       "      <td>0</td>\n",
       "      <td>0</td>\n",
       "      <td>1</td>\n",
       "      <td>2</td>\n",
       "      <td>1</td>\n",
       "    </tr>\n",
       "    <tr>\n",
       "      <th>1</th>\n",
       "      <td>14198961</td>\n",
       "      <td>100867788</td>\n",
       "      <td>CTFR</td>\n",
       "      <td>2015-10-15</td>\n",
       "      <td>2699</td>\n",
       "      <td>345</td>\n",
       "      <td>173000</td>\n",
       "      <td>0</td>\n",
       "      <td>0</td>\n",
       "      <td>0</td>\n",
       "      <td>...</td>\n",
       "      <td>1</td>\n",
       "      <td>0</td>\n",
       "      <td>0</td>\n",
       "      <td>0</td>\n",
       "      <td>0</td>\n",
       "      <td>0</td>\n",
       "      <td>0</td>\n",
       "      <td>0</td>\n",
       "      <td>2</td>\n",
       "      <td>1</td>\n",
       "    </tr>\n",
       "    <tr>\n",
       "      <th>2</th>\n",
       "      <td>13796589</td>\n",
       "      <td>100867794</td>\n",
       "      <td>CTNF</td>\n",
       "      <td>2015-10-15</td>\n",
       "      <td>3776</td>\n",
       "      <td>606</td>\n",
       "      <td>159000</td>\n",
       "      <td>0</td>\n",
       "      <td>0</td>\n",
       "      <td>0</td>\n",
       "      <td>...</td>\n",
       "      <td>1</td>\n",
       "      <td>0</td>\n",
       "      <td>0</td>\n",
       "      <td>0</td>\n",
       "      <td>0</td>\n",
       "      <td>0</td>\n",
       "      <td>0</td>\n",
       "      <td>0</td>\n",
       "      <td>3</td>\n",
       "      <td>3</td>\n",
       "    </tr>\n",
       "    <tr>\n",
       "      <th>3</th>\n",
       "      <td>14673475</td>\n",
       "      <td>100867844</td>\n",
       "      <td>CTNF</td>\n",
       "      <td>2015-10-15</td>\n",
       "      <td>2627</td>\n",
       "      <td>345</td>\n",
       "      <td>175000</td>\n",
       "      <td>0</td>\n",
       "      <td>0</td>\n",
       "      <td>0</td>\n",
       "      <td>...</td>\n",
       "      <td>1</td>\n",
       "      <td>1</td>\n",
       "      <td>1</td>\n",
       "      <td>0</td>\n",
       "      <td>0</td>\n",
       "      <td>0</td>\n",
       "      <td>1</td>\n",
       "      <td>0</td>\n",
       "      <td>4</td>\n",
       "      <td>1</td>\n",
       "    </tr>\n",
       "    <tr>\n",
       "      <th>4</th>\n",
       "      <td>14669113</td>\n",
       "      <td>100867850</td>\n",
       "      <td>CTNF</td>\n",
       "      <td>2015-10-15</td>\n",
       "      <td>2666</td>\n",
       "      <td>382</td>\n",
       "      <td>118000</td>\n",
       "      <td>0</td>\n",
       "      <td>0</td>\n",
       "      <td>0</td>\n",
       "      <td>...</td>\n",
       "      <td>0</td>\n",
       "      <td>1</td>\n",
       "      <td>1</td>\n",
       "      <td>0</td>\n",
       "      <td>0</td>\n",
       "      <td>0</td>\n",
       "      <td>0</td>\n",
       "      <td>0</td>\n",
       "      <td>0</td>\n",
       "      <td>1</td>\n",
       "    </tr>\n",
       "  </tbody>\n",
       "</table>\n",
       "<p>5 rows × 23 columns</p>\n",
       "</div>"
      ],
      "text/plain": [
       "     app_id ifw_number document_cd     mail_dt art_unit uspc_class  \\\n",
       "0  14150981  100867762        CTFR  2015-10-15     2632        375   \n",
       "1  14198961  100867788        CTFR  2015-10-15     2699        345   \n",
       "2  13796589  100867794        CTNF  2015-10-15     3776        606   \n",
       "3  14673475  100867844        CTNF  2015-10-15     2627        345   \n",
       "4  14669113  100867850        CTNF  2015-10-15     2666        382   \n",
       "\n",
       "  uspc_subclass  header_missing  fp_missing  rejection_fp_mismatch  \\\n",
       "0        219000               0           0                      0   \n",
       "1        173000               0           0                      0   \n",
       "2        159000               0           0                      0   \n",
       "3        175000               0           0                      0   \n",
       "4        118000               0           0                      0   \n",
       "\n",
       "        ...        rejection_103  rejection_112  rejection_dp  objection  \\\n",
       "0       ...                    1              0             0          0   \n",
       "1       ...                    1              0             0          0   \n",
       "2       ...                    1              0             0          0   \n",
       "3       ...                    1              1             1          0   \n",
       "4       ...                    0              1             1          0   \n",
       "\n",
       "   allowed_claims  cite102_gt1  cite103_gt3  cite103_eq1  cite103_max  \\\n",
       "0               0            0            0            1            2   \n",
       "1               0            0            0            0            2   \n",
       "2               0            0            0            0            3   \n",
       "3               0            0            1            0            4   \n",
       "4               0            0            0            0            0   \n",
       "\n",
       "   signature_type  \n",
       "0               1  \n",
       "1               1  \n",
       "2               3  \n",
       "3               1  \n",
       "4               1  \n",
       "\n",
       "[5 rows x 23 columns]"
      ]
     },
     "execution_count": 170,
     "metadata": {},
     "output_type": "execute_result"
    }
   ],
   "source": [
    "office_actions.head()"
   ]
  },
  {
   "cell_type": "code",
   "execution_count": 171,
   "metadata": {},
   "outputs": [],
   "source": [
    "citations_2012_2017_with_OA = pd.merge(citations_2012_2017_ifwexist, office_actions, on='ifw_number', how='left')"
   ]
  },
  {
   "cell_type": "code",
   "execution_count": 172,
   "metadata": {},
   "outputs": [
    {
     "data": {
      "text/html": [
       "<div>\n",
       "<style scoped>\n",
       "    .dataframe tbody tr th:only-of-type {\n",
       "        vertical-align: middle;\n",
       "    }\n",
       "\n",
       "    .dataframe tbody tr th {\n",
       "        vertical-align: top;\n",
       "    }\n",
       "\n",
       "    .dataframe thead th {\n",
       "        text-align: right;\n",
       "    }\n",
       "</style>\n",
       "<table border=\"1\" class=\"dataframe\">\n",
       "  <thead>\n",
       "    <tr style=\"text-align: right;\">\n",
       "      <th></th>\n",
       "      <th>app_id_x</th>\n",
       "      <th>citation_pat_pgpub_id</th>\n",
       "      <th>parsed</th>\n",
       "      <th>ifw_number</th>\n",
       "      <th>action_type</th>\n",
       "      <th>action_subtype</th>\n",
       "      <th>form892</th>\n",
       "      <th>form1449</th>\n",
       "      <th>citation_in_oa</th>\n",
       "      <th>app_id_y</th>\n",
       "      <th>...</th>\n",
       "      <th>rejection_103</th>\n",
       "      <th>rejection_112</th>\n",
       "      <th>rejection_dp</th>\n",
       "      <th>objection</th>\n",
       "      <th>allowed_claims</th>\n",
       "      <th>cite102_gt1</th>\n",
       "      <th>cite103_gt3</th>\n",
       "      <th>cite103_eq1</th>\n",
       "      <th>cite103_max</th>\n",
       "      <th>signature_type</th>\n",
       "    </tr>\n",
       "  </thead>\n",
       "  <tbody>\n",
       "    <tr>\n",
       "      <th>0</th>\n",
       "      <td>13024953</td>\n",
       "      <td>8212201</td>\n",
       "      <td>8212201</td>\n",
       "      <td>HQ3SCW7IPXXIFW4</td>\n",
       "      <td>103.0</td>\n",
       "      <td>a</td>\n",
       "      <td>1</td>\n",
       "      <td>0</td>\n",
       "      <td>1</td>\n",
       "      <td>13024953</td>\n",
       "      <td>...</td>\n",
       "      <td>1</td>\n",
       "      <td>1</td>\n",
       "      <td>0</td>\n",
       "      <td>1</td>\n",
       "      <td>0</td>\n",
       "      <td>0</td>\n",
       "      <td>0</td>\n",
       "      <td>1</td>\n",
       "      <td>3</td>\n",
       "      <td>1</td>\n",
       "    </tr>\n",
       "    <tr>\n",
       "      <th>1</th>\n",
       "      <td>13186063</td>\n",
       "      <td>8298268</td>\n",
       "      <td>8298268</td>\n",
       "      <td>HCUM9NCSPXXIFW4</td>\n",
       "      <td>102.0</td>\n",
       "      <td>b</td>\n",
       "      <td>1</td>\n",
       "      <td>0</td>\n",
       "      <td>1</td>\n",
       "      <td>13186063</td>\n",
       "      <td>...</td>\n",
       "      <td>1</td>\n",
       "      <td>1</td>\n",
       "      <td>0</td>\n",
       "      <td>0</td>\n",
       "      <td>0</td>\n",
       "      <td>0</td>\n",
       "      <td>0</td>\n",
       "      <td>0</td>\n",
       "      <td>2</td>\n",
       "      <td>3</td>\n",
       "    </tr>\n",
       "    <tr>\n",
       "      <th>2</th>\n",
       "      <td>13186063</td>\n",
       "      <td>8298268</td>\n",
       "      <td>8298268</td>\n",
       "      <td>HCUM9NCSPXXIFW4</td>\n",
       "      <td>103.0</td>\n",
       "      <td>a</td>\n",
       "      <td>1</td>\n",
       "      <td>0</td>\n",
       "      <td>1</td>\n",
       "      <td>13186063</td>\n",
       "      <td>...</td>\n",
       "      <td>1</td>\n",
       "      <td>1</td>\n",
       "      <td>0</td>\n",
       "      <td>0</td>\n",
       "      <td>0</td>\n",
       "      <td>0</td>\n",
       "      <td>0</td>\n",
       "      <td>0</td>\n",
       "      <td>2</td>\n",
       "      <td>3</td>\n",
       "    </tr>\n",
       "    <tr>\n",
       "      <th>3</th>\n",
       "      <td>13186063</td>\n",
       "      <td>8298268</td>\n",
       "      <td>8298268</td>\n",
       "      <td>HKV3VYS7PXXIFW4</td>\n",
       "      <td>103.0</td>\n",
       "      <td>a</td>\n",
       "      <td>1</td>\n",
       "      <td>0</td>\n",
       "      <td>1</td>\n",
       "      <td>13186063</td>\n",
       "      <td>...</td>\n",
       "      <td>1</td>\n",
       "      <td>0</td>\n",
       "      <td>0</td>\n",
       "      <td>0</td>\n",
       "      <td>0</td>\n",
       "      <td>0</td>\n",
       "      <td>0</td>\n",
       "      <td>0</td>\n",
       "      <td>3</td>\n",
       "      <td>2</td>\n",
       "    </tr>\n",
       "    <tr>\n",
       "      <th>4</th>\n",
       "      <td>13186063</td>\n",
       "      <td>8298268</td>\n",
       "      <td>8298268</td>\n",
       "      <td>HU9X0Z3GPXXIFW4</td>\n",
       "      <td>103.0</td>\n",
       "      <td>a</td>\n",
       "      <td>1</td>\n",
       "      <td>0</td>\n",
       "      <td>1</td>\n",
       "      <td>13186063</td>\n",
       "      <td>...</td>\n",
       "      <td>1</td>\n",
       "      <td>0</td>\n",
       "      <td>0</td>\n",
       "      <td>0</td>\n",
       "      <td>0</td>\n",
       "      <td>0</td>\n",
       "      <td>1</td>\n",
       "      <td>0</td>\n",
       "      <td>4</td>\n",
       "      <td>2</td>\n",
       "    </tr>\n",
       "  </tbody>\n",
       "</table>\n",
       "<p>5 rows × 31 columns</p>\n",
       "</div>"
      ],
      "text/plain": [
       "   app_id_x citation_pat_pgpub_id   parsed       ifw_number  action_type  \\\n",
       "0  13024953               8212201  8212201  HQ3SCW7IPXXIFW4        103.0   \n",
       "1  13186063               8298268  8298268  HCUM9NCSPXXIFW4        102.0   \n",
       "2  13186063               8298268  8298268  HCUM9NCSPXXIFW4        103.0   \n",
       "3  13186063               8298268  8298268  HKV3VYS7PXXIFW4        103.0   \n",
       "4  13186063               8298268  8298268  HU9X0Z3GPXXIFW4        103.0   \n",
       "\n",
       "  action_subtype  form892  form1449  citation_in_oa  app_id_y       ...        \\\n",
       "0              a        1         0               1  13024953       ...         \n",
       "1              b        1         0               1  13186063       ...         \n",
       "2              a        1         0               1  13186063       ...         \n",
       "3              a        1         0               1  13186063       ...         \n",
       "4              a        1         0               1  13186063       ...         \n",
       "\n",
       "  rejection_103 rejection_112 rejection_dp objection allowed_claims  \\\n",
       "0             1             1            0         1              0   \n",
       "1             1             1            0         0              0   \n",
       "2             1             1            0         0              0   \n",
       "3             1             0            0         0              0   \n",
       "4             1             0            0         0              0   \n",
       "\n",
       "   cite102_gt1  cite103_gt3  cite103_eq1  cite103_max  signature_type  \n",
       "0            0            0            1            3               1  \n",
       "1            0            0            0            2               3  \n",
       "2            0            0            0            2               3  \n",
       "3            0            0            0            3               2  \n",
       "4            0            1            0            4               2  \n",
       "\n",
       "[5 rows x 31 columns]"
      ]
     },
     "execution_count": 172,
     "metadata": {},
     "output_type": "execute_result"
    }
   ],
   "source": [
    "citations_2012_2017_with_OA.head()"
   ]
  },
  {
   "cell_type": "code",
   "execution_count": 176,
   "metadata": {},
   "outputs": [
    {
     "data": {
      "text/plain": [
       "103.0    500\n",
       "102.0    145\n",
       "Name: action_type, dtype: int64"
      ]
     },
     "execution_count": 176,
     "metadata": {},
     "output_type": "execute_result"
    }
   ],
   "source": [
    "citations_2012_2017_with_OA['action_type'].value_counts()"
   ]
  },
  {
   "cell_type": "markdown",
   "metadata": {},
   "source": [
    "Note that action type means:\n",
    "\n",
    "> 101 Rejection – Subject Matter Eligibility, Statutory Double Patenting, Utility, etc\n",
    "\n",
    "> 102 Rejection – Lack of Novelty\n",
    "\n",
    "> 103 Rejection – Obviousness\n",
    "\n",
    "Count unique num."
   ]
  },
  {
   "cell_type": "code",
   "execution_count": 178,
   "metadata": {},
   "outputs": [
    {
     "data": {
      "text/plain": [
       "471"
      ]
     },
     "execution_count": 178,
     "metadata": {},
     "output_type": "execute_result"
    }
   ],
   "source": [
    "citations_2012_2017_with_OA['app_id_x'].nunique()"
   ]
  },
  {
   "cell_type": "code",
   "execution_count": 342,
   "metadata": {},
   "outputs": [],
   "source": [
    "app_id_with_102 = set( citations_2012_2017_with_OA[ citations_2012_2017_with_OA['action_type'] == 102 ].app_id_x )\n",
    "app_id_with_103 = set( citations_2012_2017_with_OA[ citations_2012_2017_with_OA['action_type'] == 103 ].app_id_x )"
   ]
  },
  {
   "cell_type": "code",
   "execution_count": null,
   "metadata": {},
   "outputs": [],
   "source": []
  },
  {
   "cell_type": "markdown",
   "metadata": {},
   "source": [
    "### Create label df\n",
    "\n",
    "We will create create label df which is app_id - cited grant-id (denoted as parsed) matrix.  \n",
    "This will be a test set so we will use only test subset."
   ]
  },
  {
   "cell_type": "code",
   "execution_count": 133,
   "metadata": {},
   "outputs": [],
   "source": [
    "def set_one_answer_appid(labeldf, oneappid):\n",
    "    cited_patids = citations_2012_2017[citations_2012_2017.app_id == oneappid].parsed\n",
    "    labeldf.loc[oneappid] = labeldf.columns.isin(cited_patids)"
   ]
  },
  {
   "cell_type": "code",
   "execution_count": 134,
   "metadata": {},
   "outputs": [],
   "source": [
    "def create_label_df():\n",
    "    label_df = pd.DataFrame(columns=grants_all_df.parsed.values, dtype=np.bool)\n",
    "    for appid in testset_app_df.app_id:\n",
    "        set_one_answer_appid(label_df, appid)\n",
    "    return label_df"
   ]
  },
  {
   "cell_type": "code",
   "execution_count": 135,
   "metadata": {},
   "outputs": [],
   "source": [
    "label_df = create_label_df()"
   ]
  },
  {
   "cell_type": "code",
   "execution_count": 136,
   "metadata": {},
   "outputs": [
    {
     "data": {
      "text/plain": [
       "(308, 5424)"
      ]
     },
     "execution_count": 136,
     "metadata": {},
     "output_type": "execute_result"
    }
   ],
   "source": [
    "label_df.shape"
   ]
  },
  {
   "cell_type": "code",
   "execution_count": 137,
   "metadata": {},
   "outputs": [
    {
     "data": {
      "text/html": [
       "<div>\n",
       "<style scoped>\n",
       "    .dataframe tbody tr th:only-of-type {\n",
       "        vertical-align: middle;\n",
       "    }\n",
       "\n",
       "    .dataframe tbody tr th {\n",
       "        vertical-align: top;\n",
       "    }\n",
       "\n",
       "    .dataframe thead th {\n",
       "        text-align: right;\n",
       "    }\n",
       "</style>\n",
       "<table border=\"1\" class=\"dataframe\">\n",
       "  <thead>\n",
       "    <tr style=\"text-align: right;\">\n",
       "      <th></th>\n",
       "      <th>8245358</th>\n",
       "      <th>8245460</th>\n",
       "      <th>8245733</th>\n",
       "      <th>8245746</th>\n",
       "      <th>8245764</th>\n",
       "      <th>8245780</th>\n",
       "      <th>8245893</th>\n",
       "      <th>8245898</th>\n",
       "      <th>8245901</th>\n",
       "      <th>8245943</th>\n",
       "      <th>...</th>\n",
       "      <th>8341338</th>\n",
       "      <th>8341346</th>\n",
       "      <th>8341427</th>\n",
       "      <th>8341429</th>\n",
       "      <th>8341430</th>\n",
       "      <th>8341457</th>\n",
       "      <th>8341538</th>\n",
       "      <th>8341573</th>\n",
       "      <th>8341732</th>\n",
       "      <th>8341749</th>\n",
       "    </tr>\n",
       "  </thead>\n",
       "  <tbody>\n",
       "    <tr>\n",
       "      <th>14048515</th>\n",
       "      <td>False</td>\n",
       "      <td>False</td>\n",
       "      <td>False</td>\n",
       "      <td>False</td>\n",
       "      <td>False</td>\n",
       "      <td>False</td>\n",
       "      <td>False</td>\n",
       "      <td>False</td>\n",
       "      <td>False</td>\n",
       "      <td>False</td>\n",
       "      <td>...</td>\n",
       "      <td>False</td>\n",
       "      <td>False</td>\n",
       "      <td>False</td>\n",
       "      <td>False</td>\n",
       "      <td>False</td>\n",
       "      <td>False</td>\n",
       "      <td>False</td>\n",
       "      <td>False</td>\n",
       "      <td>False</td>\n",
       "      <td>False</td>\n",
       "    </tr>\n",
       "    <tr>\n",
       "      <th>15112855</th>\n",
       "      <td>False</td>\n",
       "      <td>False</td>\n",
       "      <td>False</td>\n",
       "      <td>False</td>\n",
       "      <td>False</td>\n",
       "      <td>False</td>\n",
       "      <td>False</td>\n",
       "      <td>False</td>\n",
       "      <td>False</td>\n",
       "      <td>False</td>\n",
       "      <td>...</td>\n",
       "      <td>False</td>\n",
       "      <td>False</td>\n",
       "      <td>False</td>\n",
       "      <td>False</td>\n",
       "      <td>False</td>\n",
       "      <td>False</td>\n",
       "      <td>False</td>\n",
       "      <td>False</td>\n",
       "      <td>False</td>\n",
       "      <td>False</td>\n",
       "    </tr>\n",
       "    <tr>\n",
       "      <th>14022100</th>\n",
       "      <td>False</td>\n",
       "      <td>False</td>\n",
       "      <td>False</td>\n",
       "      <td>False</td>\n",
       "      <td>False</td>\n",
       "      <td>False</td>\n",
       "      <td>False</td>\n",
       "      <td>False</td>\n",
       "      <td>False</td>\n",
       "      <td>False</td>\n",
       "      <td>...</td>\n",
       "      <td>False</td>\n",
       "      <td>False</td>\n",
       "      <td>False</td>\n",
       "      <td>False</td>\n",
       "      <td>False</td>\n",
       "      <td>False</td>\n",
       "      <td>False</td>\n",
       "      <td>False</td>\n",
       "      <td>False</td>\n",
       "      <td>False</td>\n",
       "    </tr>\n",
       "    <tr>\n",
       "      <th>15089692</th>\n",
       "      <td>False</td>\n",
       "      <td>False</td>\n",
       "      <td>False</td>\n",
       "      <td>False</td>\n",
       "      <td>False</td>\n",
       "      <td>False</td>\n",
       "      <td>False</td>\n",
       "      <td>False</td>\n",
       "      <td>False</td>\n",
       "      <td>False</td>\n",
       "      <td>...</td>\n",
       "      <td>False</td>\n",
       "      <td>False</td>\n",
       "      <td>False</td>\n",
       "      <td>False</td>\n",
       "      <td>False</td>\n",
       "      <td>False</td>\n",
       "      <td>False</td>\n",
       "      <td>False</td>\n",
       "      <td>False</td>\n",
       "      <td>False</td>\n",
       "    </tr>\n",
       "    <tr>\n",
       "      <th>15292702</th>\n",
       "      <td>False</td>\n",
       "      <td>False</td>\n",
       "      <td>False</td>\n",
       "      <td>False</td>\n",
       "      <td>False</td>\n",
       "      <td>False</td>\n",
       "      <td>False</td>\n",
       "      <td>False</td>\n",
       "      <td>False</td>\n",
       "      <td>False</td>\n",
       "      <td>...</td>\n",
       "      <td>False</td>\n",
       "      <td>False</td>\n",
       "      <td>False</td>\n",
       "      <td>False</td>\n",
       "      <td>False</td>\n",
       "      <td>False</td>\n",
       "      <td>False</td>\n",
       "      <td>False</td>\n",
       "      <td>False</td>\n",
       "      <td>False</td>\n",
       "    </tr>\n",
       "  </tbody>\n",
       "</table>\n",
       "<p>5 rows × 5424 columns</p>\n",
       "</div>"
      ],
      "text/plain": [
       "          8245358  8245460  8245733  8245746  8245764  8245780  8245893  \\\n",
       "14048515    False    False    False    False    False    False    False   \n",
       "15112855    False    False    False    False    False    False    False   \n",
       "14022100    False    False    False    False    False    False    False   \n",
       "15089692    False    False    False    False    False    False    False   \n",
       "15292702    False    False    False    False    False    False    False   \n",
       "\n",
       "          8245898  8245901  8245943   ...     8341338  8341346  8341427  \\\n",
       "14048515    False    False    False   ...       False    False    False   \n",
       "15112855    False    False    False   ...       False    False    False   \n",
       "14022100    False    False    False   ...       False    False    False   \n",
       "15089692    False    False    False   ...       False    False    False   \n",
       "15292702    False    False    False   ...       False    False    False   \n",
       "\n",
       "          8341429  8341430  8341457  8341538  8341573  8341732  8341749  \n",
       "14048515    False    False    False    False    False    False    False  \n",
       "15112855    False    False    False    False    False    False    False  \n",
       "14022100    False    False    False    False    False    False    False  \n",
       "15089692    False    False    False    False    False    False    False  \n",
       "15292702    False    False    False    False    False    False    False  \n",
       "\n",
       "[5 rows x 5424 columns]"
      ]
     },
     "execution_count": 137,
     "metadata": {},
     "output_type": "execute_result"
    }
   ],
   "source": [
    "label_df.head()"
   ]
  },
  {
   "cell_type": "code",
   "execution_count": null,
   "metadata": {},
   "outputs": [],
   "source": []
  },
  {
   "cell_type": "markdown",
   "metadata": {},
   "source": [
    "### Cofirm label df is correct"
   ]
  },
  {
   "cell_type": "code",
   "execution_count": 31,
   "metadata": {},
   "outputs": [
    {
     "data": {
      "text/html": [
       "<div>\n",
       "<style scoped>\n",
       "    .dataframe tbody tr th:only-of-type {\n",
       "        vertical-align: middle;\n",
       "    }\n",
       "\n",
       "    .dataframe tbody tr th {\n",
       "        vertical-align: top;\n",
       "    }\n",
       "\n",
       "    .dataframe thead th {\n",
       "        text-align: right;\n",
       "    }\n",
       "</style>\n",
       "<table border=\"1\" class=\"dataframe\">\n",
       "  <thead>\n",
       "    <tr style=\"text-align: right;\">\n",
       "      <th></th>\n",
       "      <th>app_id</th>\n",
       "      <th>xml</th>\n",
       "    </tr>\n",
       "  </thead>\n",
       "  <tbody>\n",
       "    <tr>\n",
       "      <th>0</th>\n",
       "      <td>14048515</td>\n",
       "      <td>&lt;?xml version=\"1.0\" encoding=\"UTF-8\"?&gt;\\n&lt;!DOCT...</td>\n",
       "    </tr>\n",
       "    <tr>\n",
       "      <th>1</th>\n",
       "      <td>15112855</td>\n",
       "      <td>&lt;?xml version=\"1.0\" encoding=\"UTF-8\"?&gt;\\n&lt;!DOCT...</td>\n",
       "    </tr>\n",
       "    <tr>\n",
       "      <th>2</th>\n",
       "      <td>14022100</td>\n",
       "      <td>&lt;?xml version=\"1.0\" encoding=\"UTF-8\"?&gt;\\n&lt;!DOCT...</td>\n",
       "    </tr>\n",
       "    <tr>\n",
       "      <th>3</th>\n",
       "      <td>15089692</td>\n",
       "      <td>&lt;?xml version=\"1.0\" encoding=\"UTF-8\"?&gt;\\n&lt;!DOCT...</td>\n",
       "    </tr>\n",
       "    <tr>\n",
       "      <th>4</th>\n",
       "      <td>15292702</td>\n",
       "      <td>&lt;?xml version=\"1.0\" encoding=\"UTF-8\"?&gt;\\n&lt;!DOCT...</td>\n",
       "    </tr>\n",
       "  </tbody>\n",
       "</table>\n",
       "</div>"
      ],
      "text/plain": [
       "     app_id                                                xml\n",
       "0  14048515  <?xml version=\"1.0\" encoding=\"UTF-8\"?>\\n<!DOCT...\n",
       "1  15112855  <?xml version=\"1.0\" encoding=\"UTF-8\"?>\\n<!DOCT...\n",
       "2  14022100  <?xml version=\"1.0\" encoding=\"UTF-8\"?>\\n<!DOCT...\n",
       "3  15089692  <?xml version=\"1.0\" encoding=\"UTF-8\"?>\\n<!DOCT...\n",
       "4  15292702  <?xml version=\"1.0\" encoding=\"UTF-8\"?>\\n<!DOCT..."
      ]
     },
     "execution_count": 31,
     "metadata": {},
     "output_type": "execute_result"
    }
   ],
   "source": [
    "testset_app_df.head()"
   ]
  },
  {
   "cell_type": "code",
   "execution_count": 182,
   "metadata": {},
   "outputs": [
    {
     "data": {
      "text/html": [
       "<div>\n",
       "<style scoped>\n",
       "    .dataframe tbody tr th:only-of-type {\n",
       "        vertical-align: middle;\n",
       "    }\n",
       "\n",
       "    .dataframe tbody tr th {\n",
       "        vertical-align: top;\n",
       "    }\n",
       "\n",
       "    .dataframe thead th {\n",
       "        text-align: right;\n",
       "    }\n",
       "</style>\n",
       "<table border=\"1\" class=\"dataframe\">\n",
       "  <thead>\n",
       "    <tr style=\"text-align: right;\">\n",
       "      <th></th>\n",
       "      <th>8245358</th>\n",
       "      <th>8245460</th>\n",
       "      <th>8245733</th>\n",
       "      <th>8245746</th>\n",
       "      <th>8245764</th>\n",
       "      <th>8245780</th>\n",
       "      <th>8245893</th>\n",
       "      <th>8245898</th>\n",
       "      <th>8245901</th>\n",
       "      <th>8245943</th>\n",
       "      <th>...</th>\n",
       "      <th>8341338</th>\n",
       "      <th>8341346</th>\n",
       "      <th>8341427</th>\n",
       "      <th>8341429</th>\n",
       "      <th>8341430</th>\n",
       "      <th>8341457</th>\n",
       "      <th>8341538</th>\n",
       "      <th>8341573</th>\n",
       "      <th>8341732</th>\n",
       "      <th>8341749</th>\n",
       "    </tr>\n",
       "  </thead>\n",
       "  <tbody>\n",
       "    <tr>\n",
       "      <th>14048515</th>\n",
       "      <td>False</td>\n",
       "      <td>False</td>\n",
       "      <td>False</td>\n",
       "      <td>False</td>\n",
       "      <td>False</td>\n",
       "      <td>False</td>\n",
       "      <td>False</td>\n",
       "      <td>False</td>\n",
       "      <td>False</td>\n",
       "      <td>False</td>\n",
       "      <td>...</td>\n",
       "      <td>False</td>\n",
       "      <td>False</td>\n",
       "      <td>False</td>\n",
       "      <td>False</td>\n",
       "      <td>False</td>\n",
       "      <td>False</td>\n",
       "      <td>False</td>\n",
       "      <td>False</td>\n",
       "      <td>False</td>\n",
       "      <td>False</td>\n",
       "    </tr>\n",
       "    <tr>\n",
       "      <th>15112855</th>\n",
       "      <td>False</td>\n",
       "      <td>False</td>\n",
       "      <td>False</td>\n",
       "      <td>False</td>\n",
       "      <td>False</td>\n",
       "      <td>False</td>\n",
       "      <td>False</td>\n",
       "      <td>False</td>\n",
       "      <td>False</td>\n",
       "      <td>False</td>\n",
       "      <td>...</td>\n",
       "      <td>False</td>\n",
       "      <td>False</td>\n",
       "      <td>False</td>\n",
       "      <td>False</td>\n",
       "      <td>False</td>\n",
       "      <td>False</td>\n",
       "      <td>False</td>\n",
       "      <td>False</td>\n",
       "      <td>False</td>\n",
       "      <td>False</td>\n",
       "    </tr>\n",
       "    <tr>\n",
       "      <th>14022100</th>\n",
       "      <td>False</td>\n",
       "      <td>False</td>\n",
       "      <td>False</td>\n",
       "      <td>False</td>\n",
       "      <td>False</td>\n",
       "      <td>False</td>\n",
       "      <td>False</td>\n",
       "      <td>False</td>\n",
       "      <td>False</td>\n",
       "      <td>False</td>\n",
       "      <td>...</td>\n",
       "      <td>False</td>\n",
       "      <td>False</td>\n",
       "      <td>False</td>\n",
       "      <td>False</td>\n",
       "      <td>False</td>\n",
       "      <td>False</td>\n",
       "      <td>False</td>\n",
       "      <td>False</td>\n",
       "      <td>False</td>\n",
       "      <td>False</td>\n",
       "    </tr>\n",
       "    <tr>\n",
       "      <th>15089692</th>\n",
       "      <td>False</td>\n",
       "      <td>False</td>\n",
       "      <td>False</td>\n",
       "      <td>False</td>\n",
       "      <td>False</td>\n",
       "      <td>False</td>\n",
       "      <td>False</td>\n",
       "      <td>False</td>\n",
       "      <td>False</td>\n",
       "      <td>False</td>\n",
       "      <td>...</td>\n",
       "      <td>False</td>\n",
       "      <td>False</td>\n",
       "      <td>False</td>\n",
       "      <td>False</td>\n",
       "      <td>False</td>\n",
       "      <td>False</td>\n",
       "      <td>False</td>\n",
       "      <td>False</td>\n",
       "      <td>False</td>\n",
       "      <td>False</td>\n",
       "    </tr>\n",
       "    <tr>\n",
       "      <th>15292702</th>\n",
       "      <td>False</td>\n",
       "      <td>False</td>\n",
       "      <td>False</td>\n",
       "      <td>False</td>\n",
       "      <td>False</td>\n",
       "      <td>False</td>\n",
       "      <td>False</td>\n",
       "      <td>False</td>\n",
       "      <td>False</td>\n",
       "      <td>False</td>\n",
       "      <td>...</td>\n",
       "      <td>False</td>\n",
       "      <td>False</td>\n",
       "      <td>False</td>\n",
       "      <td>False</td>\n",
       "      <td>False</td>\n",
       "      <td>False</td>\n",
       "      <td>False</td>\n",
       "      <td>False</td>\n",
       "      <td>False</td>\n",
       "      <td>False</td>\n",
       "    </tr>\n",
       "  </tbody>\n",
       "</table>\n",
       "<p>5 rows × 5424 columns</p>\n",
       "</div>"
      ],
      "text/plain": [
       "          8245358  8245460  8245733  8245746  8245764  8245780  8245893  \\\n",
       "14048515    False    False    False    False    False    False    False   \n",
       "15112855    False    False    False    False    False    False    False   \n",
       "14022100    False    False    False    False    False    False    False   \n",
       "15089692    False    False    False    False    False    False    False   \n",
       "15292702    False    False    False    False    False    False    False   \n",
       "\n",
       "          8245898  8245901  8245943   ...     8341338  8341346  8341427  \\\n",
       "14048515    False    False    False   ...       False    False    False   \n",
       "15112855    False    False    False   ...       False    False    False   \n",
       "14022100    False    False    False   ...       False    False    False   \n",
       "15089692    False    False    False   ...       False    False    False   \n",
       "15292702    False    False    False   ...       False    False    False   \n",
       "\n",
       "          8341429  8341430  8341457  8341538  8341573  8341732  8341749  \n",
       "14048515    False    False    False    False    False    False    False  \n",
       "15112855    False    False    False    False    False    False    False  \n",
       "14022100    False    False    False    False    False    False    False  \n",
       "15089692    False    False    False    False    False    False    False  \n",
       "15292702    False    False    False    False    False    False    False  \n",
       "\n",
       "[5 rows x 5424 columns]"
      ]
     },
     "execution_count": 182,
     "metadata": {},
     "output_type": "execute_result"
    }
   ],
   "source": [
    "label_df.head()"
   ]
  },
  {
   "cell_type": "code",
   "execution_count": 183,
   "metadata": {},
   "outputs": [
    {
     "data": {
      "text/plain": [
       "8233452"
      ]
     },
     "execution_count": 183,
     "metadata": {},
     "output_type": "execute_result"
    }
   ],
   "source": [
    "label_df.loc[15289843].idxmax()"
   ]
  },
  {
   "cell_type": "code",
   "execution_count": 184,
   "metadata": {},
   "outputs": [
    {
     "data": {
      "text/plain": [
       "6092    8270369\n",
       "6094    8204029\n",
       "6095    8233452\n",
       "Name: parsed, dtype: object"
      ]
     },
     "execution_count": 184,
     "metadata": {},
     "output_type": "execute_result"
    }
   ],
   "source": [
    "citations_2012_2017[citations_2012_2017[\"app_id\"]==15289843].parsed"
   ]
  },
  {
   "cell_type": "code",
   "execution_count": 185,
   "metadata": {},
   "outputs": [
    {
     "data": {
      "text/plain": [
       "True"
      ]
     },
     "execution_count": 185,
     "metadata": {},
     "output_type": "execute_result"
    }
   ],
   "source": [
    "label_df.loc[15289843].loc[8270369]"
   ]
  },
  {
   "cell_type": "code",
   "execution_count": 186,
   "metadata": {},
   "outputs": [
    {
     "data": {
      "text/plain": [
       "3"
      ]
     },
     "execution_count": 186,
     "metadata": {},
     "output_type": "execute_result"
    }
   ],
   "source": [
    "label_df.loc[15289843].sum()"
   ]
  },
  {
   "cell_type": "code",
   "execution_count": null,
   "metadata": {},
   "outputs": [],
   "source": []
  },
  {
   "cell_type": "code",
   "execution_count": null,
   "metadata": {},
   "outputs": [],
   "source": []
  },
  {
   "cell_type": "code",
   "execution_count": null,
   "metadata": {},
   "outputs": [],
   "source": []
  },
  {
   "cell_type": "markdown",
   "metadata": {},
   "source": [
    "### Predict test set and print summary"
   ]
  },
  {
   "cell_type": "code",
   "execution_count": 187,
   "metadata": {},
   "outputs": [],
   "source": [
    "def predict_training_set(predict_func):\n",
    "    \"\"\"\n",
    "    predict_func(claims) return NxM of boolean. N is len(claims). M is rownum of grants_all_df.\n",
    "            value indicate n claim is cite patent of m row of grants_all_df.\n",
    "    \"\"\"\n",
    "    predictdf = pd.DataFrame(columns=grants_all_df.parsed.values, dtype=np.bool)\n",
    "    res = predict_func(testset_app_df[\"xml\"].map(whole_xml_to_claim))\n",
    "    for idx, appid in enumerate(testset_app_df.app_id):\n",
    "        predictdf.loc[appid] = res[idx, :]\n",
    "    \"\"\"\n",
    "        one_res = predict_func(whole_xml_to_claim(testset_app_df[testset_app_df.app_id == appid][\"xml\"].iloc[0]))\n",
    "        predictdf.loc[appid] = one_res\n",
    "    \"\"\"\n",
    "    return predictdf"
   ]
  },
  {
   "cell_type": "code",
   "execution_count": 188,
   "metadata": {},
   "outputs": [],
   "source": [
    "def calc_TPs(preddf, labeldf):\n",
    "    return sum([sum(preddf.loc[one_appid][labeldf.loc[one_appid]]) for one_appid in testset_app_df.app_id])\n",
    "\n",
    "def calc_FPs(preddf, labeldf):\n",
    "    return sum([sum(preddf.loc[one_appid][~labeldf.loc[one_appid]]) for one_appid in testset_app_df.app_id])\n",
    "\n",
    "def calc_TNs(preddf, labeldf):\n",
    "    return sum([sum(preddf.loc[one_appid][~labeldf.loc[one_appid]] == False) for one_appid in testset_app_df.app_id])\n",
    "\n",
    "def calc_FNs(preddf, labeldf):\n",
    "    return sum([sum(preddf.loc[one_appid][labeldf.loc[one_appid]] == False) for one_appid in testset_app_df.app_id])\n",
    "\n",
    "def calc_TFPNs(preddf, labeldf):\n",
    "    return calc_TPs(preddf, labeldf), calc_FPs(preddf, labeldf), calc_TNs(preddf, labeldf), calc_FNs(preddf, labeldf)"
   ]
  },
  {
   "cell_type": "code",
   "execution_count": 189,
   "metadata": {},
   "outputs": [],
   "source": [
    "def calc_summary_TFPNs(TP, FP, TN, FN):\n",
    "    \"return acc, prec, recall, f1.\"\n",
    "    return pd.DataFrame(columns=[\"acc\", \"prec\", \"recall\", \"f1\"], data=[[(TP+TN)/(TP+FP+TN+FN), TP/(TP+FP), TP/(TP+FN), 2*TP/(2*TP+FP+FN)]])\n",
    "    \n",
    "def calc_summary(preddf, labeldf):\n",
    "    TP, FP, TN, FN = calc_TFPNs(preddf, labeldf)\n",
    "    return calc_summary_TFPNs(TP, FP, TN, FN)"
   ]
  },
  {
   "cell_type": "code",
   "execution_count": null,
   "metadata": {},
   "outputs": [],
   "source": []
  },
  {
   "cell_type": "markdown",
   "metadata": {},
   "source": [
    "### Sample evaluation code for baseline model\n",
    "\n",
    "predict_tfidf_model is defined below"
   ]
  },
  {
   "cell_type": "code",
   "execution_count": 130,
   "metadata": {},
   "outputs": [],
   "source": [
    "pred_df = predict_training_set(predict_tfidf_model)"
   ]
  },
  {
   "cell_type": "code",
   "execution_count": 131,
   "metadata": {},
   "outputs": [
    {
     "data": {
      "text/html": [
       "<div>\n",
       "<style scoped>\n",
       "    .dataframe tbody tr th:only-of-type {\n",
       "        vertical-align: middle;\n",
       "    }\n",
       "\n",
       "    .dataframe tbody tr th {\n",
       "        vertical-align: top;\n",
       "    }\n",
       "\n",
       "    .dataframe thead th {\n",
       "        text-align: right;\n",
       "    }\n",
       "</style>\n",
       "<table border=\"1\" class=\"dataframe\">\n",
       "  <thead>\n",
       "    <tr style=\"text-align: right;\">\n",
       "      <th></th>\n",
       "      <th>acc</th>\n",
       "      <th>prec</th>\n",
       "      <th>recall</th>\n",
       "      <th>f1</th>\n",
       "    </tr>\n",
       "  </thead>\n",
       "  <tbody>\n",
       "    <tr>\n",
       "      <th>0</th>\n",
       "      <td>0.906713</td>\n",
       "      <td>0.003739</td>\n",
       "      <td>0.726368</td>\n",
       "      <td>0.007439</td>\n",
       "    </tr>\n",
       "  </tbody>\n",
       "</table>\n",
       "</div>"
      ],
      "text/plain": [
       "        acc      prec    recall        f1\n",
       "0  0.906713  0.003739  0.726368  0.007439"
      ]
     },
     "execution_count": 131,
     "metadata": {},
     "output_type": "execute_result"
    }
   ],
   "source": [
    "calc_summary(pred_df, label_df)"
   ]
  },
  {
   "cell_type": "raw",
   "metadata": {},
   "source": [
    "# TFIDF_MODEL_THRESHOLD 0.8\n",
    "acc\tprec\trecall\tf1\n",
    "0.991971\t0.019875\t0.324627\t0.037457\n",
    "\n",
    "# TFIDF_MODEL_THRESHOLD 0.95\n",
    "acc\tprec\trecall\tf1\n",
    "0.906713\t0.003739\t0.726368\t0.007439"
   ]
  },
  {
   "cell_type": "code",
   "execution_count": null,
   "metadata": {},
   "outputs": [],
   "source": []
  },
  {
   "cell_type": "code",
   "execution_count": null,
   "metadata": {},
   "outputs": [],
   "source": []
  },
  {
   "cell_type": "markdown",
   "metadata": {},
   "source": [
    "# Start baseline model dependent code from here\n",
    "\n",
    "Now common part is done.\n",
    "Start model specific cells."
   ]
  },
  {
   "cell_type": "code",
   "execution_count": null,
   "metadata": {},
   "outputs": [],
   "source": []
  },
  {
   "cell_type": "code",
   "execution_count": 190,
   "metadata": {},
   "outputs": [
    {
     "data": {
      "text/plain": [
       "0    \\n \\n 1. A pacifier clip, comprising:\\n a base...\n",
       "1    \\n \\n 1. A supporting clasp which supports a s...\n",
       "2    \\n \\n 1. A clip of molded plastics material fo...\n",
       "3    \\n \\n 1. A tire inflation system comprising:\\n...\n",
       "4    \\n \\n 1. A cooling system for a heat-generatin...\n",
       "Name: xml, dtype: object"
      ]
     },
     "execution_count": 190,
     "metadata": {},
     "output_type": "execute_result"
    }
   ],
   "source": [
    "grants_all_df.head()[\"xml\"].map(whole_xml_to_claim)"
   ]
  },
  {
   "cell_type": "code",
   "execution_count": 191,
   "metadata": {},
   "outputs": [],
   "source": [
    "grants_all_df[\"claim\"] = grants_all_df[\"xml\"].map(whole_xml_to_claim)"
   ]
  },
  {
   "cell_type": "code",
   "execution_count": 192,
   "metadata": {},
   "outputs": [
    {
     "data": {
      "text/html": [
       "<div>\n",
       "<style scoped>\n",
       "    .dataframe tbody tr th:only-of-type {\n",
       "        vertical-align: middle;\n",
       "    }\n",
       "\n",
       "    .dataframe tbody tr th {\n",
       "        vertical-align: top;\n",
       "    }\n",
       "\n",
       "    .dataframe thead th {\n",
       "        text-align: right;\n",
       "    }\n",
       "</style>\n",
       "<table border=\"1\" class=\"dataframe\">\n",
       "  <thead>\n",
       "    <tr style=\"text-align: right;\">\n",
       "      <th></th>\n",
       "      <th>parsed</th>\n",
       "      <th>xml</th>\n",
       "      <th>claim</th>\n",
       "    </tr>\n",
       "  </thead>\n",
       "  <tbody>\n",
       "    <tr>\n",
       "      <th>0</th>\n",
       "      <td>8245358</td>\n",
       "      <td>&lt;?xml version=\"1.0\" encoding=\"UTF-8\"?&gt;\\n&lt;!DOCT...</td>\n",
       "      <td>\\n \\n 1. A pacifier clip, comprising:\\n a base...</td>\n",
       "    </tr>\n",
       "    <tr>\n",
       "      <th>1</th>\n",
       "      <td>8245460</td>\n",
       "      <td>&lt;?xml version=\"1.0\" encoding=\"UTF-8\"?&gt;\\n&lt;!DOCT...</td>\n",
       "      <td>\\n \\n 1. A supporting clasp which supports a s...</td>\n",
       "    </tr>\n",
       "    <tr>\n",
       "      <th>2</th>\n",
       "      <td>8245733</td>\n",
       "      <td>&lt;?xml version=\"1.0\" encoding=\"UTF-8\"?&gt;\\n&lt;!DOCT...</td>\n",
       "      <td>\\n \\n 1. A clip of molded plastics material fo...</td>\n",
       "    </tr>\n",
       "    <tr>\n",
       "      <th>3</th>\n",
       "      <td>8245746</td>\n",
       "      <td>&lt;?xml version=\"1.0\" encoding=\"UTF-8\"?&gt;\\n&lt;!DOCT...</td>\n",
       "      <td>\\n \\n 1. A tire inflation system comprising:\\n...</td>\n",
       "    </tr>\n",
       "    <tr>\n",
       "      <th>4</th>\n",
       "      <td>8245764</td>\n",
       "      <td>&lt;?xml version=\"1.0\" encoding=\"UTF-8\"?&gt;\\n&lt;!DOCT...</td>\n",
       "      <td>\\n \\n 1. A cooling system for a heat-generatin...</td>\n",
       "    </tr>\n",
       "  </tbody>\n",
       "</table>\n",
       "</div>"
      ],
      "text/plain": [
       "    parsed                                                xml  \\\n",
       "0  8245358  <?xml version=\"1.0\" encoding=\"UTF-8\"?>\\n<!DOCT...   \n",
       "1  8245460  <?xml version=\"1.0\" encoding=\"UTF-8\"?>\\n<!DOCT...   \n",
       "2  8245733  <?xml version=\"1.0\" encoding=\"UTF-8\"?>\\n<!DOCT...   \n",
       "3  8245746  <?xml version=\"1.0\" encoding=\"UTF-8\"?>\\n<!DOCT...   \n",
       "4  8245764  <?xml version=\"1.0\" encoding=\"UTF-8\"?>\\n<!DOCT...   \n",
       "\n",
       "                                               claim  \n",
       "0  \\n \\n 1. A pacifier clip, comprising:\\n a base...  \n",
       "1  \\n \\n 1. A supporting clasp which supports a s...  \n",
       "2  \\n \\n 1. A clip of molded plastics material fo...  \n",
       "3  \\n \\n 1. A tire inflation system comprising:\\n...  \n",
       "4  \\n \\n 1. A cooling system for a heat-generatin...  "
      ]
     },
     "execution_count": 192,
     "metadata": {},
     "output_type": "execute_result"
    }
   ],
   "source": [
    "grants_all_df.head()"
   ]
  },
  {
   "cell_type": "code",
   "execution_count": null,
   "metadata": {},
   "outputs": [],
   "source": []
  },
  {
   "cell_type": "markdown",
   "metadata": {},
   "source": [
    "# Convert to feature vectors and retrieve vocabulary\n",
    "\n",
    "Doing similar things to scikit learn example  \n",
    "http://scikit-learn.org/stable/auto_examples/text/document_classification_20newsgroups.html\n",
    "\n",
    "Also, this document is helpful.  \n",
    "http://scikit-learn.org/stable/tutorial/text_analytics/working_with_text_data.html"
   ]
  },
  {
   "cell_type": "code",
   "execution_count": 193,
   "metadata": {},
   "outputs": [],
   "source": [
    "from sklearn.feature_extraction.text import TfidfVectorizer"
   ]
  },
  {
   "cell_type": "code",
   "execution_count": null,
   "metadata": {},
   "outputs": [],
   "source": []
  },
  {
   "cell_type": "markdown",
   "metadata": {},
   "source": [
    "## (only once) Calculate tf-idf for grants2012"
   ]
  },
  {
   "cell_type": "code",
   "execution_count": 194,
   "metadata": {},
   "outputs": [],
   "source": [
    "random.seed(1234)"
   ]
  },
  {
   "cell_type": "code",
   "execution_count": 195,
   "metadata": {},
   "outputs": [],
   "source": [
    "vectorizer = TfidfVectorizer(stop_words='english', max_df = 0.5)"
   ]
  },
  {
   "cell_type": "code",
   "execution_count": 196,
   "metadata": {},
   "outputs": [],
   "source": [
    "grants_features = vectorizer.fit_transform(grants_all_df[\"claim\"])"
   ]
  },
  {
   "cell_type": "code",
   "execution_count": 197,
   "metadata": {},
   "outputs": [
    {
     "data": {
      "text/plain": [
       "(5424, 28988)"
      ]
     },
     "execution_count": 197,
     "metadata": {},
     "output_type": "execute_result"
    }
   ],
   "source": [
    "grants_features.shape"
   ]
  },
  {
   "cell_type": "code",
   "execution_count": 198,
   "metadata": {},
   "outputs": [],
   "source": [
    "vocab = vectorizer.vocabulary_"
   ]
  },
  {
   "cell_type": "code",
   "execution_count": 199,
   "metadata": {},
   "outputs": [],
   "source": [
    "idfvec = vectorizer.idf_"
   ]
  },
  {
   "cell_type": "code",
   "execution_count": 200,
   "metadata": {},
   "outputs": [
    {
     "data": {
      "text/plain": [
       "28988"
      ]
     },
     "execution_count": 200,
     "metadata": {},
     "output_type": "execute_result"
    }
   ],
   "source": [
    "len(vocab.keys())"
   ]
  },
  {
   "cell_type": "code",
   "execution_count": 220,
   "metadata": {},
   "outputs": [
    {
     "data": {
      "text/plain": [
       "[('tetrahydrofuran', 25804),\n",
       " ('767', 846),\n",
       " ('spliced', 24270),\n",
       " ('nucleants', 17658),\n",
       " ('fplc', 11161)]"
      ]
     },
     "execution_count": 220,
     "metadata": {},
     "output_type": "execute_result"
    }
   ],
   "source": [
    "list(vocab.items())[0:5]"
   ]
  },
  {
   "cell_type": "code",
   "execution_count": 221,
   "metadata": {},
   "outputs": [
    {
     "data": {
      "text/plain": [
       "28988"
      ]
     },
     "execution_count": 221,
     "metadata": {},
     "output_type": "execute_result"
    }
   ],
   "source": [
    "len(idfvec)"
   ]
  },
  {
   "cell_type": "code",
   "execution_count": 222,
   "metadata": {},
   "outputs": [
    {
     "data": {
      "text/plain": [
       "array([ 7.51933164,  5.26803984,  8.905626  ,  8.905626  ,  8.905626  ])"
      ]
     },
     "execution_count": 222,
     "metadata": {},
     "output_type": "execute_result"
    }
   ],
   "source": [
    "idfvec[0:5]"
   ]
  },
  {
   "cell_type": "code",
   "execution_count": null,
   "metadata": {},
   "outputs": [],
   "source": []
  },
  {
   "cell_type": "markdown",
   "metadata": {},
   "source": [
    "### (only once) Save features, vocabulary, idf vector"
   ]
  },
  {
   "cell_type": "code",
   "execution_count": 55,
   "metadata": {},
   "outputs": [],
   "source": [
    "import pickle"
   ]
  },
  {
   "cell_type": "code",
   "execution_count": 56,
   "metadata": {},
   "outputs": [],
   "source": [
    "with open(\"../data/grants2012_tfidf_features.dat\", \"wb\") as f:\n",
    "    pickle.dump(grants_features, f)"
   ]
  },
  {
   "cell_type": "code",
   "execution_count": 57,
   "metadata": {},
   "outputs": [],
   "source": [
    "with open(\"../data/grants2012_vocab_idf_dict.dat\", \"wb\") as f:\n",
    "    pickle.dump({\"vocabulary\": vocab, \"idf\": idfvec}, f)"
   ]
  },
  {
   "cell_type": "code",
   "execution_count": null,
   "metadata": {},
   "outputs": [],
   "source": []
  },
  {
   "cell_type": "markdown",
   "metadata": {},
   "source": [
    "### Load code"
   ]
  },
  {
   "cell_type": "code",
   "execution_count": 223,
   "metadata": {},
   "outputs": [],
   "source": [
    "import pickle"
   ]
  },
  {
   "cell_type": "code",
   "execution_count": 224,
   "metadata": {},
   "outputs": [],
   "source": [
    "with open(\"../data/grants2012_tfidf_features.dat\", 'rb') as f:\n",
    "    grants_features = pickle.load(f)"
   ]
  },
  {
   "cell_type": "code",
   "execution_count": 225,
   "metadata": {},
   "outputs": [],
   "source": [
    "with open(\"../data/grants2012_vocab_idf_dict.dat\", 'rb') as f:\n",
    "    dic = pickle.load(f)\n",
    "    vocab, idfvec = dic[\"vocabulary\"], dic[\"idf\"]"
   ]
  },
  {
   "cell_type": "code",
   "execution_count": null,
   "metadata": {},
   "outputs": [],
   "source": []
  },
  {
   "cell_type": "code",
   "execution_count": null,
   "metadata": {},
   "outputs": [],
   "source": []
  },
  {
   "cell_type": "markdown",
   "metadata": {},
   "source": [
    "### Calculate tf-idf manually using vocabulary and idf vector, and check whether the result is identical to that of TfidfVectorizer."
   ]
  },
  {
   "cell_type": "code",
   "execution_count": 226,
   "metadata": {},
   "outputs": [],
   "source": [
    "from sklearn.feature_extraction.text import CountVectorizer"
   ]
  },
  {
   "cell_type": "code",
   "execution_count": 227,
   "metadata": {},
   "outputs": [],
   "source": [
    "one_claim = grants_all_df.iloc[0][\"claim\"]"
   ]
  },
  {
   "cell_type": "code",
   "execution_count": 228,
   "metadata": {},
   "outputs": [],
   "source": [
    "count_vec = CountVectorizer(vocabulary=vocab, stop_words=\"english\", max_df = 0.5)"
   ]
  },
  {
   "cell_type": "code",
   "execution_count": 260,
   "metadata": {},
   "outputs": [],
   "source": [
    "res = count_vec.fit_transform([one_claim])"
   ]
  },
  {
   "cell_type": "code",
   "execution_count": 261,
   "metadata": {},
   "outputs": [],
   "source": [
    "res_arr = res.toarray()"
   ]
  },
  {
   "cell_type": "code",
   "execution_count": 262,
   "metadata": {},
   "outputs": [
    {
     "data": {
      "text/plain": [
       "(1, 28988)"
      ]
     },
     "execution_count": 262,
     "metadata": {},
     "output_type": "execute_result"
    }
   ],
   "source": [
    "res.shape"
   ]
  },
  {
   "cell_type": "code",
   "execution_count": 263,
   "metadata": {},
   "outputs": [],
   "source": [
    "tf = res_arr[0]"
   ]
  },
  {
   "cell_type": "code",
   "execution_count": null,
   "metadata": {},
   "outputs": [],
   "source": []
  },
  {
   "cell_type": "code",
   "execution_count": 264,
   "metadata": {},
   "outputs": [],
   "source": [
    "answer = grants_features[0, :].toarray()"
   ]
  },
  {
   "cell_type": "code",
   "execution_count": 265,
   "metadata": {},
   "outputs": [],
   "source": [
    "answer = answer[0]"
   ]
  },
  {
   "cell_type": "code",
   "execution_count": null,
   "metadata": {},
   "outputs": [],
   "source": []
  },
  {
   "cell_type": "code",
   "execution_count": 266,
   "metadata": {},
   "outputs": [],
   "source": [
    "def print_nonzero_index(arr, maxcount):\n",
    "    count = 0\n",
    "\n",
    "    for i, v in enumerate(arr):\n",
    "        if v != 0:\n",
    "            count+=1\n",
    "            print(i)\n",
    "            if count > maxcount:\n",
    "                break"
   ]
  },
  {
   "cell_type": "code",
   "execution_count": 267,
   "metadata": {},
   "outputs": [
    {
     "name": "stdout",
     "output_type": "stream",
     "text": [
      "1025\n",
      "1072\n",
      "1073\n",
      "1117\n",
      "1120\n",
      "1373\n"
     ]
    }
   ],
   "source": [
    "print_nonzero_index(answer, 5)"
   ]
  },
  {
   "cell_type": "code",
   "execution_count": 268,
   "metadata": {},
   "outputs": [
    {
     "data": {
      "text/plain": [
       "0.015374346416530774"
      ]
     },
     "execution_count": 268,
     "metadata": {},
     "output_type": "execute_result"
    }
   ],
   "source": [
    "answer[1025]"
   ]
  },
  {
   "cell_type": "code",
   "execution_count": 269,
   "metadata": {},
   "outputs": [
    {
     "name": "stdout",
     "output_type": "stream",
     "text": [
      "1025\n",
      "1072\n",
      "1073\n",
      "1117\n",
      "1120\n",
      "1373\n"
     ]
    }
   ],
   "source": [
    "print_nonzero_index(tf, 5)"
   ]
  },
  {
   "cell_type": "code",
   "execution_count": 270,
   "metadata": {},
   "outputs": [],
   "source": [
    "sumtf = sum(tf)"
   ]
  },
  {
   "cell_type": "code",
   "execution_count": 271,
   "metadata": {},
   "outputs": [],
   "source": [
    "unnormalized = [tf[i]*idfvec[i]/sumtf for i, _ in enumerate(tf)]"
   ]
  },
  {
   "cell_type": "code",
   "execution_count": 273,
   "metadata": {},
   "outputs": [
    {
     "data": {
      "text/plain": [
       "0.0094835279286488317"
      ]
     },
     "execution_count": 273,
     "metadata": {},
     "output_type": "execute_result"
    }
   ],
   "source": [
    "unnormalized[1025]"
   ]
  },
  {
   "cell_type": "code",
   "execution_count": 272,
   "metadata": {},
   "outputs": [
    {
     "data": {
      "text/plain": [
       "0.015374346416530772"
      ]
     },
     "execution_count": 272,
     "metadata": {},
     "output_type": "execute_result"
    }
   ],
   "source": [
    "unnormalized[1025]/np.linalg.norm(unnormalized)"
   ]
  },
  {
   "cell_type": "code",
   "execution_count": null,
   "metadata": {},
   "outputs": [],
   "source": []
  },
  {
   "cell_type": "markdown",
   "metadata": {},
   "source": [
    "Try two claim for generarization"
   ]
  },
  {
   "cell_type": "code",
   "execution_count": 274,
   "metadata": {},
   "outputs": [],
   "source": [
    "tfcsr = count_vec.fit_transform(grants_all_df.iloc[0:2][\"claim\"])"
   ]
  },
  {
   "cell_type": "code",
   "execution_count": 275,
   "metadata": {},
   "outputs": [],
   "source": [
    "tf = tfcsr.toarray()"
   ]
  },
  {
   "cell_type": "code",
   "execution_count": 276,
   "metadata": {},
   "outputs": [
    {
     "data": {
      "text/plain": [
       "(2, 28988)"
      ]
     },
     "execution_count": 276,
     "metadata": {},
     "output_type": "execute_result"
    }
   ],
   "source": [
    "tf.shape"
   ]
  },
  {
   "cell_type": "code",
   "execution_count": 277,
   "metadata": {},
   "outputs": [],
   "source": [
    "unnormalized = np.multiply(tf, idfvec)"
   ]
  },
  {
   "cell_type": "code",
   "execution_count": 278,
   "metadata": {},
   "outputs": [],
   "source": [
    "lpnorms = np.linalg.norm(unnormalized, axis=1)"
   ]
  },
  {
   "cell_type": "code",
   "execution_count": 279,
   "metadata": {},
   "outputs": [],
   "source": [
    "manual_tfidf = unnormalized/lpnorms[:, np.newaxis]"
   ]
  },
  {
   "cell_type": "code",
   "execution_count": 280,
   "metadata": {},
   "outputs": [
    {
     "data": {
      "text/plain": [
       "0.015374346416530776"
      ]
     },
     "execution_count": 280,
     "metadata": {},
     "output_type": "execute_result"
    }
   ],
   "source": [
    "manual_tfidf[0, 1025]"
   ]
  },
  {
   "cell_type": "code",
   "execution_count": 281,
   "metadata": {},
   "outputs": [
    {
     "data": {
      "text/plain": [
       "True"
      ]
     },
     "execution_count": 281,
     "metadata": {},
     "output_type": "execute_result"
    }
   ],
   "source": [
    "all(abs(manual_tfidf[0, :] - grants_features[0].toarray()[0]) < 0.00001)"
   ]
  },
  {
   "cell_type": "code",
   "execution_count": 282,
   "metadata": {},
   "outputs": [
    {
     "data": {
      "text/plain": [
       "True"
      ]
     },
     "execution_count": 282,
     "metadata": {},
     "output_type": "execute_result"
    }
   ],
   "source": [
    "all(abs(manual_tfidf[1] - grants_features[1].toarray()[0]) < 0.00001)"
   ]
  },
  {
   "cell_type": "code",
   "execution_count": null,
   "metadata": {},
   "outputs": [],
   "source": []
  },
  {
   "cell_type": "code",
   "execution_count": null,
   "metadata": {},
   "outputs": [],
   "source": []
  },
  {
   "cell_type": "markdown",
   "metadata": {},
   "source": [
    "Now make calculate tf-idf function"
   ]
  },
  {
   "cell_type": "code",
   "execution_count": 283,
   "metadata": {},
   "outputs": [],
   "source": [
    "def claims_to_tfidfs(claimarr, count_vec, idfvec):\n",
    "    tfcsr = count_vec.fit_transform(claimarr)\n",
    "    tf = tfcsr.toarray()\n",
    "    unnormalized = np.multiply(tf, idfvec)\n",
    "    lpnorms = np.linalg.norm(unnormalized, axis=1)\n",
    "    return unnormalized/lpnorms[:, np.newaxis]"
   ]
  },
  {
   "cell_type": "code",
   "execution_count": 284,
   "metadata": {},
   "outputs": [],
   "source": [
    "manu3 = claims_to_tfidfs(grants_all_df.iloc[0:2][\"claim\"], count_vec, idfvec)"
   ]
  },
  {
   "cell_type": "code",
   "execution_count": 285,
   "metadata": {},
   "outputs": [
    {
     "data": {
      "text/plain": [
       "(True, True)"
      ]
     },
     "execution_count": 285,
     "metadata": {},
     "output_type": "execute_result"
    }
   ],
   "source": [
    "all(manu3[0] == manual_tfidf[0]), all(manu3[1] == manual_tfidf[1])"
   ]
  },
  {
   "cell_type": "code",
   "execution_count": null,
   "metadata": {},
   "outputs": [],
   "source": []
  },
  {
   "cell_type": "markdown",
   "metadata": {},
   "source": [
    "### It's time to calculate tfidf for training set."
   ]
  },
  {
   "cell_type": "code",
   "execution_count": null,
   "metadata": {},
   "outputs": [],
   "source": []
  },
  {
   "cell_type": "code",
   "execution_count": 286,
   "metadata": {},
   "outputs": [],
   "source": [
    "training_app_df[\"claim\"] = training_app_df[\"xml\"].map(whole_xml_to_claim)"
   ]
  },
  {
   "cell_type": "code",
   "execution_count": 287,
   "metadata": {},
   "outputs": [],
   "source": [
    "training_features = claims_to_tfidfs(training_app_df[\"claim\"], count_vec, idfvec)"
   ]
  },
  {
   "cell_type": "code",
   "execution_count": null,
   "metadata": {},
   "outputs": [],
   "source": []
  },
  {
   "cell_type": "markdown",
   "metadata": {},
   "source": [
    "Calculate one cosine distance"
   ]
  },
  {
   "cell_type": "code",
   "execution_count": 288,
   "metadata": {},
   "outputs": [],
   "source": [
    "one_appid = training_app_df.iloc[0].app_id"
   ]
  },
  {
   "cell_type": "code",
   "execution_count": 289,
   "metadata": {},
   "outputs": [
    {
     "data": {
      "text/html": [
       "<div>\n",
       "<style scoped>\n",
       "    .dataframe tbody tr th:only-of-type {\n",
       "        vertical-align: middle;\n",
       "    }\n",
       "\n",
       "    .dataframe tbody tr th {\n",
       "        vertical-align: top;\n",
       "    }\n",
       "\n",
       "    .dataframe thead th {\n",
       "        text-align: right;\n",
       "    }\n",
       "</style>\n",
       "<table border=\"1\" class=\"dataframe\">\n",
       "  <thead>\n",
       "    <tr style=\"text-align: right;\">\n",
       "      <th></th>\n",
       "      <th>app_id</th>\n",
       "      <th>citation_pat_pgpub_id</th>\n",
       "      <th>parsed</th>\n",
       "      <th>ifw_number</th>\n",
       "      <th>action_type</th>\n",
       "      <th>action_subtype</th>\n",
       "      <th>form892</th>\n",
       "      <th>form1449</th>\n",
       "      <th>citation_in_oa</th>\n",
       "    </tr>\n",
       "  </thead>\n",
       "  <tbody>\n",
       "    <tr>\n",
       "      <th>105</th>\n",
       "      <td>14101171</td>\n",
       "      <td>8308754</td>\n",
       "      <td>8308754</td>\n",
       "      <td>NaN</td>\n",
       "      <td>NaN</td>\n",
       "      <td>NaN</td>\n",
       "      <td>0</td>\n",
       "      <td>1</td>\n",
       "      <td>0</td>\n",
       "    </tr>\n",
       "    <tr>\n",
       "      <th>108</th>\n",
       "      <td>14101171</td>\n",
       "      <td>8114114</td>\n",
       "      <td>8114114</td>\n",
       "      <td>NaN</td>\n",
       "      <td>NaN</td>\n",
       "      <td>NaN</td>\n",
       "      <td>0</td>\n",
       "      <td>1</td>\n",
       "      <td>0</td>\n",
       "    </tr>\n",
       "    <tr>\n",
       "      <th>492</th>\n",
       "      <td>14101171</td>\n",
       "      <td>8100958</td>\n",
       "      <td>8100958</td>\n",
       "      <td>NaN</td>\n",
       "      <td>NaN</td>\n",
       "      <td>NaN</td>\n",
       "      <td>0</td>\n",
       "      <td>1</td>\n",
       "      <td>0</td>\n",
       "    </tr>\n",
       "    <tr>\n",
       "      <th>493</th>\n",
       "      <td>14101171</td>\n",
       "      <td>8226704</td>\n",
       "      <td>8226704</td>\n",
       "      <td>NaN</td>\n",
       "      <td>NaN</td>\n",
       "      <td>NaN</td>\n",
       "      <td>0</td>\n",
       "      <td>1</td>\n",
       "      <td>0</td>\n",
       "    </tr>\n",
       "    <tr>\n",
       "      <th>494</th>\n",
       "      <td>14101171</td>\n",
       "      <td>8110267</td>\n",
       "      <td>8110267</td>\n",
       "      <td>NaN</td>\n",
       "      <td>NaN</td>\n",
       "      <td>NaN</td>\n",
       "      <td>0</td>\n",
       "      <td>1</td>\n",
       "      <td>0</td>\n",
       "    </tr>\n",
       "    <tr>\n",
       "      <th>495</th>\n",
       "      <td>14101171</td>\n",
       "      <td>8142456</td>\n",
       "      <td>8142456</td>\n",
       "      <td>NaN</td>\n",
       "      <td>NaN</td>\n",
       "      <td>NaN</td>\n",
       "      <td>0</td>\n",
       "      <td>1</td>\n",
       "      <td>0</td>\n",
       "    </tr>\n",
       "    <tr>\n",
       "      <th>496</th>\n",
       "      <td>14101171</td>\n",
       "      <td>8328840</td>\n",
       "      <td>8328840</td>\n",
       "      <td>NaN</td>\n",
       "      <td>NaN</td>\n",
       "      <td>NaN</td>\n",
       "      <td>0</td>\n",
       "      <td>1</td>\n",
       "      <td>0</td>\n",
       "    </tr>\n",
       "    <tr>\n",
       "      <th>497</th>\n",
       "      <td>14101171</td>\n",
       "      <td>8333796</td>\n",
       "      <td>8333796</td>\n",
       "      <td>NaN</td>\n",
       "      <td>NaN</td>\n",
       "      <td>NaN</td>\n",
       "      <td>0</td>\n",
       "      <td>1</td>\n",
       "      <td>0</td>\n",
       "    </tr>\n",
       "    <tr>\n",
       "      <th>498</th>\n",
       "      <td>14101171</td>\n",
       "      <td>8226679</td>\n",
       "      <td>8226679</td>\n",
       "      <td>NaN</td>\n",
       "      <td>NaN</td>\n",
       "      <td>NaN</td>\n",
       "      <td>0</td>\n",
       "      <td>1</td>\n",
       "      <td>0</td>\n",
       "    </tr>\n",
       "    <tr>\n",
       "      <th>499</th>\n",
       "      <td>14101171</td>\n",
       "      <td>8323350</td>\n",
       "      <td>8323350</td>\n",
       "      <td>NaN</td>\n",
       "      <td>NaN</td>\n",
       "      <td>NaN</td>\n",
       "      <td>0</td>\n",
       "      <td>1</td>\n",
       "      <td>0</td>\n",
       "    </tr>\n",
       "    <tr>\n",
       "      <th>500</th>\n",
       "      <td>14101171</td>\n",
       "      <td>8333783</td>\n",
       "      <td>8333783</td>\n",
       "      <td>NaN</td>\n",
       "      <td>NaN</td>\n",
       "      <td>NaN</td>\n",
       "      <td>0</td>\n",
       "      <td>1</td>\n",
       "      <td>0</td>\n",
       "    </tr>\n",
       "    <tr>\n",
       "      <th>501</th>\n",
       "      <td>14101171</td>\n",
       "      <td>8162970</td>\n",
       "      <td>8162970</td>\n",
       "      <td>NaN</td>\n",
       "      <td>NaN</td>\n",
       "      <td>NaN</td>\n",
       "      <td>0</td>\n",
       "      <td>1</td>\n",
       "      <td>0</td>\n",
       "    </tr>\n",
       "    <tr>\n",
       "      <th>502</th>\n",
       "      <td>14101171</td>\n",
       "      <td>8323305</td>\n",
       "      <td>8323305</td>\n",
       "      <td>NaN</td>\n",
       "      <td>NaN</td>\n",
       "      <td>NaN</td>\n",
       "      <td>0</td>\n",
       "      <td>1</td>\n",
       "      <td>0</td>\n",
       "    </tr>\n",
       "  </tbody>\n",
       "</table>\n",
       "</div>"
      ],
      "text/plain": [
       "       app_id citation_pat_pgpub_id   parsed ifw_number  action_type  \\\n",
       "105  14101171               8308754  8308754        NaN          NaN   \n",
       "108  14101171               8114114  8114114        NaN          NaN   \n",
       "492  14101171               8100958  8100958        NaN          NaN   \n",
       "493  14101171               8226704  8226704        NaN          NaN   \n",
       "494  14101171               8110267  8110267        NaN          NaN   \n",
       "495  14101171               8142456  8142456        NaN          NaN   \n",
       "496  14101171               8328840  8328840        NaN          NaN   \n",
       "497  14101171               8333796  8333796        NaN          NaN   \n",
       "498  14101171               8226679  8226679        NaN          NaN   \n",
       "499  14101171               8323350  8323350        NaN          NaN   \n",
       "500  14101171               8333783  8333783        NaN          NaN   \n",
       "501  14101171               8162970  8162970        NaN          NaN   \n",
       "502  14101171               8323305  8323305        NaN          NaN   \n",
       "\n",
       "    action_subtype  form892  form1449  citation_in_oa  \n",
       "105            NaN        0         1               0  \n",
       "108            NaN        0         1               0  \n",
       "492            NaN        0         1               0  \n",
       "493            NaN        0         1               0  \n",
       "494            NaN        0         1               0  \n",
       "495            NaN        0         1               0  \n",
       "496            NaN        0         1               0  \n",
       "497            NaN        0         1               0  \n",
       "498            NaN        0         1               0  \n",
       "499            NaN        0         1               0  \n",
       "500            NaN        0         1               0  \n",
       "501            NaN        0         1               0  \n",
       "502            NaN        0         1               0  "
      ]
     },
     "execution_count": 289,
     "metadata": {},
     "output_type": "execute_result"
    }
   ],
   "source": [
    "citations_2012_2017[citations_2012_2017.app_id == one_appid]"
   ]
  },
  {
   "cell_type": "code",
   "execution_count": 290,
   "metadata": {},
   "outputs": [],
   "source": [
    "answer_patids = set(citations_2012_2017[citations_2012_2017.app_id == one_appid].parsed.astype(int))"
   ]
  },
  {
   "cell_type": "code",
   "execution_count": 291,
   "metadata": {},
   "outputs": [
    {
     "data": {
      "text/plain": [
       "{8100958,\n",
       " 8110267,\n",
       " 8114114,\n",
       " 8142456,\n",
       " 8162970,\n",
       " 8226679,\n",
       " 8226704,\n",
       " 8308754,\n",
       " 8323305,\n",
       " 8323350,\n",
       " 8328840,\n",
       " 8333783,\n",
       " 8333796}"
      ]
     },
     "execution_count": 291,
     "metadata": {},
     "output_type": "execute_result"
    }
   ],
   "source": [
    "answer_patids"
   ]
  },
  {
   "cell_type": "code",
   "execution_count": 292,
   "metadata": {},
   "outputs": [
    {
     "data": {
      "text/plain": [
       "numpy.int64"
      ]
     },
     "execution_count": 292,
     "metadata": {},
     "output_type": "execute_result"
    }
   ],
   "source": [
    "type(grants_all_df.iloc[0].parsed)"
   ]
  },
  {
   "cell_type": "code",
   "execution_count": 293,
   "metadata": {},
   "outputs": [],
   "source": [
    "answer_idxs = grants_all_df[grants_all_df.parsed.isin(answer_patids)].index"
   ]
  },
  {
   "cell_type": "code",
   "execution_count": 294,
   "metadata": {},
   "outputs": [
    {
     "data": {
      "text/plain": [
       "1133"
      ]
     },
     "execution_count": 294,
     "metadata": {},
     "output_type": "execute_result"
    }
   ],
   "source": [
    "answer_idxs[0]"
   ]
  },
  {
   "cell_type": "code",
   "execution_count": 295,
   "metadata": {},
   "outputs": [
    {
     "data": {
      "text/plain": [
       "8172557"
      ]
     },
     "execution_count": 295,
     "metadata": {},
     "output_type": "execute_result"
    }
   ],
   "source": [
    "grants_all_df.iloc[2570].parsed"
   ]
  },
  {
   "cell_type": "code",
   "execution_count": null,
   "metadata": {},
   "outputs": [],
   "source": []
  },
  {
   "cell_type": "code",
   "execution_count": 296,
   "metadata": {},
   "outputs": [],
   "source": [
    "answer_patent_features = grants_features[answer_idxs[0], :].toarray()[0]"
   ]
  },
  {
   "cell_type": "code",
   "execution_count": null,
   "metadata": {},
   "outputs": [],
   "source": []
  },
  {
   "cell_type": "code",
   "execution_count": 297,
   "metadata": {},
   "outputs": [],
   "source": [
    "import scipy"
   ]
  },
  {
   "cell_type": "code",
   "execution_count": 299,
   "metadata": {},
   "outputs": [
    {
     "data": {
      "text/plain": [
       "array([[ 0.80908445]])"
      ]
     },
     "execution_count": 299,
     "metadata": {},
     "output_type": "execute_result"
    }
   ],
   "source": [
    "scipy.spatial.distance.cdist(\n",
    "    training_features[0, :][np.newaxis, :]\n",
    "    , grants_features[answer_idxs[0], :].toarray()\n",
    "    , 'cosine')"
   ]
  },
  {
   "cell_type": "code",
   "execution_count": null,
   "metadata": {},
   "outputs": [],
   "source": []
  },
  {
   "cell_type": "code",
   "execution_count": null,
   "metadata": {},
   "outputs": [],
   "source": []
  },
  {
   "cell_type": "markdown",
   "metadata": {},
   "source": [
    "### Calculate 20 cosine distance"
   ]
  },
  {
   "cell_type": "code",
   "execution_count": null,
   "metadata": {},
   "outputs": [],
   "source": []
  },
  {
   "cell_type": "code",
   "execution_count": 300,
   "metadata": {},
   "outputs": [
    {
     "data": {
      "text/html": [
       "<div>\n",
       "<style scoped>\n",
       "    .dataframe tbody tr th:only-of-type {\n",
       "        vertical-align: middle;\n",
       "    }\n",
       "\n",
       "    .dataframe tbody tr th {\n",
       "        vertical-align: top;\n",
       "    }\n",
       "\n",
       "    .dataframe thead th {\n",
       "        text-align: right;\n",
       "    }\n",
       "</style>\n",
       "<table border=\"1\" class=\"dataframe\">\n",
       "  <thead>\n",
       "    <tr style=\"text-align: right;\">\n",
       "      <th></th>\n",
       "      <th>app_id</th>\n",
       "      <th>xml</th>\n",
       "      <th>claim</th>\n",
       "    </tr>\n",
       "  </thead>\n",
       "  <tbody>\n",
       "    <tr>\n",
       "      <th>0</th>\n",
       "      <td>14101171</td>\n",
       "      <td>&lt;?xml version=\"1.0\" encoding=\"UTF-8\"?&gt;\\n&lt;!DOCT...</td>\n",
       "      <td>\\n \\n  1 . A material delivery device, compris...</td>\n",
       "    </tr>\n",
       "    <tr>\n",
       "      <th>1</th>\n",
       "      <td>15299078</td>\n",
       "      <td>&lt;?xml version=\"1.0\" encoding=\"UTF-8\"?&gt;\\n&lt;!DOCT...</td>\n",
       "      <td>\\n \\n  1 . (canceled) \\n \\n \\n  2 . A method e...</td>\n",
       "    </tr>\n",
       "    <tr>\n",
       "      <th>2</th>\n",
       "      <td>15208119</td>\n",
       "      <td>&lt;?xml version=\"1.0\" encoding=\"UTF-8\"?&gt;\\n&lt;!DOCT...</td>\n",
       "      <td>\\n \\n  1 . In a data visualization system, exe...</td>\n",
       "    </tr>\n",
       "    <tr>\n",
       "      <th>3</th>\n",
       "      <td>14863698</td>\n",
       "      <td>&lt;?xml version=\"1.0\" encoding=\"UTF-8\"?&gt;\\n&lt;!DOCT...</td>\n",
       "      <td>\\n \\n  1 . A process to produce a supported ca...</td>\n",
       "    </tr>\n",
       "    <tr>\n",
       "      <th>4</th>\n",
       "      <td>15233701</td>\n",
       "      <td>&lt;?xml version=\"1.0\" encoding=\"UTF-8\"?&gt;\\n&lt;!DOCT...</td>\n",
       "      <td>\\n \\n  1 . An absorbent microstructure array, ...</td>\n",
       "    </tr>\n",
       "  </tbody>\n",
       "</table>\n",
       "</div>"
      ],
      "text/plain": [
       "     app_id                                                xml  \\\n",
       "0  14101171  <?xml version=\"1.0\" encoding=\"UTF-8\"?>\\n<!DOCT...   \n",
       "1  15299078  <?xml version=\"1.0\" encoding=\"UTF-8\"?>\\n<!DOCT...   \n",
       "2  15208119  <?xml version=\"1.0\" encoding=\"UTF-8\"?>\\n<!DOCT...   \n",
       "3  14863698  <?xml version=\"1.0\" encoding=\"UTF-8\"?>\\n<!DOCT...   \n",
       "4  15233701  <?xml version=\"1.0\" encoding=\"UTF-8\"?>\\n<!DOCT...   \n",
       "\n",
       "                                               claim  \n",
       "0  \\n \\n  1 . A material delivery device, compris...  \n",
       "1  \\n \\n  1 . (canceled) \\n \\n \\n  2 . A method e...  \n",
       "2  \\n \\n  1 . In a data visualization system, exe...  \n",
       "3  \\n \\n  1 . A process to produce a supported ca...  \n",
       "4  \\n \\n  1 . An absorbent microstructure array, ...  "
      ]
     },
     "execution_count": 300,
     "metadata": {},
     "output_type": "execute_result"
    }
   ],
   "source": [
    "training_app_df.head()"
   ]
  },
  {
   "cell_type": "code",
   "execution_count": null,
   "metadata": {},
   "outputs": [],
   "source": []
  },
  {
   "cell_type": "code",
   "execution_count": 301,
   "metadata": {},
   "outputs": [
    {
     "data": {
      "text/plain": [
       "1416"
      ]
     },
     "execution_count": 301,
     "metadata": {},
     "output_type": "execute_result"
    }
   ],
   "source": [
    "training_app_df[training_app_df.app_id == 15227804].index[0]"
   ]
  },
  {
   "cell_type": "code",
   "execution_count": null,
   "metadata": {},
   "outputs": [],
   "source": []
  },
  {
   "cell_type": "code",
   "execution_count": 325,
   "metadata": {},
   "outputs": [],
   "source": [
    "def calc_cosin_for_one_app(appid):\n",
    "    '''\n",
    "    Calculate cosine distances between a given application id in 2017 and cited grants patents in 2012.\n",
    "    '''\n",
    "    answer_patids = set(citations_2012_2017[citations_2012_2017.app_id == appid].parsed.astype(int))\n",
    "    answer_idxs = grants_all_df[grants_all_df.parsed.isin(answer_patids)].index\n",
    "    answer_patent_features = grants_features[answer_idxs, :].toarray()\n",
    "    training_features_idx = training_app_df[training_app_df.app_id == appid].index[0]\n",
    "    return scipy.spatial.distance.cdist(training_features[training_features_idx, :][np.newaxis, :]\n",
    "                                        , answer_patent_features\n",
    "                                        , 'cosine')[0]\n"
   ]
  },
  {
   "cell_type": "code",
   "execution_count": 315,
   "metadata": {},
   "outputs": [
    {
     "data": {
      "text/plain": [
       "{8100958,\n",
       " 8110267,\n",
       " 8114114,\n",
       " 8142456,\n",
       " 8162970,\n",
       " 8226679,\n",
       " 8226704,\n",
       " 8308754,\n",
       " 8323305,\n",
       " 8323350,\n",
       " 8328840,\n",
       " 8333783,\n",
       " 8333796}"
      ]
     },
     "execution_count": 315,
     "metadata": {},
     "output_type": "execute_result"
    }
   ],
   "source": [
    "set(citations_2012_2017[citations_2012_2017.app_id == training_app_df[0:1].app_id.values[0]].parsed.astype(int))"
   ]
  },
  {
   "cell_type": "code",
   "execution_count": 316,
   "metadata": {},
   "outputs": [
    {
     "data": {
      "text/plain": [
       "array([14101171])"
      ]
     },
     "execution_count": 316,
     "metadata": {},
     "output_type": "execute_result"
    }
   ],
   "source": [
    "training_app_df[0:1].app_id.values"
   ]
  },
  {
   "cell_type": "code",
   "execution_count": 105,
   "metadata": {},
   "outputs": [
    {
     "data": {
      "text/plain": [
       "array([ 0.93692449])"
      ]
     },
     "execution_count": 105,
     "metadata": {},
     "output_type": "execute_result"
    }
   ],
   "source": [
    "calc_cosin_for_one_app(14575586)"
   ]
  },
  {
   "cell_type": "code",
   "execution_count": 106,
   "metadata": {},
   "outputs": [
    {
     "data": {
      "text/plain": [
       "array([ 0.70069898])"
      ]
     },
     "execution_count": 106,
     "metadata": {},
     "output_type": "execute_result"
    }
   ],
   "source": [
    "calc_cosin_for_one_app(15239553)"
   ]
  },
  {
   "cell_type": "code",
   "execution_count": 107,
   "metadata": {},
   "outputs": [
    {
     "data": {
      "text/plain": [
       "[array([ 0.80908445,  0.96978936,  0.94034034,  0.91921866,  0.90013086,\n",
       "         0.87894427,  0.92356115,  0.82760179,  0.75783726,  0.90312825,\n",
       "         0.97723739,  0.76761425,  0.90077301]),\n",
       " array([ 0.9214074]),\n",
       " array([ 0.97823545]),\n",
       " array([ 0.48991428]),\n",
       " array([ 0.96830759,  0.98131996,  0.96913659,  0.96015407,  0.97320756,\n",
       "         0.99110994,  0.98729205,  0.93793983,  0.99784602]),\n",
       " array([ 0.54758072]),\n",
       " array([ 0.73163111,  0.86353843]),\n",
       " array([ 0.64070774,  0.98536945,  0.78906306]),\n",
       " array([ 0.84117558]),\n",
       " array([ 0.4039773]),\n",
       " array([ 0.62516921,  0.45756549]),\n",
       " array([ 0.8716739]),\n",
       " array([ 0.95036339,  0.91516744]),\n",
       " array([ 0.95695054]),\n",
       " array([ 0.56269703,  0.50022958,  0.32050034,  0.99982104,  0.51788965]),\n",
       " array([ 0.80745739,  0.76296022,  0.87023973,  0.92690423]),\n",
       " array([ 0.91334567]),\n",
       " array([ 0.97716946]),\n",
       " array([ 0.6810825]),\n",
       " array([ 0.78845391,  0.66503902,  0.8283928 ])]"
      ]
     },
     "execution_count": 107,
     "metadata": {},
     "output_type": "execute_result"
    }
   ],
   "source": [
    "[calc_cosin_for_one_app(appid) for appid in training_app_df[0:20].app_id]"
   ]
  },
  {
   "cell_type": "code",
   "execution_count": 108,
   "metadata": {},
   "outputs": [
    {
     "data": {
      "text/plain": [
       "array([ 0.54758072])"
      ]
     },
     "execution_count": 108,
     "metadata": {},
     "output_type": "execute_result"
    }
   ],
   "source": [
    "calc_cosin_for_one_app(training_app_df.iloc[5].app_id)"
   ]
  },
  {
   "cell_type": "code",
   "execution_count": 109,
   "metadata": {},
   "outputs": [
    {
     "data": {
      "text/plain": [
       "True"
      ]
     },
     "execution_count": 109,
     "metadata": {},
     "output_type": "execute_result"
    }
   ],
   "source": [
    "calc_cosin_for_one_app(training_app_df.iloc[5].app_id).mean() < 0.95"
   ]
  },
  {
   "cell_type": "code",
   "execution_count": null,
   "metadata": {},
   "outputs": [],
   "source": []
  },
  {
   "cell_type": "markdown",
   "metadata": {},
   "source": [
    "### Calculate the averages of cosine distances between {all app, app with action type 102, app with action type 103} and cited patents for those applications."
   ]
  },
  {
   "cell_type": "markdown",
   "metadata": {},
   "source": [
    "#### All training set."
   ]
  },
  {
   "cell_type": "code",
   "execution_count": 336,
   "metadata": {},
   "outputs": [],
   "source": [
    "%matplotlib inline\n",
    "import matplotlib.pyplot as plt"
   ]
  },
  {
   "cell_type": "code",
   "execution_count": 330,
   "metadata": {},
   "outputs": [],
   "source": [
    "%%time\n",
    "cosdis_all_tr = [calc_cosin_for_one_app(appid) for appid in training_app_df.app_id]"
   ]
  },
  {
   "cell_type": "markdown",
   "metadata": {},
   "source": [
    "Flatten the list."
   ]
  },
  {
   "cell_type": "code",
   "execution_count": 331,
   "metadata": {},
   "outputs": [],
   "source": [
    "cosdis_all_tr = np.concatenate(cosdis_all_tr).ravel()"
   ]
  },
  {
   "cell_type": "code",
   "execution_count": 333,
   "metadata": {},
   "outputs": [
    {
     "data": {
      "text/plain": [
       "0.8016396495275282"
      ]
     },
     "execution_count": 333,
     "metadata": {},
     "output_type": "execute_result"
    }
   ],
   "source": [
    "np.mean(cosdis_all_tr)"
   ]
  },
  {
   "cell_type": "code",
   "execution_count": 334,
   "metadata": {},
   "outputs": [
    {
     "data": {
      "text/plain": [
       "0.85400296567096656"
      ]
     },
     "execution_count": 334,
     "metadata": {},
     "output_type": "execute_result"
    }
   ],
   "source": [
    "np.median(cosdis_all_tr)"
   ]
  },
  {
   "cell_type": "code",
   "execution_count": 338,
   "metadata": {},
   "outputs": [
    {
     "data": {
      "image/png": "[encoded data removed]",
      "text/plain": [
       "<matplotlib.figure.Figure at 0x7f555d9a2f98>"
      ]
     },
     "metadata": {},
     "output_type": "display_data"
    }
   ],
   "source": [
    "plt.hist(cosdis_all_tr, bins='auto')\n",
    "plt.show()"
   ]
  },
  {
   "cell_type": "markdown",
   "metadata": {},
   "source": [
    "#### Training subset with action type == 102."
   ]
  },
  {
   "cell_type": "code",
   "execution_count": 347,
   "metadata": {},
   "outputs": [
    {
     "data": {
      "text/plain": [
       "117"
      ]
     },
     "execution_count": 347,
     "metadata": {},
     "output_type": "execute_result"
    }
   ],
   "source": [
    "len( set(training_app_df.app_id) & app_id_with_102 )"
   ]
  },
  {
   "cell_type": "code",
   "execution_count": 349,
   "metadata": {},
   "outputs": [],
   "source": [
    "cosdis_tr_102 = [calc_cosin_for_one_app(appid) for appid in set(training_app_df.app_id) & app_id_with_102]"
   ]
  },
  {
   "cell_type": "code",
   "execution_count": 350,
   "metadata": {},
   "outputs": [],
   "source": [
    "cosdis_tr_102 = np.concatenate(cosdis_tr_102).ravel()"
   ]
  },
  {
   "cell_type": "code",
   "execution_count": 351,
   "metadata": {},
   "outputs": [
    {
     "data": {
      "text/plain": [
       "0.78873483830333047"
      ]
     },
     "execution_count": 351,
     "metadata": {},
     "output_type": "execute_result"
    }
   ],
   "source": [
    "np.mean(cosdis_tr_102)"
   ]
  },
  {
   "cell_type": "code",
   "execution_count": 352,
   "metadata": {},
   "outputs": [
    {
     "data": {
      "text/plain": [
       "0.86290117740702055"
      ]
     },
     "execution_count": 352,
     "metadata": {},
     "output_type": "execute_result"
    }
   ],
   "source": [
    "np.median(cosdis_tr_102)"
   ]
  },
  {
   "cell_type": "code",
   "execution_count": 354,
   "metadata": {},
   "outputs": [
    {
     "data": {
      "image/png": "[encoded data removed]",
      "text/plain": [
       "<matplotlib.figure.Figure at 0x7f555db82c50>"
      ]
     },
     "metadata": {},
     "output_type": "display_data"
    }
   ],
   "source": [
    "plt.hist(cosdis_tr_102, bins=100)\n",
    "plt.show()"
   ]
  },
  {
   "cell_type": "markdown",
   "metadata": {},
   "source": [
    "#### Training subset with action type == 103."
   ]
  },
  {
   "cell_type": "code",
   "execution_count": 348,
   "metadata": {},
   "outputs": [
    {
     "data": {
      "text/plain": [
       "350"
      ]
     },
     "execution_count": 348,
     "metadata": {},
     "output_type": "execute_result"
    }
   ],
   "source": [
    "len( set(training_app_df.app_id) & app_id_with_103 )"
   ]
  },
  {
   "cell_type": "code",
   "execution_count": 355,
   "metadata": {},
   "outputs": [],
   "source": [
    "cosdis_tr_103 = [calc_cosin_for_one_app(appid) for appid in set(training_app_df.app_id) & app_id_with_103]"
   ]
  },
  {
   "cell_type": "code",
   "execution_count": 356,
   "metadata": {},
   "outputs": [],
   "source": [
    "cosdis_tr_103 = np.concatenate(cosdis_tr_103).ravel()"
   ]
  },
  {
   "cell_type": "code",
   "execution_count": 357,
   "metadata": {},
   "outputs": [
    {
     "data": {
      "text/plain": [
       "0.79312111371313654"
      ]
     },
     "execution_count": 357,
     "metadata": {},
     "output_type": "execute_result"
    }
   ],
   "source": [
    "np.mean(cosdis_tr_103)"
   ]
  },
  {
   "cell_type": "code",
   "execution_count": 358,
   "metadata": {},
   "outputs": [
    {
     "data": {
      "text/plain": [
       "0.83713146196826438"
      ]
     },
     "execution_count": 358,
     "metadata": {},
     "output_type": "execute_result"
    }
   ],
   "source": [
    "np.median(cosdis_tr_103)"
   ]
  },
  {
   "cell_type": "code",
   "execution_count": 359,
   "metadata": {},
   "outputs": [
    {
     "data": {
      "image/png": "[encoded data removed]",
      "text/plain": [
       "<matplotlib.figure.Figure at 0x7f555e94ae10>"
      ]
     },
     "metadata": {},
     "output_type": "display_data"
    }
   ],
   "source": [
    "plt.hist(cosdis_tr_103, bins=100)\n",
    "plt.show()"
   ]
  },
  {
   "cell_type": "code",
   "execution_count": null,
   "metadata": {},
   "outputs": [],
   "source": []
  },
  {
   "cell_type": "markdown",
   "metadata": {},
   "source": [
    "### Compare with random pair cosdistance"
   ]
  },
  {
   "cell_type": "code",
   "execution_count": 317,
   "metadata": {},
   "outputs": [
    {
     "data": {
      "text/plain": [
       "(2769, 28988)"
      ]
     },
     "execution_count": 317,
     "metadata": {},
     "output_type": "execute_result"
    }
   ],
   "source": [
    "training_features.shape"
   ]
  },
  {
   "cell_type": "code",
   "execution_count": 318,
   "metadata": {},
   "outputs": [
    {
     "data": {
      "text/plain": [
       "(5424, 28988)"
      ]
     },
     "execution_count": 318,
     "metadata": {},
     "output_type": "execute_result"
    }
   ],
   "source": [
    "grants_features.shape"
   ]
  },
  {
   "cell_type": "code",
   "execution_count": 323,
   "metadata": {
    "scrolled": true
   },
   "outputs": [
    {
     "data": {
      "text/plain": [
       "array([[ 0.97569918,  0.95249141,  0.98411699,  0.93277802,  0.96882411,\n",
       "         0.94234083,  0.94379522,  0.970841  ,  0.94759347,  0.99821494],\n",
       "       [ 0.99831205,  0.99363558,  0.99961919,  0.99399185,  0.99060848,\n",
       "         0.9505885 ,  0.99260527,  0.99914325,  0.99323332,  0.97848298],\n",
       "       [ 0.99980987,  0.99393998,  0.99958451,  0.99619836,  0.99436212,\n",
       "         0.96020493,  0.99561622,  0.99769519,  0.99446799,  0.99839842],\n",
       "       [ 0.99586026,  0.99686952,  0.99900718,  0.99215062,  0.99983183,\n",
       "         0.97660755,  0.99880718,  0.99984287,  0.96035566,  1.        ],\n",
       "       [ 0.99317543,  0.98478462,  0.98244929,  0.97780866,  0.99105318,\n",
       "         0.96993462,  0.9904048 ,  0.99628931,  0.97663771,  0.99280778],\n",
       "       [ 0.9987414 ,  0.99683919,  0.99661115,  0.99385992,  0.99542386,\n",
       "         0.93313082,  0.99833579,  0.99977667,  0.99863384,  0.98997338],\n",
       "       [ 0.99728799,  0.99901508,  0.9990166 ,  0.99851133,  0.99489464,\n",
       "         0.98128149,  0.9975588 ,  0.99289233,  0.99555602,  0.98688121],\n",
       "       [ 1.        ,  1.        ,  0.99985856,  0.99517201,  0.9963673 ,\n",
       "         0.98963426,  0.92183143,  0.99733889,  0.99657517,  0.91228114],\n",
       "       [ 0.93890006,  0.98493627,  0.98412966,  0.95917428,  0.99332447,\n",
       "         0.94653139,  0.99139899,  0.94919383,  0.97630875,  0.99384212],\n",
       "       [ 0.99582819,  0.99951476,  0.9969022 ,  0.99941898,  0.99898829,\n",
       "         0.99699175,  0.99620609,  0.99533093,  0.9933724 ,  1.        ]])"
      ]
     },
     "execution_count": 323,
     "metadata": {},
     "output_type": "execute_result"
    }
   ],
   "source": [
    "scipy.spatial.distance.cdist(training_features[0:10, :], grants_features[0:10, :].toarray(), 'cosine')"
   ]
  },
  {
   "cell_type": "code",
   "execution_count": 111,
   "metadata": {},
   "outputs": [],
   "source": [
    "training_features = claims_to_tfidfs(training_app_df[\"claim\"], count_vec, idfvec)"
   ]
  },
  {
   "cell_type": "code",
   "execution_count": 112,
   "metadata": {},
   "outputs": [],
   "source": [
    "grants_features_arr = grants_features.toarray()"
   ]
  },
  {
   "cell_type": "code",
   "execution_count": 113,
   "metadata": {},
   "outputs": [],
   "source": [
    "TFIDF_MODEL_THRESHOLD=0.95\n",
    "# TFIDF_MODEL_THRESHOLD=0.8\n",
    "\n",
    "def predict_tfidf_model(claims):\n",
    "    \"\"\"\n",
    "    return: NxM of boolean. N is len(claims). M is rownum of grants_all_df.\n",
    "            value indicate n claim is cite patent of m row of grants_all_df.\n",
    "    \"\"\"\n",
    "    features = claims_to_tfidfs(claims, count_vec, idfvec)\n",
    "    dists = scipy.spatial.distance.cdist(features, grants_features_arr, 'cosine')\n",
    "    return dists < TFIDF_MODEL_THRESHOLD\n"
   ]
  },
  {
   "cell_type": "code",
   "execution_count": null,
   "metadata": {},
   "outputs": [],
   "source": []
  },
  {
   "cell_type": "code",
   "execution_count": null,
   "metadata": {},
   "outputs": [],
   "source": []
  },
  {
   "cell_type": "markdown",
   "metadata": {},
   "source": [
    "### Calc recall of 100"
   ]
  },
  {
   "cell_type": "code",
   "execution_count": 114,
   "metadata": {},
   "outputs": [],
   "source": [
    "res = predict_tfidf_model(training_app_df[0:100][\"claim\"])"
   ]
  },
  {
   "cell_type": "code",
   "execution_count": 115,
   "metadata": {},
   "outputs": [
    {
     "data": {
      "text/plain": [
       "(100, 5424)"
      ]
     },
     "execution_count": 115,
     "metadata": {},
     "output_type": "execute_result"
    }
   ],
   "source": [
    "res.shape"
   ]
  },
  {
   "cell_type": "code",
   "execution_count": 116,
   "metadata": {},
   "outputs": [],
   "source": [
    "all_pred_of_labeltrue = np.array([], dtype=np.bool)"
   ]
  },
  {
   "cell_type": "code",
   "execution_count": 117,
   "metadata": {},
   "outputs": [],
   "source": [
    "for idx in range(0, 100):\n",
    "    one_appid = training_app_df.iloc[idx].app_id\n",
    "    pred_oneres = res[idx]\n",
    "    label_patids = citations_2012_2017[citations_2012_2017.app_id == one_appid].parsed\n",
    "    label_idxs = grants_all_df.parsed[grants_all_df.parsed.isin(label_patids)].index\n",
    "    pred_of_labeltrue = pred_oneres[label_idxs]\n",
    "    all_pred_of_labeltrue = np.concatenate([all_pred_of_labeltrue, pred_of_labeltrue])"
   ]
  },
  {
   "cell_type": "code",
   "execution_count": 118,
   "metadata": {},
   "outputs": [
    {
     "data": {
      "text/plain": [
       "0.75600000000000001"
      ]
     },
     "execution_count": 118,
     "metadata": {},
     "output_type": "execute_result"
    }
   ],
   "source": [
    "sum(all_pred_of_labeltrue)/len(all_pred_of_labeltrue)"
   ]
  },
  {
   "cell_type": "code",
   "execution_count": null,
   "metadata": {},
   "outputs": [],
   "source": []
  },
  {
   "cell_type": "markdown",
   "metadata": {},
   "source": [
    "### Check result by hand (seems correct)"
   ]
  },
  {
   "cell_type": "code",
   "execution_count": 119,
   "metadata": {},
   "outputs": [
    {
     "data": {
      "text/plain": [
       "app_id                                             14101171\n",
       "xml       <?xml version=\"1.0\" encoding=\"UTF-8\"?>\\n<!DOCT...\n",
       "claim     \\n \\n  1 . A material delivery device, compris...\n",
       "Name: 0, dtype: object"
      ]
     },
     "execution_count": 119,
     "metadata": {},
     "output_type": "execute_result"
    }
   ],
   "source": [
    "training_app_df.iloc[0]"
   ]
  },
  {
   "cell_type": "code",
   "execution_count": 120,
   "metadata": {},
   "outputs": [],
   "source": [
    "pred_oneres = res[0]"
   ]
  },
  {
   "cell_type": "code",
   "execution_count": 121,
   "metadata": {},
   "outputs": [
    {
     "data": {
      "text/plain": [
       "646"
      ]
     },
     "execution_count": 121,
     "metadata": {},
     "output_type": "execute_result"
    }
   ],
   "source": [
    "pred_oneres.sum()"
   ]
  },
  {
   "cell_type": "code",
   "execution_count": 122,
   "metadata": {},
   "outputs": [
    {
     "data": {
      "text/plain": [
       "5510    8172557\n",
       "Name: parsed, dtype: object"
      ]
     },
     "execution_count": 122,
     "metadata": {},
     "output_type": "execute_result"
    }
   ],
   "source": [
    "citations_2012_2017[citations_2012_2017.app_id == 15267723].parsed"
   ]
  },
  {
   "cell_type": "code",
   "execution_count": 123,
   "metadata": {},
   "outputs": [
    {
     "data": {
      "text/plain": [
       "Int64Index([2570], dtype='int64')"
      ]
     },
     "execution_count": 123,
     "metadata": {},
     "output_type": "execute_result"
    }
   ],
   "source": [
    "grants_all_df.parsed[grants_all_df.parsed == 8172557].index"
   ]
  },
  {
   "cell_type": "code",
   "execution_count": 124,
   "metadata": {},
   "outputs": [
    {
     "data": {
      "text/plain": [
       "False"
      ]
     },
     "execution_count": 124,
     "metadata": {},
     "output_type": "execute_result"
    }
   ],
   "source": [
    "pred_oneres[2570]"
   ]
  },
  {
   "cell_type": "markdown",
   "metadata": {},
   "source": [
    "### Why test set recall is so bad?"
   ]
  },
  {
   "cell_type": "code",
   "execution_count": 125,
   "metadata": {},
   "outputs": [],
   "source": [
    "res = predict_tfidf_model(testset_app_df[\"xml\"].map(whole_xml_to_claim))"
   ]
  },
  {
   "cell_type": "code",
   "execution_count": 126,
   "metadata": {},
   "outputs": [
    {
     "data": {
      "text/plain": [
       "(308, 2)"
      ]
     },
     "execution_count": 126,
     "metadata": {},
     "output_type": "execute_result"
    }
   ],
   "source": [
    "testset_app_df.shape"
   ]
  },
  {
   "cell_type": "code",
   "execution_count": 127,
   "metadata": {},
   "outputs": [],
   "source": [
    "all_pred_of_labeltrue = np.array([], dtype=np.bool)"
   ]
  },
  {
   "cell_type": "code",
   "execution_count": 128,
   "metadata": {},
   "outputs": [],
   "source": [
    "for idx in range(0, testset_app_df.shape[0]):\n",
    "    one_appid = testset_app_df.iloc[idx].app_id\n",
    "    pred_oneres = res[idx]\n",
    "    label_patids = citations_2012_2017[citations_2012_2017.app_id == one_appid].parsed\n",
    "    label_idxs = grants_all_df.parsed[grants_all_df.parsed.isin(label_patids)].index\n",
    "    pred_of_labeltrue = pred_oneres[label_idxs]\n",
    "    all_pred_of_labeltrue = np.concatenate([all_pred_of_labeltrue, pred_of_labeltrue])"
   ]
  },
  {
   "cell_type": "code",
   "execution_count": 129,
   "metadata": {},
   "outputs": [
    {
     "data": {
      "text/plain": [
       "0.72636815920398012"
      ]
     },
     "execution_count": 129,
     "metadata": {},
     "output_type": "execute_result"
    }
   ],
   "source": [
    "sum(all_pred_of_labeltrue)/len(all_pred_of_labeltrue)"
   ]
  },
  {
   "cell_type": "raw",
   "metadata": {},
   "source": [
    "Not 0.12! Seems bug for test set evaluation code."
   ]
  },
  {
   "cell_type": "code",
   "execution_count": null,
   "metadata": {},
   "outputs": [],
   "source": []
  },
  {
   "cell_type": "code",
   "execution_count": null,
   "metadata": {},
   "outputs": [],
   "source": []
  },
  {
   "cell_type": "code",
   "execution_count": null,
   "metadata": {},
   "outputs": [],
   "source": []
  },
  {
   "cell_type": "code",
   "execution_count": null,
   "metadata": {},
   "outputs": [],
   "source": []
  },
  {
   "cell_type": "code",
   "execution_count": null,
   "metadata": {},
   "outputs": [],
   "source": []
  },
  {
   "cell_type": "markdown",
   "metadata": {},
   "source": [
    "# Trial-and-Errors"
   ]
  },
  {
   "cell_type": "code",
   "execution_count": 6,
   "metadata": {},
   "outputs": [
    {
     "data": {
      "text/html": [
       "<div>\n",
       "<style scoped>\n",
       "    .dataframe tbody tr th:only-of-type {\n",
       "        vertical-align: middle;\n",
       "    }\n",
       "\n",
       "    .dataframe tbody tr th {\n",
       "        vertical-align: top;\n",
       "    }\n",
       "\n",
       "    .dataframe thead th {\n",
       "        text-align: right;\n",
       "    }\n",
       "</style>\n",
       "<table border=\"1\" class=\"dataframe\">\n",
       "  <thead>\n",
       "    <tr style=\"text-align: right;\">\n",
       "      <th></th>\n",
       "      <th>parsed</th>\n",
       "      <th>xml</th>\n",
       "    </tr>\n",
       "  </thead>\n",
       "  <tbody>\n",
       "    <tr>\n",
       "      <th>0</th>\n",
       "      <td>8245358</td>\n",
       "      <td>&lt;?xml version=\"1.0\" encoding=\"UTF-8\"?&gt;\\n&lt;!DOCT...</td>\n",
       "    </tr>\n",
       "    <tr>\n",
       "      <th>1</th>\n",
       "      <td>8245460</td>\n",
       "      <td>&lt;?xml version=\"1.0\" encoding=\"UTF-8\"?&gt;\\n&lt;!DOCT...</td>\n",
       "    </tr>\n",
       "    <tr>\n",
       "      <th>2</th>\n",
       "      <td>8245733</td>\n",
       "      <td>&lt;?xml version=\"1.0\" encoding=\"UTF-8\"?&gt;\\n&lt;!DOCT...</td>\n",
       "    </tr>\n",
       "    <tr>\n",
       "      <th>3</th>\n",
       "      <td>8245746</td>\n",
       "      <td>&lt;?xml version=\"1.0\" encoding=\"UTF-8\"?&gt;\\n&lt;!DOCT...</td>\n",
       "    </tr>\n",
       "    <tr>\n",
       "      <th>4</th>\n",
       "      <td>8245764</td>\n",
       "      <td>&lt;?xml version=\"1.0\" encoding=\"UTF-8\"?&gt;\\n&lt;!DOCT...</td>\n",
       "    </tr>\n",
       "  </tbody>\n",
       "</table>\n",
       "</div>"
      ],
      "text/plain": [
       "    parsed                                                xml\n",
       "0  8245358  <?xml version=\"1.0\" encoding=\"UTF-8\"?>\\n<!DOCT...\n",
       "1  8245460  <?xml version=\"1.0\" encoding=\"UTF-8\"?>\\n<!DOCT...\n",
       "2  8245733  <?xml version=\"1.0\" encoding=\"UTF-8\"?>\\n<!DOCT...\n",
       "3  8245746  <?xml version=\"1.0\" encoding=\"UTF-8\"?>\\n<!DOCT...\n",
       "4  8245764  <?xml version=\"1.0\" encoding=\"UTF-8\"?>\\n<!DOCT..."
      ]
     },
     "execution_count": 6,
     "metadata": {},
     "output_type": "execute_result"
    }
   ],
   "source": [
    "grants_all_df.head()"
   ]
  },
  {
   "cell_type": "code",
   "execution_count": 8,
   "metadata": {},
   "outputs": [
    {
     "data": {
      "text/plain": [
       "'<?xml version=\"1.0\" encoding=\"UTF-8\"?>\\n<!DOCTYPE us-patent-grant SYSTEM \"us-patent-grant-v42-2006-08-23.dtd\" [ ]>\\n<us-patent-grant lang=\"EN\" dtd-version=\"v4.2 2006-08-23\" file=\"US08245358-20120821.XML\" status=\"PRODUCTION\" id=\"us-patent-grant\" country=\"US\" date-produced=\"20120806\" date-publ=\"20120821\">\\n<us-bibliographic-data-grant>\\n<publication-reference>\\n<document-id>\\n<country>US</country>\\n<doc-number>08245358</doc-number>\\n<kind>B2</kind>\\n<date>20120821</date>\\n</document-id>\\n</publication-reference>\\n<application-reference appl-type=\"utility\">\\n<document-id>\\n<country>US</country>\\n<doc-number>12854801</doc-number>\\n<date>20100811</date>\\n</document-id>\\n</application-reference>\\n<us-application-series-code>12</us-application-series-code>\\n<us-term-of-grant>\\n<us-term-extension>1</us-term-extension>\\n</us-term-of-grant>\\n<classifications-ipcr>\\n<classification-ipcr>\\n<ipc-version-indicator><date>20060101</date></ipc-version-indicator>\\n<classification-level>A</classification-level>\\n<section>A</section>\\n<class>44</class>\\n<subclass>B</subclass>\\n<main-group>6</main-group>\\n<subgroup>00</subgroup>\\n<symbol-position>F</symbol-position>\\n<classification-value>I</classification-value>\\n<action-date><date>20120821</date></action-date>\\n<generating-office><country>US</country></generating-office>\\n<classification-status>B</classification-status>\\n<classification-data-source>H</classification-data-source>\\n</classification-ipcr>\\n</classifications-ipcr>\\n<classification-national>\\n<country>US</country>\\n<main-classification> 24  313</main-classification>\\n<further-classification> 24499</further-classification>\\n<further-classification> 24516</further-classification>\\n<further-classification> 24504</further-classification>\\n<further-classification>606234</further-classification>\\n</classification-national>\\n<invention-title id=\"d2e53\">Pacifier clip</invention-title>\\n<references-cited>\\n<citation>\\n<patcit num=\"00001\">\\n<document-id>\\n<country>US</country>\\n<doc-number>1922594</doc-number>\\n<kind>A</kind>\\n<name>Lippstadt</name>\\n<date>19330800</date>\\n</document-id>\\n</patcit>\\n<category>cited by examiner</category>\\n<classification-national><country>US</country><main-classification> 24  313</main-classification></classification-national>\\n</citation>\\n<citation>\\n<patcit num=\"00002\">\\n<document-id>\\n<country>US</country>\\n<doc-number>5778497</doc-number>\\n<kind>A</kind>\\n<name>Noda</name>\\n<date>19980700</date>\\n</document-id>\\n</patcit>\\n<category>cited by examiner</category>\\n<classification-national><country>US</country><main-classification> 24504</main-classification></classification-national>\\n</citation>\\n<citation>\\n<patcit num=\"00003\">\\n<document-id>\\n<country>US</country>\\n<doc-number>6243921</doc-number>\\n<kind>B1</kind>\\n<name>Chang</name>\\n<date>20010600</date>\\n</document-id>\\n</patcit>\\n<category>cited by examiner</category>\\n<classification-national><country>US</country><main-classification> 24  313</main-classification></classification-national>\\n</citation>\\n<citation>\\n<patcit num=\"00004\">\\n<document-id>\\n<country>US</country>\\n<doc-number>6260244</doc-number>\\n<kind>B1</kind>\\n<name>Noda</name>\\n<date>20010700</date>\\n</document-id>\\n</patcit>\\n<category>cited by examiner</category>\\n<classification-national><country>US</country><main-classification> 24499</main-classification></classification-national>\\n</citation>\\n<citation>\\n<patcit num=\"00005\">\\n<document-id>\\n<country>US</country>\\n<doc-number>6263702</doc-number>\\n<kind>B1</kind>\\n<name>Lo</name>\\n<date>20010700</date>\\n</document-id>\\n</patcit>\\n<category>cited by examiner</category>\\n<classification-national><country>US</country><main-classification> 63  111</main-classification></classification-national>\\n</citation>\\n<citation>\\n<patcit num=\"00006\">\\n<document-id>\\n<country>US</country>\\n<doc-number>6327757</doc-number>\\n<kind>B1</kind>\\n<name>Noda</name>\\n<date>20011200</date>\\n</document-id>\\n</patcit>\\n<category>cited by examiner</category>\\n<classification-national><country>US</country><main-classification> 24504</main-classification></classification-national>\\n</citation>\\n<citation>\\n<patcit num=\"00007\">\\n<document-id>\\n<country>US</country>\\n<doc-number>7979965</doc-number>\\n<kind>B2</kind>\\n<name>Lo</name>\\n<date>20110700</date>\\n</document-id>\\n</patcit>\\n<category>cited by examiner</category>\\n<classification-national><country>US</country><main-classification> 24504</main-classification></classification-national>\\n</citation>\\n</references-cited>\\n<number-of-claims>10</number-of-claims>\\n<us-exemplary-claim>1</us-exemplary-claim>\\n<us-field-of-classification-search>\\n<classification-national>\\n<country>US</country>\\n<main-classification> 24  313</main-classification>\\n</classification-national>\\n<classification-national>\\n<country>US</country>\\n<main-classification> 24504</main-classification>\\n</classification-national>\\n<classification-national>\\n<country>US</country>\\n<main-classification> 24499</main-classification>\\n</classification-national>\\n<classification-national>\\n<country>US</country>\\n<main-classification> 24516</main-classification>\\n</classification-national>\\n<classification-national>\\n<country>US</country>\\n<main-classification>606234</main-classification>\\n</classification-national>\\n<classification-national>\\n<country>US</country>\\n<main-classification>606235</main-classification>\\n</classification-national>\\n<classification-national>\\n<country>US</country>\\n<main-classification>606236</main-classification>\\n</classification-national>\\n</us-field-of-classification-search>\\n<figures>\\n<number-of-drawing-sheets>5</number-of-drawing-sheets>\\n<number-of-figures>7</number-of-figures>\\n</figures>\\n<us-related-documents>\\n<related-publication>\\n<document-id>\\n<country>US</country>\\n<doc-number>20120036682</doc-number>\\n<kind>A1</kind>\\n<date>20120216</date>\\n</document-id>\\n</related-publication>\\n</us-related-documents>\\n<parties>\\n<applicants>\\n<applicant sequence=\"001\" app-type=\"applicant-inventor\" designation=\"us-only\">\\n<addressbook>\\n<last-name>Lo</last-name>\\n<first-name>Chin-Tien</first-name>\\n<address>\\n<city>Taoyuan Hsien</city>\\n<country>TW</country>\\n</address>\\n</addressbook>\\n<nationality>\\n<country>omitted</country>\\n</nationality>\\n<residence>\\n<country>TW</country>\\n</residence>\\n</applicant>\\n</applicants>\\n<agents>\\n<agent sequence=\"01\" rep-type=\"attorney\">\\n<addressbook>\\n<orgname>Guice Patents PLLC</orgname>\\n<address>\\n<country>unknown</country>\\n</address>\\n</addressbook>\\n</agent>\\n</agents>\\n</parties>\\n<assignees>\\n<assignee>\\n<addressbook>\\n<orgname>Tien Chung Ent. Co., Ltd.</orgname>\\n<role>03</role>\\n<address>\\n<city>Taoyuan Hsien</city>\\n<country>TW</country>\\n</address>\\n</addressbook>\\n</assignee>\\n</assignees>\\n<examiners>\\n<primary-examiner>\\n<last-name>Sandy</last-name>\\n<first-name>Robert J</first-name>\\n<department>3677</department>\\n</primary-examiner>\\n<assistant-examiner>\\n<last-name>Lee</last-name>\\n<first-name>Michael</first-name>\\n</assistant-examiner>\\n</examiners>\\n</us-bibliographic-data-grant>\\n<abstract id=\"abstract\">\\n<p id=\"p-0001\" num=\"0000\">The present invention relates to a pacifier clip, consists of a base board, a pulling sheet, a mobile clipping sheet and a connection tool. When the pulling sheet is pulled, through the leverage effect the swivel rod optionally abuts against the bottoms of the support arms or swivels the passive sheet while the swivel rod is rotated, so the mobile end of the mobile clipping sheet generates an upward or downward movement, and the teeth lines of the mobile end and the teeth rows of the base board are engaged or forms a slit. When the mobile clipping sheet of the pacifier clip is clipped on a thicker object, through the leverage effect, the pair of support arms of the mobile clipping sheet applies a clockwise force to the swivel rod disposed below the support arms, so the abutting force between the two components is enhanced and the clipping effect is also increased.</p>\\n</abstract>\\n<drawings id=\"DRAWINGS\">\\n<figure id=\"Fig-EMI-D00000\" num=\"00000\">\\n<img id=\"EMI-D00000\" he=\"177.72mm\" wi=\"211.58mm\" file=\"US08245358-20120821-D00000.TIF\" alt=\"embedded image\" img-content=\"drawing\" img-format=\"tif\"/>\\n</figure>\\n<figure id=\"Fig-EMI-D00001\" num=\"00001\">\\n<img id=\"EMI-D00001\" he=\"225.13mm\" wi=\"190.16mm\" orientation=\"landscape\" file=\"US08245358-20120821-D00001.TIF\" alt=\"embedded image\" img-content=\"drawing\" img-format=\"tif\"/>\\n</figure>\\n<figure id=\"Fig-EMI-D00002\" num=\"00002\">\\n<img id=\"EMI-D00002\" he=\"281.26mm\" wi=\"176.11mm\" file=\"US08245358-20120821-D00002.TIF\" alt=\"embedded image\" img-content=\"drawing\" img-format=\"tif\"/>\\n</figure>\\n<figure id=\"Fig-EMI-D00003\" num=\"00003\">\\n<img id=\"EMI-D00003\" he=\"258.49mm\" wi=\"157.73mm\" orientation=\"landscape\" file=\"US08245358-20120821-D00003.TIF\" alt=\"embedded image\" img-content=\"drawing\" img-format=\"tif\"/>\\n</figure>\\n<figure id=\"Fig-EMI-D00004\" num=\"00004\">\\n<img id=\"EMI-D00004\" he=\"243.76mm\" wi=\"159.26mm\" orientation=\"landscape\" file=\"US08245358-20120821-D00004.TIF\" alt=\"embedded image\" img-content=\"drawing\" img-format=\"tif\"/>\\n</figure>\\n<figure id=\"Fig-EMI-D00005\" num=\"00005\">\\n<img id=\"EMI-D00005\" he=\"198.63mm\" wi=\"130.47mm\" orientation=\"landscape\" file=\"US08245358-20120821-D00005.TIF\" alt=\"embedded image\" img-content=\"drawing\" img-format=\"tif\"/>\\n</figure>\\n</drawings>\\n<description id=\"description\">\\n<?BRFSUM description=\"Brief Summary\" end=\"lead\"?>\\n<heading id=\"h-0001\" level=\"1\">BACKGROUND OF THE INVENTION</heading>\\n<p id=\"p-0002\" num=\"0001\">1. Field of the Invention</p>\\n<p id=\"p-0003\" num=\"0002\">The present invention relates to a pacifier clip, especially to a safe pacifier clip capable of firmly clipping and easy to operate and complying with safety regulations issued by various countries.</p>\\n<p id=\"p-0004\" num=\"0003\">2. Description of Related Art</p>\\n<p id=\"p-0005\" num=\"0004\">When an infant sucks a pacifier, a comforting feeling is provided to him/her. Especially before an infant fall asleep, he/she may cry or even grumpy, he/she often needs a pacifier for a good night sleep. However, the pacifier is often lost while the infant is playing games or doing other things, so when he/she wants to have the pacifier to suck but the pacifier is nowhere to be found, he/she may cry and angry, and the adults who take care of the infant may have some problems or troubles for comforting the infant. So people skilled in the arts have developed many pacifier clips having different shapes and styles, for clipping a pacifier on an infant\\'s clothes, so the lost of pacifier is avoided.</p>\\n<p id=\"p-0006\" num=\"0005\">The Taiwan Utility Model Publication No. 385641, titled &#x201c;Improved structure of ornament&#x201d; (corresponding to the China Utility Model Patent No. 99208854.2), issued to the applicant of this invention has disclosed an ornament having a clipping function and suitable to be used as a pacifier clip; said ornament consists of a board, a pulling sheet and a mobile clipping sheet. The back of the board is protrudingly installed with a pair of board wings, and pivot ends of the pulling sheet and the mobile clipping sheet, which are in a staggering status, are pivoted to the pair of board wings; such that a pair of tenon rods radialy and protrudingly installed at the pivot end of the pulling sheet is adjacent to an inner wall of an L-shaped sheet hook of the mobile clipping sheet. When the pulling sheet is counterclockwise and upwardly pulled, the tenon rods synchronously rotate along the inner wall of the L-shaped sheet hook so as to be received in a rod cavity, which is in a concave status, disposed at the inner bottom wall of the sheet hook, and a mobile end of the mobile clipping sheet is clockwise and upwardly raised, so a slit is formed between teeth lines protrudingly installed at the inner wall of the mobile end and teeth rows preset on the back of the board, thus the ornament is able to be separated from clothes.</p>\\n<p id=\"p-0007\" num=\"0006\">When the ornament is desired to be clipped on a clothes, the slit defined between the mobile clipping sheet and the board is sleeved in the edge of the clothes, then the pulling sheet is clockwise and downwardly pressed, such that the tenon rods are synchronously rotated and released from the rod cavity till being abutted against the lateral wall of the sheet hook, at this moment the sheet hook is no longer supported by the tenon rods, and the mobile end of the mobile clipping sheet is counterclockwise and downwardly moved, the teeth lines and the teeth rows are engaged with each other, thus the ornament is able to be clipped on the clothes.</p>\\n<p id=\"p-0008\" num=\"0007\">The disclosed patent can overcome many disadvantages of conventional pacifier clips, but one obvious disadvantage thereof is that when the ornament is in a clipped status, the tenon rods of the pulling sheet are directly abutted against the lateral wall of the sheet hook and there is no positioning structure between the mentioned two components, so when the mobile end of the mobile clipping sheet is clipped on a thicker clothes, the lateral wall of the sheet hook would slightly and clockwise rotate and may further cause the tenon rods to loosen.</p>\\n<heading id=\"h-0002\" level=\"1\">SUMMARY OF THE INVENTION</heading>\\n<p id=\"p-0009\" num=\"0008\">One primary object of the present invention is to provide a pacifier clip capable of firmly clipping and easily releasing; when a mobile clipping sheet of said pacifier clip is clipped on a thicker object, e.g. clothes, through the leverage effect of a pair of support arms of the mobile clipping sheet, the pair of support arms applies a clockwise force to a swivel rod disposed below the support arms, so the abutting force between the two components is enhanced and the clipping effect is also increased</p>\\n<p id=\"p-0010\" num=\"0009\">For achieving the mentioned object, one solution provided by the present invention is to provide a pacifier clip, comprises:</p>\\n<p id=\"p-0011\" num=\"0010\">a base board, the back thereof is protrudingly installed with a pair of board walls, the fronts of the two board walls are respectively installed with a pivot part, the rears thereof are protrudingly provided with one or more teeth rows;</p>\\n<p id=\"p-0012\" num=\"0011\">a pulling sheet, shaft connecting parts installed at the rear are pivoted to the pivot parts, the shaft connecting parts are radialy extended with a swivel rod, the center of the swivel rod is frontally extended with a neck part, the neck part is connected to the bottom of the pulling sheet;</p>\\n<p id=\"p-0013\" num=\"0012\">a mobile clipping sheet, shaft connecting parts installed at the front are pivoted to the pivot parts, the shaft connecting parts are frontally extended with a pair of support arms, bottoms of the two support arms are disposed adjacent to the swivel rod, and the rears of the bottoms are longitudinally extended with a passive sheet, a neck slot is formed between the two support arms for receiving the neck part, a mobile end at the rear of the mobile clipping sheet is provided with one or more teeth lines corresponding to the locations where the teeth rows are installed; and</p>\\n<p id=\"p-0014\" num=\"0013\">an elongated connection tool, one end thereof is fastened on the base board, the other end thereof is connected with a connecting part;</p>\\n<p id=\"p-0015\" num=\"0014\">when the pulling sheet is pulled, through the leverage effect the swivel rod optionally abuts against the bottoms of the support arms or swivels the passive sheet while the swivel rod is rotated, so the mobile end of the mobile clipping sheet generates an upward or downward motion, such that the teeth lines of the mobile end and the teeth rows of the base board are engaged or forms a slit.</p>\\n<?BRFSUM description=\"Brief Summary\" end=\"tail\"?>\\n<?brief-description-of-drawings description=\"Brief Description of Drawings\" end=\"lead\"?>\\n<description-of-drawings>\\n<heading id=\"h-0003\" level=\"1\">BRIEF DESCRIPTION OF THE DRAWINGS</heading>\\n<p id=\"p-0016\" num=\"0015\"><figref idref=\"DRAWINGS\">FIG. 1</figref> is a perspective exploded view of the pacifier clip of the present invention;</p>\\n<p id=\"p-0017\" num=\"0016\"><figref idref=\"DRAWINGS\">FIG. 2</figref> to <figref idref=\"DRAWINGS\">FIG. 4</figref> are cross sectional views illustrating the assembled pacifier clip of the present invention being in a clipped status then adjusted to a released status;</p>\\n<p id=\"p-0018\" num=\"0017\"><figref idref=\"DRAWINGS\">FIG. 5</figref> is a perspective view of the pacifier clip of the present invention being in a clipped status;</p>\\n<p id=\"p-0019\" num=\"0018\"><figref idref=\"DRAWINGS\">FIG. 6</figref> is a perspective view of the pacifier clip of the present invention being in a released status;</p>\\n<p id=\"p-0020\" num=\"0019\"><figref idref=\"DRAWINGS\">FIG. 7</figref> is a cross sectional view illustrating the pacifier clip of the present invention being clipped on a thicker object.</p>\\n</description-of-drawings>\\n<?brief-description-of-drawings description=\"Brief Description of Drawings\" end=\"tail\"?>\\n<?DETDESC description=\"Detailed Description\" end=\"lead\"?>\\n<heading id=\"h-0004\" level=\"1\">DETAILED DESCRIPTION OF THE PREFERRED EMBODIMENT</heading>\\n<p id=\"p-0021\" num=\"0020\">For further disclose the present invention, figures assisting the disclosure of this invention are provided, in which <figref idref=\"DRAWINGS\">FIG. 1</figref> is a perspective exploded view of the pacifier clip of the present invention; <figref idref=\"DRAWINGS\">FIG. 2</figref> to <figref idref=\"DRAWINGS\">FIG. 4</figref> are cross sectional views illustrating the assembled pacifier clip of the present invention being in a clipped status then adjusted to a released status; <figref idref=\"DRAWINGS\">FIG. 5</figref> is a perspective view of the pacifier clip of the present invention being in a clipped status; <figref idref=\"DRAWINGS\">FIG. 6</figref> is a perspective view of the pacifier clip of the present invention being in a released status; <figref idref=\"DRAWINGS\">FIG. 7</figref> is a cross sectional view illustrating the pacifier clip of the present invention being clipped on a thicker object.</p>\\n<p id=\"p-0022\" num=\"0021\">Referring from <figref idref=\"DRAWINGS\">FIG. 1</figref> to <figref idref=\"DRAWINGS\">FIG. 6</figref>, the pacifier clip provided by the present invention mainly consists of a base board <b>1</b>, a pulling sheet <b>2</b>, a mobile clipping sheet <b>3</b>, and a connection tool <b>4</b>.</p>\\n<p id=\"p-0023\" num=\"0022\">The base board <b>1</b> is an integrally-formed sheet-shaped member having various shapes, e.g. basic geometrical shapes or doll-like shapes, for a purpose of enhancing the viewing sensation. As shown in <figref idref=\"DRAWINGS\">FIG. 1</figref>, the base board <b>1</b> is in a rectangular shape and able to be provided with two-dimensional patterns through printing or laminating or provided with three-dimensional ornaments through adhering; or a decorative sheet is connected to the front of the base board <b>1</b>, wherein the decorative sheet has the same size and shape as the base board <b>1</b>, and the surface of the decorative sheet is able to be provided with two-dimensional patterns through printing or laminating or provided with three-dimensional ornaments through adhering for enhancing the outlook and increasing the purchase willingness of consumers.</p>\\n<p id=\"p-0024\" num=\"0023\">The back of the base board <b>1</b> is protrudingly installed with a pair of board walls <b>11</b>, the fronts of the two board walls <b>11</b> are respectively connected with a pivot part <b>12</b>, a pair of contact slots <b>121</b> is provided to the pivot parts <b>12</b> on opposite inner walls of the two board walls <b>11</b>. The concave slots <b>121</b> are symmetrically installed with a pair of first shaft holes <b>122</b> and a pair of second shaft holes <b>123</b> having different height with respect to the pair of first shaft holes <b>122</b>, such that pivot ends of the pulling sheet <b>2</b> and the mobile clipping sheet <b>3</b> can be pivoted. The outer ends of the pivot parts <b>12</b> of the two board walls <b>11</b> are respectively formed with a fastening wall <b>13</b>, wherein the center defined by the two fastening walls <b>13</b> is formed with a notch <b>131</b> that allows a neck part <b>221</b> of the pulling sheet <b>2</b> to pass through. Moreover, the rears of the two board walls <b>11</b> are installed with one or more teeth rows <b>14</b>.</p>\\n<p id=\"p-0025\" num=\"0024\">A proper position of the base board <b>1</b>, e.g. a distal edge close to the pivot parts <b>12</b>, is installed with a connecting part <b>15</b> for being connected with the connection tool <b>4</b>. As shown in <figref idref=\"DRAWINGS\">FIG. 1</figref>, an accommodating slot <b>151</b> is transversally installed in the connecting part <b>15</b> for accommodating a ring <b>42</b> arrange at the tail end of the connection tool <b>4</b>; the top and bottom of the accommodating slot <b>151</b> are longitudinally installed with an insertion hole <b>152</b> having a non-circular cross section, such that when an insertion pin <b>153</b> is inserted in the insertion holes <b>152</b> for a purpose of fastening, the insertion pin <b>153</b> also passes through the ring <b>42</b> of the connection tool <b>4</b>, thus a connection is formed between the base board <b>1</b> and the connection tool <b>4</b>. The front and rear of the insertion pin <b>153</b> are protrudingly installed with a pair of wedge-shaped stop <b>153</b><i>a</i>, and longitudinally installed with at least one resilient slot <b>153</b><i>b</i>, so two lateral sides of the insertion pin <b>153</b> are provide with elasticity, so when being inserted in the insertion holes <b>152</b>, the pair of stops <b>153</b><i>a </i>are expanded and abutted against the inner walls of the insertion holes <b>152</b>, so the insertion pin <b>153</b> is preventing from separating from the connecting part <b>15</b>.</p>\\n<p id=\"p-0026\" num=\"0025\">Further more, a proper position of the base board <b>1</b>, e.g. the periphery of the board walls <b>11</b>, is formed with at lease one air permeable hole <b>16</b>, so when an infant accidentally swallows the pacifier clip, the suffocation can be avoided and the rescue time is prolonged.</p>\\n<p id=\"p-0027\" num=\"0026\">The pulling sheet <b>2</b> is a multi-bending shaped sheet member; the rear thereof is installed with shaft connecting parts <b>21</b>, e.g. guiding oblique surfaces <b>211</b> at two lateral sides of a shaft rod, can slide into the first shaft holes <b>122</b> along the concave slots <b>121</b> so as to form a swing motion. The shaft connecting parts <b>21</b> are radially extended with a swivel rod <b>22</b>, the center of the swivel rod <b>22</b> is frontally extended with a neck part <b>221</b>, the neck part <b>221</b> is accommodated in the mentioned notch <b>131</b>, and the neck part <b>221</b> is connected to one end of the bottom of the pulling sheet <b>2</b>, so as to be processed with downward pressing or upward pulling operations.</p>\\n<p id=\"p-0028\" num=\"0027\">The mobile clipping sheet <b>3</b> is a sheet member, two front lateral walls are installed with shaft connecting parts <b>31</b>, e.g. guiding oblique surfaces <b>311</b> of the shaft rod, sliding into the second shaft holes <b>123</b> along the concave slots <b>121</b> so as to form a swing motion. The shaft connecting parts <b>31</b> are frontally extended with a pair of support arms <b>32</b>, bottoms of the two support arms <b>32</b> are respectively formed with an arm slot <b>321</b> which allows the swivel rod <b>22</b> to be received therein, and the swivel rod <b>22</b> is able to rotate along the arm slots <b>321</b>. A neck slot <b>322</b> is installed between the two support arms <b>32</b> for accommodating the neck part <b>221</b>, the neck slot <b>322</b> is served to allow the neck part <b>221</b> of the pulling sheet <b>2</b> to be accommodated and rotate. The rear bottoms of the two support arms <b>32</b> are longitudinally extended with a passive sheet <b>323</b> forming an interaction relation with the swivel rod <b>22</b>.</p>\\n<p id=\"p-0029\" num=\"0028\">Moreover, the mobile clipping sheet <b>3</b> is installed with one or more teeth lines <b>33</b> corresponding to the locations where the teeth rows <b>14</b> are installed, so as to be engaged with the teeth rows <b>14</b>, or be engaged with a staggering engaging means as shown in figures of the present invention.</p>\\n<p id=\"p-0030\" num=\"0029\">The connection tool <b>4</b> is an elongated member, one end thereof is fastened at the connecting part <b>15</b> preset at the periphery of the base board <b>1</b>, the other end thereof can be connected to a connecting member <b>43</b>, e.g. rings connected with each other and connected to a pacifier. In this embodiment of the present invention, the connection tool <b>4</b> is a chain <b>41</b>, the ring <b>42</b> at the distal end thereof is connected to the connecting part <b>15</b> preset at the periphery of the base board <b>1</b>, so the chain <b>41</b> is connected with the base board <b>1</b>.</p>\\n<p id=\"p-0031\" num=\"0030\">Referring from <figref idref=\"DRAWINGS\">FIG. 2</figref> to <figref idref=\"DRAWINGS\">FIG. 5</figref>, when being assembled, the shaft connecting parts <b>21</b> of the pulling sheet <b>2</b> are pivoted in the pivot parts <b>12</b> of the pair of board walls <b>11</b> installed at the back of the base board <b>1</b>, then the shaft connecting parts <b>31</b> of the mobile clipping sheet <b>3</b> are also pivoted in the pivot parts <b>12</b> of the pair of board walls <b>11</b> installed at the back of the base board <b>1</b>, so the swivel rod <b>22</b> is accommodated in and abutted against the arm slots <b>321</b> of the support arms <b>32</b>, and the pulling sheet <b>2</b> and the mobile clipping sheet <b>3</b> are together pivoted at the pair of board walls <b>11</b> installed at the back of the base board <b>1</b>, and the teeth lines <b>33</b> installed in the inner wall of a mobile end of the mobile clipping sheet <b>3</b> are engaged with the teeth rows <b>14</b> installed at the back of the base board <b>1</b> with a staggering engaging means.</p>\\n<p id=\"p-0032\" num=\"0031\">If the pacifier is desired to be released, as shown in <figref idref=\"DRAWINGS\">FIG. 3</figref>, the pulling sheet <b>2</b> is counterclockwise and upwardly pulled, and the swivel rod <b>22</b> is synchronously rotated while the shaft connecting parts <b>21</b> define the first shaft holes <b>122</b> as the shaft core, so the swivel rod <b>22</b> is backwardly moved along the arm slots <b>321</b> of the support arms <b>32</b>, and the latching effect is released, thus the mobile clipping sheet <b>3</b> recovers to the rotary status; when the swivel rod <b>22</b> is in contact with the passive sheet <b>323</b> disposed at the rear of the support arms <b>32</b>, through the leverage effect and the shaft connecting parts <b>31</b> of the mobile clipping sheet <b>3</b> define the second shaft holes <b>123</b> as the shaft core, the mobile end of the mobile clipping sheet <b>3</b> is clockwise and upwardly rotated and raised, a larger slit is therefore formed between the teeth lines <b>33</b> and the teeth rows <b>14</b> as shown in <figref idref=\"DRAWINGS\">FIG. 4</figref> and <figref idref=\"DRAWINGS\">FIG. 6</figref>. At this moment, the slit is able to be sleeved into an objected to be clipped, such as clothes.</p>\\n<p id=\"p-0033\" num=\"0032\">When a clipping operation is desired to be proceeded, the slit defined between the mobile clipping sheet <b>3</b> and the base board <b>1</b> is sleeved into the object to be clipped, e.g. the edges of clothes, then the pulling sheet <b>2</b> is clockwise and downwardly pressed, so the swivel rod <b>22</b> is synchronously rotated and released from the passive sheet <b>323</b>, the passive sheet <b>323</b> is no longer supported by the swivel rod <b>22</b>, the mobile end at the rear is counterclockwise and downwardly moved, such that the teeth lines <b>33</b> and the teeth rows <b>14</b> are engaged and clipped on a thicker clothes, as shown in <figref idref=\"DRAWINGS\">FIG. 7</figref>. Referring to <figref idref=\"DRAWINGS\">FIG. 7</figref>, when the mobile clipping sheet <b>3</b> is clipped on a thicker clothes, through the leverage effect, the bottom of the pair of support arms <b>32</b> applies a clockwise force to the swivel rod <b>22</b> disposed below the support arms <b>32</b>, so the abutting force between the two components are enhanced and the clipping effect is also increased, so the support arms <b>32</b> and the swivel rod <b>22</b> are preventing from loosening.</p>\\n<p id=\"p-0034\" num=\"0033\">The advantages provided by the present invention are: when the pacifier clip is clipped on an object, e.g. clothes, through the leverage effect, the pair of support arms of the mobile clipping sheet applies a clockwise force to the swivel rod disposed below the support arms, so the abutting force between the two components is enhanced and the clipping effect is also increased; when the pacifier clip is in a released status, through the leverage effect, the swivel rod of the pulling sheet pulls the passive sheet of the mobile clipping sheet, so the mobile end of the mobile clipping sheet is raised, and operations of firm clipping and releasing are obtained. Moreover, the present invention does not adopt small components and does not require complicated assembly procedures, therefore assembly time and labor are saved. The present invention does not adopt any metal component and the structure thereof is firm, so the adopted components are not easy to be broken, the safety regulations issued by various country, especially the European Union are complied; and the present invention is novel compared to other products in the similar fields.</p>\\n<p id=\"p-0035\" num=\"0034\">It is to be understood, however, that even though numerous characteristics and advantages of the present embodiments have been set forth in the foregoing description, together with details of the structures and functions of the embodiments, the disclosure is illustrative only, and changes may be made in detail, especially in matters of shape, size, and arrangement of parts within the principles of the invention to the full extent indicated by the broad general meaning of the terms in which the appended claims are expressed.</p>\\n<?DETDESC description=\"Detailed Description\" end=\"tail\"?>\\n</description>\\n<us-claim-statement>What is claimed is:</us-claim-statement>\\n<claims id=\"claims\">\\n<claim id=\"CLM-00001\" num=\"00001\">\\n<claim-text>1. A pacifier clip, comprising:\\n<claim-text>a base board having a pair of board walls protruding from a back surface thereof, fronts of two of said board walls being respectively installed with a pivot part, rears of said two board walls being protrudingly provided with at least one teeth row there between;</claim-text>\\n<claim-text>a pulling sheet, shaft connecting parts installed at a rear of said pulling sheet and being pivoted to said pivot parts, said shaft connecting parts being radially extended with a swivel rod, a center of said swivel rod being frontally extended with a neck part, said neck part being connected to a bottom of said pulling sheet, said swivel rod protruding upwardly above said shaft connecting parts of said pulling sheet, said swivel rod being located at a height above a top of said neck part and said shaft connecting parts of said pulling sheet being located at a height below a bottom of said neck part;</claim-text>\\n<claim-text>a mobile clipping sheet, shaft connecting parts installed at a front of said mobile clipping sheet and being pivoted to said pivot parts, said shaft connecting parts being frontally extended with a pair of support arms, bottoms of said two support arms being disposed adjacent to said swivel rod, and the rears of the bottoms of said two support arms being longitudinally extended with a passive sheet, a neck slot being formed between said two support arms for receiving said neck part, a mobile end at a rear of said mobile clipping sheet being provided at least one teeth line corresponding to the locations where said at least one teeth row is installed; and</claim-text>\\n<claim-text>an elongated connection tool, one end thereof fastened on said base board, the other end thereof connected with a connecting part;</claim-text>\\n<claim-text>when said pulling sheet being pulled, through the leverage effect said swivel rod optionally abutting against the bottoms of said support arms or swiveling said passive sheet while said swivel rod being rotated, so the mobile end of said mobile clipping sheet generating an upward or downward motion, such that said teeth lines of the mobile end and said teeth rows of said base board being engaged or forming a slit;</claim-text>\\n<claim-text>wherein, when the pulling sheet is located in a closed position, the swivel rod is located between the bottoms of the two support arms and the back of the base board and the swivel rod engaging the bottoms of the two support arms.</claim-text>\\n</claim-text>\\n</claim>\\n<claim id=\"CLM-00002\" num=\"00002\">\\n<claim-text>2. The pacifier clip as claimed in <claim-ref idref=\"CLM-00001\">claim 1</claim-ref>, wherein said pivot parts are installed with a pair of concave slots on opposite inner walls of two of said board walls, said concave slots are symmetrically installed with a pair of first shaft holes having a height measured from said back surface and a pair of second shaft holes having a different height with respect to said height of said pair of first shaft holes; said shaft connecting parts of said pulling sheet and said mobile clipping sheet are shaft rods, guiding oblique surfaces at two lateral sides thereof respectively slide into said first shaft holes and said second shaft holes along said concave slots to form a swing motion.</claim-text>\\n</claim>\\n<claim id=\"CLM-00003\" num=\"00003\">\\n<claim-text>3. The pacifier clip as claimed in <claim-ref idref=\"CLM-00001\">claim 1</claim-ref>, wherein the bottoms of said two support arms respectively has an arm slot that allows said swivel rod to accommodate therein, so said swivel rod is able to rotate along said arm slots.</claim-text>\\n</claim>\\n<claim id=\"CLM-00004\" num=\"00004\">\\n<claim-text>4. The pacifier clip as claimed in <claim-ref idref=\"CLM-00001\">claim 1</claim-ref>, wherein outer ends of said pivot parts of said two board walls are respectively provided with a fastening wall, the center defined by said two fastening walls is formed with a notch that allows said neck part of said pulling sheet to pass through.</claim-text>\\n</claim>\\n<claim id=\"CLM-00005\" num=\"00005\">\\n<claim-text>5. The pacifier clip as claimed in <claim-ref idref=\"CLM-00001\">claim 1</claim-ref>, wherein when said one or more teeth rows and teeth lines are engaged, the engagement is in a staggering engaging status.</claim-text>\\n</claim>\\n<claim id=\"CLM-00006\" num=\"00006\">\\n<claim-text>6. The pacifier clip as claimed in <claim-ref idref=\"CLM-00001\">claim 1</claim-ref>, wherein a proper position of said base board is further provided with a connecting part, an accommodating slot is transversally installed in said connecting part for accommodating a tail end of said connection tool, the top and bottom of said accommodating slot are longitudinally installed with an insertion hole that allows an insertion pin to be inserted for fastening said connection tool.</claim-text>\\n</claim>\\n<claim id=\"CLM-00007\" num=\"00007\">\\n<claim-text>7. The pacifier clip as claimed in <claim-ref idref=\"CLM-00006\">claim 6</claim-ref>, wherein the front and rear of said insertion pin are protrudingly installed with a pair of wedge-shaped stops, and longitudinally installed with at least one resilient slot, when said insertion pin is inserted in said insertion holes, said pair of stops are abutted against the inner walls of said insertion holes.</claim-text>\\n</claim>\\n<claim id=\"CLM-00008\" num=\"00008\">\\n<claim-text>8. The pacifier clip as claimed in <claim-ref idref=\"CLM-00001\">claim 1</claim-ref>, further comprising a decorative sheet having the same size and shape as said base board, said decorative sheet is installed at a front of said base board; wherein a front of said decorative sheet is provided with a decoration selected from a group consisting of two-dimensional printed patterns, laminated patterns, three-dimensional ornaments, and a combination thereof.</claim-text>\\n</claim>\\n<claim id=\"CLM-00009\" num=\"00009\">\\n<claim-text>9. The pacifier clip as claimed in <claim-ref idref=\"CLM-00001\">claim 1</claim-ref>, wherein a front of said base board is provided with a decoration selected from a group consisting of two-dimensional printed patterns, laminated patterns, three-dimensional ornaments, and a combination thereof.</claim-text>\\n</claim>\\n<claim id=\"CLM-00010\" num=\"00010\">\\n<claim-text>10. The pacifier clip as claimed in <claim-ref idref=\"CLM-00001\">claim 1</claim-ref>, wherein a proper position of said base board is installed with at least one air permeable hole. </claim-text>\\n</claim>\\n</claims>\\n</us-patent-grant>'"
      ]
     },
     "execution_count": 8,
     "metadata": {},
     "output_type": "execute_result"
    }
   ],
   "source": [
    "grants_all_df['xml'][0]"
   ]
  },
  {
   "cell_type": "code",
   "execution_count": 7,
   "metadata": {},
   "outputs": [
    {
     "data": {
      "text/html": [
       "<div>\n",
       "<style scoped>\n",
       "    .dataframe tbody tr th:only-of-type {\n",
       "        vertical-align: middle;\n",
       "    }\n",
       "\n",
       "    .dataframe tbody tr th {\n",
       "        vertical-align: top;\n",
       "    }\n",
       "\n",
       "    .dataframe thead th {\n",
       "        text-align: right;\n",
       "    }\n",
       "</style>\n",
       "<table border=\"1\" class=\"dataframe\">\n",
       "  <thead>\n",
       "    <tr style=\"text-align: right;\">\n",
       "      <th></th>\n",
       "      <th>app_id</th>\n",
       "      <th>xml</th>\n",
       "    </tr>\n",
       "  </thead>\n",
       "  <tbody>\n",
       "    <tr>\n",
       "      <th>0</th>\n",
       "      <td>14742496</td>\n",
       "      <td>&lt;?xml version=\"1.0\" encoding=\"UTF-8\"?&gt;\\n&lt;!DOCT...</td>\n",
       "    </tr>\n",
       "    <tr>\n",
       "      <th>1</th>\n",
       "      <td>14348426</td>\n",
       "      <td>&lt;?xml version=\"1.0\" encoding=\"UTF-8\"?&gt;\\n&lt;!DOCT...</td>\n",
       "    </tr>\n",
       "    <tr>\n",
       "      <th>2</th>\n",
       "      <td>14613336</td>\n",
       "      <td>&lt;?xml version=\"1.0\" encoding=\"UTF-8\"?&gt;\\n&lt;!DOCT...</td>\n",
       "    </tr>\n",
       "    <tr>\n",
       "      <th>3</th>\n",
       "      <td>14053984</td>\n",
       "      <td>&lt;?xml version=\"1.0\" encoding=\"UTF-8\"?&gt;\\n&lt;!DOCT...</td>\n",
       "    </tr>\n",
       "    <tr>\n",
       "      <th>4</th>\n",
       "      <td>14590141</td>\n",
       "      <td>&lt;?xml version=\"1.0\" encoding=\"UTF-8\"?&gt;\\n&lt;!DOCT...</td>\n",
       "    </tr>\n",
       "  </tbody>\n",
       "</table>\n",
       "</div>"
      ],
      "text/plain": [
       "     app_id                                                xml\n",
       "0  14742496  <?xml version=\"1.0\" encoding=\"UTF-8\"?>\\n<!DOCT...\n",
       "1  14348426  <?xml version=\"1.0\" encoding=\"UTF-8\"?>\\n<!DOCT...\n",
       "2  14613336  <?xml version=\"1.0\" encoding=\"UTF-8\"?>\\n<!DOCT...\n",
       "3  14053984  <?xml version=\"1.0\" encoding=\"UTF-8\"?>\\n<!DOCT...\n",
       "4  14590141  <?xml version=\"1.0\" encoding=\"UTF-8\"?>\\n<!DOCT..."
      ]
     },
     "execution_count": 7,
     "metadata": {},
     "output_type": "execute_result"
    }
   ],
   "source": [
    "app_all_df.head()"
   ]
  },
  {
   "cell_type": "code",
   "execution_count": 15,
   "metadata": {},
   "outputs": [
    {
     "data": {
      "text/plain": [
       "{14794752,\n",
       " 15360001,\n",
       " 14188550,\n",
       " 15278087,\n",
       " 15278093,\n",
       " 14802959,\n",
       " 14876688,\n",
       " 15196179,\n",
       " 15155223,\n",
       " 15155226,\n",
       " 14999579,\n",
       " 15089692,\n",
       " 15147039,\n",
       " 14934049,\n",
       " 15220772,\n",
       " 15155236,\n",
       " 15228967,\n",
       " 15155246,\n",
       " 14811183,\n",
       " 14884916,\n",
       " 15360053,\n",
       " 15228983,\n",
       " 15335482,\n",
       " 14794819,\n",
       " 15097926,\n",
       " 15204427,\n",
       " 14794828,\n",
       " 14819405,\n",
       " 15278171,\n",
       " 15360092,\n",
       " 15056989,\n",
       " 14803038,\n",
       " 15245414,\n",
       " 15204455,\n",
       " 14860393,\n",
       " 14844009,\n",
       " 15278188,\n",
       " 14794862,\n",
       " 15278195,\n",
       " 14794871,\n",
       " 14794875,\n",
       " 15065211,\n",
       " 15245438,\n",
       " 14803071,\n",
       " 14803075,\n",
       " 14811269,\n",
       " 15278213,\n",
       " 14262407,\n",
       " 15122569,\n",
       " 14213259,\n",
       " 15130764,\n",
       " 14803084,\n",
       " 15114383,\n",
       " 14794901,\n",
       " 14205081,\n",
       " 15253660,\n",
       " 15270045,\n",
       " 15122589,\n",
       " 14811296,\n",
       " 14811297,\n",
       " 14205097,\n",
       " 15335593,\n",
       " 15114412,\n",
       " 15114417,\n",
       " 14811314,\n",
       " 15073459,\n",
       " 14926006,\n",
       " 14852284,\n",
       " 14590141,\n",
       " 14016704,\n",
       " 15278272,\n",
       " 14860483,\n",
       " 15302857,\n",
       " 14885065,\n",
       " 14803152,\n",
       " 15286487,\n",
       " 15294683,\n",
       " 14778588,\n",
       " 14811362,\n",
       " 15261926,\n",
       " 14819559,\n",
       " 14803181,\n",
       " 14811374,\n",
       " 15335661,\n",
       " 14803184,\n",
       " 14794996,\n",
       " 14794997,\n",
       " 15073525,\n",
       " 14983412,\n",
       " 15270145,\n",
       " 15278339,\n",
       " 14868740,\n",
       " 14958856,\n",
       " 15057161,\n",
       " 15335688,\n",
       " 14811403,\n",
       " 14844172,\n",
       " 15278348,\n",
       " 15278351,\n",
       " 15180049,\n",
       " 15294740,\n",
       " 14803220,\n",
       " 15237403,\n",
       " 14811421,\n",
       " 15286560,\n",
       " 14852387,\n",
       " 14811433,\n",
       " 15196473,\n",
       " 15212859,\n",
       " 14803260,\n",
       " 14827837,\n",
       " 15311174,\n",
       " 15171911,\n",
       " 15237447,\n",
       " 15278406,\n",
       " 14819662,\n",
       " 15204687,\n",
       " 14205264,\n",
       " 15237457,\n",
       " 15229265,\n",
       " 14819667,\n",
       " 14811479,\n",
       " 14516572,\n",
       " 15237473,\n",
       " 15122785,\n",
       " 15057252,\n",
       " 14803303,\n",
       " 14057833,\n",
       " 15278443,\n",
       " 14795116,\n",
       " 14885228,\n",
       " 14827892,\n",
       " 15278455,\n",
       " 15155578,\n",
       " 14803326,\n",
       " 15294849,\n",
       " 14795138,\n",
       " 15344004,\n",
       " 15163782,\n",
       " 15024522,\n",
       " 12951946,\n",
       " 14811534,\n",
       " 15180175,\n",
       " 15294868,\n",
       " 14827926,\n",
       " 14860698,\n",
       " 15294876,\n",
       " 15008158,\n",
       " 15065505,\n",
       " 15057318,\n",
       " 15040938,\n",
       " 14901675,\n",
       " 14991789,\n",
       " 14885303,\n",
       " 15229368,\n",
       " 14877113,\n",
       " 15352251,\n",
       " 14877116,\n",
       " 15262145,\n",
       " 15245761,\n",
       " 15294915,\n",
       " 15294919,\n",
       " 15278537,\n",
       " 14860747,\n",
       " 14148044,\n",
       " 15049170,\n",
       " 14811603,\n",
       " 13722076,\n",
       " 13566429,\n",
       " 14320099,\n",
       " 15262185,\n",
       " 14860778,\n",
       " 14795244,\n",
       " 15286766,\n",
       " 14819829,\n",
       " 14795254,\n",
       " 15024631,\n",
       " 14336505,\n",
       " 14795264,\n",
       " 15294979,\n",
       " 14942729,\n",
       " 15262220,\n",
       " 15335952,\n",
       " 15335955,\n",
       " 14795286,\n",
       " 14926359,\n",
       " 14828059,\n",
       " 15049248,\n",
       " 15270435,\n",
       " 15335973,\n",
       " 15122983,\n",
       " 15049258,\n",
       " 15278635,\n",
       " 15008304,\n",
       " 15335990,\n",
       " 15041079,\n",
       " 14017081,\n",
       " 14967355,\n",
       " 14828091,\n",
       " 15278654,\n",
       " 15286851,\n",
       " 14860868,\n",
       " 15270469,\n",
       " 15049288,\n",
       " 15270476,\n",
       " 14795342,\n",
       " 13648465,\n",
       " 14934611,\n",
       " 14795349,\n",
       " 15172182,\n",
       " 14803550,\n",
       " 14869086,\n",
       " 15286880,\n",
       " 14860896,\n",
       " 14819936,\n",
       " 15344230,\n",
       " 14918247,\n",
       " 15008366,\n",
       " 14082677,\n",
       " 15114874,\n",
       " 15139451,\n",
       " 15344250,\n",
       " 15278714,\n",
       " 15180415,\n",
       " 15221377,\n",
       " 14803590,\n",
       " 15237769,\n",
       " 14795406,\n",
       " 15303312,\n",
       " 14811793,\n",
       " 14803601,\n",
       " 14721684,\n",
       " 14680734,\n",
       " 15286943,\n",
       " 14926502,\n",
       " 15278760,\n",
       " 15049386,\n",
       " 15311534,\n",
       " 15147698,\n",
       " 15065781,\n",
       " 15049399,\n",
       " 15295160,\n",
       " 14279353,\n",
       " 15114938,\n",
       " 14811840,\n",
       " 14795459,\n",
       " 15344324,\n",
       " 14795461,\n",
       " 15295174,\n",
       " 14303943,\n",
       " 15278790,\n",
       " 13517513,\n",
       " 13804234,\n",
       " 15336139,\n",
       " 15041237,\n",
       " 15286998,\n",
       " 14803671,\n",
       " 14795480,\n",
       " 15262424,\n",
       " 15336150,\n",
       " 14828255,\n",
       " 15172326,\n",
       " 14598886,\n",
       " 15237862,\n",
       " 14926581,\n",
       " 14795510,\n",
       " 15336192,\n",
       " 15360769,\n",
       " 14811911,\n",
       " 15303436,\n",
       " 15278862,\n",
       " 15213330,\n",
       " 15262486,\n",
       " 15196952,\n",
       " 15205151,\n",
       " 15287074,\n",
       " 14811948,\n",
       " 15237933,\n",
       " 15254319,\n",
       " 14983983,\n",
       " 14811955,\n",
       " 14926643,\n",
       " 14861108,\n",
       " 14803767,\n",
       " 14820151,\n",
       " 15270713,\n",
       " 15270714,\n",
       " 15278911,\n",
       " 15098698,\n",
       " 15336270,\n",
       " 14181198,\n",
       " 14811988,\n",
       " 15180628,\n",
       " 14869340,\n",
       " 14861149,\n",
       " 14967648,\n",
       " 15287140,\n",
       " 15278952,\n",
       " 15270761,\n",
       " 15254376,\n",
       " 13427563,\n",
       " 15229806,\n",
       " 15205231,\n",
       " 14820211,\n",
       " 14795638,\n",
       " 14869369,\n",
       " 14517116,\n",
       " 15213444,\n",
       " 14869382,\n",
       " 14271366,\n",
       " 14812041,\n",
       " 14885771,\n",
       " 14820236,\n",
       " 15295375,\n",
       " 15197073,\n",
       " 14795671,\n",
       " 15205273,\n",
       " 15172511,\n",
       " 13312929,\n",
       " 15213473,\n",
       " 14853028,\n",
       " 15205290,\n",
       " 14820267,\n",
       " 15131564,\n",
       " 15180717,\n",
       " 14828464,\n",
       " 14795697,\n",
       " 14812086,\n",
       " 15352759,\n",
       " 14820278,\n",
       " 14812094,\n",
       " 14820287,\n",
       " 15311808,\n",
       " 15197122,\n",
       " 14525378,\n",
       " 15336389,\n",
       " 14820293,\n",
       " 14885834,\n",
       " 15336397,\n",
       " 14795727,\n",
       " 15336403,\n",
       " 15295444,\n",
       " 15270869,\n",
       " 14812118,\n",
       " 14926804,\n",
       " 14820309,\n",
       " 15336405,\n",
       " 15344605,\n",
       " 15213536,\n",
       " 15066081,\n",
       " 14885858,\n",
       " 15180771,\n",
       " 15295460,\n",
       " 15107043,\n",
       " 15246304,\n",
       " 15082471,\n",
       " 15336430,\n",
       " 15279088,\n",
       " 15008753,\n",
       " 14820339,\n",
       " 15287286,\n",
       " 14803959,\n",
       " 15295480,\n",
       " 14754811,\n",
       " 14812156,\n",
       " 15148035,\n",
       " 14820363,\n",
       " 14820365,\n",
       " 14894098,\n",
       " 15090707,\n",
       " 14754837,\n",
       " 14754839,\n",
       " 14754841,\n",
       " 15270939,\n",
       " 14820380,\n",
       " 14918691,\n",
       " 14754852,\n",
       " 14812199,\n",
       " 14812201,\n",
       " 14894126,\n",
       " 15205423,\n",
       " 14820403,\n",
       " 14795831,\n",
       " 15303735,\n",
       " 15238201,\n",
       " 14804032,\n",
       " 14812225,\n",
       " 15246402,\n",
       " 14820422,\n",
       " 15213645,\n",
       " 14812238,\n",
       " 14804046,\n",
       " 14754896,\n",
       " 14812241,\n",
       " 15230029,\n",
       " 15000657,\n",
       " 14812249,\n",
       " 13763675,\n",
       " 15271010,\n",
       " 15049827,\n",
       " 15336547,\n",
       " 15254631,\n",
       " 14967914,\n",
       " 14820463,\n",
       " 14812273,\n",
       " 15271026,\n",
       " 14804083,\n",
       " 15221875,\n",
       " 14795894,\n",
       " 15074424,\n",
       " 15287426,\n",
       " 14795913,\n",
       " 14754954,\n",
       " 14812299,\n",
       " 15123603,\n",
       " 14812317,\n",
       " 14664864,\n",
       " 15213731,\n",
       " 14812324,\n",
       " 15254695,\n",
       " 15262896,\n",
       " 14812338,\n",
       " 15295667,\n",
       " 15271092,\n",
       " 14927032,\n",
       " 14812345,\n",
       " 14795966,\n",
       " 15221954,\n",
       " 14755013,\n",
       " 14812358,\n",
       " 14861511,\n",
       " 14812361,\n",
       " 14755019,\n",
       " 14795980,\n",
       " 15000779,\n",
       " 15287500,\n",
       " 14918862,\n",
       " 14755025,\n",
       " 14755029,\n",
       " 14820569,\n",
       " 14795994,\n",
       " 14812384,\n",
       " 14689508,\n",
       " 14796006,\n",
       " 15221991,\n",
       " 13632743,\n",
       " 15303913,\n",
       " 14607593,\n",
       " 14869740,\n",
       " 14755053,\n",
       " 15123692,\n",
       " 14796015,\n",
       " 14804208,\n",
       " 15295726,\n",
       " 15246579,\n",
       " 15181049,\n",
       " 14853373,\n",
       " 14812414,\n",
       " 15090945,\n",
       " 15181058,\n",
       " 15271172,\n",
       " 15254792,\n",
       " 14820620,\n",
       " 15344914,\n",
       " 14820637,\n",
       " 14755111,\n",
       " 14755117,\n",
       " 15090989,\n",
       " 14681397,\n",
       " 14820662,\n",
       " 14878005,\n",
       " 14755133,\n",
       " 14755135,\n",
       " 14755138,\n",
       " 15344964,\n",
       " 15246661,\n",
       " 14214473,\n",
       " 15353165,\n",
       " 14804303,\n",
       " 14755156,\n",
       " 14755161,\n",
       " 14828895,\n",
       " 15353187,\n",
       " 14820709,\n",
       " 14812519,\n",
       " 15336808,\n",
       " 14796140,\n",
       " 14845294,\n",
       " 14755188,\n",
       " 14820726,\n",
       " 14976375,\n",
       " 14755192,\n",
       " 15197567,\n",
       " 14804352,\n",
       " 14755204,\n",
       " 14820742,\n",
       " 14886280,\n",
       " 14755217,\n",
       " 14665107,\n",
       " 15345045,\n",
       " 14804378,\n",
       " 14861723,\n",
       " 14845338,\n",
       " 15263134,\n",
       " 15238559,\n",
       " 14828959,\n",
       " 15230366,\n",
       " 15197598,\n",
       " 15173028,\n",
       " 15353253,\n",
       " 14796200,\n",
       " 14788015,\n",
       " 14788024,\n",
       " 14812603,\n",
       " 15246779,\n",
       " 14828991,\n",
       " 14812608,\n",
       " 15345090,\n",
       " 14689730,\n",
       " 15205828,\n",
       " 15123908,\n",
       " 15287748,\n",
       " 15304135,\n",
       " 14837194,\n",
       " 15279563,\n",
       " 14755280,\n",
       " 14788054,\n",
       " 15295960,\n",
       " 14788056,\n",
       " 14878171,\n",
       " 14755296,\n",
       " 13968864,\n",
       " 15295971,\n",
       " 14919143,\n",
       " 14812648,\n",
       " 14820841,\n",
       " 14788074,\n",
       " 14869995,\n",
       " 14804460,\n",
       " 13755884,\n",
       " 15246830,\n",
       " 14820847,\n",
       " 14845425,\n",
       " 14935540,\n",
       " 14788087,\n",
       " 15287800,\n",
       " 15205881,\n",
       " 14820856,\n",
       " 15140349,\n",
       " 14796286,\n",
       " 14042627,\n",
       " 15148548,\n",
       " 15091210,\n",
       " 14812683,\n",
       " 14042636,\n",
       " 14042640,\n",
       " 14861841,\n",
       " 15336979,\n",
       " 14788116,\n",
       " 14689812,\n",
       " 14820883,\n",
       " 14788121,\n",
       " 15336995,\n",
       " 15271460,\n",
       " 15279653,\n",
       " 15197736,\n",
       " 15066667,\n",
       " 14755381,\n",
       " 15337013,\n",
       " 14935612,\n",
       " 15296063,\n",
       " 14845505,\n",
       " 14886465,\n",
       " 14788174,\n",
       " 13649489,\n",
       " 15165010,\n",
       " 14788179,\n",
       " 14755415,\n",
       " 14788183,\n",
       " 14788185,\n",
       " 14812762,\n",
       " 14796381,\n",
       " 14968417,\n",
       " 14804577,\n",
       " 15009377,\n",
       " 14837345,\n",
       " 14829153,\n",
       " 14820966,\n",
       " 15287913,\n",
       " 14788205,\n",
       " 15173232,\n",
       " 15271542,\n",
       " 15214199,\n",
       " 14788216,\n",
       " 15271544,\n",
       " 14812794,\n",
       " 14788218,\n",
       " 15001213,\n",
       " 14788224,\n",
       " 14804608,\n",
       " 14755458,\n",
       " 14788226,\n",
       " 14755462,\n",
       " 15132303,\n",
       " 15042193,\n",
       " 15361685,\n",
       " 14788246,\n",
       " 15271574,\n",
       " 14796440,\n",
       " 14804630,\n",
       " 15197847,\n",
       " 14870171,\n",
       " 15189659,\n",
       " 14689947,\n",
       " 14755490,\n",
       " 15255203,\n",
       " 15304355,\n",
       " 14788262,\n",
       " 15173288,\n",
       " 15206057,\n",
       " 15287980,\n",
       " 15091372,\n",
       " 14919343,\n",
       " 14976689,\n",
       " 15156914,\n",
       " 15230642,\n",
       " 15287989,\n",
       " 14796470,\n",
       " 15263415,\n",
       " 14804666,\n",
       " 14755517,\n",
       " 14788287,\n",
       " 15230655,\n",
       " 15296193,\n",
       " 14788297,\n",
       " 15042249,\n",
       " 14821065,\n",
       " 13854418,\n",
       " 15337171,\n",
       " 15353556,\n",
       " 15099603,\n",
       " 14788316,\n",
       " 15140573,\n",
       " 14788318,\n",
       " 14755552,\n",
       " 14788321,\n",
       " 14821090,\n",
       " 14821092,\n",
       " 14755557,\n",
       " 15091431,\n",
       " 14870251,\n",
       " 15042285,\n",
       " 15107832,\n",
       " 15312633,\n",
       " 14853884,\n",
       " 15238911,\n",
       " 14919429,\n",
       " 15263498,\n",
       " 14755597,\n",
       " 14804752,\n",
       " 14821140,\n",
       " 14878488,\n",
       " 14788377,\n",
       " 15050523,\n",
       " 15173403,\n",
       " 14321436,\n",
       " 15288095,\n",
       " 14821151,\n",
       " 14788388,\n",
       " 15263525,\n",
       " 14821157,\n",
       " 15042343,\n",
       " 14870312,\n",
       " 14821161,\n",
       " 14157613,\n",
       " 15304500,\n",
       " 14878517,\n",
       " 14796601,\n",
       " 15337274,\n",
       " 14755643,\n",
       " 15148862,\n",
       " 15255360,\n",
       " 14804802,\n",
       " 14804803,\n",
       " 14927684,\n",
       " 14788422,\n",
       " 14796616,\n",
       " 15247177,\n",
       " 14886732,\n",
       " 14583630,\n",
       " 15238991,\n",
       " 14796625,\n",
       " 15296342,\n",
       " 15288152,\n",
       " 14583641,\n",
       " 15255391,\n",
       " 14755679,\n",
       " 15271778,\n",
       " 14821220,\n",
       " 14813031,\n",
       " 14796655,\n",
       " 15288176,\n",
       " 15353711,\n",
       " 15214450,\n",
       " 14804851,\n",
       " 14886770,\n",
       " 14837626,\n",
       " 15337339,\n",
       " 15165308,\n",
       " 14313344,\n",
       " 14796673,\n",
       " 14804867,\n",
       " 14821253,\n",
       " 14788487,\n",
       " 15181709,\n",
       " 15230862,\n",
       " 14501779,\n",
       " 15214484,\n",
       " 14755732,\n",
       " 15017876,\n",
       " 14755735,\n",
       " 14755741,\n",
       " 15296418,\n",
       " 14755748,\n",
       " 14755750,\n",
       " 14804904,\n",
       " 15230889,\n",
       " 14788522,\n",
       " 15017899,\n",
       " 14804908,\n",
       " 14862251,\n",
       " 14870442,\n",
       " 14829487,\n",
       " 14755760,\n",
       " 13969321,\n",
       " 15198132,\n",
       " 14821303,\n",
       " 14788537,\n",
       " 14788539,\n",
       " 15337404,\n",
       " 14804934,\n",
       " 15173581,\n",
       " 15271886,\n",
       " 14788562,\n",
       " 14755795,\n",
       " 14755798,\n",
       " 15288280,\n",
       " 14788574,\n",
       " 14788575,\n",
       " 14575586,\n",
       " 15296483,\n",
       " 15132652,\n",
       " 14813169,\n",
       " 14354418,\n",
       " 14788596,\n",
       " 14755829,\n",
       " 14813177,\n",
       " 15042554,\n",
       " 15296509,\n",
       " 15116286,\n",
       " 15099902,\n",
       " 14870530,\n",
       " 14845959,\n",
       " 14796814,\n",
       " 14845967,\n",
       " 14799335,\n",
       " 15280149,\n",
       " 14788632,\n",
       " 15009818,\n",
       " 14755870,\n",
       " 14796831,\n",
       " 14805035,\n",
       " 14821421,\n",
       " 15337518,\n",
       " 14026799,\n",
       " 14755890,\n",
       " 12691506,\n",
       " 14788662,\n",
       " 15370294,\n",
       " 15296567,\n",
       " 15132730,\n",
       " 14829629,\n",
       " 14813246,\n",
       " 15280190,\n",
       " 14813254,\n",
       " 15247439,\n",
       " 14108754,\n",
       " 14813267,\n",
       " 14796885,\n",
       " 15231061,\n",
       " 15124567,\n",
       " 15272024,\n",
       " 14854232,\n",
       " 14542940,\n",
       " 15272031,\n",
       " 14755936,\n",
       " 15165537,\n",
       " 14805090,\n",
       " 14927976,\n",
       " 14755945,\n",
       " 15059049,\n",
       " 14755953,\n",
       " 14755955,\n",
       " 14788734,\n",
       " 14805118,\n",
       " 13887617,\n",
       " 14796934,\n",
       " 14755976,\n",
       " 15345802,\n",
       " 13633680,\n",
       " 14887057,\n",
       " 14813330,\n",
       " 15280275,\n",
       " 14788756,\n",
       " 15100052,\n",
       " 14919829,\n",
       " 14379159,\n",
       " 14788761,\n",
       " 15157403,\n",
       " 15296668,\n",
       " 14788765,\n",
       " 14919838,\n",
       " 14805150,\n",
       " 15050911,\n",
       " 14854305,\n",
       " 14854306,\n",
       " 14821539,\n",
       " 15222949,\n",
       " 15362214,\n",
       " 14854312,\n",
       " 15337641,\n",
       " 15132845,\n",
       " 15272113,\n",
       " 15100082,\n",
       " 14756023,\n",
       " 15009976,\n",
       " 13838523,\n",
       " 15239356,\n",
       " 14944446,\n",
       " 14485698,\n",
       " 15272131,\n",
       " 15288522,\n",
       " 15337675,\n",
       " 14805202,\n",
       " 14788819,\n",
       " 14756053,\n",
       " 15116505,\n",
       " 14788826,\n",
       " 14805209,\n",
       " 15362270,\n",
       " 15288543,\n",
       " 15214823,\n",
       " 14805224,\n",
       " 14788841,\n",
       " 15010023,\n",
       " 15296743,\n",
       " 14788845,\n",
       " 14821614,\n",
       " 14870768,\n",
       " 14313713,\n",
       " 15231218,\n",
       " 14821619,\n",
       " 15288567,\n",
       " 15083770,\n",
       " 15247611,\n",
       " 14829820,\n",
       " 15296763,\n",
       " 14788862,\n",
       " 15239424,\n",
       " 14821632,\n",
       " 14723330,\n",
       " 15157507,\n",
       " 15345924,\n",
       " 14723333,\n",
       " 15264006,\n",
       " 15206657,\n",
       " 14723336,\n",
       " 14813449,\n",
       " 14870794,\n",
       " 15354122,\n",
       " 15296778,\n",
       " 14870798,\n",
       " 14805264,\n",
       " 13789459,\n",
       " 15239447,\n",
       " 14887191,\n",
       " 14936344,\n",
       " 14330138,\n",
       " 15362338,\n",
       " 14797093,\n",
       " 15354151,\n",
       " 15190312,\n",
       " 14756141,\n",
       " 15231278,\n",
       " 14805296,\n",
       " 15124786,\n",
       " 14813491,\n",
       " 14838072,\n",
       " 15354179,\n",
       " 14813508,\n",
       " 15362372,\n",
       " 14805320,\n",
       " 15173888,\n",
       " 15362385,\n",
       " 15280467,\n",
       " 14813537,\n",
       " 14109027,\n",
       " 15198564,\n",
       " 15141222,\n",
       " 14797159,\n",
       " 15001960,\n",
       " 15354214,\n",
       " 14051692,\n",
       " 14625132,\n",
       " 14584174,\n",
       " 15272305,\n",
       " 15165815,\n",
       " 14813566,\n",
       " 15239553,\n",
       " 15059331,\n",
       " 13535621,\n",
       " 14813573,\n",
       " 14829957,\n",
       " 15231365,\n",
       " 14846349,\n",
       " 14797197,\n",
       " 14821775,\n",
       " 15337878,\n",
       " 14518681,\n",
       " 15051161,\n",
       " 14813595,\n",
       " 14862749,\n",
       " 15124894,\n",
       " 14789028,\n",
       " 15362468,\n",
       " 15255972,\n",
       " 13986218,\n",
       " 14797229,\n",
       " 15280561,\n",
       " 15198643,\n",
       " 14870964,\n",
       " 14805428,\n",
       " 15362484,\n",
       " 15239609,\n",
       " 15239615,\n",
       " 14862784,\n",
       " 15010240,\n",
       " 15264198,\n",
       " 15215046,\n",
       " 14813642,\n",
       " 15288778,\n",
       " 15223243,\n",
       " 14887374,\n",
       " 15296975,\n",
       " 15231442,\n",
       " 14731731,\n",
       " 14862804,\n",
       " 14821846,\n",
       " 14887388,\n",
       " 15272414,\n",
       " 14805470,\n",
       " 14920158,\n",
       " 14887391,\n",
       " 15206888,\n",
       " 15280626,\n",
       " 14731764,\n",
       " 14633461,\n",
       " 14756341,\n",
       " 14813688,\n",
       " 15141370,\n",
       " 15157755,\n",
       " 14174715,\n",
       " 15264256,\n",
       " 14543362,\n",
       " 15141380,\n",
       " 14805512,\n",
       " 15067657,\n",
       " 15092234,\n",
       " 14797323,\n",
       " 14092814,\n",
       " 15272463,\n",
       " 15256080,\n",
       " 14871059,\n",
       " 15280659,\n",
       " 15010327,\n",
       " 14846489,\n",
       " 14797348,\n",
       " 15272484,\n",
       " 14920228,\n",
       " 14846501,\n",
       " 14805545,\n",
       " 15157803,\n",
       " 15149612,\n",
       " 14805548,\n",
       " 15206959,\n",
       " 14879280,\n",
       " 15264307,\n",
       " 14813748,\n",
       " 15125044,\n",
       " 14813752,\n",
       " ...}"
      ]
     },
     "execution_count": 15,
     "metadata": {},
     "output_type": "execute_result"
    }
   ],
   "source": [
    "all_appid"
   ]
  },
  {
   "cell_type": "markdown",
   "metadata": {},
   "source": [
    "Check vocab."
   ]
  },
  {
   "cell_type": "code",
   "execution_count": 206,
   "metadata": {},
   "outputs": [
    {
     "data": {
      "text/plain": [
       "[('00', 0),\n",
       " ('000', 1),\n",
       " ('0000001', 2),\n",
       " ('000005', 3),\n",
       " ('00002', 4),\n",
       " ('00005', 5),\n",
       " ('0001', 6),\n",
       " ('00015', 7),\n",
       " ('00015and', 8),\n",
       " ('00019', 9),\n",
       " ('0002', 10),\n",
       " ('00025', 11),\n",
       " ('0003', 12),\n",
       " ('0004', 13),\n",
       " ('0005', 14),\n",
       " ('0005x', 15),\n",
       " ('0006', 16),\n",
       " ('0007', 17),\n",
       " ('0009', 18),\n",
       " ('000g', 19)]"
      ]
     },
     "execution_count": 206,
     "metadata": {},
     "output_type": "execute_result"
    }
   ],
   "source": [
    "sorted(vocab.items(), key=lambda x: x[1])[:20]"
   ]
  },
  {
   "cell_type": "code",
   "execution_count": 207,
   "metadata": {},
   "outputs": [
    {
     "data": {
      "text/plain": [
       "[('000k', 20),\n",
       " ('001', 21),\n",
       " ('0010', 22),\n",
       " ('0013', 23),\n",
       " ('0015', 24),\n",
       " ('002', 25),\n",
       " ('0020', 26),\n",
       " ('0025', 27),\n",
       " ('003', 28),\n",
       " ('0030', 29),\n",
       " ('0032', 30),\n",
       " ('0034', 31),\n",
       " ('0036', 32),\n",
       " ('0037', 33),\n",
       " ('0038', 34),\n",
       " ('0039', 35),\n",
       " ('004', 36),\n",
       " ('0040', 37),\n",
       " ('0045', 38),\n",
       " ('005', 39)]"
      ]
     },
     "execution_count": 207,
     "metadata": {},
     "output_type": "execute_result"
    }
   ],
   "source": [
    "sorted(vocab.items(), key=lambda x: x[1])[20:40]"
   ]
  },
  {
   "cell_type": "code",
   "execution_count": 219,
   "metadata": {},
   "outputs": [
    {
     "data": {
      "text/plain": [
       "[('a4', 970),\n",
       " ('a41', 971),\n",
       " ('a5', 972),\n",
       " ('a6', 973),\n",
       " ('a64', 974),\n",
       " ('a68', 975),\n",
       " ('a690', 976),\n",
       " ('a7', 977),\n",
       " ('a76', 978),\n",
       " ('a8', 979),\n",
       " ('a80', 980),\n",
       " ('a9', 981),\n",
       " ('a94', 982),\n",
       " ('aa', 983),\n",
       " ('aaa', 984),\n",
       " ('aac', 985),\n",
       " ('aacplus', 986),\n",
       " ('aaft', 987),\n",
       " ('aagcaaaacaggucuagaatst', 988),\n",
       " ('aax', 989),\n",
       " ('ab', 990),\n",
       " ('abaca', 991),\n",
       " ('abamectin', 992),\n",
       " ('abandon', 993),\n",
       " ('abandoned', 994),\n",
       " ('abandoning', 995),\n",
       " ('abandonment', 996),\n",
       " ('abased', 997),\n",
       " ('abasic', 998),\n",
       " ('abate', 999)]"
      ]
     },
     "execution_count": 219,
     "metadata": {},
     "output_type": "execute_result"
    }
   ],
   "source": [
    "sorted(vocab.items(), key=lambda x: x[1])[970:1000]"
   ]
  },
  {
   "cell_type": "code",
   "execution_count": null,
   "metadata": {},
   "outputs": [],
   "source": []
  }
 ],
 "metadata": {
  "kernelspec": {
   "display_name": "Python 3",
   "language": "python",
   "name": "python3"
  },
  "language_info": {
   "codemirror_mode": {
    "name": "ipython",
    "version": 3
   },
   "file_extension": ".py",
   "mimetype": "text/x-python",
   "name": "python",
   "nbconvert_exporter": "python",
   "pygments_lexer": "ipython3",
   "version": "3.5.2"
  }
 },
 "nbformat": 4,
 "nbformat_minor": 2
}
