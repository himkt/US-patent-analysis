{
 "cells": [
  {
   "cell_type": "markdown",
   "metadata": {},
   "source": [
    "### Investigate application patent data."
   ]
  },
  {
   "cell_type": "code",
   "execution_count": 1,
   "metadata": {
    "collapsed": true
   },
   "outputs": [],
   "source": [
    "import pandas as pd"
   ]
  },
  {
   "cell_type": "code",
   "execution_count": 2,
   "metadata": {
    "collapsed": true
   },
   "outputs": [],
   "source": [
    "application_patent = pd.read_pickle(\"../data/extacted_application2017_data.dat\")"
   ]
  },
  {
   "cell_type": "code",
   "execution_count": 3,
   "metadata": {},
   "outputs": [
    {
     "data": {
      "text/html": [
       "<div>\n",
       "<style scoped>\n",
       "    .dataframe tbody tr th:only-of-type {\n",
       "        vertical-align: middle;\n",
       "    }\n",
       "\n",
       "    .dataframe tbody tr th {\n",
       "        vertical-align: top;\n",
       "    }\n",
       "\n",
       "    .dataframe thead th {\n",
       "        text-align: right;\n",
       "    }\n",
       "</style>\n",
       "<table border=\"1\" class=\"dataframe\">\n",
       "  <thead>\n",
       "    <tr style=\"text-align: right;\">\n",
       "      <th></th>\n",
       "      <th>application_id</th>\n",
       "      <th>cited_doc_number</th>\n",
       "      <th>patent_data</th>\n",
       "    </tr>\n",
       "  </thead>\n",
       "  <tbody>\n",
       "    <tr>\n",
       "      <th>0</th>\n",
       "      <td>15338532</td>\n",
       "      <td>20170043899</td>\n",
       "      <td>[&lt;us-patent-application lang=\"EN\" dtd-version=...</td>\n",
       "    </tr>\n",
       "    <tr>\n",
       "      <th>1</th>\n",
       "      <td>15338532</td>\n",
       "      <td>20170043899</td>\n",
       "      <td>[&lt;us-patent-application lang=\"EN\" dtd-version=...</td>\n",
       "    </tr>\n",
       "    <tr>\n",
       "      <th>2</th>\n",
       "      <td>15051356</td>\n",
       "      <td>20170246242</td>\n",
       "      <td>[&lt;us-patent-application lang=\"EN\" dtd-version=...</td>\n",
       "    </tr>\n",
       "    <tr>\n",
       "      <th>3</th>\n",
       "      <td>15051356</td>\n",
       "      <td>20170246242</td>\n",
       "      <td>[&lt;us-patent-application lang=\"EN\" dtd-version=...</td>\n",
       "    </tr>\n",
       "    <tr>\n",
       "      <th>4</th>\n",
       "      <td>15238319</td>\n",
       "      <td>20170066736</td>\n",
       "      <td>[&lt;us-patent-application lang=\"EN\" dtd-version=...</td>\n",
       "    </tr>\n",
       "  </tbody>\n",
       "</table>\n",
       "</div>"
      ],
      "text/plain": [
       "  application_id cited_doc_number  \\\n",
       "0       15338532      20170043899   \n",
       "1       15338532      20170043899   \n",
       "2       15051356      20170246242   \n",
       "3       15051356      20170246242   \n",
       "4       15238319      20170066736   \n",
       "\n",
       "                                         patent_data  \n",
       "0  [<us-patent-application lang=\"EN\" dtd-version=...  \n",
       "1  [<us-patent-application lang=\"EN\" dtd-version=...  \n",
       "2  [<us-patent-application lang=\"EN\" dtd-version=...  \n",
       "3  [<us-patent-application lang=\"EN\" dtd-version=...  \n",
       "4  [<us-patent-application lang=\"EN\" dtd-version=...  "
      ]
     },
     "execution_count": 3,
     "metadata": {},
     "output_type": "execute_result"
    }
   ],
   "source": [
    "application_patent.head()"
   ]
  },
  {
   "cell_type": "markdown",
   "metadata": {},
   "source": [
    "Consider regex to extract claim data."
   ]
  },
  {
   "cell_type": "code",
   "execution_count": 83,
   "metadata": {},
   "outputs": [],
   "source": [
    "one_patent = application_patent['patent_data'][0]"
   ]
  },
  {
   "cell_type": "code",
   "execution_count": 154,
   "metadata": {
    "scrolled": true
   },
   "outputs": [
    {
     "data": {
      "text/plain": [
       "['<us-patent-application lang=\"EN\" dtd-version=\"v4.4 2014-04-03\" file=\"US20170043899A1-20170216.XML\" status=\"PRODUCTION\" id=\"us-patent-application\" country=\"US\" date-produced=\"20170201\" date-publ=\"20170216\">',\n",
       " '<us-bibliographic-data-application lang=\"EN\" country=\"US\">',\n",
       " '<publication-reference>',\n",
       " '<document-id>',\n",
       " '<country>US</country>',\n",
       " '<doc-number>20170043899</doc-number>',\n",
       " '<kind>A1</kind>',\n",
       " '<date>20170216</date>',\n",
       " '</document-id>',\n",
       " '</publication-reference>',\n",
       " '<application-reference appl-type=\"utility\">',\n",
       " '<document-id>',\n",
       " '<country>US</country>',\n",
       " '<doc-number>15338532</doc-number>',\n",
       " '<date>20161031</date>',\n",
       " '</document-id>',\n",
       " '</application-reference>',\n",
       " '<us-application-series-code>15</us-application-series-code>',\n",
       " '<classifications-ipcr>',\n",
       " '<classification-ipcr>',\n",
       " '<ipc-version-indicator><date>20060101</date></ipc-version-indicator>',\n",
       " '<classification-level>A</classification-level>',\n",
       " '<section>B</section>',\n",
       " '<class>65</class>',\n",
       " '<subclass>D</subclass>',\n",
       " '<main-group>1</main-group>',\n",
       " '<subgroup>02</subgroup>',\n",
       " '<symbol-position>F</symbol-position>',\n",
       " '<classification-value>I</classification-value>',\n",
       " '<action-date><date>20170216</date></action-date>',\n",
       " '<generating-office><country>US</country></generating-office>',\n",
       " '<classification-status>B</classification-status>',\n",
       " '<classification-data-source>H</classification-data-source>',\n",
       " '</classification-ipcr>',\n",
       " '<classification-ipcr>',\n",
       " '<ipc-version-indicator><date>20060101</date></ipc-version-indicator>',\n",
       " '<classification-level>A</classification-level>',\n",
       " '<section>B</section>',\n",
       " '<class>65</class>',\n",
       " '<subclass>D</subclass>',\n",
       " '<main-group>23</main-group>',\n",
       " '<subgroup>14</subgroup>',\n",
       " '<symbol-position>L</symbol-position>',\n",
       " '<classification-value>I</classification-value>',\n",
       " '<action-date><date>20170216</date></action-date>',\n",
       " '<generating-office><country>US</country></generating-office>',\n",
       " '<classification-status>B</classification-status>',\n",
       " '<classification-data-source>H</classification-data-source>',\n",
       " '</classification-ipcr>',\n",
       " '<classification-ipcr>',\n",
       " '<ipc-version-indicator><date>20060101</date></ipc-version-indicator>',\n",
       " '<classification-level>A</classification-level>',\n",
       " '<section>B</section>',\n",
       " '<class>65</class>',\n",
       " '<subclass>D</subclass>',\n",
       " '<main-group>81</main-group>',\n",
       " '<subgroup>38</subgroup>',\n",
       " '<symbol-position>L</symbol-position>',\n",
       " '<classification-value>I</classification-value>',\n",
       " '<action-date><date>20170216</date></action-date>',\n",
       " '<generating-office><country>US</country></generating-office>',\n",
       " '<classification-status>B</classification-status>',\n",
       " '<classification-data-source>H</classification-data-source>',\n",
       " '</classification-ipcr>',\n",
       " '<classification-ipcr>',\n",
       " '<ipc-version-indicator><date>20060101</date></ipc-version-indicator>',\n",
       " '<classification-level>A</classification-level>',\n",
       " '<section>B</section>',\n",
       " '<class>65</class>',\n",
       " '<subclass>D</subclass>',\n",
       " '<main-group>23</main-group>',\n",
       " '<subgroup>08</subgroup>',\n",
       " '<symbol-position>L</symbol-position>',\n",
       " '<classification-value>I</classification-value>',\n",
       " '<action-date><date>20170216</date></action-date>',\n",
       " '<generating-office><country>US</country></generating-office>',\n",
       " '<classification-status>B</classification-status>',\n",
       " '<classification-data-source>H</classification-data-source>',\n",
       " '</classification-ipcr>',\n",
       " '</classifications-ipcr>',\n",
       " '<classifications-cpc>',\n",
       " '<main-cpc>',\n",
       " '<classification-cpc>',\n",
       " '<cpc-version-indicator><date>20130101</date></cpc-version-indicator>',\n",
       " '<section>B</section>',\n",
       " '<class>65</class>',\n",
       " '<subclass>D</subclass>',\n",
       " '<main-group>1</main-group>',\n",
       " '<subgroup>0223</subgroup>',\n",
       " '<symbol-position>F</symbol-position>',\n",
       " '<classification-value>I</classification-value>',\n",
       " '<action-date><date>20170216</date></action-date>',\n",
       " '<generating-office><country>US</country></generating-office>',\n",
       " '<classification-status>B</classification-status>',\n",
       " '<classification-data-source>H</classification-data-source>',\n",
       " '<scheme-origination-code>C</scheme-origination-code>',\n",
       " '</classification-cpc>',\n",
       " '</main-cpc>',\n",
       " '<further-cpc>',\n",
       " '<classification-cpc>',\n",
       " '<cpc-version-indicator><date>20130101</date></cpc-version-indicator>',\n",
       " '<section>B</section>',\n",
       " '<class>65</class>',\n",
       " '<subclass>D</subclass>',\n",
       " '<main-group>23</main-group>',\n",
       " '<subgroup>08</subgroup>',\n",
       " '<symbol-position>L</symbol-position>',\n",
       " '<classification-value>I</classification-value>',\n",
       " '<action-date><date>20170216</date></action-date>',\n",
       " '<generating-office><country>US</country></generating-office>',\n",
       " '<classification-status>B</classification-status>',\n",
       " '<classification-data-source>H</classification-data-source>',\n",
       " '<scheme-origination-code>C</scheme-origination-code>',\n",
       " '</classification-cpc>',\n",
       " '<classification-cpc>',\n",
       " '<cpc-version-indicator><date>20130101</date></cpc-version-indicator>',\n",
       " '<section>B</section>',\n",
       " '<class>65</class>',\n",
       " '<subclass>D</subclass>',\n",
       " '<main-group>23</main-group>',\n",
       " '<subgroup>14</subgroup>',\n",
       " '<symbol-position>L</symbol-position>',\n",
       " '<classification-value>I</classification-value>',\n",
       " '<action-date><date>20170216</date></action-date>',\n",
       " '<generating-office><country>US</country></generating-office>',\n",
       " '<classification-status>B</classification-status>',\n",
       " '<classification-data-source>H</classification-data-source>',\n",
       " '<scheme-origination-code>C</scheme-origination-code>',\n",
       " '</classification-cpc>',\n",
       " '<classification-cpc>',\n",
       " '<cpc-version-indicator><date>20130101</date></cpc-version-indicator>',\n",
       " '<section>B</section>',\n",
       " '<class>65</class>',\n",
       " '<subclass>D</subclass>',\n",
       " '<main-group>81</main-group>',\n",
       " '<subgroup>3837</subgroup>',\n",
       " '<symbol-position>L</symbol-position>',\n",
       " '<classification-value>I</classification-value>',\n",
       " '<action-date><date>20170216</date></action-date>',\n",
       " '<generating-office><country>US</country></generating-office>',\n",
       " '<classification-status>B</classification-status>',\n",
       " '<classification-data-source>H</classification-data-source>',\n",
       " '<scheme-origination-code>C</scheme-origination-code>',\n",
       " '</classification-cpc>',\n",
       " '<classification-cpc>',\n",
       " '<cpc-version-indicator><date>20130101</date></cpc-version-indicator>',\n",
       " '<section>B</section>',\n",
       " '<class>65</class>',\n",
       " '<subclass>D</subclass>',\n",
       " '<main-group>2501</main-group>',\n",
       " '<subgroup>0036</subgroup>',\n",
       " '<symbol-position>L</symbol-position>',\n",
       " '<classification-value>A</classification-value>',\n",
       " '<action-date><date>20170216</date></action-date>',\n",
       " '<generating-office><country>US</country></generating-office>',\n",
       " '<classification-status>B</classification-status>',\n",
       " '<classification-data-source>H</classification-data-source>',\n",
       " '<scheme-origination-code>C</scheme-origination-code>',\n",
       " '</classification-cpc>',\n",
       " '</further-cpc>',\n",
       " '</classifications-cpc>',\n",
       " '<invention-title id=\"d2e43\">Bottle with Insulative Body</invention-title>',\n",
       " '<us-related-documents>',\n",
       " '<continuation>',\n",
       " '<relation>',\n",
       " '<parent-doc>',\n",
       " '<document-id>',\n",
       " '<country>US</country>',\n",
       " '<doc-number>14831329</doc-number>',\n",
       " '<date>20150820</date>',\n",
       " '</document-id>',\n",
       " '<parent-grant-document>',\n",
       " '<document-id>',\n",
       " '<country>US</country>',\n",
       " '<doc-number>9499293</doc-number>',\n",
       " '</document-id>',\n",
       " '</parent-grant-document>',\n",
       " '</parent-doc>',\n",
       " '<child-doc>',\n",
       " '<document-id>',\n",
       " '<country>US</country>',\n",
       " '<doc-number>15338532</doc-number>',\n",
       " '</document-id>',\n",
       " '</child-doc>',\n",
       " '</relation>',\n",
       " '</continuation>',\n",
       " '<continuation>',\n",
       " '<relation>',\n",
       " '<parent-doc>',\n",
       " '<document-id>',\n",
       " '<country>US</country>',\n",
       " '<doc-number>13761598</doc-number>',\n",
       " '<date>20130207</date>',\n",
       " '</document-id>',\n",
       " '<parent-grant-document>',\n",
       " '<document-id>',\n",
       " '<country>US</country>',\n",
       " '<doc-number>9150331</doc-number>',\n",
       " '</document-id>',\n",
       " '</parent-grant-document>',\n",
       " '</parent-doc>',\n",
       " '<child-doc>',\n",
       " '<document-id>',\n",
       " '<country>US</country>',\n",
       " '<doc-number>14831329</doc-number>',\n",
       " '</document-id>',\n",
       " '</child-doc>',\n",
       " '</relation>',\n",
       " '</continuation>',\n",
       " '</us-related-documents>',\n",
       " '<us-parties>',\n",
       " '<us-applicants>',\n",
       " '<us-applicant sequence=\"00\" app-type=\"applicant\" designation=\"us-only\" applicant-authority-category=\"assignee\">',\n",
       " '<addressbook>',\n",
       " '<orgname>Owens-Brockway Glass Container Inc.</orgname>',\n",
       " '<address>',\n",
       " '<city>Perrysburg</city>',\n",
       " '<state>OH</state>',\n",
       " '<country>US</country>',\n",
       " '</address>',\n",
       " '</addressbook>',\n",
       " '<residence>',\n",
       " '<country>US</country>',\n",
       " '</residence>',\n",
       " '</us-applicant>',\n",
       " '</us-applicants>',\n",
       " '<inventors>',\n",
       " '<inventor sequence=\"00\" designation=\"us-only\">',\n",
       " '<addressbook>',\n",
       " '<last-name>Kisela</last-name>',\n",
       " '<first-name>David</first-name>',\n",
       " '<address>',\n",
       " '<city>Sylvania</city>',\n",
       " '<state>OH</state>',\n",
       " '<country>US</country>',\n",
       " '</address>',\n",
       " '</addressbook>',\n",
       " '</inventor>',\n",
       " '</inventors>',\n",
       " '</us-parties>',\n",
       " '</us-bibliographic-data-application>',\n",
       " '<abstract id=\"abstract\">',\n",
       " '<p id=\"p-0001\" num=\"0000\">A bottle extends along a longitudinal axis and includes an insulative body extending axially between a base and a neck of the bottle. The body includes radially outwardly facing first surfaces spaced axially apart from one another, and a radially outwardly facing second surface radially smaller than, and located axially between, the first surfaces. The body also includes a plurality of projections projecting from the second surface and collectively establishing a radially outwardly facing third surface radially larger than the second surface, and parting line bridges projecting radially outwardly from the second surface, diametrically opposed to one another, and extending axially between the first surfaces. A label is carried by the body over at least a portion of the third surface, wherein a continuous insulation volume is established between the label and the second surface, and extends continuously over more than 90 angular degrees around the bottle.</p>',\n",
       " '</abstract>',\n",
       " '<drawings id=\"DRAWINGS\">',\n",
       " '<figure id=\"Fig-EMI-D00000\" num=\"00000\">',\n",
       " '<img id=\"EMI-D00000\" he=\"242.15mm\" wi=\"156.72mm\" file=\"US20170043899A1-20170216-D00000.TIF\" alt=\"embedded image\" img-content=\"drawing\" img-format=\"tif\"/>',\n",
       " '</figure>',\n",
       " '<figure id=\"Fig-EMI-D00001\" num=\"00001\">',\n",
       " '<img id=\"EMI-D00001\" he=\"245.03mm\" wi=\"161.04mm\" file=\"US20170043899A1-20170216-D00001.TIF\" alt=\"embedded image\" img-content=\"drawing\" img-format=\"tif\"/>',\n",
       " '</figure>',\n",
       " '<figure id=\"Fig-EMI-D00002\" num=\"00002\">',\n",
       " '<img id=\"EMI-D00002\" he=\"249.51mm\" wi=\"194.14mm\" file=\"US20170043899A1-20170216-D00002.TIF\" alt=\"embedded image\" img-content=\"drawing\" img-format=\"tif\"/>',\n",
       " '</figure>',\n",
       " '<figure id=\"Fig-EMI-D00003\" num=\"00003\">',\n",
       " '<img id=\"EMI-D00003\" he=\"245.70mm\" wi=\"148.93mm\" file=\"US20170043899A1-20170216-D00003.TIF\" alt=\"embedded image\" img-content=\"drawing\" img-format=\"tif\"/>',\n",
       " '</figure>',\n",
       " '<figure id=\"Fig-EMI-D00004\" num=\"00004\">',\n",
       " '<img id=\"EMI-D00004\" he=\"241.81mm\" wi=\"180.76mm\" file=\"US20170043899A1-20170216-D00004.TIF\" alt=\"embedded image\" img-content=\"drawing\" img-format=\"tif\"/>',\n",
       " '</figure>',\n",
       " '<figure id=\"Fig-EMI-D00005\" num=\"00005\">',\n",
       " '<img id=\"EMI-D00005\" he=\"250.11mm\" wi=\"129.20mm\" file=\"US20170043899A1-20170216-D00005.TIF\" alt=\"embedded image\" img-content=\"drawing\" img-format=\"tif\"/>',\n",
       " '</figure>',\n",
       " '<figure id=\"Fig-EMI-D00006\" num=\"00006\">',\n",
       " '<img id=\"EMI-D00006\" he=\"253.32mm\" wi=\"136.82mm\" file=\"US20170043899A1-20170216-D00006.TIF\" alt=\"embedded image\" img-content=\"drawing\" img-format=\"tif\"/>',\n",
       " '</figure>',\n",
       " '<figure id=\"Fig-EMI-D00007\" num=\"00007\">',\n",
       " '<img id=\"EMI-D00007\" he=\"250.11mm\" wi=\"135.55mm\" file=\"US20170043899A1-20170216-D00007.TIF\" alt=\"embedded image\" img-content=\"drawing\" img-format=\"tif\"/>',\n",
       " '</figure>',\n",
       " '<figure id=\"Fig-EMI-D00008\" num=\"00008\">',\n",
       " '<img id=\"EMI-D00008\" he=\"253.32mm\" wi=\"155.96mm\" file=\"US20170043899A1-20170216-D00008.TIF\" alt=\"embedded image\" img-content=\"drawing\" img-format=\"tif\"/>',\n",
       " '</figure>',\n",
       " '<figure id=\"Fig-EMI-D00009\" num=\"00009\">',\n",
       " '<img id=\"EMI-D00009\" he=\"168.66mm\" wi=\"182.63mm\" file=\"US20170043899A1-20170216-D00009.TIF\" alt=\"embedded image\" img-content=\"drawing\" img-format=\"tif\"/>',\n",
       " '</figure>',\n",
       " '</drawings>',\n",
       " '<description id=\"description\">',\n",
       " '<?summary-of-invention description=\"Summary of Invention\" end=\"lead\"?>',\n",
       " '<p id=\"p-0002\" num=\"0001\">The present disclosure is directed to containers and, more particularly, to bottles.</p>',\n",
       " '<heading id=\"h-0001\" level=\"1\">BACKGROUND AND SUMMARY OF THE DISCLOSURE</heading>',\n",
       " '<p id=\"p-0003\" num=\"0002\">Bottles typically include a body, a shoulder, a neck, and a neck finish. U.S. Patent Application Publication 2012/0000878 illustrates an example glass bottle of this general type. Such bottles may be produced using a blow-and-blow manufacturing process or a press-and-blow manufacturing process, and typically have substantially uniform wall thicknesses. Moreover, longneck bottles are popular in the beverage packaging industry, particularly for packaging beer. U.S. Patent Application Publication 2010/0264107 illustrates example longneck bottles having necks with internal ribs produced by forming external ribs on necks of parisons and pushing the external ribs into the necks during blowing of the parisons into the bottles.</p>',\n",
       " '<p id=\"p-0004\" num=\"0003\">A general object of the present disclosure, in accordance with one aspect of the disclosure, is to provide a bottle that includes an insulative body for reduced heat transfer from a user\\'s hand to improve insulation performance of the bottle.</p>',\n",
       " '<p id=\"p-0005\" num=\"0004\">The present disclosure embodies a number of aspects that can be implemented separately from or in combination with each other.</p>',\n",
       " '<p id=\"p-0006\" num=\"0005\">A bottle in accordance with one aspect of the disclosure extends along a longitudinal axis and includes a base, a neck, and an insulative body extending axially between the base and the neck. The body includes radially outwardly facing first surfaces spaced axially apart from one another, and a radially outwardly facing second surface radially smaller than, and located axially between, the first surfaces. The body also includes a plurality of projections projecting from the second surface and collectively establishing a radially outwardly facing third surface radially larger than the second surface, and parting line bridges projecting radially outwardly from the second surface, diametrically opposed to one another, and extending axially between the first surfaces. A label is carried by the body over at least a portion of the third surface, wherein a continuous insulation volume is established between the label and the second surface, and extends continuously over more than 90 angular degrees around the bottle.</p>',\n",
       " '<?summary-of-invention description=\"Summary of Invention\" end=\"tail\"?>',\n",
       " '<?brief-description-of-drawings description=\"Brief Description of Drawings\" end=\"lead\"?>',\n",
       " '<description-of-drawings>',\n",
       " '<heading id=\"h-0002\" level=\"1\">BRIEF DESCRIPTION OF THE DRAWINGS</heading>',\n",
       " '<p id=\"p-0007\" num=\"0006\">The disclosure, together with additional objects, features, advantages and aspects thereof, will be best understood from the following description, the appended claims and the accompanying drawings, in which:</p>',\n",
       " '<p id=\"p-0008\" num=\"0007\"><figref idref=\"DRAWINGS\">FIG. 1</figref> is an elevational view of a bottle having an insulative body, in accordance with an illustrative embodiment of the present disclosure;</p>',\n",
       " '<p id=\"p-0009\" num=\"0008\"><figref idref=\"DRAWINGS\">FIG. 2</figref> is a longitudinal cross-sectional view of the bottle of <figref idref=\"DRAWINGS\">FIG. 1</figref>, taken along line <b>2</b>-<b>2</b> of <figref idref=\"DRAWINGS\">FIG. 1</figref>;</p>',\n",
       " '<p id=\"p-0010\" num=\"0009\"><figref idref=\"DRAWINGS\">FIG. 3</figref> is an enlarged fragmentary portion of the bottle of <figref idref=\"DRAWINGS\">FIG. 1</figref>, taken from ellipse <b>3</b> of <figref idref=\"DRAWINGS\">FIG. 1</figref>;</p>',\n",
       " '<p id=\"p-0011\" num=\"0010\"><figref idref=\"DRAWINGS\">FIG. 4</figref> is a fragmentary portion of the bottle of <figref idref=\"DRAWINGS\">FIG. 1</figref>, rotated circumferentially to illustrate a bridge portion of the insulative body;</p>',\n",
       " '<p id=\"p-0012\" num=\"0011\"><figref idref=\"DRAWINGS\">FIG. 5</figref> is an elevational view of a bottle having an insulative body, in accordance with another illustrative embodiment of the present disclosure;</p>',\n",
       " '<p id=\"p-0013\" num=\"0012\"><figref idref=\"DRAWINGS\">FIG. 6</figref> is a longitudinal cross-sectional view of the bottle of <figref idref=\"DRAWINGS\">FIG. 5</figref>, taken along line <b>6</b>-<b>6</b> of <figref idref=\"DRAWINGS\">FIG. 5</figref>;</p>',\n",
       " '<p id=\"p-0014\" num=\"0013\"><figref idref=\"DRAWINGS\">FIG. 7</figref> is an enlarged fragmentary portion of the bottle of <figref idref=\"DRAWINGS\">FIG. 5</figref>, taken from ellipse <b>7</b> of <figref idref=\"DRAWINGS\">FIG. 5</figref>;</p>',\n",
       " '<p id=\"p-0015\" num=\"0014\"><figref idref=\"DRAWINGS\">FIG. 8</figref> is a fragmentary portion of the bottle of <figref idref=\"DRAWINGS\">FIG. 5</figref>, rotated circumferentially to illustrate a bridge portion of the insulative body;</p>',\n",
       " '<p id=\"p-0016\" num=\"0015\"><figref idref=\"DRAWINGS\">FIG. 9</figref> is an elevational view of a bottle having an insulative body, in accordance with a further illustrative embodiment of the present disclosure;</p>',\n",
       " '<p id=\"p-0017\" num=\"0016\"><figref idref=\"DRAWINGS\">FIG. 10</figref> is an elevational view of a bottle having an insulative body, in accordance with an additional illustrative embodiment of the present disclosure;</p>',\n",
       " '<p id=\"p-0018\" num=\"0017\"><figref idref=\"DRAWINGS\">FIG. 11</figref> is an elevational view of a conventional bottle in accordance with the prior art;</p>',\n",
       " '<p id=\"p-0019\" num=\"0018\"><figref idref=\"DRAWINGS\">FIG. 12</figref> is a longitudinal cross-sectional view of the bottle of <figref idref=\"DRAWINGS\">FIG. 11</figref>, taken along line <b>12</b>-<b>12</b> of <figref idref=\"DRAWINGS\">FIG. 11</figref>;</p>',\n",
       " '<p id=\"p-0020\" num=\"0019\"><figref idref=\"DRAWINGS\">FIG. 13</figref> is an enlarged fragmentary portion of the bottle of <figref idref=\"DRAWINGS\">FIG. 11</figref>, taken from ellipse <b>13</b> of <figref idref=\"DRAWINGS\">FIG. 11</figref>; and</p>',\n",
       " '<p id=\"p-0021\" num=\"0020\"><figref idref=\"DRAWINGS\">FIG. 14</figref> is a horizontal bar chart demonstrating insulation performance test results from the bottles of <figref idref=\"DRAWINGS\">FIGS. 1, 5, and 9</figref>.</p>',\n",
       " '</description-of-drawings>',\n",
       " '<?brief-description-of-drawings description=\"Brief Description of Drawings\" end=\"tail\"?>',\n",
       " '<?detailed-description description=\"Detailed Description\" end=\"lead\"?>',\n",
       " '<heading id=\"h-0003\" level=\"1\">DETAILED DESCRIPTION OF PREFERRED EMBODIMENTS</heading>',\n",
       " '<p id=\"p-0022\" num=\"0021\"><figref idref=\"DRAWINGS\">FIG. 1</figref> illustrates a bottle <b>120</b> extending along a longitudinal central axis A in accordance with one illustrative embodiment of the present disclosure. The bottle <b>120</b> may include a closed base <b>122</b>, an insulative body <b>124</b> extending longitudinally from the base <b>122</b> at one end of the body <b>124</b>, a shoulder <b>126</b> extending longitudinally and radially inwardly from another end of the body <b>124</b>, and a neck <b>128</b> extending longitudinally from the shoulder <b>126</b> terminating in a lip <b>130</b>. The bottle <b>120</b> also includes a neck finish <b>132</b> axially spaced from the shoulder <b>126</b> and terminating the neck <b>128</b>, and including one or more features for attachment of a desired closure (not shown). In the illustrated example, the neck finish <b>132</b> may be a crown type of finish that may include a capping flange <b>131</b>, a crimp bead or crown <b>133</b> for engagement with a crimping type of closure (not shown), and the lip <b>130</b>. In another example, although not illustrated, the neck finish <b>132</b> may be a threaded type of finish that may include a capping flange and one or more threads or thread segments to cooperate with corresponding thread segments on a threaded type of closure (not shown). In other examples, the neck finish <b>132</b> may include any other suitable closure attachment features. The bottle <b>120</b> may be used for containing, for example, a beverage, for instance, beer, wine, spirits, soda, or the like, or any other any flowable product.</p>',\n",
       " '<p id=\"p-0023\" num=\"0022\">The body <b>124</b> extends axially between the base <b>122</b> and the neck <b>128</b>, and may include radially outwardly facing first surfaces <b>134</b><i>a,b </i>spaced axially apart from one another and a radially recessed portion <b>136</b> extending axially between the radially outwardly facing first surfaces <b>134</b><i>a,b</i>. The first surfaces <b>134</b><i>a </i>and <b>134</b><i>b </i>may or may not be identical in radial size and may be generally circular or elliptical in cross-section perpendicular to the axis A.</p>',\n",
       " '<p id=\"p-0024\" num=\"0023\">The radially recessed portion <b>136</b> may include a base label surface or second surface <b>146</b> axially between and smaller than the first surfaces <b>134</b><i>a,b</i>. The recessed portion <b>136</b> also may include stepped portions <b>138</b><i>a,b </i>extending axially and radially inwardly from adjacent corresponding radially outwardly facing first surfaces <b>134</b><i>a,b</i>, and an insulative portion <b>140</b> extending axially between the radially outwardly facing first surfaces <b>134</b><i>a,b </i>and, more particularly, axially between the stepped portions <b>138</b><i>a,b</i>. In accordance with this embodiment, the insulative portion <b>140</b> of the radially recessed portion <b>136</b> may include the second surface <b>146</b> and a radially outwardly facing third surface <b>150</b> axially between the radially outwardly facing first surfaces <b>134</b><i>a,b</i>. The third surface <b>150</b> may be radially larger than the second surface <b>146</b> and established collectively by a plurality of projections <b>152</b> that project radially outwardly from the second surface <b>146</b>. More particularly, the third surface <b>150</b> may be established collectively by radially outwardly facing projection surfaces <b>154</b> of the projections <b>152</b>. The third surface <b>150</b> may be circular or elliptical in cross-section normal to the axis A.</p>',\n",
       " '<p id=\"p-0025\" num=\"0024\">The recessed portion <b>136</b> also may include radially outwardly facing fourth surfaces <b>142</b><i>a,b </i>axially between and radially smaller than the first surfaces <b>134</b><i>a,b </i>but radially larger than the second surface <b>146</b>. The recessed portion <b>136</b> further may include axially facing shoulders <b>144</b><i>a,b </i>between the first and fourth surfaces <b>134</b><i>a,b</i>, and <b>142</b><i>a,b</i>. The radially outwardly facing second surface <b>146</b> may extend axially between the radially outwardly facing fourth surfaces <b>142</b><i>a,b </i>and may be radially smaller than the fourth surfaces <b>142</b><i>a,b</i>. The recessed portion <b>136</b> additionally may include axially facing shoulders <b>148</b><i>a,b </i>between the second surface <b>146</b> and the fourth surfaces <b>142</b><i>a,b</i>. The fourth surfaces <b>142</b><i>a,b </i>may be radially substantially the same size as the third surface <b>150</b> and/or axially adjacent individual surfaces <b>154</b>. As used herein, the term &#x201c;substantially&#x201d; includes within manufacturing tolerances well known to those of ordinary skill in the art. In other embodiments, the third surface <b>150</b> and/or axially adjacent individual surfaces <b>154</b> may be smaller than the fourth surfaces <b>142</b><i>a,b </i>but larger than the second surface <b>146</b>, or may be larger than the fourth surfaces <b>142</b><i>a,b </i>but smaller than the first surfaces <b>134</b><i>a,b. </i></p>',\n",
       " '<p id=\"p-0026\" num=\"0025\">The first and fourth surfaces <b>134</b><i>a,b</i>, <b>142</b><i>a,b </i>and stepped portions <b>138</b><i>a,b </i>may be circumferentially continuous and, for example, in cross section perpendicular to the axis A, may be circular or elliptical. Likewise, except for the projections <b>152</b>, the second surface <b>146</b> may be circumferentially continuous and, for example, in cross section perpendicular to the axis A, may be circular or elliptical.</p>',\n",
       " '<p id=\"p-0027\" num=\"0026\">In this embodiment, the projections <b>152</b> may be axially and circumferentially spaced apart from one another in an array of straight circumferentially spaced and axially offset columns, wherein individual projections of adjacent columns may be axially staggered with respect to one another. The projection array may include at least eight rows and at least twenty columns for at least <b>160</b> individual projections <b>152</b>.</p>',\n",
       " '<p id=\"p-0028\" num=\"0027\">Also in this embodiment, the projections <b>152</b> may be nubs. In the illustrated example, the nubs may be frustoconical. More specifically, the outer projection surfaces <b>154</b> may have a circular shape when viewed from a radial direction, and the projections <b>152</b> may have a trapezoidal shape in longitudinal cross section (<figref idref=\"DRAWINGS\">FIG. 2</figref>). But, in other examples, the nubs may be semi-spherical, cylindrical, conical, and/or any other suitable shape(s).</p>',\n",
       " '<p id=\"p-0029\" num=\"0028\">With reference to <figref idref=\"DRAWINGS\">FIG. 2</figref>, the wall of the container body <b>124</b> may include plurality of reliefs or dimples <b>151</b> in, and that extend radially outwardly from, a radially inner surface <b>149</b> of the body <b>124</b>. The dimples <b>151</b> correspond to the projections <b>152</b>. More particularly, the radially inner surface <b>149</b> may be part of the insulative portion <b>140</b>. The radially inner surface <b>149</b> may be smaller than radially inner surfaces <b>133</b><i>a</i>, <b>133</b><i>b </i>of the body <b>124</b> that correspond to the outer surfaces <b>134</b><i>a</i>, <b>134</b><i>b </i>on either axial end of the portion <b>140</b>.</p>',\n",
       " '<p id=\"p-0030\" num=\"0029\">With reference to <figref idref=\"DRAWINGS\">FIG. 3</figref>, some or all of the projections <b>152</b> may include radially outwardly facing projection surfaces <b>154</b>. In the illustrated example, the surfaces <b>154</b> may appear flat, but actually may be at least one of flat or faceted, crowned, semi-spherical, or part of a surface of revolution 360 angular degrees around the bottle <b>120</b>.</p>',\n",
       " '<p id=\"p-0031\" num=\"0030\">As shown in <figref idref=\"DRAWINGS\">FIG. 4</figref>, the body <b>124</b> may include parting line bridges <b>155</b> that may be diametrically opposed and project radially outwardly from the second surface <b>146</b>. The parting line bridges <b>155</b> may axially intersect the projections <b>152</b> and may have outer surfaces <b>157</b> coincident with the outer surfaces <b>154</b> of the projections <b>152</b> and the radially outwardly facing fourth surfaces <b>142</b><i>a,b. </i></p>',\n",
       " '<p id=\"p-0032\" num=\"0031\">Referring to <figref idref=\"DRAWINGS\">FIG. 1</figref>, the bottle <b>120</b> may be part of a package that may include a separate label <b>160</b> applied to the bottle <b>120</b> and, more specifically, carried by the body <b>124</b>. In one embodiment, the label <b>160</b> may be generally rectangular with transverse ends (not shown), and may be wrapped circumferentially around the body <b>124</b> such that the transverse ends overlap. In another embodiment, the label <b>160</b> may be circumferentially continuous and of generally hollow cylindrical shape, and the label <b>160</b> may be placed axially over the bottle <b>120</b> and shrink fit around the body <b>124</b>. The label <b>160</b> may be composed of any suitable material but, preferably, may be composed of paper, plastic film, or of any other suitable flaccid material.</p>',\n",
       " '<p id=\"p-0033\" num=\"0032\">In any case, the label <b>160</b> may include axial ends <b>162</b><i>a,b </i>and axial margins <b>164</b><i>a,b </i>adjacent the axial ends <b>162</b><i>a,b</i>. The axial ends <b>162</b><i>a,b </i>may be carried on the fourth surfaces <b>142</b><i>a,b</i>, for example, in circumferentially continuous surface contact therewith. In fact, the axial margins <b>164</b><i>a,b </i>may be adhered to the fourth surfaces <b>142</b><i>a,b </i>using pressure-sensitive adhesive carried by the label <b>160</b> or any other suitable adhesive, and the axial margins <b>164</b><i>a,b </i>may be sealed to the bottle <b>120</b> circumferentially continuously to provide an air-tight volume of air between the label <b>160</b> and the bottle <b>120</b>.</p>',\n",
       " '<p id=\"p-0034\" num=\"0033\">Also, or instead, the label <b>160</b> may be carried by at least some of the projections <b>152</b>. For example, corresponding portions of the label <b>160</b> may be adhered to the radially outwardly facing surfaces <b>154</b> of the projections using pressure-sensitive adhesive carried by the label <b>160</b> or any other suitable adhesive. The surface contact between the label <b>160</b> and the third surface <b>150</b> is characterized by multiple discrete contact areas such that there is no continuous path of surface contact between the label <b>160</b> and the third surface <b>150</b> for 360 angular degrees around the bottle.</p>',\n",
       " '<p id=\"p-0035\" num=\"0034\">To the contrary, the contact between the label <b>160</b> and the corresponding portion of the body <b>124</b> is circumferentially and axially interrupted by circumferential and axial spaces between the projections <b>152</b>. In other words, radial, axial, and circumferential space establishes one or more insulation volumes between the label <b>160</b> and the second surface <b>146</b> that extend continuously over more than 90 angular degrees around the container <b>120</b> about the axis A. The insulation volumes may include two insulation volumes that extend about 180 degrees around the container <b>120</b> about the axis A, except for the bridges <b>155</b>. Accordingly, one or more large volumes of air may be defined between the label <b>160</b> and the body <b>124</b> and may be circumferentially continuous for more than 90 degrees, axially between the shoulders <b>148</b><i>a,b</i>. In one embodiment, the two insulation volumes may be connected, for example, via reliefs <b>153</b> extending circumferentially across and radially into one or both of the bridges <b>155</b>, or in any other suitable manner. Accordingly, in contrast to prior approaches where a plurality of individual discrete pockets are established between a label and a bottle, here a much larger volume of air may be defined between the label <b>160</b> and the bottle <b>120</b> for improved insulative effect.</p>',\n",
       " '<p id=\"p-0036\" num=\"0035\">In fact, according to computer aided design analysis and calculations, the volume of air between the label <b>160</b> and bottle <b>120</b> is on the order of 0.031 cubic inches per square inch of corresponding label area. The calculated total volume includes those volumes under or radially inward of the label surface area that are axially between the steps <b>142</b><i>a</i>, <b>142</b><i>b </i>and circumferentially between the bridges <b>155</b>.</p>',\n",
       " '<p id=\"p-0037\" num=\"0036\">The bottle <b>120</b> may be of any suitable shape and size. In just one of many potential examples, the bottle <b>120</b> may be a longneck bottle having an overall height H, and the neck <b>128</b> (including neck finish <b>132</b>) having a neck height h. For purposes of the present disclosure, the term &#x201c;longneck bottle&#x201d; is defined as a bottle in which the height h of the bottle neck is at least 25% of the overall bottle height H. In illustrative embodiments of the present disclosure, the neck height h is in the range of 33% to 40% of bottle height H. The heights H, h may be measured to the sealing surface or lip <b>130</b> that axially terminates the neck <b>128</b> and neck finish <b>132</b>. Also, the bottle <b>120</b> may be a narrow neck bottle, having a thread diameter (so-called &#x201c;T&#x201d; dimension) or a crown diameter (so-called &#x201c;A&#x201d; dimension) not more than 38 mm. The bottle <b>120</b> is of one-piece integrally formed construction, for, example, of glass, ceramic, metal, or plastic construction. (The term &#x201c;integrally formed construction&#x201d; does not exclude one-piece integrally molded layered glass constructions of the type disclosed for example in U.S. Pat. No. 4,740,401, or one-piece glass or metal bottles to which other structure is added after the bottle-forming operation.) The bottle <b>120</b> may be composed of any suitable material, for example, glass, plastic, or metal. Glass bottles can be fabricated by press-and-blow and/or blow-and-blow manufacturing operations, or by any other suitable technique(s). Plastic bottles can be produced by injection and/or blow molding techniques. Metal bottles can be produced by bending, rolling, welding, or any other suitable forming or joining techniques.</p>',\n",
       " '<p id=\"p-0038\" num=\"0037\"><figref idref=\"DRAWINGS\">FIGS. 5 through 7</figref> illustrate another illustrative embodiment of a bottle <b>220</b>. This embodiment is similar in many respects to the embodiment of <figref idref=\"DRAWINGS\">FIGS. 1 through 4</figref> and like numerals between the embodiments generally designate like or corresponding elements throughout the several views of the drawing figures. Accordingly, the descriptions of the embodiments are incorporated into one another, and description of subject matter common to the embodiments generally may not be repeated here.</p>',\n",
       " '<p id=\"p-0039\" num=\"0038\">With reference to <figref idref=\"DRAWINGS\">FIG. 5</figref>, the bottle <b>220</b> may be substantially identical to the bottle <b>120</b> of <figref idref=\"DRAWINGS\">FIGS. 1 through 4</figref>, except for a different insulative body <b>224</b>. In accordance with this embodiment, the body <b>224</b> may include a different radially recessed portion <b>236</b> including a different insulative portion <b>240</b>. The body <b>224</b> also may include a plurality of annular ribs <b>252</b> projecting from the radially outwardly facing primary surface <b>146</b> and collectively establishing a radially outwardly facing third surface <b>250</b> radially larger than the radially outwardly facing second surface <b>146</b> and radially smaller than the radially outwardly facing first surfaces <b>134</b><i>a,b</i>. The third surface <b>250</b> and/or axially adjacent individual surfaces <b>254</b> may be radially substantially the same size as the fourth surfaces <b>142</b><i>a,b</i>. In other embodiments, the third surface <b>250</b> and/or axially adjacent individual surfaces <b>254</b> may be smaller than the fourth surfaces <b>142</b><i>a,b </i>but larger than the second surface <b>146</b>, or may be larger than the fourth surfaces <b>142</b><i>a,b </i>but smaller than the first surfaces <b>134</b><i>a,b. </i></p>',\n",
       " '<p id=\"p-0040\" num=\"0039\">The ribs <b>252</b> are annular and axially spaced apart, with annular spaces therebetween. The ribs <b>252</b> may be arranged in any suitable quantity of rows and, as illustrated, may include at least twelve spaced apart rows. At least some of the ribs <b>252</b> may include reliefs <b>253</b> that circumferentially interrupt the ribs <b>252</b> to allow communication of air between the annular spaces established by the ribs <b>252</b>.</p>',\n",
       " '<p id=\"p-0041\" num=\"0040\">With reference to <figref idref=\"DRAWINGS\">FIG. 6</figref>, the wall of the container body <b>224</b> may include plurality of annular reliefs <b>251</b> in, and that extend radially outwardly from, a radially inner surface <b>249</b> of the body <b>224</b>. The reliefs <b>251</b> correspond to the projections <b>252</b>. More particularly, the radially inner surface <b>249</b> may be part of the insulative portion <b>240</b>. The radially inner surface <b>249</b> may be smaller than radially inner surfaces <b>133</b><i>a</i>, <b>133</b><i>b </i>of the body <b>224</b> that correspond to the outer surfaces <b>134</b><i>a,b </i>on either axial end of the portion <b>240</b>.</p>',\n",
       " '<p id=\"p-0042\" num=\"0041\">With reference to <figref idref=\"DRAWINGS\">FIG. 7</figref>, some or all of the ribs <b>252</b> may include radially outwardly facing surfaces <b>254</b>. In the illustrated example, the surfaces <b>154</b> may be semi-spherical, but in other examples, the outer surfaces <b>254</b> may be faceted, or of any other suitable configuration.</p>',\n",
       " '<p id=\"p-0043\" num=\"0042\">As shown in <figref idref=\"DRAWINGS\">FIG. 8</figref>, the body <b>224</b> may include parting line bridges <b>255</b> that may be diametrically opposed and project radially outwardly from the second surface <b>146</b>. The parting line bridges <b>255</b> may axially intersect the projections <b>252</b> and may have outer surfaces <b>257</b> coincident with the outer surfaces <b>254</b> of the projections <b>252</b> and with the radially outwardly facing fourth surfaces <b>142</b><i>a,b. </i></p>',\n",
       " '<p id=\"p-0044\" num=\"0043\">Referring to <figref idref=\"DRAWINGS\">FIG. 5</figref>, the bottle <b>220</b> also may be part of a package including the label <b>160</b>. Radial, axial, and circumferential spaces may establish insulating volumes between the label <b>160</b> and the second surface <b>146</b> and may extend continuously over more than 90 angular degrees around the bottle <b>220</b>. In the embodiment including the reliefs <b>253</b>, one or more large volumes of air may be defined between the label <b>160</b> and the body <b>224</b> and may be circumferentially continuous, at between the shoulders <b>148</b><i>a,b </i>and at least circumferentially between the parting line bridges if not completely around the container <b>220</b> about the axis A. Accordingly, in contrast to prior approaches where a plurality of individual discrete pockets are established between a label and a bottle, here a much larger volume of air may be defined between the label <b>160</b> and the bottle <b>220</b> for improved insulative effect.</p>',\n",
       " '<p id=\"p-0045\" num=\"0044\">In fact, according to computer aided design analysis and calculations, the volume of air between the label <b>160</b> and bottle <b>220</b> is on the order of 0.025 cubic inches per square inch of corresponding label area. The calculated total volume includes those volumes under or radially inward of the label surface area that are axially between the steps <b>142</b><i>a</i>, <b>142</b><i>b </i>and circumferentially between the bridges <b>255</b>.</p>',\n",
       " '<p id=\"p-0046\" num=\"0045\">Accordingly, the volume of air between the label <b>160</b> and the bottles <b>120</b> or <b>220</b> is preferably at least 0.020 cubic inches per square inch of corresponding label area and, more preferably, at least 0.025 cubic inches per square inch of corresponding label area, and most preferably, at least 0.030 cubic inches per square inch of corresponding label area.</p>',\n",
       " '<p id=\"p-0047\" num=\"0046\"><figref idref=\"DRAWINGS\">FIG. 9</figref> illustrates another illustrative embodiment of a bottle <b>320</b>. This embodiment is similar in many respects to the embodiment of <figref idref=\"DRAWINGS\">FIGS. 1 through 8</figref> and like numerals between the embodiments generally designate like or corresponding elements throughout the several views of the drawing figures. Accordingly, the descriptions of the embodiments are incorporated into one another, and description of subject matter common to the embodiments generally may not be repeated here.</p>',\n",
       " '<p id=\"p-0048\" num=\"0047\">The bottle <b>320</b> is substantially similar to the bottle <b>120</b> of <figref idref=\"DRAWINGS\">FIGS. 1-4</figref>, except for stepped portions <b>338</b><i>a,b</i>. In this embodiment, the stepped portions <b>338</b><i>a,b </i>are stepped radially inwardly to a lesser extent compared to the bottle <b>120</b> of <figref idref=\"DRAWINGS\">FIGS. 1-4</figref>, and include beveled portions <b>343</b><i>a,b </i>that transition from fourth surfaces <b>342</b><i>a,b </i>to a second surface <b>346</b> and that may carry at least portions of nubs <b>352</b> thereon. At least some axially outermost nubs <b>352</b> may be intersected by the fourth surfaces <b>342</b><i>a,b </i>as illustrated, and at least some nubs <b>352</b> axially inward thereof may be intersected by a transition between the fourth surfaces <b>342</b><i>a,b </i>and the second surface <b>346</b>. Also, as illustrated, the outer surfaces <b>354</b> of the nubs <b>352</b> and, thus, a third surface <b>350</b>, may be smaller in radial dimension than the fourth surfaces <b>342</b><i>a,b. </i></p>',\n",
       " '<p id=\"p-0049\" num=\"0048\"><figref idref=\"DRAWINGS\">FIG. 10</figref> illustrates another illustrative embodiment of a bottle <b>420</b>. This embodiment is similar in many respects to the embodiment of <figref idref=\"DRAWINGS\">FIGS. 1 through 9</figref> and like numerals between the embodiments generally designate like or corresponding elements throughout the several views of the drawing figures. Accordingly, the descriptions of the embodiments are incorporated into one another, and description of subject matter common to the embodiments generally may not be repeated here.</p>',\n",
       " '<p id=\"p-0050\" num=\"0049\">The bottle <b>420</b> is substantially similar to the bottle <b>220</b> of <figref idref=\"DRAWINGS\">FIGS. 5-8</figref>, except for stepped portions <b>438</b><i>a,b</i>. In this embodiment, like the previous embodiment, the stepped portions <b>438</b><i>a,b </i>are stepped radially inwardly to a lesser extent compared to the bottle <b>220</b> of <figref idref=\"DRAWINGS\">FIGS. 5-8</figref>, and include beveled portions <b>443</b><i>a,b </i>that transition from fourth surfaces <b>442</b><i>a,b </i>to a second surface <b>446</b>. Also, as illustrated, the outer surfaces <b>454</b> of the nubs <b>452</b> and, thus, a third surface <b>450</b>, may be smaller in radial dimension than the fourth surfaces <b>442</b><i>a,b. </i></p>',\n",
       " '<p id=\"p-0051\" num=\"0050\"><figref idref=\"DRAWINGS\">FIGS. 11 through 13</figref> illustrate a conventional bottle <b>20</b>, in accordance with the prior art, which shares some aspects with the embodiments of <figref idref=\"DRAWINGS\">FIGS. 1 through 10</figref> and like numerals between the embodiments generally designate like or corresponding elements throughout the several views of the drawing figures. Accordingly, the descriptions of the embodiments are incorporated into one another, and description of subject matter common to the embodiments generally may not be repeated here.</p>',\n",
       " '<p id=\"p-0052\" num=\"0051\">With reference to <figref idref=\"DRAWINGS\">FIG. 11</figref>, the prior art bottle <b>20</b> extends along a longitudinal central axis A and includes a closed base <b>22</b>, a body <b>24</b> extending longitudinally from the base <b>22</b>, a shoulder <b>26</b> extending longitudinally and radially inwardly from the body <b>24</b>, and a neck <b>28</b> extending longitudinally from the shoulder <b>26</b> to and including a lip <b>30</b>. The bottle <b>20</b> also includes a neck finish <b>32</b> axially spaced from the shoulder <b>26</b> and terminating the neck <b>28</b>, and including a capping flange <b>31</b> and a crown <b>33</b>.</p>',\n",
       " '<p id=\"p-0053\" num=\"0052\">Also with reference to <figref idref=\"DRAWINGS\">FIG. 12</figref>, the bottle <b>20</b> has radially outwardly facing first surfaces <b>34</b><i>a,b</i>, and a radially recessed portion <b>36</b> extending therebetween. The recessed portion <b>36</b> includes stepped portions <b>43</b><i>a,b </i>extending axially and radially inwardly from adjacent corresponding radially outwardly facing first surfaces <b>34</b><i>a,b</i>, and a radially outwardly facing base label surface <b>46</b> extending axially between the stepped portions <b>43</b><i>a,b</i>. Accordingly, the bottle <b>20</b> lacks the insulative features disclosed herein.</p>',\n",
       " '<p id=\"p-0054\" num=\"0053\">Referring to <figref idref=\"DRAWINGS\">FIG. 13</figref>, a label <b>60</b> may be carried by the label surface <b>46</b> in any suitable manner. The label <b>60</b> is in complete cylindrically continuous contact with a corresponding portion of the body <b>24</b>.</p>',\n",
       " '<p id=\"p-0055\" num=\"0054\">With reference to <figref idref=\"DRAWINGS\">FIG. 14</figref>, to evaluate the improvement of the insulative properties that can be obtained in accordance with the technical teachings herein, several specimens were fabricated for testing. <figref idref=\"DRAWINGS\">FIG. 14</figref> graphically illustrates results from evaluating temperature increase over time for the two example embodiments of bottles <b>120</b>, <b>220</b> described herein against the prior art bottle <b>20</b> described herein under identical test conditions.</p>',\n",
       " '<p id=\"p-0056\" num=\"0055\">More specifically, a control specimen, according to the conventional bottle <b>20</b> of <figref idref=\"DRAWINGS\">FIGS. 11-13</figref>, was fabricated and is represented by the top bar in the legend of <figref idref=\"DRAWINGS\">FIG. 14</figref>, a second specimen according to <figref idref=\"DRAWINGS\">FIGS. 5-8</figref> was fabricated and is represented by the middle bar in the legend, and a third specimen according to <figref idref=\"DRAWINGS\">FIGS. 1-4</figref> was fabricated and is represented by the bottom bar in the legend.</p>',\n",
       " '<p id=\"p-0057\" num=\"0056\">A test apparatus (not shown) included a thermal chamber for heating a bottle, a heater in communication with the thermal chamber, a bottle chamber carried in the thermal chamber and adapted to receive a bottle, a thermocouple array to measure temperature of the liquid in the bottle, a cooling reservoir to cool and hold liquid and including one or more thermocouples, pumps and conduit to convey fluid to and from the bottle, and electronics and a computer in communication with the aforementioned devices to control the devices and having suitable test software loaded thereto. For each specimen, the following operational steps were carried out.</p>',\n",
       " '<p id=\"p-0058\" num=\"0057\">1. Ensure that the bottle is empty and the cooling reservoir is ready to start.</p>',\n",
       " '<p id=\"p-0059\" num=\"0058\">2. Place the bottle in the bottle chamber of the test apparatus.</p>',\n",
       " '<p id=\"p-0060\" num=\"0059\">3. Lower the thermocouple array into the bottle.</p>',\n",
       " '<p id=\"p-0061\" num=\"0060\">4. Ensure that the bath is colder than 0&#xb0; C. so that the test can begin at no more than 3&#xb0; C.</p>',\n",
       " '<p id=\"p-0062\" num=\"0061\">5. Make sure the cold liquid pump is operational.</p>',\n",
       " '<p id=\"p-0063\" num=\"0062\">6. Using the computer, enter applicable information for the test in a test header.</p>',\n",
       " '<p id=\"p-0064\" num=\"0063\">7. Choose the appropriate test profile using the computer.</p>',\n",
       " '<p id=\"p-0065\" num=\"0064\">8.Press a GO button to initiate the test. At this point, the pump operates to fill the bottle with the cold liquid, for example, 95% water and 5% isopropanol, and the cold liquid is at a starting temperature of three degrees Celsius in the bottle. The heater blows warm air over the external surfaces of the bottle, and the temperature of the liquid in each bottle is measured. The bottle liquid measurements are plotted in <figref idref=\"DRAWINGS\">FIG. 14</figref> at intervals of 6, 7, 8, 9, and 10 minutes after the test is initiated.</p>',\n",
       " '<p id=\"p-0066\" num=\"0065\">At each of the intervals, the differences in temperature between the control and each of the presently disclosed bottle specimens can be seen in <figref idref=\"DRAWINGS\">FIG. 14</figref>. In particular, the differences in temperatures are greatest between the control and the bottle specimen corresponding to <figref idref=\"DRAWINGS\">FIGS. 1-4</figref>. Accordingly, it can be seen from <figref idref=\"DRAWINGS\">FIG. 14</figref>, that the embodiment illustrated in <figref idref=\"DRAWINGS\">FIGS. 1-4</figref> provides a 15-18% improvement in insulative performance over the prior art.</p>',\n",
       " '<p id=\"p-0067\" num=\"0066\">There thus has been disclosed a bottle that fully satisfies all of the objects and aims previously set forth. The disclosure has been presented in conjunction with several illustrative embodiments, and additional modifications and variations have been discussed. Other modifications and variations readily will suggest themselves to persons of ordinary skill in the art in view of the foregoing discussion. The disclosure is intended to embrace all such modifications and variations as fall within the spirit and broad scope of the appended claims.</p>',\n",
       " '<?detailed-description description=\"Detailed Description\" end=\"tail\"?>',\n",
       " '</description>',\n",
       " '<claims id=\"claims\">',\n",
       " '<claim id=\"CLM-00001\" num=\"00001\">',\n",
       " '<claim-text><b>1</b>. A bottle extending along a longitudinal axis and that includes, a base;',\n",
       " '<claim-text>a neck;</claim-text>',\n",
       " '<claim-text>an insulative body extending axially between the base and the neck, and including:',\n",
       " '<claim-text>radially outwardly facing first surfaces spaced axially apart from one another;</claim-text>',\n",
       " '<claim-text>a radially outwardly facing second surface radially smaller than, and located axially between, the first surfaces;</claim-text>',\n",
       " '<claim-text>a plurality of projections projecting from the second surface and collectively establishing a radially outwardly facing third surface radially larger than the second surface; and</claim-text>',\n",
       " '<claim-text>parting line bridges projecting radially outwardly from the second surface, diametrically opposed to one another, and extending axially between the first surfaces; and</claim-text>',\n",
       " '<claim-text>a label carried by the body over at least a portion of the third surface, wherein a continuous insulation volume is established between the label and the second surface, and extends continuously over more than 90 angular degrees around the bottle.</claim-text>',\n",
       " '</claim-text>',\n",
       " '</claim-text>',\n",
       " '</claim>',\n",
       " '<claim id=\"CLM-00002\" num=\"00002\">',\n",
       " '<claim-text><b>2</b>. The bottle set forth in <claim-ref idref=\"CLM-00001\">claim 1</claim-ref>, wherein the second surface is cylindrical, and the projections are axially and circumferentially spaced apart from one another in an array of straight circumferentially spaced and axially offset columns wherein individual projections of adjacent columns are axially staggered with respect to one another.</claim-text>',\n",
       " '</claim>',\n",
       " '<claim id=\"CLM-00003\" num=\"00003\">',\n",
       " '<claim-text><b>3</b>. The bottle set forth in <claim-ref idref=\"CLM-00001\">claim 1</claim-ref>, wherein the projections are nubs, which are frustoconical and circular when viewed radially, and have a trapezoidal shape in longitudinal cross section.</claim-text>',\n",
       " '</claim>',\n",
       " '<claim id=\"CLM-00004\" num=\"00004\">',\n",
       " '<claim-text><b>4</b>. The bottle set forth in <claim-ref idref=\"CLM-00003\">claim 3</claim-ref>, wherein the nubs include radially outwardly facing faces that are at least one of faceted, crowned, semi-spherical, or part of a surface of revolution 360 angular degrees around the bottle.</claim-text>',\n",
       " '</claim>',\n",
       " '<claim id=\"CLM-00005\" num=\"00005\">',\n",
       " '<claim-text><b>5</b>. The bottle set forth in <claim-ref idref=\"CLM-00001\">claim 1</claim-ref>, wherein the insulation volume is at least 0.020 cubic inches per square inch of corresponding label area.</claim-text>',\n",
       " '</claim>',\n",
       " '<claim id=\"CLM-00006\" num=\"00006\">',\n",
       " '<claim-text><b>6</b>. The bottle set forth in <claim-ref idref=\"CLM-00001\">claim 1</claim-ref>, wherein surface contact between the label and the third surface is characterized by multiple discrete contact areas such that there is no continuous path of surface contact between the label and third surface 360 angular degrees around the bottle.</claim-text>',\n",
       " '</claim>',\n",
       " '<claim id=\"CLM-00007\" num=\"00007\">',\n",
       " '<claim-text><b>7</b>. The bottle set forth in <claim-ref idref=\"CLM-00001\">claim 1</claim-ref>, wherein the at least one radially outwardly facing first surface includes first surfaces spaced axially apart from one another, and wherein the body further includes: a radially recessed portion extending axially between the radially outwardly facing first surfaces, and including: stepped portions extending axially and radially inwardly from the first surfaces, an insulative portion extending axially between the stepped portions, and including the second and third surfaces, and radially outwardly facing fourth surfaces axially between and radially smaller than the first surfaces but radially larger than the second surface, a pair of axially facing shoulders between the first and fourth surfaces, a pair of axially facing shoulders or bevelled portions between the second and fourth surfaces, wherein the third surface is radially smaller than the first surfaces.</claim-text>',\n",
       " '</claim>',\n",
       " '<claim id=\"CLM-00008\" num=\"00008\">',\n",
       " '<claim-text><b>8</b>. The bottle set forth in <claim-ref idref=\"CLM-00007\">claim 7</claim-ref>, wherein the third surface is cylindrical and radially substantially the same size as the fourth surfaces.</claim-text>',\n",
       " '</claim>',\n",
       " '<claim id=\"CLM-00009\" num=\"00009\">',\n",
       " '<claim-text><b>9</b>. The bottle set forth in <claim-ref idref=\"CLM-00007\">claim 7</claim-ref>, wherein the insulation volume extends continuously between the pair of axially facing shoulders or beveled portions.</claim-text>',\n",
       " '</claim>',\n",
       " '<claim id=\"CLM-00010\" num=\"00010\">',\n",
       " '<claim-text><b>10</b>. The bottle set forth in <claim-ref idref=\"CLM-00001\">claim 1</claim-ref>, wherein the insulation volume extends continuously about 180 angular degrees around the bottle except for the bridges.</claim-text>',\n",
       " '</claim>',\n",
       " '<claim id=\"CLM-00011\" num=\"00011\">',\n",
       " '<claim-text><b>11</b>. The bottle set forth in <claim-ref idref=\"CLM-00001\">claim 1</claim-ref>, wherein the label has axial margins sealed to the bottle so that the continuous insulation volume is air-tight.</claim-text>',\n",
       " '</claim>',\n",
       " '<claim id=\"CLM-00012\" num=\"00012\">',\n",
       " '<claim-text><b>12</b>. The bottle set forth in <claim-ref idref=\"CLM-00001\">claim 1</claim-ref>, wherein the projections are axially spaced apart annular ribs to establish annular spaces therebetween.</claim-text>',\n",
       " '</claim>',\n",
       " '<claim id=\"CLM-00013\" num=\"00013\">',\n",
       " '<claim-text><b>13</b>. The bottle set forth in <claim-ref idref=\"CLM-00012\">claim 12</claim-ref>, wherein at least some of the annular ribs include reliefs to establish circumferential spaces between portions of the ribs.</claim-text>',\n",
       " '</claim>',\n",
       " '</claims>',\n",
       " '</us-patent-application>']"
      ]
     },
     "execution_count": 154,
     "metadata": {},
     "output_type": "execute_result"
    }
   ],
   "source": [
    "one_patent"
   ]
  },
  {
   "cell_type": "code",
   "execution_count": 108,
   "metadata": {},
   "outputs": [],
   "source": [
    "import re\n",
    "\n",
    "### For kind codes\n",
    "kind_pattern = \"<kind>\"\n",
    "kind_re = re.compile(kind_pattern)\n",
    "\n",
    "element_extract_pattern = r\"<[^>]*?>\"\n",
    "element_extract_re = re.compile(element_extract_pattern)\n",
    "\n",
    "### For claims\n",
    "claim_s_pattern = r\"<claim id=\"\n",
    "claim_s = re.compile(claim_s_pattern)\n",
    "\n",
    "claim_e_pattern = r\"</claim>\"\n",
    "claim_e = re.compile(claim_e_pattern)\n",
    "\n",
    "tag_pattern = r\"(<claim-text>|</claim-text>|<claim id=.*?>|<b>[0-9]*</b>.|<claim-ref idref=.*?</claim-ref>)\"\n",
    "tag_re = re.compile(tag_pattern)"
   ]
  },
  {
   "cell_type": "code",
   "execution_count": 110,
   "metadata": {},
   "outputs": [
    {
     "data": {
      "text/plain": [
       "'A1'"
      ]
     },
     "execution_count": 110,
     "metadata": {},
     "output_type": "execute_result"
    }
   ],
   "source": [
    "element_extract_re.sub(\"\", \"<kind>A1</kind>\")"
   ]
  },
  {
   "cell_type": "code",
   "execution_count": 86,
   "metadata": {},
   "outputs": [
    {
     "data": {
      "text/plain": [
       "' A bottle extending along a longitudinal axis and that includes, a base;'"
      ]
     },
     "execution_count": 86,
     "metadata": {},
     "output_type": "execute_result"
    }
   ],
   "source": [
    "tag_re.sub(\"\", \"<claim-text><b>1</b>. A bottle extending along a longitudinal axis and that includes, a base;\")"
   ]
  },
  {
   "cell_type": "code",
   "execution_count": 112,
   "metadata": {
    "scrolled": false
   },
   "outputs": [],
   "source": [
    "kind_code = \"\"\n",
    "claims = \"\"\n",
    "\n",
    "for idx,elem in enumerate(one_patent):\n",
    "    if kind_re.match(elem):\n",
    "        kind_code += element_extract_re.sub(\"\", elem)\n",
    "    if claim_s.match(elem):\n",
    "        i = 0\n",
    "        while not claim_e.match(one_patent[idx+i]):\n",
    "#             print( tag_re.sub(\"\", one_patent[idx+i]) )\n",
    "            one_line_text = tag_re.sub(\"\", one_patent[idx+i])\n",
    "            claims += one_line_text\n",
    "            i += 1"
   ]
  },
  {
   "cell_type": "code",
   "execution_count": 113,
   "metadata": {},
   "outputs": [
    {
     "data": {
      "text/plain": [
       "'A1'"
      ]
     },
     "execution_count": 113,
     "metadata": {},
     "output_type": "execute_result"
    }
   ],
   "source": [
    "kind_code"
   ]
  },
  {
   "cell_type": "code",
   "execution_count": 95,
   "metadata": {},
   "outputs": [
    {
     "data": {
      "text/plain": [
       "' A bottle extending along a longitudinal axis and that includes, a base;a neck;an insulative body extending axially between the base and the neck, and including:radially outwardly facing first surfaces spaced axially apart from one another;a radially outwardly facing second surface radially smaller than, and located axially between, the first surfaces;a plurality of projections projecting from the second surface and collectively establishing a radially outwardly facing third surface radially larger than the second surface; andparting line bridges projecting radially outwardly from the second surface, diametrically opposed to one another, and extending axially between the first surfaces; anda label carried by the body over at least a portion of the third surface, wherein a continuous insulation volume is established between the label and the second surface, and extends continuously over more than 90 angular degrees around the bottle. The bottle set forth in , wherein the second surface is cylindrical, and the projections are axially and circumferentially spaced apart from one another in an array of straight circumferentially spaced and axially offset columns wherein individual projections of adjacent columns are axially staggered with respect to one another. The bottle set forth in , wherein the projections are nubs, which are frustoconical and circular when viewed radially, and have a trapezoidal shape in longitudinal cross section. The bottle set forth in , wherein the nubs include radially outwardly facing faces that are at least one of faceted, crowned, semi-spherical, or part of a surface of revolution 360 angular degrees around the bottle. The bottle set forth in , wherein the insulation volume is at least 0.020 cubic inches per square inch of corresponding label area. The bottle set forth in , wherein surface contact between the label and the third surface is characterized by multiple discrete contact areas such that there is no continuous path of surface contact between the label and third surface 360 angular degrees around the bottle. The bottle set forth in , wherein the at least one radially outwardly facing first surface includes first surfaces spaced axially apart from one another, and wherein the body further includes: a radially recessed portion extending axially between the radially outwardly facing first surfaces, and including: stepped portions extending axially and radially inwardly from the first surfaces, an insulative portion extending axially between the stepped portions, and including the second and third surfaces, and radially outwardly facing fourth surfaces axially between and radially smaller than the first surfaces but radially larger than the second surface, a pair of axially facing shoulders between the first and fourth surfaces, a pair of axially facing shoulders or bevelled portions between the second and fourth surfaces, wherein the third surface is radially smaller than the first surfaces. The bottle set forth in , wherein the third surface is cylindrical and radially substantially the same size as the fourth surfaces. The bottle set forth in , wherein the insulation volume extends continuously between the pair of axially facing shoulders or beveled portions. The bottle set forth in , wherein the insulation volume extends continuously about 180 angular degrees around the bottle except for the bridges. The bottle set forth in , wherein the label has axial margins sealed to the bottle so that the continuous insulation volume is air-tight. The bottle set forth in , wherein the projections are axially spaced apart annular ribs to establish annular spaces therebetween. The bottle set forth in , wherein at least some of the annular ribs include reliefs to establish circumferential spaces between portions of the ribs.'"
      ]
     },
     "execution_count": 95,
     "metadata": {},
     "output_type": "execute_result"
    }
   ],
   "source": [
    "claims"
   ]
  },
  {
   "cell_type": "markdown",
   "metadata": {},
   "source": [
    "Get all {kind code, claims} pairs."
   ]
  },
  {
   "cell_type": "code",
   "execution_count": 115,
   "metadata": {},
   "outputs": [
    {
     "data": {
      "text/html": [
       "<div>\n",
       "<style scoped>\n",
       "    .dataframe tbody tr th:only-of-type {\n",
       "        vertical-align: middle;\n",
       "    }\n",
       "\n",
       "    .dataframe tbody tr th {\n",
       "        vertical-align: top;\n",
       "    }\n",
       "\n",
       "    .dataframe thead th {\n",
       "        text-align: right;\n",
       "    }\n",
       "</style>\n",
       "<table border=\"1\" class=\"dataframe\">\n",
       "  <thead>\n",
       "    <tr style=\"text-align: right;\">\n",
       "      <th></th>\n",
       "      <th>0</th>\n",
       "      <th>1</th>\n",
       "    </tr>\n",
       "  </thead>\n",
       "  <tbody>\n",
       "    <tr>\n",
       "      <th>0</th>\n",
       "      <td>1</td>\n",
       "      <td>2</td>\n",
       "    </tr>\n",
       "    <tr>\n",
       "      <th>1</th>\n",
       "      <td>3</td>\n",
       "      <td>4</td>\n",
       "    </tr>\n",
       "  </tbody>\n",
       "</table>\n",
       "</div>"
      ],
      "text/plain": [
       "   0  1\n",
       "0  1  2\n",
       "1  3  4"
      ]
     },
     "execution_count": 115,
     "metadata": {},
     "output_type": "execute_result"
    }
   ],
   "source": [
    "pd.DataFrame([[1,2],[3,4]])"
   ]
  },
  {
   "cell_type": "code",
   "execution_count": 127,
   "metadata": {
    "collapsed": true
   },
   "outputs": [],
   "source": [
    "def extract_kindcode_and_claims(one_patent):\n",
    "    kind_code = \"\"\n",
    "    claims = \"\"\n",
    "\n",
    "    for idx,elem in enumerate(one_patent):\n",
    "        if kind_re.match(elem):\n",
    "            kind_code += element_extract_re.sub(\"\", elem)\n",
    "        if claim_s.match(elem):\n",
    "            i = 0\n",
    "            while not claim_e.match(one_patent[idx+i]):\n",
    "                one_line_text = tag_re.sub(\"\", one_patent[idx+i])\n",
    "                claims += one_line_text\n",
    "                i += 1\n",
    "    \n",
    "    return [kind_code, claims]"
   ]
  },
  {
   "cell_type": "code",
   "execution_count": 128,
   "metadata": {
    "collapsed": true
   },
   "outputs": [],
   "source": [
    "# [kind_code, claims] = extract_kindcode_and_claims(one_patent)"
   ]
  },
  {
   "cell_type": "code",
   "execution_count": 130,
   "metadata": {},
   "outputs": [
    {
     "name": "stdout",
     "output_type": "stream",
     "text": [
      "CPU times: user 3.3 s, sys: 11.6 ms, total: 3.32 s\n",
      "Wall time: 3.32 s\n"
     ]
    }
   ],
   "source": [
    "%%time\n",
    "\n",
    "all_pairs = []\n",
    "\n",
    "for patent in application_patent['patent_data']:\n",
    "    all_pairs.append( extract_kindcode_and_claims(patent) )"
   ]
  },
  {
   "cell_type": "code",
   "execution_count": 131,
   "metadata": {
    "collapsed": true
   },
   "outputs": [],
   "source": [
    "df_for_modeling = pd.DataFrame(all_pairs)"
   ]
  },
  {
   "cell_type": "code",
   "execution_count": 132,
   "metadata": {},
   "outputs": [
    {
     "data": {
      "text/html": [
       "<div>\n",
       "<style scoped>\n",
       "    .dataframe tbody tr th:only-of-type {\n",
       "        vertical-align: middle;\n",
       "    }\n",
       "\n",
       "    .dataframe tbody tr th {\n",
       "        vertical-align: top;\n",
       "    }\n",
       "\n",
       "    .dataframe thead th {\n",
       "        text-align: right;\n",
       "    }\n",
       "</style>\n",
       "<table border=\"1\" class=\"dataframe\">\n",
       "  <thead>\n",
       "    <tr style=\"text-align: right;\">\n",
       "      <th></th>\n",
       "      <th>0</th>\n",
       "      <th>1</th>\n",
       "    </tr>\n",
       "  </thead>\n",
       "  <tbody>\n",
       "    <tr>\n",
       "      <th>0</th>\n",
       "      <td>A1</td>\n",
       "      <td>A bottle extending along a longitudinal axis ...</td>\n",
       "    </tr>\n",
       "    <tr>\n",
       "      <th>1</th>\n",
       "      <td>A1</td>\n",
       "      <td>A bottle extending along a longitudinal axis ...</td>\n",
       "    </tr>\n",
       "    <tr>\n",
       "      <th>2</th>\n",
       "      <td>A1</td>\n",
       "      <td>An oral composition comprising minicapsules o...</td>\n",
       "    </tr>\n",
       "    <tr>\n",
       "      <th>3</th>\n",
       "      <td>A1</td>\n",
       "      <td>An oral composition comprising minicapsules o...</td>\n",
       "    </tr>\n",
       "    <tr>\n",
       "      <th>4</th>\n",
       "      <td>A1</td>\n",
       "      <td>(canceled) A method for processing biomass co...</td>\n",
       "    </tr>\n",
       "  </tbody>\n",
       "</table>\n",
       "</div>"
      ],
      "text/plain": [
       "    0                                                  1\n",
       "0  A1   A bottle extending along a longitudinal axis ...\n",
       "1  A1   A bottle extending along a longitudinal axis ...\n",
       "2  A1   An oral composition comprising minicapsules o...\n",
       "3  A1   An oral composition comprising minicapsules o...\n",
       "4  A1   (canceled) A method for processing biomass co..."
      ]
     },
     "execution_count": 132,
     "metadata": {},
     "output_type": "execute_result"
    }
   ],
   "source": [
    "df_for_modeling.head()"
   ]
  },
  {
   "cell_type": "markdown",
   "metadata": {},
   "source": [
    "Category count."
   ]
  },
  {
   "cell_type": "code",
   "execution_count": 140,
   "metadata": {},
   "outputs": [],
   "source": [
    "from collections import Counter"
   ]
  },
  {
   "cell_type": "code",
   "execution_count": 143,
   "metadata": {},
   "outputs": [],
   "source": [
    "cnt = Counter( df_for_modeling[0] )"
   ]
  },
  {
   "cell_type": "code",
   "execution_count": 144,
   "metadata": {},
   "outputs": [
    {
     "data": {
      "text/plain": [
       "Counter({'A1': 4624,\n",
       "         'A100': 78,\n",
       "         'A2A1': 4,\n",
       "         'A2A100': 1,\n",
       "         'A9A1': 29,\n",
       "         'A9A100': 2})"
      ]
     },
     "execution_count": 144,
     "metadata": {},
     "output_type": "execute_result"
    }
   ],
   "source": [
    "cnt"
   ]
  },
  {
   "cell_type": "markdown",
   "metadata": {},
   "source": [
    "It's too skew data for data analysis.\n",
    "And it includes many deprecated rows.\n",
    "Remove them."
   ]
  },
  {
   "cell_type": "code",
   "execution_count": 150,
   "metadata": {
    "collapsed": true
   },
   "outputs": [],
   "source": [
    "df_for_modeling = df_for_modeling.drop_duplicates()"
   ]
  },
  {
   "cell_type": "code",
   "execution_count": 151,
   "metadata": {
    "collapsed": true
   },
   "outputs": [],
   "source": [
    "cnt = Counter( df_for_modeling[0] )"
   ]
  },
  {
   "cell_type": "code",
   "execution_count": 152,
   "metadata": {},
   "outputs": [
    {
     "data": {
      "text/plain": [
       "Counter({'A1': 2501,\n",
       "         'A100': 76,\n",
       "         'A2A1': 2,\n",
       "         'A2A100': 1,\n",
       "         'A9A1': 15,\n",
       "         'A9A100': 2})"
      ]
     },
     "execution_count": 152,
     "metadata": {},
     "output_type": "execute_result"
    }
   ],
   "source": [
    "cnt"
   ]
  },
  {
   "cell_type": "markdown",
   "metadata": {},
   "source": [
    "We need to investigate other data sources for some analysis."
   ]
  },
  {
   "cell_type": "markdown",
   "metadata": {},
   "source": [
    "### Investigate the combination of application data and office_action data."
   ]
  },
  {
   "cell_type": "code",
   "execution_count": 155,
   "metadata": {
    "collapsed": true
   },
   "outputs": [],
   "source": [
    "office_action_df = pd.read_pickle(\"../data/office_15.dat\")"
   ]
  },
  {
   "cell_type": "code",
   "execution_count": 156,
   "metadata": {},
   "outputs": [
    {
     "data": {
      "text/html": [
       "<div>\n",
       "<style scoped>\n",
       "    .dataframe tbody tr th:only-of-type {\n",
       "        vertical-align: middle;\n",
       "    }\n",
       "\n",
       "    .dataframe tbody tr th {\n",
       "        vertical-align: top;\n",
       "    }\n",
       "\n",
       "    .dataframe thead th {\n",
       "        text-align: right;\n",
       "    }\n",
       "</style>\n",
       "<table border=\"1\" class=\"dataframe\">\n",
       "  <thead>\n",
       "    <tr style=\"text-align: right;\">\n",
       "      <th></th>\n",
       "      <th>app_id</th>\n",
       "      <th>ifw_number</th>\n",
       "      <th>document_cd</th>\n",
       "      <th>mail_dt</th>\n",
       "      <th>art_unit</th>\n",
       "      <th>uspc_class</th>\n",
       "      <th>uspc_subclass</th>\n",
       "      <th>header_missing</th>\n",
       "      <th>fp_missing</th>\n",
       "      <th>rejection_fp_mismatch</th>\n",
       "      <th>...</th>\n",
       "      <th>rejection_103</th>\n",
       "      <th>rejection_112</th>\n",
       "      <th>rejection_dp</th>\n",
       "      <th>objection</th>\n",
       "      <th>allowed_claims</th>\n",
       "      <th>cite102_gt1</th>\n",
       "      <th>cite103_gt3</th>\n",
       "      <th>cite103_eq1</th>\n",
       "      <th>cite103_max</th>\n",
       "      <th>signature_type</th>\n",
       "    </tr>\n",
       "  </thead>\n",
       "  <tbody>\n",
       "    <tr>\n",
       "      <th>3549653</th>\n",
       "      <td>15001440</td>\n",
       "      <td>IKIANOLHRXEAPX4</td>\n",
       "      <td>CTNF</td>\n",
       "      <td>2016-02-16</td>\n",
       "      <td>3762</td>\n",
       "      <td>607</td>\n",
       "      <td>042000</td>\n",
       "      <td>0</td>\n",
       "      <td>0</td>\n",
       "      <td>0</td>\n",
       "      <td>...</td>\n",
       "      <td>0</td>\n",
       "      <td>1</td>\n",
       "      <td>0</td>\n",
       "      <td>0</td>\n",
       "      <td>0</td>\n",
       "      <td>0</td>\n",
       "      <td>0</td>\n",
       "      <td>0</td>\n",
       "      <td>0</td>\n",
       "      <td>1</td>\n",
       "    </tr>\n",
       "    <tr>\n",
       "      <th>3560595</th>\n",
       "      <td>15009822</td>\n",
       "      <td>IKSBCEFQRXEAPX1</td>\n",
       "      <td>CTNF</td>\n",
       "      <td>2016-02-22</td>\n",
       "      <td>2139</td>\n",
       "      <td>711</td>\n",
       "      <td>162000</td>\n",
       "      <td>0</td>\n",
       "      <td>0</td>\n",
       "      <td>0</td>\n",
       "      <td>...</td>\n",
       "      <td>1</td>\n",
       "      <td>0</td>\n",
       "      <td>0</td>\n",
       "      <td>0</td>\n",
       "      <td>0</td>\n",
       "      <td>0</td>\n",
       "      <td>0</td>\n",
       "      <td>0</td>\n",
       "      <td>2</td>\n",
       "      <td>1</td>\n",
       "    </tr>\n",
       "    <tr>\n",
       "      <th>3561801</th>\n",
       "      <td>15005636</td>\n",
       "      <td>IKSG9XK1RXEAPX1</td>\n",
       "      <td>CTNF</td>\n",
       "      <td>2016-02-22</td>\n",
       "      <td>3766</td>\n",
       "      <td>600</td>\n",
       "      <td>509000</td>\n",
       "      <td>0</td>\n",
       "      <td>0</td>\n",
       "      <td>0</td>\n",
       "      <td>...</td>\n",
       "      <td>0</td>\n",
       "      <td>1</td>\n",
       "      <td>1</td>\n",
       "      <td>0</td>\n",
       "      <td>0</td>\n",
       "      <td>0</td>\n",
       "      <td>0</td>\n",
       "      <td>0</td>\n",
       "      <td>0</td>\n",
       "      <td>0</td>\n",
       "    </tr>\n",
       "    <tr>\n",
       "      <th>3562763</th>\n",
       "      <td>15002146</td>\n",
       "      <td>IKSLCJQLRXEAPX4</td>\n",
       "      <td>CTNF</td>\n",
       "      <td>2016-02-22</td>\n",
       "      <td>3723</td>\n",
       "      <td>015</td>\n",
       "      <td>104930</td>\n",
       "      <td>0</td>\n",
       "      <td>0</td>\n",
       "      <td>0</td>\n",
       "      <td>...</td>\n",
       "      <td>0</td>\n",
       "      <td>0</td>\n",
       "      <td>1</td>\n",
       "      <td>1</td>\n",
       "      <td>0</td>\n",
       "      <td>0</td>\n",
       "      <td>0</td>\n",
       "      <td>0</td>\n",
       "      <td>0</td>\n",
       "      <td>1</td>\n",
       "    </tr>\n",
       "    <tr>\n",
       "      <th>3564336</th>\n",
       "      <td>15001553</td>\n",
       "      <td>IKTT4P0TRXEAPX1</td>\n",
       "      <td>CTNF</td>\n",
       "      <td>2016-02-19</td>\n",
       "      <td>1625</td>\n",
       "      <td>514</td>\n",
       "      <td>279000</td>\n",
       "      <td>0</td>\n",
       "      <td>1</td>\n",
       "      <td>0</td>\n",
       "      <td>...</td>\n",
       "      <td>0</td>\n",
       "      <td>1</td>\n",
       "      <td>0</td>\n",
       "      <td>0</td>\n",
       "      <td>0</td>\n",
       "      <td>0</td>\n",
       "      <td>0</td>\n",
       "      <td>0</td>\n",
       "      <td>0</td>\n",
       "      <td>1</td>\n",
       "    </tr>\n",
       "  </tbody>\n",
       "</table>\n",
       "<p>5 rows × 23 columns</p>\n",
       "</div>"
      ],
      "text/plain": [
       "           app_id       ifw_number document_cd     mail_dt art_unit  \\\n",
       "3549653  15001440  IKIANOLHRXEAPX4        CTNF  2016-02-16     3762   \n",
       "3560595  15009822  IKSBCEFQRXEAPX1        CTNF  2016-02-22     2139   \n",
       "3561801  15005636  IKSG9XK1RXEAPX1        CTNF  2016-02-22     3766   \n",
       "3562763  15002146  IKSLCJQLRXEAPX4        CTNF  2016-02-22     3723   \n",
       "3564336  15001553  IKTT4P0TRXEAPX1        CTNF  2016-02-19     1625   \n",
       "\n",
       "        uspc_class uspc_subclass  header_missing  fp_missing  \\\n",
       "3549653        607        042000               0           0   \n",
       "3560595        711        162000               0           0   \n",
       "3561801        600        509000               0           0   \n",
       "3562763        015        104930               0           0   \n",
       "3564336        514        279000               0           1   \n",
       "\n",
       "         rejection_fp_mismatch       ...        rejection_103  rejection_112  \\\n",
       "3549653                      0       ...                    0              1   \n",
       "3560595                      0       ...                    1              0   \n",
       "3561801                      0       ...                    0              1   \n",
       "3562763                      0       ...                    0              0   \n",
       "3564336                      0       ...                    0              1   \n",
       "\n",
       "         rejection_dp  objection  allowed_claims  cite102_gt1  cite103_gt3  \\\n",
       "3549653             0          0               0            0            0   \n",
       "3560595             0          0               0            0            0   \n",
       "3561801             1          0               0            0            0   \n",
       "3562763             1          1               0            0            0   \n",
       "3564336             0          0               0            0            0   \n",
       "\n",
       "         cite103_eq1  cite103_max  signature_type  \n",
       "3549653            0            0               1  \n",
       "3560595            0            2               1  \n",
       "3561801            0            0               0  \n",
       "3562763            0            0               1  \n",
       "3564336            0            0               1  \n",
       "\n",
       "[5 rows x 23 columns]"
      ]
     },
     "execution_count": 156,
     "metadata": {},
     "output_type": "execute_result"
    }
   ],
   "source": [
    "office_action_df.head()"
   ]
  },
  {
   "cell_type": "code",
   "execution_count": 163,
   "metadata": {},
   "outputs": [
    {
     "data": {
      "text/html": [
       "<div>\n",
       "<style scoped>\n",
       "    .dataframe tbody tr th:only-of-type {\n",
       "        vertical-align: middle;\n",
       "    }\n",
       "\n",
       "    .dataframe tbody tr th {\n",
       "        vertical-align: top;\n",
       "    }\n",
       "\n",
       "    .dataframe thead th {\n",
       "        text-align: right;\n",
       "    }\n",
       "</style>\n",
       "<table border=\"1\" class=\"dataframe\">\n",
       "  <thead>\n",
       "    <tr style=\"text-align: right;\">\n",
       "      <th></th>\n",
       "      <th>0</th>\n",
       "      <th>1</th>\n",
       "    </tr>\n",
       "  </thead>\n",
       "  <tbody>\n",
       "    <tr>\n",
       "      <th>0</th>\n",
       "      <td>A1</td>\n",
       "      <td>A bottle extending along a longitudinal axis ...</td>\n",
       "    </tr>\n",
       "    <tr>\n",
       "      <th>2</th>\n",
       "      <td>A1</td>\n",
       "      <td>An oral composition comprising minicapsules o...</td>\n",
       "    </tr>\n",
       "    <tr>\n",
       "      <th>4</th>\n",
       "      <td>A1</td>\n",
       "      <td>(canceled) A method for processing biomass co...</td>\n",
       "    </tr>\n",
       "    <tr>\n",
       "      <th>6</th>\n",
       "      <td>A1</td>\n",
       "      <td>An exercise cable handle assembly comprising:...</td>\n",
       "    </tr>\n",
       "    <tr>\n",
       "      <th>7</th>\n",
       "      <td>A1</td>\n",
       "      <td>A composition for repelling an arthropod, com...</td>\n",
       "    </tr>\n",
       "  </tbody>\n",
       "</table>\n",
       "</div>"
      ],
      "text/plain": [
       "    0                                                  1\n",
       "0  A1   A bottle extending along a longitudinal axis ...\n",
       "2  A1   An oral composition comprising minicapsules o...\n",
       "4  A1   (canceled) A method for processing biomass co...\n",
       "6  A1   An exercise cable handle assembly comprising:...\n",
       "7  A1   A composition for repelling an arthropod, com..."
      ]
     },
     "execution_count": 163,
     "metadata": {},
     "output_type": "execute_result"
    }
   ],
   "source": [
    "df_for_modeling.head()"
   ]
  },
  {
   "cell_type": "code",
   "execution_count": 164,
   "metadata": {
    "collapsed": true
   },
   "outputs": [],
   "source": [
    "df_for_modeling.columns = ['kind_code', 'claims']"
   ]
  },
  {
   "cell_type": "code",
   "execution_count": 165,
   "metadata": {},
   "outputs": [
    {
     "name": "stderr",
     "output_type": "stream",
     "text": [
      "/Users/yohei-kikuta/.pyenv/versions/3.5.2/lib/python3.5/site-packages/ipykernel/__main__.py:1: SettingWithCopyWarning: \n",
      "A value is trying to be set on a copy of a slice from a DataFrame.\n",
      "Try using .loc[row_indexer,col_indexer] = value instead\n",
      "\n",
      "See the caveats in the documentation: http://pandas.pydata.org/pandas-docs/stable/indexing.html#indexing-view-versus-copy\n",
      "  if __name__ == '__main__':\n"
     ]
    }
   ],
   "source": [
    "df_for_modeling['app_id'] = application_patent['application_id'].drop_duplicates()"
   ]
  },
  {
   "cell_type": "code",
   "execution_count": 167,
   "metadata": {},
   "outputs": [
    {
     "data": {
      "text/html": [
       "<div>\n",
       "<style scoped>\n",
       "    .dataframe tbody tr th:only-of-type {\n",
       "        vertical-align: middle;\n",
       "    }\n",
       "\n",
       "    .dataframe tbody tr th {\n",
       "        vertical-align: top;\n",
       "    }\n",
       "\n",
       "    .dataframe thead th {\n",
       "        text-align: right;\n",
       "    }\n",
       "</style>\n",
       "<table border=\"1\" class=\"dataframe\">\n",
       "  <thead>\n",
       "    <tr style=\"text-align: right;\">\n",
       "      <th></th>\n",
       "      <th>kind_code</th>\n",
       "      <th>claims</th>\n",
       "      <th>app_id</th>\n",
       "    </tr>\n",
       "  </thead>\n",
       "  <tbody>\n",
       "    <tr>\n",
       "      <th>0</th>\n",
       "      <td>A1</td>\n",
       "      <td>A bottle extending along a longitudinal axis ...</td>\n",
       "      <td>15338532</td>\n",
       "    </tr>\n",
       "    <tr>\n",
       "      <th>2</th>\n",
       "      <td>A1</td>\n",
       "      <td>An oral composition comprising minicapsules o...</td>\n",
       "      <td>15051356</td>\n",
       "    </tr>\n",
       "    <tr>\n",
       "      <th>4</th>\n",
       "      <td>A1</td>\n",
       "      <td>(canceled) A method for processing biomass co...</td>\n",
       "      <td>15238319</td>\n",
       "    </tr>\n",
       "    <tr>\n",
       "      <th>6</th>\n",
       "      <td>A1</td>\n",
       "      <td>An exercise cable handle assembly comprising:...</td>\n",
       "      <td>15078852</td>\n",
       "    </tr>\n",
       "    <tr>\n",
       "      <th>7</th>\n",
       "      <td>A1</td>\n",
       "      <td>A composition for repelling an arthropod, com...</td>\n",
       "      <td>15073698</td>\n",
       "    </tr>\n",
       "  </tbody>\n",
       "</table>\n",
       "</div>"
      ],
      "text/plain": [
       "  kind_code                                             claims    app_id\n",
       "0        A1   A bottle extending along a longitudinal axis ...  15338532\n",
       "2        A1   An oral composition comprising minicapsules o...  15051356\n",
       "4        A1   (canceled) A method for processing biomass co...  15238319\n",
       "6        A1   An exercise cable handle assembly comprising:...  15078852\n",
       "7        A1   A composition for repelling an arthropod, com...  15073698"
      ]
     },
     "execution_count": 167,
     "metadata": {},
     "output_type": "execute_result"
    }
   ],
   "source": [
    "df_for_modeling.head()"
   ]
  },
  {
   "cell_type": "markdown",
   "metadata": {},
   "source": [
    "Merge them."
   ]
  },
  {
   "cell_type": "code",
   "execution_count": 170,
   "metadata": {},
   "outputs": [
    {
     "data": {
      "text/html": [
       "<div>\n",
       "<style scoped>\n",
       "    .dataframe tbody tr th:only-of-type {\n",
       "        vertical-align: middle;\n",
       "    }\n",
       "\n",
       "    .dataframe tbody tr th {\n",
       "        vertical-align: top;\n",
       "    }\n",
       "\n",
       "    .dataframe thead th {\n",
       "        text-align: right;\n",
       "    }\n",
       "</style>\n",
       "<table border=\"1\" class=\"dataframe\">\n",
       "  <thead>\n",
       "    <tr style=\"text-align: right;\">\n",
       "      <th></th>\n",
       "      <th>kind_code</th>\n",
       "      <th>claims</th>\n",
       "      <th>app_id</th>\n",
       "      <th>ifw_number</th>\n",
       "      <th>document_cd</th>\n",
       "      <th>mail_dt</th>\n",
       "      <th>art_unit</th>\n",
       "      <th>uspc_class</th>\n",
       "      <th>uspc_subclass</th>\n",
       "      <th>header_missing</th>\n",
       "      <th>...</th>\n",
       "      <th>rejection_103</th>\n",
       "      <th>rejection_112</th>\n",
       "      <th>rejection_dp</th>\n",
       "      <th>objection</th>\n",
       "      <th>allowed_claims</th>\n",
       "      <th>cite102_gt1</th>\n",
       "      <th>cite103_gt3</th>\n",
       "      <th>cite103_eq1</th>\n",
       "      <th>cite103_max</th>\n",
       "      <th>signature_type</th>\n",
       "    </tr>\n",
       "  </thead>\n",
       "  <tbody>\n",
       "  </tbody>\n",
       "</table>\n",
       "<p>0 rows × 25 columns</p>\n",
       "</div>"
      ],
      "text/plain": [
       "Empty DataFrame\n",
       "Columns: [kind_code, claims, app_id, ifw_number, document_cd, mail_dt, art_unit, uspc_class, uspc_subclass, header_missing, fp_missing, rejection_fp_mismatch, closing_missing, rejection_101, rejection_102, rejection_103, rejection_112, rejection_dp, objection, allowed_claims, cite102_gt1, cite103_gt3, cite103_eq1, cite103_max, signature_type]\n",
       "Index: []\n",
       "\n",
       "[0 rows x 25 columns]"
      ]
     },
     "execution_count": 170,
     "metadata": {},
     "output_type": "execute_result"
    }
   ],
   "source": [
    "df_for_modeling.merge(office_action_df, left_on='app_id', right_on='app_id', how = 'inner')"
   ]
  },
  {
   "cell_type": "code",
   "execution_count": 172,
   "metadata": {},
   "outputs": [
    {
     "data": {
      "text/html": [
       "<div>\n",
       "<style scoped>\n",
       "    .dataframe tbody tr th:only-of-type {\n",
       "        vertical-align: middle;\n",
       "    }\n",
       "\n",
       "    .dataframe tbody tr th {\n",
       "        vertical-align: top;\n",
       "    }\n",
       "\n",
       "    .dataframe thead th {\n",
       "        text-align: right;\n",
       "    }\n",
       "</style>\n",
       "<table border=\"1\" class=\"dataframe\">\n",
       "  <thead>\n",
       "    <tr style=\"text-align: right;\">\n",
       "      <th></th>\n",
       "      <th>app_id</th>\n",
       "      <th>ifw_number</th>\n",
       "      <th>document_cd</th>\n",
       "      <th>mail_dt</th>\n",
       "      <th>art_unit</th>\n",
       "      <th>uspc_class</th>\n",
       "      <th>uspc_subclass</th>\n",
       "      <th>header_missing</th>\n",
       "      <th>fp_missing</th>\n",
       "      <th>rejection_fp_mismatch</th>\n",
       "      <th>...</th>\n",
       "      <th>rejection_103</th>\n",
       "      <th>rejection_112</th>\n",
       "      <th>rejection_dp</th>\n",
       "      <th>objection</th>\n",
       "      <th>allowed_claims</th>\n",
       "      <th>cite102_gt1</th>\n",
       "      <th>cite103_gt3</th>\n",
       "      <th>cite103_eq1</th>\n",
       "      <th>cite103_max</th>\n",
       "      <th>signature_type</th>\n",
       "    </tr>\n",
       "  </thead>\n",
       "  <tbody>\n",
       "    <tr>\n",
       "      <th>4316208</th>\n",
       "      <td>15338532</td>\n",
       "      <td>J082O8FWRXEAPX1</td>\n",
       "      <td>CTNF</td>\n",
       "      <td>2017-03-13</td>\n",
       "      <td>3781</td>\n",
       "      <td>215</td>\n",
       "      <td>384000</td>\n",
       "      <td>0</td>\n",
       "      <td>0</td>\n",
       "      <td>0</td>\n",
       "      <td>...</td>\n",
       "      <td>1</td>\n",
       "      <td>0</td>\n",
       "      <td>1</td>\n",
       "      <td>0</td>\n",
       "      <td>0</td>\n",
       "      <td>0</td>\n",
       "      <td>0</td>\n",
       "      <td>0</td>\n",
       "      <td>3</td>\n",
       "      <td>0</td>\n",
       "    </tr>\n",
       "  </tbody>\n",
       "</table>\n",
       "<p>1 rows × 23 columns</p>\n",
       "</div>"
      ],
      "text/plain": [
       "           app_id       ifw_number document_cd     mail_dt art_unit  \\\n",
       "4316208  15338532  J082O8FWRXEAPX1        CTNF  2017-03-13     3781   \n",
       "\n",
       "        uspc_class uspc_subclass  header_missing  fp_missing  \\\n",
       "4316208        215        384000               0           0   \n",
       "\n",
       "         rejection_fp_mismatch       ...        rejection_103  rejection_112  \\\n",
       "4316208                      0       ...                    1              0   \n",
       "\n",
       "         rejection_dp  objection  allowed_claims  cite102_gt1  cite103_gt3  \\\n",
       "4316208             1          0               0            0            0   \n",
       "\n",
       "         cite103_eq1  cite103_max  signature_type  \n",
       "4316208            0            3               0  \n",
       "\n",
       "[1 rows x 23 columns]"
      ]
     },
     "execution_count": 172,
     "metadata": {},
     "output_type": "execute_result"
    }
   ],
   "source": [
    "office_action_df[ office_action_df['app_id'] == 15338532 ]"
   ]
  },
  {
   "cell_type": "code",
   "execution_count": 173,
   "metadata": {},
   "outputs": [
    {
     "data": {
      "text/html": [
       "<div>\n",
       "<style scoped>\n",
       "    .dataframe tbody tr th:only-of-type {\n",
       "        vertical-align: middle;\n",
       "    }\n",
       "\n",
       "    .dataframe tbody tr th {\n",
       "        vertical-align: top;\n",
       "    }\n",
       "\n",
       "    .dataframe thead th {\n",
       "        text-align: right;\n",
       "    }\n",
       "</style>\n",
       "<table border=\"1\" class=\"dataframe\">\n",
       "  <thead>\n",
       "    <tr style=\"text-align: right;\">\n",
       "      <th></th>\n",
       "      <th>kind_code</th>\n",
       "      <th>claims</th>\n",
       "      <th>app_id</th>\n",
       "      <th>ifw_number</th>\n",
       "      <th>document_cd</th>\n",
       "      <th>mail_dt</th>\n",
       "      <th>art_unit</th>\n",
       "      <th>uspc_class</th>\n",
       "      <th>uspc_subclass</th>\n",
       "      <th>header_missing</th>\n",
       "      <th>...</th>\n",
       "      <th>rejection_103</th>\n",
       "      <th>rejection_112</th>\n",
       "      <th>rejection_dp</th>\n",
       "      <th>objection</th>\n",
       "      <th>allowed_claims</th>\n",
       "      <th>cite102_gt1</th>\n",
       "      <th>cite103_gt3</th>\n",
       "      <th>cite103_eq1</th>\n",
       "      <th>cite103_max</th>\n",
       "      <th>signature_type</th>\n",
       "    </tr>\n",
       "  </thead>\n",
       "  <tbody>\n",
       "  </tbody>\n",
       "</table>\n",
       "<p>0 rows × 25 columns</p>\n",
       "</div>"
      ],
      "text/plain": [
       "Empty DataFrame\n",
       "Columns: [kind_code, claims, app_id, ifw_number, document_cd, mail_dt, art_unit, uspc_class, uspc_subclass, header_missing, fp_missing, rejection_fp_mismatch, closing_missing, rejection_101, rejection_102, rejection_103, rejection_112, rejection_dp, objection, allowed_claims, cite102_gt1, cite103_gt3, cite103_eq1, cite103_max, signature_type]\n",
       "Index: []\n",
       "\n",
       "[0 rows x 25 columns]"
      ]
     },
     "execution_count": 173,
     "metadata": {},
     "output_type": "execute_result"
    }
   ],
   "source": [
    "pd.merge(df_for_modeling, office_action_df, on='app_id')"
   ]
  },
  {
   "cell_type": "code",
   "execution_count": 176,
   "metadata": {},
   "outputs": [
    {
     "data": {
      "text/plain": [
       "'15338532'"
      ]
     },
     "execution_count": 176,
     "metadata": {},
     "output_type": "execute_result"
    }
   ],
   "source": [
    "df_for_modeling['app_id'][:1][0]"
   ]
  },
  {
   "cell_type": "code",
   "execution_count": null,
   "metadata": {
    "collapsed": true
   },
   "outputs": [],
   "source": []
  },
  {
   "cell_type": "code",
   "execution_count": 179,
   "metadata": {},
   "outputs": [
    {
     "ename": "ValueError",
     "evalue": "cannot convert float NaN to integer",
     "output_type": "error",
     "traceback": [
      "\u001b[0;31m---------------------------------------------------------------------------\u001b[0m",
      "\u001b[0;31mValueError\u001b[0m                                Traceback (most recent call last)",
      "\u001b[0;32m<ipython-input-179-be6cc60a4287>\u001b[0m in \u001b[0;36m<module>\u001b[0;34m()\u001b[0m\n\u001b[0;32m----> 1\u001b[0;31m \u001b[0mdf_for_modeling\u001b[0m\u001b[0;34m[\u001b[0m\u001b[0;34m'app_id'\u001b[0m\u001b[0;34m]\u001b[0m\u001b[0;34m.\u001b[0m\u001b[0mastype\u001b[0m\u001b[0;34m(\u001b[0m\u001b[0;34m'int'\u001b[0m\u001b[0;34m)\u001b[0m\u001b[0;34m\u001b[0m\u001b[0m\n\u001b[0m",
      "\u001b[0;32m/Users/yohei-kikuta/.pyenv/versions/3.5.2/lib/python3.5/site-packages/pandas/util/_decorators.py\u001b[0m in \u001b[0;36mwrapper\u001b[0;34m(*args, **kwargs)\u001b[0m\n\u001b[1;32m    116\u001b[0m                 \u001b[0;32melse\u001b[0m\u001b[0;34m:\u001b[0m\u001b[0;34m\u001b[0m\u001b[0m\n\u001b[1;32m    117\u001b[0m                     \u001b[0mkwargs\u001b[0m\u001b[0;34m[\u001b[0m\u001b[0mnew_arg_name\u001b[0m\u001b[0;34m]\u001b[0m \u001b[0;34m=\u001b[0m \u001b[0mnew_arg_value\u001b[0m\u001b[0;34m\u001b[0m\u001b[0m\n\u001b[0;32m--> 118\u001b[0;31m             \u001b[0;32mreturn\u001b[0m \u001b[0mfunc\u001b[0m\u001b[0;34m(\u001b[0m\u001b[0;34m*\u001b[0m\u001b[0margs\u001b[0m\u001b[0;34m,\u001b[0m \u001b[0;34m**\u001b[0m\u001b[0mkwargs\u001b[0m\u001b[0;34m)\u001b[0m\u001b[0;34m\u001b[0m\u001b[0m\n\u001b[0m\u001b[1;32m    119\u001b[0m         \u001b[0;32mreturn\u001b[0m \u001b[0mwrapper\u001b[0m\u001b[0;34m\u001b[0m\u001b[0m\n\u001b[1;32m    120\u001b[0m     \u001b[0;32mreturn\u001b[0m \u001b[0m_deprecate_kwarg\u001b[0m\u001b[0;34m\u001b[0m\u001b[0m\n",
      "\u001b[0;32m/Users/yohei-kikuta/.pyenv/versions/3.5.2/lib/python3.5/site-packages/pandas/core/generic.py\u001b[0m in \u001b[0;36mastype\u001b[0;34m(self, dtype, copy, errors, **kwargs)\u001b[0m\n\u001b[1;32m   4002\u001b[0m         \u001b[0;31m# else, only a single dtype is given\u001b[0m\u001b[0;34m\u001b[0m\u001b[0;34m\u001b[0m\u001b[0m\n\u001b[1;32m   4003\u001b[0m         new_data = self._data.astype(dtype=dtype, copy=copy, errors=errors,\n\u001b[0;32m-> 4004\u001b[0;31m                                      **kwargs)\n\u001b[0m\u001b[1;32m   4005\u001b[0m         \u001b[0;32mreturn\u001b[0m \u001b[0mself\u001b[0m\u001b[0;34m.\u001b[0m\u001b[0m_constructor\u001b[0m\u001b[0;34m(\u001b[0m\u001b[0mnew_data\u001b[0m\u001b[0;34m)\u001b[0m\u001b[0;34m.\u001b[0m\u001b[0m__finalize__\u001b[0m\u001b[0;34m(\u001b[0m\u001b[0mself\u001b[0m\u001b[0;34m)\u001b[0m\u001b[0;34m\u001b[0m\u001b[0m\n\u001b[1;32m   4006\u001b[0m \u001b[0;34m\u001b[0m\u001b[0m\n",
      "\u001b[0;32m/Users/yohei-kikuta/.pyenv/versions/3.5.2/lib/python3.5/site-packages/pandas/core/internals.py\u001b[0m in \u001b[0;36mastype\u001b[0;34m(self, dtype, **kwargs)\u001b[0m\n\u001b[1;32m   3460\u001b[0m \u001b[0;34m\u001b[0m\u001b[0m\n\u001b[1;32m   3461\u001b[0m     \u001b[0;32mdef\u001b[0m \u001b[0mastype\u001b[0m\u001b[0;34m(\u001b[0m\u001b[0mself\u001b[0m\u001b[0;34m,\u001b[0m \u001b[0mdtype\u001b[0m\u001b[0;34m,\u001b[0m \u001b[0;34m**\u001b[0m\u001b[0mkwargs\u001b[0m\u001b[0;34m)\u001b[0m\u001b[0;34m:\u001b[0m\u001b[0;34m\u001b[0m\u001b[0m\n\u001b[0;32m-> 3462\u001b[0;31m         \u001b[0;32mreturn\u001b[0m \u001b[0mself\u001b[0m\u001b[0;34m.\u001b[0m\u001b[0mapply\u001b[0m\u001b[0;34m(\u001b[0m\u001b[0;34m'astype'\u001b[0m\u001b[0;34m,\u001b[0m \u001b[0mdtype\u001b[0m\u001b[0;34m=\u001b[0m\u001b[0mdtype\u001b[0m\u001b[0;34m,\u001b[0m \u001b[0;34m**\u001b[0m\u001b[0mkwargs\u001b[0m\u001b[0;34m)\u001b[0m\u001b[0;34m\u001b[0m\u001b[0m\n\u001b[0m\u001b[1;32m   3463\u001b[0m \u001b[0;34m\u001b[0m\u001b[0m\n\u001b[1;32m   3464\u001b[0m     \u001b[0;32mdef\u001b[0m \u001b[0mconvert\u001b[0m\u001b[0;34m(\u001b[0m\u001b[0mself\u001b[0m\u001b[0;34m,\u001b[0m \u001b[0;34m**\u001b[0m\u001b[0mkwargs\u001b[0m\u001b[0;34m)\u001b[0m\u001b[0;34m:\u001b[0m\u001b[0;34m\u001b[0m\u001b[0m\n",
      "\u001b[0;32m/Users/yohei-kikuta/.pyenv/versions/3.5.2/lib/python3.5/site-packages/pandas/core/internals.py\u001b[0m in \u001b[0;36mapply\u001b[0;34m(self, f, axes, filter, do_integrity_check, consolidate, **kwargs)\u001b[0m\n\u001b[1;32m   3327\u001b[0m \u001b[0;34m\u001b[0m\u001b[0m\n\u001b[1;32m   3328\u001b[0m             \u001b[0mkwargs\u001b[0m\u001b[0;34m[\u001b[0m\u001b[0;34m'mgr'\u001b[0m\u001b[0;34m]\u001b[0m \u001b[0;34m=\u001b[0m \u001b[0mself\u001b[0m\u001b[0;34m\u001b[0m\u001b[0m\n\u001b[0;32m-> 3329\u001b[0;31m             \u001b[0mapplied\u001b[0m \u001b[0;34m=\u001b[0m \u001b[0mgetattr\u001b[0m\u001b[0;34m(\u001b[0m\u001b[0mb\u001b[0m\u001b[0;34m,\u001b[0m \u001b[0mf\u001b[0m\u001b[0;34m)\u001b[0m\u001b[0;34m(\u001b[0m\u001b[0;34m**\u001b[0m\u001b[0mkwargs\u001b[0m\u001b[0;34m)\u001b[0m\u001b[0;34m\u001b[0m\u001b[0m\n\u001b[0m\u001b[1;32m   3330\u001b[0m             \u001b[0mresult_blocks\u001b[0m \u001b[0;34m=\u001b[0m \u001b[0m_extend_blocks\u001b[0m\u001b[0;34m(\u001b[0m\u001b[0mapplied\u001b[0m\u001b[0;34m,\u001b[0m \u001b[0mresult_blocks\u001b[0m\u001b[0;34m)\u001b[0m\u001b[0;34m\u001b[0m\u001b[0m\n\u001b[1;32m   3331\u001b[0m \u001b[0;34m\u001b[0m\u001b[0m\n",
      "\u001b[0;32m/Users/yohei-kikuta/.pyenv/versions/3.5.2/lib/python3.5/site-packages/pandas/core/internals.py\u001b[0m in \u001b[0;36mastype\u001b[0;34m(self, dtype, copy, errors, values, **kwargs)\u001b[0m\n\u001b[1;32m    542\u001b[0m     \u001b[0;32mdef\u001b[0m \u001b[0mastype\u001b[0m\u001b[0;34m(\u001b[0m\u001b[0mself\u001b[0m\u001b[0;34m,\u001b[0m \u001b[0mdtype\u001b[0m\u001b[0;34m,\u001b[0m \u001b[0mcopy\u001b[0m\u001b[0;34m=\u001b[0m\u001b[0;32mFalse\u001b[0m\u001b[0;34m,\u001b[0m \u001b[0merrors\u001b[0m\u001b[0;34m=\u001b[0m\u001b[0;34m'raise'\u001b[0m\u001b[0;34m,\u001b[0m \u001b[0mvalues\u001b[0m\u001b[0;34m=\u001b[0m\u001b[0;32mNone\u001b[0m\u001b[0;34m,\u001b[0m \u001b[0;34m**\u001b[0m\u001b[0mkwargs\u001b[0m\u001b[0;34m)\u001b[0m\u001b[0;34m:\u001b[0m\u001b[0;34m\u001b[0m\u001b[0m\n\u001b[1;32m    543\u001b[0m         return self._astype(dtype, copy=copy, errors=errors, values=values,\n\u001b[0;32m--> 544\u001b[0;31m                             **kwargs)\n\u001b[0m\u001b[1;32m    545\u001b[0m \u001b[0;34m\u001b[0m\u001b[0m\n\u001b[1;32m    546\u001b[0m     def _astype(self, dtype, copy=False, errors='raise', values=None,\n",
      "\u001b[0;32m/Users/yohei-kikuta/.pyenv/versions/3.5.2/lib/python3.5/site-packages/pandas/core/internals.py\u001b[0m in \u001b[0;36m_astype\u001b[0;34m(self, dtype, copy, errors, values, klass, mgr, **kwargs)\u001b[0m\n\u001b[1;32m    623\u001b[0m \u001b[0;34m\u001b[0m\u001b[0m\n\u001b[1;32m    624\u001b[0m                 \u001b[0;31m# _astype_nansafe works fine with 1-d only\u001b[0m\u001b[0;34m\u001b[0m\u001b[0;34m\u001b[0m\u001b[0m\n\u001b[0;32m--> 625\u001b[0;31m                 \u001b[0mvalues\u001b[0m \u001b[0;34m=\u001b[0m \u001b[0mastype_nansafe\u001b[0m\u001b[0;34m(\u001b[0m\u001b[0mvalues\u001b[0m\u001b[0;34m.\u001b[0m\u001b[0mravel\u001b[0m\u001b[0;34m(\u001b[0m\u001b[0;34m)\u001b[0m\u001b[0;34m,\u001b[0m \u001b[0mdtype\u001b[0m\u001b[0;34m,\u001b[0m \u001b[0mcopy\u001b[0m\u001b[0;34m=\u001b[0m\u001b[0;32mTrue\u001b[0m\u001b[0;34m)\u001b[0m\u001b[0;34m\u001b[0m\u001b[0m\n\u001b[0m\u001b[1;32m    626\u001b[0m                 \u001b[0mvalues\u001b[0m \u001b[0;34m=\u001b[0m \u001b[0mvalues\u001b[0m\u001b[0;34m.\u001b[0m\u001b[0mreshape\u001b[0m\u001b[0;34m(\u001b[0m\u001b[0mself\u001b[0m\u001b[0;34m.\u001b[0m\u001b[0mshape\u001b[0m\u001b[0;34m)\u001b[0m\u001b[0;34m\u001b[0m\u001b[0m\n\u001b[1;32m    627\u001b[0m \u001b[0;34m\u001b[0m\u001b[0m\n",
      "\u001b[0;32m/Users/yohei-kikuta/.pyenv/versions/3.5.2/lib/python3.5/site-packages/pandas/core/dtypes/cast.py\u001b[0m in \u001b[0;36mastype_nansafe\u001b[0;34m(arr, dtype, copy)\u001b[0m\n\u001b[1;32m    690\u001b[0m     \u001b[0;32melif\u001b[0m \u001b[0marr\u001b[0m\u001b[0;34m.\u001b[0m\u001b[0mdtype\u001b[0m \u001b[0;34m==\u001b[0m \u001b[0mnp\u001b[0m\u001b[0;34m.\u001b[0m\u001b[0mobject_\u001b[0m \u001b[0;32mand\u001b[0m \u001b[0mnp\u001b[0m\u001b[0;34m.\u001b[0m\u001b[0missubdtype\u001b[0m\u001b[0;34m(\u001b[0m\u001b[0mdtype\u001b[0m\u001b[0;34m.\u001b[0m\u001b[0mtype\u001b[0m\u001b[0;34m,\u001b[0m \u001b[0mnp\u001b[0m\u001b[0;34m.\u001b[0m\u001b[0minteger\u001b[0m\u001b[0;34m)\u001b[0m\u001b[0;34m:\u001b[0m\u001b[0;34m\u001b[0m\u001b[0m\n\u001b[1;32m    691\u001b[0m         \u001b[0;31m# work around NumPy brokenness, #1987\u001b[0m\u001b[0;34m\u001b[0m\u001b[0;34m\u001b[0m\u001b[0m\n\u001b[0;32m--> 692\u001b[0;31m         \u001b[0;32mreturn\u001b[0m \u001b[0mlib\u001b[0m\u001b[0;34m.\u001b[0m\u001b[0mastype_intsafe\u001b[0m\u001b[0;34m(\u001b[0m\u001b[0marr\u001b[0m\u001b[0;34m.\u001b[0m\u001b[0mravel\u001b[0m\u001b[0;34m(\u001b[0m\u001b[0;34m)\u001b[0m\u001b[0;34m,\u001b[0m \u001b[0mdtype\u001b[0m\u001b[0;34m)\u001b[0m\u001b[0;34m.\u001b[0m\u001b[0mreshape\u001b[0m\u001b[0;34m(\u001b[0m\u001b[0marr\u001b[0m\u001b[0;34m.\u001b[0m\u001b[0mshape\u001b[0m\u001b[0;34m)\u001b[0m\u001b[0;34m\u001b[0m\u001b[0m\n\u001b[0m\u001b[1;32m    693\u001b[0m \u001b[0;34m\u001b[0m\u001b[0m\n\u001b[1;32m    694\u001b[0m     \u001b[0;32mif\u001b[0m \u001b[0mdtype\u001b[0m\u001b[0;34m.\u001b[0m\u001b[0mname\u001b[0m \u001b[0;32min\u001b[0m \u001b[0;34m(\u001b[0m\u001b[0;34m\"datetime64\"\u001b[0m\u001b[0;34m,\u001b[0m \u001b[0;34m\"timedelta64\"\u001b[0m\u001b[0;34m)\u001b[0m\u001b[0;34m:\u001b[0m\u001b[0;34m\u001b[0m\u001b[0m\n",
      "\u001b[0;32mpandas/_libs/lib.pyx\u001b[0m in \u001b[0;36mpandas._libs.lib.astype_intsafe\u001b[0;34m()\u001b[0m\n",
      "\u001b[0;32mpandas/_libs/src/util.pxd\u001b[0m in \u001b[0;36mutil.set_value_at_unsafe\u001b[0;34m()\u001b[0m\n",
      "\u001b[0;31mValueError\u001b[0m: cannot convert float NaN to integer"
     ]
    }
   ],
   "source": [
    "df_for_modeling['app_id'].astype('int')"
   ]
  },
  {
   "cell_type": "code",
   "execution_count": 180,
   "metadata": {},
   "outputs": [
    {
     "data": {
      "text/plain": [
       "2597"
      ]
     },
     "execution_count": 180,
     "metadata": {},
     "output_type": "execute_result"
    }
   ],
   "source": [
    "len(df_for_modeling)"
   ]
  },
  {
   "cell_type": "code",
   "execution_count": 182,
   "metadata": {},
   "outputs": [
    {
     "data": {
      "text/plain": [
       "2272"
      ]
     },
     "execution_count": 182,
     "metadata": {},
     "output_type": "execute_result"
    }
   ],
   "source": [
    "len( df_for_modeling.dropna() )"
   ]
  },
  {
   "cell_type": "code",
   "execution_count": 183,
   "metadata": {
    "collapsed": true
   },
   "outputs": [],
   "source": [
    "df_for_modeling = df_for_modeling.dropna()"
   ]
  },
  {
   "cell_type": "code",
   "execution_count": 185,
   "metadata": {},
   "outputs": [
    {
     "name": "stderr",
     "output_type": "stream",
     "text": [
      "/Users/yohei-kikuta/.pyenv/versions/3.5.2/lib/python3.5/site-packages/ipykernel/__main__.py:1: SettingWithCopyWarning: \n",
      "A value is trying to be set on a copy of a slice from a DataFrame.\n",
      "Try using .loc[row_indexer,col_indexer] = value instead\n",
      "\n",
      "See the caveats in the documentation: http://pandas.pydata.org/pandas-docs/stable/indexing.html#indexing-view-versus-copy\n",
      "  if __name__ == '__main__':\n"
     ]
    }
   ],
   "source": [
    "df_for_modeling['app_id'] = df_for_modeling['app_id'].astype('int')"
   ]
  },
  {
   "cell_type": "code",
   "execution_count": 187,
   "metadata": {},
   "outputs": [],
   "source": [
    "df_combined = df_for_modeling.merge(office_action_df, left_on='app_id', right_on='app_id', how = 'inner')"
   ]
  },
  {
   "cell_type": "code",
   "execution_count": 188,
   "metadata": {},
   "outputs": [
    {
     "data": {
      "text/html": [
       "<div>\n",
       "<style scoped>\n",
       "    .dataframe tbody tr th:only-of-type {\n",
       "        vertical-align: middle;\n",
       "    }\n",
       "\n",
       "    .dataframe tbody tr th {\n",
       "        vertical-align: top;\n",
       "    }\n",
       "\n",
       "    .dataframe thead th {\n",
       "        text-align: right;\n",
       "    }\n",
       "</style>\n",
       "<table border=\"1\" class=\"dataframe\">\n",
       "  <thead>\n",
       "    <tr style=\"text-align: right;\">\n",
       "      <th></th>\n",
       "      <th>kind_code</th>\n",
       "      <th>claims</th>\n",
       "      <th>app_id</th>\n",
       "      <th>ifw_number</th>\n",
       "      <th>document_cd</th>\n",
       "      <th>mail_dt</th>\n",
       "      <th>art_unit</th>\n",
       "      <th>uspc_class</th>\n",
       "      <th>uspc_subclass</th>\n",
       "      <th>header_missing</th>\n",
       "      <th>...</th>\n",
       "      <th>rejection_103</th>\n",
       "      <th>rejection_112</th>\n",
       "      <th>rejection_dp</th>\n",
       "      <th>objection</th>\n",
       "      <th>allowed_claims</th>\n",
       "      <th>cite102_gt1</th>\n",
       "      <th>cite103_gt3</th>\n",
       "      <th>cite103_eq1</th>\n",
       "      <th>cite103_max</th>\n",
       "      <th>signature_type</th>\n",
       "    </tr>\n",
       "  </thead>\n",
       "  <tbody>\n",
       "    <tr>\n",
       "      <th>0</th>\n",
       "      <td>A1</td>\n",
       "      <td>A bottle extending along a longitudinal axis ...</td>\n",
       "      <td>15338532</td>\n",
       "      <td>J082O8FWRXEAPX1</td>\n",
       "      <td>CTNF</td>\n",
       "      <td>2017-03-13</td>\n",
       "      <td>3781</td>\n",
       "      <td>215</td>\n",
       "      <td>384000</td>\n",
       "      <td>0</td>\n",
       "      <td>...</td>\n",
       "      <td>1</td>\n",
       "      <td>0</td>\n",
       "      <td>1</td>\n",
       "      <td>0</td>\n",
       "      <td>0</td>\n",
       "      <td>0</td>\n",
       "      <td>0</td>\n",
       "      <td>0</td>\n",
       "      <td>3</td>\n",
       "      <td>0</td>\n",
       "    </tr>\n",
       "    <tr>\n",
       "      <th>1</th>\n",
       "      <td>A1</td>\n",
       "      <td>An oral composition comprising minicapsules o...</td>\n",
       "      <td>15051356</td>\n",
       "      <td>IT4LPNM1RXEAPX0</td>\n",
       "      <td>CTNF</td>\n",
       "      <td>2016-09-19</td>\n",
       "      <td>1613</td>\n",
       "      <td>424</td>\n",
       "      <td>400000</td>\n",
       "      <td>0</td>\n",
       "      <td>...</td>\n",
       "      <td>1</td>\n",
       "      <td>0</td>\n",
       "      <td>1</td>\n",
       "      <td>0</td>\n",
       "      <td>0</td>\n",
       "      <td>0</td>\n",
       "      <td>1</td>\n",
       "      <td>0</td>\n",
       "      <td>10</td>\n",
       "      <td>1</td>\n",
       "    </tr>\n",
       "    <tr>\n",
       "      <th>2</th>\n",
       "      <td>A1</td>\n",
       "      <td>(canceled) A method for processing biomass co...</td>\n",
       "      <td>15238319</td>\n",
       "      <td>J4K4AWPURXEAPX3</td>\n",
       "      <td>CTNF</td>\n",
       "      <td>2017-07-05</td>\n",
       "      <td>1653</td>\n",
       "      <td>435</td>\n",
       "      <td>041000</td>\n",
       "      <td>0</td>\n",
       "      <td>...</td>\n",
       "      <td>1</td>\n",
       "      <td>0</td>\n",
       "      <td>0</td>\n",
       "      <td>0</td>\n",
       "      <td>0</td>\n",
       "      <td>0</td>\n",
       "      <td>0</td>\n",
       "      <td>0</td>\n",
       "      <td>3</td>\n",
       "      <td>0</td>\n",
       "    </tr>\n",
       "    <tr>\n",
       "      <th>3</th>\n",
       "      <td>A1</td>\n",
       "      <td>An exercise cable handle assembly comprising:...</td>\n",
       "      <td>15078852</td>\n",
       "      <td>J0JYIXB8RXEAPX3</td>\n",
       "      <td>CTNF</td>\n",
       "      <td>2017-03-22</td>\n",
       "      <td>3764</td>\n",
       "      <td>482</td>\n",
       "      <td>139000</td>\n",
       "      <td>0</td>\n",
       "      <td>...</td>\n",
       "      <td>1</td>\n",
       "      <td>1</td>\n",
       "      <td>0</td>\n",
       "      <td>1</td>\n",
       "      <td>0</td>\n",
       "      <td>0</td>\n",
       "      <td>0</td>\n",
       "      <td>0</td>\n",
       "      <td>3</td>\n",
       "      <td>3</td>\n",
       "    </tr>\n",
       "    <tr>\n",
       "      <th>4</th>\n",
       "      <td>A1</td>\n",
       "      <td>A composition for repelling an arthropod, com...</td>\n",
       "      <td>15073698</td>\n",
       "      <td>ITVQ26LXRXEAPX0</td>\n",
       "      <td>CTNF</td>\n",
       "      <td>2016-10-04</td>\n",
       "      <td>1672</td>\n",
       "      <td>514</td>\n",
       "      <td>311000</td>\n",
       "      <td>0</td>\n",
       "      <td>...</td>\n",
       "      <td>0</td>\n",
       "      <td>0</td>\n",
       "      <td>0</td>\n",
       "      <td>0</td>\n",
       "      <td>0</td>\n",
       "      <td>0</td>\n",
       "      <td>0</td>\n",
       "      <td>0</td>\n",
       "      <td>0</td>\n",
       "      <td>1</td>\n",
       "    </tr>\n",
       "  </tbody>\n",
       "</table>\n",
       "<p>5 rows × 25 columns</p>\n",
       "</div>"
      ],
      "text/plain": [
       "  kind_code                                             claims    app_id  \\\n",
       "0        A1   A bottle extending along a longitudinal axis ...  15338532   \n",
       "1        A1   An oral composition comprising minicapsules o...  15051356   \n",
       "2        A1   (canceled) A method for processing biomass co...  15238319   \n",
       "3        A1   An exercise cable handle assembly comprising:...  15078852   \n",
       "4        A1   A composition for repelling an arthropod, com...  15073698   \n",
       "\n",
       "        ifw_number document_cd     mail_dt art_unit uspc_class uspc_subclass  \\\n",
       "0  J082O8FWRXEAPX1        CTNF  2017-03-13     3781        215        384000   \n",
       "1  IT4LPNM1RXEAPX0        CTNF  2016-09-19     1613        424        400000   \n",
       "2  J4K4AWPURXEAPX3        CTNF  2017-07-05     1653        435        041000   \n",
       "3  J0JYIXB8RXEAPX3        CTNF  2017-03-22     3764        482        139000   \n",
       "4  ITVQ26LXRXEAPX0        CTNF  2016-10-04     1672        514        311000   \n",
       "\n",
       "   header_missing       ...        rejection_103  rejection_112  rejection_dp  \\\n",
       "0               0       ...                    1              0             1   \n",
       "1               0       ...                    1              0             1   \n",
       "2               0       ...                    1              0             0   \n",
       "3               0       ...                    1              1             0   \n",
       "4               0       ...                    0              0             0   \n",
       "\n",
       "   objection  allowed_claims  cite102_gt1  cite103_gt3  cite103_eq1  \\\n",
       "0          0               0            0            0            0   \n",
       "1          0               0            0            1            0   \n",
       "2          0               0            0            0            0   \n",
       "3          1               0            0            0            0   \n",
       "4          0               0            0            0            0   \n",
       "\n",
       "   cite103_max  signature_type  \n",
       "0            3               0  \n",
       "1           10               1  \n",
       "2            3               0  \n",
       "3            3               3  \n",
       "4            0               1  \n",
       "\n",
       "[5 rows x 25 columns]"
      ]
     },
     "execution_count": 188,
     "metadata": {},
     "output_type": "execute_result"
    }
   ],
   "source": [
    "df_combined.head()"
   ]
  },
  {
   "cell_type": "code",
   "execution_count": 196,
   "metadata": {},
   "outputs": [
    {
     "data": {
      "text/plain": [
       "Index(['kind_code', 'claims', 'app_id', 'ifw_number', 'document_cd', 'mail_dt',\n",
       "       'art_unit', 'uspc_class', 'uspc_subclass', 'header_missing',\n",
       "       'fp_missing', 'rejection_fp_mismatch', 'closing_missing',\n",
       "       'rejection_101', 'rejection_102', 'rejection_103', 'rejection_112',\n",
       "       'rejection_dp', 'objection', 'allowed_claims', 'cite102_gt1',\n",
       "       'cite103_gt3', 'cite103_eq1', 'cite103_max', 'signature_type'],\n",
       "      dtype='object')"
      ]
     },
     "execution_count": 196,
     "metadata": {},
     "output_type": "execute_result"
    }
   ],
   "source": [
    "df_combined.columns"
   ]
  },
  {
   "cell_type": "code",
   "execution_count": 189,
   "metadata": {},
   "outputs": [
    {
     "data": {
      "text/plain": [
       "A1        2767\n",
       "A100        86\n",
       "A9A1        14\n",
       "A2A1         4\n",
       "A9A100       3\n",
       "A2A100       1\n",
       "Name: kind_code, dtype: int64"
      ]
     },
     "execution_count": 189,
     "metadata": {},
     "output_type": "execute_result"
    }
   ],
   "source": [
    "df_combined.kind_code.value_counts()"
   ]
  },
  {
   "cell_type": "code",
   "execution_count": 191,
   "metadata": {},
   "outputs": [
    {
     "data": {
      "text/plain": [
       "CTNF    2355\n",
       "CTFR     520\n",
       "Name: document_cd, dtype: int64"
      ]
     },
     "execution_count": 191,
     "metadata": {},
     "output_type": "execute_result"
    }
   ],
   "source": [
    "df_combined.document_cd.value_counts()"
   ]
  },
  {
   "cell_type": "code",
   "execution_count": 193,
   "metadata": {
    "scrolled": true
   },
   "outputs": [
    {
     "data": {
      "text/plain": [
       "3711    26\n",
       "3762    24\n",
       "3633    22\n",
       "3766    22\n",
       "2852    22\n",
       "3711    20\n",
       "2853    19\n",
       "3762    19\n",
       "3733    19\n",
       "3641    19\n",
       "2853    19\n",
       "3763    18\n",
       "3765    18\n",
       "3766    17\n",
       "3733    16\n",
       "2852    16\n",
       "3638    15\n",
       "3631    15\n",
       "3735    15\n",
       "3678    14\n",
       "2844    14\n",
       "3673    14\n",
       "3632    14\n",
       "3651    14\n",
       "3763    13\n",
       "1615    13\n",
       "2831    13\n",
       "3731    12\n",
       "3618    12\n",
       "3633    12\n",
       "        ..\n",
       "2854     1\n",
       "2427     1\n",
       "3622     1\n",
       "2437     1\n",
       "2411     1\n",
       "2438     1\n",
       "2441     1\n",
       "2442     1\n",
       "2124     1\n",
       "1726     1\n",
       "2448     1\n",
       "2644     1\n",
       "2864     1\n",
       "2857     1\n",
       "3691     1\n",
       "2491     1\n",
       "1782     1\n",
       "1732     1\n",
       "1616     1\n",
       "2672     1\n",
       "2625     1\n",
       "3782     1\n",
       "2141     1\n",
       "1645     1\n",
       "1781     1\n",
       "1643     1\n",
       "3625     1\n",
       "2874     1\n",
       "2863     1\n",
       "2456     1\n",
       "Name: art_unit, Length: 779, dtype: int64"
      ]
     },
     "execution_count": 193,
     "metadata": {},
     "output_type": "execute_result"
    }
   ],
   "source": [
    "df_combined.art_unit.value_counts()"
   ]
  },
  {
   "cell_type": "code",
   "execution_count": 194,
   "metadata": {
    "scrolled": true
   },
   "outputs": [
    {
     "data": {
      "text/plain": [
       "257    157\n",
       "424    105\n",
       "606     80\n",
       "455     79\n",
       "600     71\n",
       "345     69\n",
       "370     69\n",
       "052     64\n",
       "607     62\n",
       "707     59\n",
       "514     53\n",
       "623     52\n",
       "438     47\n",
       "709     46\n",
       "340     40\n",
       "726     40\n",
       "348     40\n",
       "604     39\n",
       "347     38\n",
       "705     36\n",
       "473     36\n",
       "435     34\n",
       "375     29\n",
       "428     29\n",
       "280     28\n",
       "248     28\n",
       "725     28\n",
       "399     27\n",
       "439     26\n",
       "381     26\n",
       "      ... \n",
       "057      1\n",
       "111      1\n",
       "384      1\n",
       "392      1\n",
       "440      1\n",
       "137      1\n",
       "184      1\n",
       "336      1\n",
       "126      1\n",
       "326      1\n",
       "433      1\n",
       "169      1\n",
       "505      1\n",
       "141      1\n",
       "369      1\n",
       "507      1\n",
       "380      1\n",
       "238      1\n",
       "352      1\n",
       "075      1\n",
       "181      1\n",
       "124      1\n",
       "071      1\n",
       "585      1\n",
       "318      1\n",
       "570      1\n",
       "105      1\n",
       "445      1\n",
       "518      1\n",
       "101      1\n",
       "Name: uspc_class, Length: 266, dtype: int64"
      ]
     },
     "execution_count": 194,
     "metadata": {},
     "output_type": "execute_result"
    }
   ],
   "source": [
    "df_combined.uspc_class.value_counts()"
   ]
  },
  {
   "cell_type": "markdown",
   "metadata": {},
   "source": [
    "Not easy to set up classification problems..."
   ]
  },
  {
   "cell_type": "code",
   "execution_count": null,
   "metadata": {
    "collapsed": true
   },
   "outputs": [],
   "source": []
  }
 ],
 "metadata": {
  "kernelspec": {
   "display_name": "Python 3",
   "language": "python",
   "name": "python3"
  },
  "language_info": {
   "codemirror_mode": {
    "name": "ipython",
    "version": 3
   },
   "file_extension": ".py",
   "mimetype": "text/x-python",
   "name": "python",
   "nbconvert_exporter": "python",
   "pygments_lexer": "ipython3",
   "version": "3.5.2"
  }
 },
 "nbformat": 4,
 "nbformat_minor": 2
}
